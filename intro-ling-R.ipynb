{
 "cells": [
  {
   "cell_type": "markdown",
   "metadata": {},
   "source": [
    "# Introdução à Linguagem R\n",
    "\n",
    "## Autor: Luiz Affonso Guedes\n",
    "última atualização: outubro de 2017\n",
    "\n",
    "## Objetivo\n",
    "\n",
    "O objetivo geral deste documeto é apresentar a potencialidade da linguagem R. \n",
    "Os objetivos específicos deste documento são:\n",
    "- Apresentar as principais funcionalidades da linguagem R, como tipos e estruturas de controle.\n",
    "- Apresentar funções básicas de manipulação de dados na linguagem R.\n",
    "- Tipos Vetores, Matrizes e Frames: uso, operações.\n",
    "- Uso e definição de funções em linguagem R.\n",
    "- Apresentar as funcionalidade de gráficos na linguagem R.\n",
    "\n",
    "## Metodologia Utilizada\n",
    "Usaremos uma abordagem interativa e incremental, mesclando braves explicações conceituais com programas em linguagem R.\n",
    "\n",
    "# Sumário\n",
    "- Introdução à linguagem R.\n",
    "- Operadores e tipos de dados básicos\n",
    "- Tipos de dados avançados e suas operações: vetores, matrizes, frames.\n",
    "- Estruturas de controle\n",
    "- Algumas funções úteis em R\n",
    "- Uso e definição de função em R\n",
    "    "
   ]
  },
  {
   "cell_type": "markdown",
   "metadata": {},
   "source": [
    "## 0. Por quê a Linguagem R?\n",
    "\n",
    "- R é uma ótima linguagem para iniciar sua jornada de ciência dos dados porque ela fornece um ambiente projetado desde o início para suportar a ciência dos dados. \n",
    "- R não é apenas uma linguagem de programação, mas também é um ambiente interativo para fazer ciência de dados. Para suportar a interação, R é uma linguagem muito mais flexível do que muitos dos seus pares. \n",
    "- Essa flexibilidade vem com suas desvantagens, mas a grande vantagem é como é fácil evoluir gramáticas personalizadas para partes específicas do processo de ciência dos dados. Essas mini linguagens ajudam você a pensar sobre problemas como cientista de dados, ao mesmo tempo em que oferece suporte à interação fluente entre o cérebro e o computador."
   ]
  },
  {
   "cell_type": "markdown",
   "metadata": {},
   "source": [
    "## 1. Operadores e Tipos Básicos de R\n",
    "\n",
    "Operadores matematicos básicos em R\n",
    "- Addition: +\n",
    "- Subtraction: -\n",
    "- Multiplication: *\n",
    "- Division: /\n",
    "- Exponentiation: ^\n",
    "- Modulo: %%\n",
    "\n"
   ]
  },
  {
   "cell_type": "markdown",
   "metadata": {},
   "source": [
    "# Header 1"
   ]
  },
  {
   "cell_type": "code",
   "execution_count": null,
   "metadata": {},
   "outputs": [],
   "source": [
    "2 + 2"
   ]
  },
  {
   "cell_type": "code",
   "execution_count": null,
   "metadata": {},
   "outputs": [],
   "source": [
    "# Aqui é um comentário em R\n",
    "\n",
    "# Exemplo de uso de operadores em R\n",
    "# Adição\n",
    "5 + 5 \n",
    "\n",
    "# Subtração\n",
    "5 - 5 \n",
    "\n",
    "# Multiplicação\n",
    "3 * 5\n",
    "\n",
    " # Divisão\n",
    "(5 + 5) / 2 \n",
    "\n",
    "# Exponenciação\n",
    "5 ^ 2\n",
    "\n",
    "# Módulo\n",
    "10%%3"
   ]
  },
  {
   "cell_type": "markdown",
   "metadata": {},
   "source": [
    "Variáveis e atribuição de valor a variável\n",
    "\n",
    "a <- 2\n",
    "\n",
    "b = 3\n",
    "\n",
    "Não esquecer que R é case sensitive"
   ]
  },
  {
   "cell_type": "code",
   "execution_count": null,
   "metadata": {
    "collapsed": true
   },
   "outputs": [],
   "source": [
    "a <- 2\n",
    "A <- 4\n",
    "b = 3\n",
    "c <- A-a\n",
    "\n",
    "a\n",
    "b\n",
    "A\n",
    "c"
   ]
  },
  {
   "cell_type": "markdown",
   "metadata": {},
   "source": [
    "Alguns tipos básicos de dados em R\n",
    "- Decimais, como 4.5: numerics.\n",
    "- Naturais, como 4 - integers. Integers também são numerics.\n",
    "- Boolean (TRUE or FALSE) - logical.\n",
    "- Texto (ou string).\n"
   ]
  },
  {
   "cell_type": "code",
   "execution_count": null,
   "metadata": {},
   "outputs": [],
   "source": [
    "# Aqui é um comentário em R\n",
    "# Exemplo do uso do operador atribuição em R\n",
    "\n",
    "# Change my_numeric to be 42\n",
    "my_numeric <- 42.5\n",
    "\n",
    "# Change my_character to be \"universe\"\n",
    "my_character <- \"some text\"\n",
    "\n",
    "# Change my_logical to be FALSE\n",
    "my_logical <- TRUE\n",
    "\n",
    "# Valors of Variables \n",
    "my_numeric\n",
    "my_character\n",
    "my_logical"
   ]
  },
  {
   "cell_type": "markdown",
   "metadata": {},
   "source": [
    "## 2. Algumas funções úteis\n",
    "\n",
    "Para verificar o tipo da variável em R - Utilizar função class()\n",
    "- class(nome_da-variavel)\n",
    " \n",
    "Para obter help de uma variável\n",
    "- help(nome_da-variavel)\n",
    "- ?nome_da-variavel\n",
    "\n",
    "Para obter informação sobre os argumento de uma função\n",
    "- args(snome_da-variavel)\n",
    "\n",
    "Para obter informação sobre as variáveis ativas no ambiente\n",
    "- ls( )"
   ]
  },
  {
   "cell_type": "code",
   "execution_count": null,
   "metadata": {},
   "outputs": [],
   "source": [
    "# Check class of my_numeric\n",
    "class(my_numeric)\n",
    "\n",
    "# Check class of my_character\n",
    "class(my_character)\n",
    "\n",
    "# Check class of my_logical\n",
    "class(my_logical)\n",
    "\n",
    "print(\"Função args()\")\n",
    "texto <- \"Alô, mundo!\"\n",
    "args(ls)\n",
    "print(\"Função ls()\")\n",
    "ls()"
   ]
  },
  {
   "cell_type": "markdown",
   "metadata": {},
   "source": [
    "## 3. Tipo vetor em R\n",
    "\n",
    "Vetores são arrays unidimencionais que \"qualquer\"tipo: numérico, lógico, decimais, etc.\n",
    "\n",
    "- Em R, vetores são criados através da função c( ). \n",
    "- Os elementos dos vetores são separados por vírgulas.\n",
    "\n",
    " c(elemento1, elemento2, ...)\n",
    " "
   ]
  },
  {
   "cell_type": "code",
   "execution_count": null,
   "metadata": {
    "collapsed": true
   },
   "outputs": [],
   "source": [
    "# Aqui é um comentário em R\n",
    "# Exemplos de criação de vetores em R\n",
    "\n",
    "numeric_vector <- c(1, 2, 3)\n",
    "character_vector <- c(\"a\", \"b\", \"c\")\n",
    "boolean_vector <-c(TRUE, FALSE, TRUE)\n",
    "\n",
    "numeric_vector\n",
    "character_vector\n",
    "boolean_vector\n",
    "\n",
    "class(numeric_vector)\n",
    "class(character_vector)\n",
    "class(boolean_vector)"
   ]
  },
  {
   "cell_type": "markdown",
   "metadata": {},
   "source": [
    "- Também é possível utilizar a função names( ) para a criação de vetores:\n",
    "\n",
    "names(nome_do_vetor)\n"
   ]
  },
  {
   "cell_type": "code",
   "execution_count": null,
   "metadata": {
    "collapsed": true
   },
   "outputs": [],
   "source": [
    "# Aqui é um comentário em R\n",
    "# Exemplo do uso da função name() para criar um vetor\n",
    "\n",
    "some_vector <- c(\"John Doe\", \"poker player\")\n",
    "some_vector\n",
    "names(some_vector) <- c(\"Name\", \"Profession\")\n",
    "some_vector"
   ]
  },
  {
   "cell_type": "markdown",
   "metadata": {},
   "source": [
    "- A seguir há mais alguns exemplo de criação de vetores em R\n"
   ]
  },
  {
   "cell_type": "code",
   "execution_count": null,
   "metadata": {
    "collapsed": true
   },
   "outputs": [],
   "source": [
    "# Poker winnings from Monday to Friday\n",
    "poker_vector <- c(140, -50, 20, -120, 240)\n",
    "poker_vector\n",
    "\n",
    "# Roulette winnings from Monday to Friday\n",
    "roulette_vector <- c(-24, -50, 100, -350, 10)\n",
    "roulette_vector\n",
    "\n",
    "# Assign days as names of poker_vector\n",
    "names(poker_vector) <- c(\"Monday\", \"Tuesday\", \"Wednesday\", \"Thursday\", \"Friday\")\n",
    "poker_vector\n",
    "\n",
    "# Assign days as names of roulette_vectors\n",
    "names(roulette_vector) <- c(\"Monday\", \"Tuesday\", \"Wednesday\", \"Thursday\", \"Friday\")\n",
    "roulette_vector\n",
    "\n",
    "# Assign new days as names of roulette_vectors\n",
    "names(roulette_vector) <- c(\"Segunda\", \"Terça\", \"Quarta\", \"Quinta\", \"Sexta\")\n",
    "roulette_vector\n",
    "\n",
    "# Assign days as names of roulette_vectors\n",
    "names(roulette_vector) <- c(\"Monday\", \"Tuesday\", \"Wednesday\", \"Thursday\", \"Friday\")\n",
    "roulette_vector"
   ]
  },
  {
   "cell_type": "markdown",
   "metadata": {},
   "source": [
    "### Exercício:\n",
    "- Crie um vetor denominado de pais com os nomes dos seus pais.\n",
    "- Crie um vetor denominado de idadePais, com a idade do seus pais.\n",
    "- Nomear os índices dos vetores pais e idadePais para \"Pai\" e  \"Mãe\".\n"
   ]
  },
  {
   "cell_type": "code",
   "execution_count": null,
   "metadata": {
    "collapsed": true
   },
   "outputs": [],
   "source": [
    "pais <- c(----, ----\")\n",
    "idadePais <- c(--, --)\n",
    "pais\n",
    "idadePais\n",
    "names(---) <- c(---, ---)\n",
    "names(---) <- c(\"Pai\", \"Mãe\")\n",
    "pais\n",
    "idadePais"
   ]
  },
  {
   "cell_type": "markdown",
   "metadata": {},
   "source": [
    "### 3.1 Operações com Vetores"
   ]
  },
  {
   "cell_type": "markdown",
   "metadata": {},
   "source": [
    "- Para Soma e Subtração de vetores, utiliza-se os operadores + e -\n",
    "\n",
    "C = A + B\n",
    "\n",
    "D = A - B"
   ]
  },
  {
   "cell_type": "code",
   "execution_count": null,
   "metadata": {
    "collapsed": true
   },
   "outputs": [],
   "source": [
    "print(\"Exemplo de soma e subtração de dois vetores\")\n",
    "A_vector <- c(1, 2, 3)\n",
    "B_vector <- c(4, 5, 6)\n",
    "\n",
    "# Soma de dois vetores é um vetor\n",
    "total_vector <- A_vector + B_vector\n",
    "total_vector\n",
    "\n",
    "# Subtração de dois vetores é um vetor\n",
    "diferenca_vector <- A_vector - B_vector\n",
    "diferenca_vector\n"
   ]
  },
  {
   "cell_type": "code",
   "execution_count": null,
   "metadata": {
    "collapsed": true
   },
   "outputs": [],
   "source": [
    "# Poker and roulette winnings from Monday to Friday:\n",
    "print(\"Outro exemplo de soma de dois vetores\")\n",
    "poker_vector <- c(140, -50, 20, -120, 240)\n",
    "roulette_vector <- c(-24, -50, 100, -350, 10)\n",
    "days_vector <- c(\"Monday\", \"Tuesday\", \"Wednesday\", \"Thursday\", \"Friday\")\n",
    "names(poker_vector) <- days_vector\n",
    "names(roulette_vector) <- days_vector\n",
    "\n",
    "# Assign to total_daily how much you won/lost on each day\n",
    "total_daily <- poker_vector + roulette_vector\n",
    "total_daily"
   ]
  },
  {
   "cell_type": "markdown",
   "metadata": {},
   "source": [
    "- O resultado da Multiplicação ou Divisão de escalar por vetor é um vetor:\n",
    "\n",
    "VetorB = c * VetorA"
   ]
  },
  {
   "cell_type": "code",
   "execution_count": null,
   "metadata": {},
   "outputs": [],
   "source": [
    "VetorA <- c(1,2,3,4)\n",
    "c <- 2\n",
    "VetorB <- c*VetorA\n",
    "VetorC <- VetorA*c\n",
    "VetorD <- VetorA/c\n",
    "VetorE <- VetorA^c   # exemplo de potencição\n",
    "VetorA\n",
    "VetorB\n",
    "VetorC\n",
    "VetorD\n",
    "VetorE"
   ]
  },
  {
   "cell_type": "markdown",
   "metadata": {},
   "source": [
    "### Advertência\n",
    "Em R, o operador * significa a multiplicação elemento a elemento entre dois vetores, retornando um vetor.\n",
    "\n",
    "Então: vetor3 = vetor1 * vetor2; resulta em um vetor3, cujos seus elementos são o produto de elementos dos vetores vetor1 e vetor2.\n"
   ]
  },
  {
   "cell_type": "code",
   "execution_count": null,
   "metadata": {
    "collapsed": true
   },
   "outputs": [],
   "source": [
    "print(\"Escreva um programa para exemplificar isto\")\n",
    "\n",
    "vetor1 <- \n",
    "vetor2 <- \n",
    "vetor3 <- \n",
    "vetor3"
   ]
  },
  {
   "cell_type": "markdown",
   "metadata": {},
   "source": [
    "- Para se obter a soma dos elementos de um vetor, utilize-se a função sum( ):\n",
    "\n",
    "sum(vetorX)"
   ]
  },
  {
   "cell_type": "code",
   "execution_count": null,
   "metadata": {
    "collapsed": true
   },
   "outputs": [],
   "source": [
    "print(\"Exemplo de soma de elementos de um vetor\")\n",
    "soma <- sum(VetorA)\n",
    "str(soma)"
   ]
  },
  {
   "cell_type": "markdown",
   "metadata": {},
   "source": [
    "#### Algumas funções úteis que operam sobre vetores:\n",
    "- length(vetorX) ; obtém a dimensão do vetor\n",
    "- mean(vetorX) ; obtém o valor médio dos valores dos elementos de um vetor\n",
    "- max(vetorX); obtém o valor máximo entre os elementos de um vetor\n",
    "- min(vetorX); obtém o valor mínimo entre os elementos de um vetor\n",
    "- sd(vetorX); obtém o desvio padrão dos valores dos elementos de um vetor\n",
    "- var(vetorX); obtém a variância dos valores dos elementos de um vetor\n",
    "- median(vetorX); obtém a mediana dos valores dos elementos de um vetor"
   ]
  },
  {
   "cell_type": "code",
   "execution_count": null,
   "metadata": {
    "collapsed": true
   },
   "outputs": [],
   "source": [
    "print(\"Programa exemplificando o uso de funções com vetores\")\n",
    "vetorX <- c(1,2,3,2,1)\n",
    "length(vetorX)\n",
    "mean(vetorX)\n",
    "max(vetorX)\n",
    "min(vetorX)\n",
    "sd(vetorX)\n",
    "var(vetorX)\n",
    "median(vetorX)\n"
   ]
  },
  {
   "cell_type": "markdown",
   "metadata": {},
   "source": [
    "### 3.2 Acesso a elementos de um vetor:\n",
    "- Para acessar elementos de um vetor (tuiliza-s eo mesmo procedimento para matrizes e frames) se utiliza [.].\n",
    "- Entre os [.] s idica o elemento ou seguimento.\n",
    "- Para acessar o 3 elementos do vetorX, usa-se vetorx[3].\n",
    "- para acessar do elemento 3 ou elemento 5 do vetorX, usa-se vetorx[3:5]"
   ]
  },
  {
   "cell_type": "code",
   "execution_count": null,
   "metadata": {
    "collapsed": true
   },
   "outputs": [],
   "source": [
    "print(\"Programa para exemplificar como são acessados elementos de um vetor\")\n",
    "vetorX[3]\n",
    "vetorX[c(3)]  # outra possibilidade\n",
    "vetorX[c(3, 5)] # para acesso vários valores do vetor\n",
    "vetorX[3:5]  # para acessar um intervalo no vetor\n"
   ]
  },
  {
   "cell_type": "markdown",
   "metadata": {},
   "source": [
    "### 3.3 Uso de operadores lógicos de comparação com vetores\n",
    "\n",
    "    < for less than\n",
    "    > for greater than\n",
    "    <= for less than or equal to\n",
    "    >= for greater than or equal to\n",
    "    == for equal to each other\n",
    "    != not equal to each other\n",
    "    & AND logical\n",
    "    | OR logical"
   ]
  },
  {
   "cell_type": "code",
   "execution_count": null,
   "metadata": {},
   "outputs": [],
   "source": [
    "7> 3\n",
    "3 != 3\n",
    "TRUE & FALSE\n",
    "TRUE | FALSE\n",
    "c(4, 5, 6) > 5\n",
    "vetorX\n",
    "vetorX>=2\n",
    "vetorX[vetorX>=2]"
   ]
  },
  {
   "cell_type": "code",
   "execution_count": null,
   "metadata": {},
   "outputs": [],
   "source": [
    "# The linkedin and facebook vectors have already been created for you\n",
    "linkedin <- c(16, 9, 13, 5, 2, 17, 14)\n",
    "facebook <- c(17, 7, 5, 16, 8, 13, 14)\n",
    "\n",
    "# Popular days\n",
    "linkedin > 15\n",
    "\n",
    "# Quiet days\n",
    "linkedin <= 5\n",
    "\n",
    "# LinkedIn more popular than Facebook\n",
    "linkedin > facebook\n",
    "\n",
    "last <- tail(linkedin, 1)\n",
    "#last <- tail(linkedin, 2)  # descomente essa linha para inferir o que faz a função tail()\n",
    "#last <- tail(linkedin, 3)\n",
    "last\n",
    "\n",
    "# Is last under 5 or above 10?\n",
    "last < 5 | last > 10\n",
    "\n",
    "# Is last between 15 (exclusive) and 20 (inclusive)?\n",
    "last >15 & last <=20"
   ]
  },
  {
   "cell_type": "markdown",
   "metadata": {},
   "source": [
    "## 4. Tipo Matriz em R\n",
    "- Em R, uma matriz é uma coleção de elementos de um mesmo tipos de dados (numeric, character, or logical) disposta em estrutura bidimensional, descrita em linhas e colunas. \n",
    "- Usa-se a função matrix() para criar uma matriz.\n",
    "- Uma matriz de 9 elementos em sequência, dispostos em 3 linhas, é definida por:\n",
    "    - matrix(1:9, byrow = TRUE, nrow = 3)\n"
   ]
  },
  {
   "cell_type": "code",
   "execution_count": null,
   "metadata": {},
   "outputs": [],
   "source": [
    "# Exemplo de criação de uma matriz 3x3\n",
    "\n",
    "matriz1= matrix(1:9, byrow = TRUE, nrow = 3)\n",
    "matriz1"
   ]
  },
  {
   "cell_type": "code",
   "execution_count": null,
   "metadata": {},
   "outputs": [],
   "source": [
    "# Exemplo de criação de uma matriz 3x3\n",
    "matriz2= matrix(11:19, byrow = TRUE, nrow = 3)\n",
    "matriz2"
   ]
  },
  {
   "cell_type": "markdown",
   "metadata": {},
   "source": [
    "#### Exercício:\n",
    "- Crie uma Matriz 4x2, contendo os 8 primeiros números ímpares (1,3,5,..)"
   ]
  },
  {
   "cell_type": "code",
   "execution_count": null,
   "metadata": {
    "collapsed": true
   },
   "outputs": [],
   "source": [
    "# Resolução do exercício:\n",
    "??????"
   ]
  },
  {
   "cell_type": "markdown",
   "metadata": {},
   "source": [
    "- Exemplo de outro modo de criação/iniciação de matrizes"
   ]
  },
  {
   "cell_type": "code",
   "execution_count": null,
   "metadata": {
    "collapsed": true
   },
   "outputs": [],
   "source": [
    "A <- matrix(c(1,2,3,4,5,6),3,2)  # matrix 3x2\n",
    "B <- matrix(c(1,2,3,4,5,6),2,3)  # matrix 2x3"
   ]
  },
  {
   "cell_type": "code",
   "execution_count": null,
   "metadata": {},
   "outputs": [],
   "source": [
    "print(\"Matriz A\")\n",
    "A\n",
    "print(\"Matriz B\")\n",
    "B"
   ]
  },
  {
   "cell_type": "code",
   "execution_count": null,
   "metadata": {
    "collapsed": true
   },
   "outputs": [],
   "source": [
    "print(\" Programa exemplificando outra forma de se criar matrizes\" )\n",
    "print(\"Os valores correspondem aos valores arrecadados nos EUA e nos outros países, respectivamente, com a trilogia Star Wars\")\n",
    "\n",
    "# Box office Star Wars (in millions!)\n",
    "new_hope <- c(460.998, 314.4)\n",
    "empire_strikes <- c(290.475, 247.900)\n",
    "return_jedi <- c(309.306, 165.8)\n",
    "\n",
    "# Create box_office\n",
    "box_office <- c(new_hope, empire_strikes, return_jedi)\n",
    "box_office\n",
    "# Construct star_wars_matrix\n",
    "star_wars_matrix <- matrix(box_office, byrow = TRUE, nrow = 3)\n",
    "star_wars_matrix"
   ]
  },
  {
   "cell_type": "markdown",
   "metadata": {},
   "source": [
    "De modo similar aos vetores, pode-se adicionar nomes às linhas e colunas de uma matriz\n",
    "\n",
    "- rownames(my_matrix) <- row_names_vector\n",
    "\n",
    "- colnames(my_matrix) <- col_names_vector"
   ]
  },
  {
   "cell_type": "code",
   "execution_count": null,
   "metadata": {},
   "outputs": [],
   "source": [
    "print(\"Outra forma de iniciar uma matriz\")\n",
    "teste <- matrix(2,5,3)\n",
    "teste\n",
    "colnames(teste) <- c(\"col1\", \"col2\", \"col3\")\n",
    "rownames(teste) <- c(\"row1\", \"row2\", \"row3\", \"row4\",\"row5\")\n",
    "teste"
   ]
  },
  {
   "cell_type": "code",
   "execution_count": null,
   "metadata": {
    "collapsed": true
   },
   "outputs": [],
   "source": [
    "# Box office Star Wars (in millions!)\n",
    "new_hope <- c(460.998, 314.4)\n",
    "empire_strikes <- c(290.475, 247.900)\n",
    "return_jedi <- c(309.306, 165.8)\n",
    "\n",
    "# Construct matrix\n",
    "star_wars_matrix <- matrix(c(new_hope, empire_strikes, return_jedi), nrow = 3, byrow = TRUE)\n",
    "\n",
    "# Vectors region and titles, used for naming\n",
    "region <- c(\"US\", \"non-US\")\n",
    "titles <- c(\"A New Hope\", \"The Empire Strikes Back\", \"Return of the Jedi\")\n",
    "\n",
    "# Name the columns with region\n",
    "colnames(star_wars_matrix) <- region\n",
    "\n",
    "# Name the rows with titles\n",
    "rownames(star_wars_matrix) <- titles\n",
    "\n",
    "# Print out star_wars_matrix\n",
    "\n",
    "star_wars_matrix"
   ]
  },
  {
   "cell_type": "markdown",
   "metadata": {},
   "source": [
    "### 4.1 Algumas funções úteis para operar sobre matrizes\n",
    "- rowSums(), retorna num vetor o cálculo do total para cada linha de uma matriz. \n",
    "- my_vector <- rowSums(my_matrix)\n",
    "- a função colSums() é a dual da rowSums()\n"
   ]
  },
  {
   "cell_type": "code",
   "execution_count": null,
   "metadata": {
    "collapsed": true
   },
   "outputs": [],
   "source": [
    "# Construct star_wars_matrix\n",
    "box_office <- c(460.998, 314.4, 290.475, 247.900, 309.306, 165.8)\n",
    "star_wars_matrix <- matrix(box_office, nrow = 3, byrow = TRUE,\n",
    "                           dimnames = list(c(\"A New Hope\", \"The Empire Strikes Back\", \"Return of the Jedi\"), \n",
    "                                           c(\"US\", \"non-US\")))\n",
    "\n",
    "# Calculate worldwide box office figures\n",
    "worldwide_vector <- rowSums(star_wars_matrix)\n",
    "worldwide_vector"
   ]
  },
  {
   "cell_type": "markdown",
   "metadata": {},
   "source": [
    "Pode-se adicionar uma ou múltiplas colunas para uma matriz com a função cbind( ). O resultado é uma matriz que anexa as matrizes por coluna:\n",
    "- big_matrix <- cbind(matrix1, matrix2, vector1 ...)\n",
    "\n",
    "A função rbind() é a dual da cbind( ), ou seja, nesse caso há a composição das matrizes por linha ou invés de por coluna."
   ]
  },
  {
   "cell_type": "code",
   "execution_count": null,
   "metadata": {
    "collapsed": true
   },
   "outputs": [],
   "source": [
    "# Construct star_wars_matrix\n",
    "box_office <- c(460.998, 314.4, 290.475, 247.900, 309.306, 165.8)\n",
    "star_wars_matrix <- matrix(box_office, nrow = 3, byrow = TRUE,\n",
    "                           dimnames = list(c(\"A New Hope\", \"The Empire Strikes Back\", \"Return of the Jedi\"), \n",
    "                                           c(\"US\", \"non-US\")))\n",
    "\n",
    "# The worldwide box office figures\n",
    "worldwide_vector <- rowSums(star_wars_matrix)\n",
    "\n",
    "# Bind the new variable worldwide_vector as a column to star_wars_matrix\n",
    "all_wars_matrix <- cbind(star_wars_matrix,worldwide_vector)\n",
    "all_wars_matrix"
   ]
  },
  {
   "cell_type": "code",
   "execution_count": null,
   "metadata": {
    "collapsed": true
   },
   "outputs": [],
   "source": [
    "box_office2 <- c(474.5,  552.5, 310.7 , 338.7, 380.3 , 468.5)\n",
    "star_wars_matrix2<- matrix(box_office2, nrow = 3, byrow = TRUE,\n",
    "                           dimnames = list(c(\"The Phantom Menace\", \"Attack of the Clones\", \"Revenge of the Sith\"), \n",
    "                                           c(\"US\", \"non-US\")))\n",
    "all_wars_matrix <- rbind(star_wars_matrix,star_wars_matrix2)\n",
    "\n",
    "star_wars_matrix\n",
    "star_wars_matrix2\n",
    "all_wars_matrix"
   ]
  },
  {
   "cell_type": "code",
   "execution_count": null,
   "metadata": {
    "collapsed": true
   },
   "outputs": [],
   "source": [
    "all_wars_matrix\n",
    "\n",
    "worldwide_vector <- rowSums(all_wars_matrix)\n",
    "all_wars_matrix <- cbind(all_wars_matrix,worldwide_vector)\n",
    "\n",
    "total_vector <- colSums(all_wars_matrix)\n",
    "all_wars_matrix <- rbind(all_wars_matrix,total_vector)\n",
    "all_wars_matrix"
   ]
  },
  {
   "cell_type": "markdown",
   "metadata": {},
   "source": [
    "### 4.2 Seleção de elementos de Matrizes:\n",
    "- utiliza o mesmo priuncípio de acesso de elementos de vetores.\n",
    "- no caso, se utiliza [.].\n",
    "- como matrizes são bi-dimencionais, precisa-se utlizar vírgula [.,.].\n",
    "- my_matrix[1,2] seleciona o elemento da linha 1 e coluna 2.\n",
    "- my_matrix[1:3,2:4] resulta em uma matriz com dados das linhas 1, 2, 3 e colunas 2, 3, 4 da matriz my_matrix.\n",
    "\n",
    "Se se deseja selecionar todos os elementos de uma linha ou coluna, é só não especificar a coluna ou linha, respectivamente.\n",
    "- my_matrix[,1], seleciona todos os elementos da primeira coluna de my_matrix.\n",
    "- my_matrix[2,], seleciona todos os elementos da segunda coluna de my_matrix.\n"
   ]
  },
  {
   "cell_type": "code",
   "execution_count": null,
   "metadata": {
    "collapsed": true
   },
   "outputs": [],
   "source": [
    "# all_wars_matrix is available in your workspace\n",
    "all_wars_matrix\n",
    "\n",
    "# Select the non-US revenue for all movies\n",
    "non_us_all <- all_wars_matrix[,2]\n",
    "  \n",
    "# Average non-US revenue\n",
    "print(\"Valor médio de non_us_all =\")\n",
    "mean(non_us_all)\n",
    "  \n",
    "# Select the non-US revenue for first two movies\n",
    "non_us_some <- all_wars_matrix[1:2,2]\n",
    "  \n",
    "# Average non-US revenue for first two movies\n",
    "print(\"Valor médio de non_us_some =\")\n",
    "mean(non_us_some)"
   ]
  },
  {
   "cell_type": "markdown",
   "metadata": {},
   "source": [
    "### 4.3 Operação com Matrizes:\n",
    "- operadores escalares\n",
    "    - +, -, *, /\n",
    "    - escalar com matriz returna uma matriz\n",
    "    - duas matrizes, realizaoperação termo a termo"
   ]
  },
  {
   "cell_type": "code",
   "execution_count": null,
   "metadata": {
    "collapsed": true
   },
   "outputs": [],
   "source": [
    "mat1 <- matrix(c(1,2,3,4,5,6),3,2) \n",
    "mat2 <- matrix(c(1,1,1,1,1,1),3,2)"
   ]
  },
  {
   "cell_type": "markdown",
   "metadata": {},
   "source": [
    "#### Exercício -  Calcular e exibir os resultados das seguintes operações escalares sobre mat1 e mat2:\n",
    "- soma\n",
    "- subtração\n",
    "- produto\n",
    "- divisão"
   ]
  },
  {
   "cell_type": "code",
   "execution_count": null,
   "metadata": {
    "collapsed": true
   },
   "outputs": [],
   "source": [
    "# Resolução do exercício\n"
   ]
  },
  {
   "cell_type": "code",
   "execution_count": null,
   "metadata": {
    "collapsed": true
   },
   "outputs": [],
   "source": [
    "# all_wars_matrix and ticket_prices_matrix are available in your workspace\n",
    "all_wars_matrix\n",
    "\n",
    "ticket_prices_mat <- all_wars_matrix[1:6,1:2]\n",
    "\n",
    "\n",
    "ticket_prices_mat[1,1] <- 5\n",
    "ticket_prices_mat[1,2] <- 5\n",
    "ticket_prices_mat[2,1] <- 6\n",
    "ticket_prices_mat[2,2] <- 6\n",
    "ticket_prices_mat[3,1] <- 7\n",
    "ticket_prices_mat[3,2] <- 7\n",
    "ticket_prices_mat[4,1] <- 4\n",
    "ticket_prices_mat[4,2] <- 4\n",
    "ticket_prices_mat[5,1] <- 4.5\n",
    "ticket_prices_mat[5,2] <- 4.5\n",
    "ticket_prices_mat[6,1] <- 4.9\n",
    "ticket_prices_mat[6,2] <- 4.9\n",
    "\n",
    "\n",
    "ticket_prices_mat\n",
    "\n",
    "teste <- all_wars_matrix[1:6,1:2]\n",
    "teste\n",
    "# Estimated number of visitors\n",
    "\n",
    "#visitors <- all_wars_matrix[1:6,1:2] / ticket_prices_mat\n",
    "\n",
    "# US visitors\n",
    "us_visitors <- visitors[1:6,1]\n",
    "us_visitors\n",
    "# Average number of US visitors\n",
    "mean(us_visitors)"
   ]
  },
  {
   "cell_type": "markdown",
   "metadata": {},
   "source": [
    "#### Dica: A Função summary( ) fornece uma visão rápida sobre o conteúdo das variáveis:\n",
    "- summary(my_var)\n"
   ]
  },
  {
   "cell_type": "code",
   "execution_count": null,
   "metadata": {
    "collapsed": true
   },
   "outputs": [],
   "source": [
    "summary(all_wars_matrix)"
   ]
  },
  {
   "cell_type": "markdown",
   "metadata": {},
   "source": [
    "- operadores matriciais\n",
    "    - %+%, %-%, %*%\n",
    "    - solve(A),  corresponde à inversa da matriz A (para matrizes quadradas) \n",
    "    - t(A), corresponde à transposta da matriz A"
   ]
  },
  {
   "cell_type": "code",
   "execution_count": null,
   "metadata": {
    "collapsed": true
   },
   "outputs": [],
   "source": [
    "mat1 <- matrix(c(1,2,3,4,5,6,7,8,9),3,3) \n",
    "mat2 <- matrix(c(1,1,1,1,1,1,1,1,1),3,3)\n",
    "identidade3 = I10 <- diag(rep(1,3))  # matriz identidade 3x3"
   ]
  },
  {
   "cell_type": "code",
   "execution_count": null,
   "metadata": {},
   "outputs": [],
   "source": [
    "identidade3"
   ]
  },
  {
   "cell_type": "code",
   "execution_count": null,
   "metadata": {
    "collapsed": true
   },
   "outputs": [],
   "source": [
    "#### Exercício: Obter\n",
    "- Inversa de Identidade3\n",
    "- Transposta de mat1\n",
    "- produto matricial entre mat1 e mat2\n",
    "- Soma matricial de mat1 e mat2"
   ]
  },
  {
   "cell_type": "code",
   "execution_count": null,
   "metadata": {
    "collapsed": true
   },
   "outputs": [],
   "source": [
    "# Resolução do exercício:"
   ]
  },
  {
   "cell_type": "markdown",
   "metadata": {},
   "source": [
    "### 4.3 Comparação entre matrizes\n",
    "- realizado de forma similar a com vetores"
   ]
  },
  {
   "cell_type": "code",
   "execution_count": null,
   "metadata": {},
   "outputs": [],
   "source": [
    "# The social data has been created for you\n",
    "linkedin <- c(16, 9, 13, 5, 2, 17, 14)\n",
    "facebook <- c(17, 7, 5, 16, 8, 13, 14)\n",
    "views <- matrix(c(linkedin, facebook), nrow = 2, byrow = TRUE)\n",
    "\n",
    "# When does views equal 13?\n",
    "views == 13\n",
    "\n",
    "# When is views less than or equal to 14?\n",
    "views <= 14"
   ]
  },
  {
   "cell_type": "code",
   "execution_count": null,
   "metadata": {},
   "outputs": [],
   "source": [
    "print(\"Outra forma de iniciar uma matriz\")\n",
    "teste <- matrix(2,5,3)\n",
    "teste"
   ]
  },
  {
   "cell_type": "markdown",
   "metadata": {},
   "source": [
    "## 5. Tipo Frame em R\n",
    "\n",
    "- Estrutura bidimensional, onde as colunas não precisam ter elementos do mesmo tipo, como no caso das matrizes.\n",
    "- No data.frame cada coluna representa uma variável e cada linha uma observação.\n",
    "- Equivale aos dados de planilha."
   ]
  },
  {
   "cell_type": "markdown",
   "metadata": {},
   "source": [
    "### 5.1 Criação de data.frame\n",
    "- Usar a função data.frame()"
   ]
  },
  {
   "cell_type": "code",
   "execution_count": null,
   "metadata": {
    "collapsed": true
   },
   "outputs": [],
   "source": [
    "# Exemplo de Craição de data.frame\n",
    "\n",
    "alunos <- data.frame(nome = c(\"João\", \"Clara\", \"Miguel\", \"Mariana\"),\n",
    "                           sexo = c(\"M\", \"F\", \"M\", \"F\"),\n",
    "                           idade = c(21,23, 22, 21),\n",
    "                           stringsAsFactors = FALSE)"
   ]
  },
  {
   "cell_type": "code",
   "execution_count": null,
   "metadata": {},
   "outputs": [],
   "source": [
    "alunos"
   ]
  },
  {
   "cell_type": "code",
   "execution_count": null,
   "metadata": {},
   "outputs": [],
   "source": [
    "str(alunos)"
   ]
  },
  {
   "cell_type": "markdown",
   "metadata": {},
   "source": [
    "#### Analise o que fazem as funções:\n",
    "- rownames(data.frame)\n",
    "- colnames(data.frame)\n",
    "- names(data.frame)"
   ]
  },
  {
   "cell_type": "code",
   "execution_count": null,
   "metadata": {},
   "outputs": [],
   "source": [
    "rownames(alunos)\n",
    "colnames(alunos)\n",
    "names(alunos)"
   ]
  },
  {
   "cell_type": "markdown",
   "metadata": {},
   "source": [
    "### 5.1 Manipulação de Elementos de data.frame\n",
    "- Segue procedimento muito similar à manipulação de matrizes.\n",
    "    - acesso a elementos do data.frame.\n",
    "    - modificar elementos do data.frame.\n",
    "    "
   ]
  },
  {
   "cell_type": "markdown",
   "metadata": {},
   "source": [
    "#### Acesso a elementos de data.frames"
   ]
  },
  {
   "cell_type": "code",
   "execution_count": null,
   "metadata": {},
   "outputs": [],
   "source": [
    "alunos"
   ]
  },
  {
   "cell_type": "code",
   "execution_count": null,
   "metadata": {},
   "outputs": [],
   "source": [
    "alunos[1, 1]"
   ]
  },
  {
   "cell_type": "code",
   "execution_count": null,
   "metadata": {},
   "outputs": [],
   "source": [
    "alunos[1, 1, drop = FALSE]"
   ]
  },
  {
   "cell_type": "code",
   "execution_count": null,
   "metadata": {},
   "outputs": [],
   "source": [
    "alunos[,1:2]"
   ]
  },
  {
   "cell_type": "code",
   "execution_count": null,
   "metadata": {},
   "outputs": [],
   "source": [
    "alunos[-1, ]"
   ]
  },
  {
   "cell_type": "code",
   "execution_count": null,
   "metadata": {},
   "outputs": [],
   "source": [
    "## seleciona linha 3, colunas \"nome\" e \"iade\"\n",
    "alunos[3 , c(\"nome\", \"idade\")]"
   ]
  },
  {
   "cell_type": "code",
   "execution_count": null,
   "metadata": {
    "collapsed": true
   },
   "outputs": [],
   "source": [
    "# exercício: Selecione as duas últimas linhas\n"
   ]
  },
  {
   "cell_type": "markdown",
   "metadata": {},
   "source": [
    "#### Modificação de elementos de data.frames"
   ]
  },
  {
   "cell_type": "code",
   "execution_count": null,
   "metadata": {},
   "outputs": [],
   "source": [
    "alunos"
   ]
  },
  {
   "cell_type": "code",
   "execution_count": null,
   "metadata": {
    "collapsed": true
   },
   "outputs": [],
   "source": [
    "## Aniversário de Clara - aumento da idade de Clara\n",
    "alunos[2, \"idade\"] <- alunos[2, \"idade\"] + 1"
   ]
  },
  {
   "cell_type": "code",
   "execution_count": null,
   "metadata": {},
   "outputs": [],
   "source": [
    "alunos"
   ]
  },
  {
   "cell_type": "markdown",
   "metadata": {},
   "source": [
    "### 5.2 Outras Formas para Manipulação de Elementos de data.frames\n",
    "- Pode-se acessar e modificar elementos de data.frame utilizando o operador $ e a lista [[ ]]\n",
    "- Ambos sempre retornam um vetor como resultado."
   ]
  },
  {
   "cell_type": "code",
   "execution_count": null,
   "metadata": {},
   "outputs": [],
   "source": [
    "## Seleciona coluna nome\n",
    "alunos$nome\n",
    "\n",
    "## Seleciona coluna nome \n",
    "alunos[[\"nome\"]]"
   ]
  },
  {
   "cell_type": "code",
   "execution_count": null,
   "metadata": {
    "collapsed": true
   },
   "outputs": [],
   "source": [
    "## Exercício: Selecione a coluna 'idade' no data.frame alunos\n",
    "\n"
   ]
  },
  {
   "cell_type": "markdown",
   "metadata": {},
   "source": [
    "#### Também é possível alterar valor combinando $ ou [[ ]] com <-:"
   ]
  },
  {
   "cell_type": "code",
   "execution_count": null,
   "metadata": {},
   "outputs": [],
   "source": [
    "## Aniversário de João\n",
    "alunos$idade[1] <- alunos$idade[1] + 1\n",
    " \n",
    "## equivalente\n",
    "# alunos[[\"idade\"]][1] <- alunos[[\"idade\"]][1] + 1\n",
    "\n",
    "\n",
    "alunos"
   ]
  },
  {
   "cell_type": "markdown",
   "metadata": {},
   "source": [
    "#### Advertência: o retorno da operação pode ser vertor ou data.frame\n",
    "- df[ ,\"x\"]                - retorna a coluna x do data.frame df como tipo vetor.\n",
    "- df$x                     - retorna a coluna x do data.frame df como tipo vetor.\n",
    "- df[ , \"x\", drop = FALSE] - retorna a coluna x do data.frame df como tipo data.frame.\n",
    "- df[\"x\"]                  - retorna a coluna x do data.frame df como tipo data.frame."
   ]
  },
  {
   "cell_type": "code",
   "execution_count": null,
   "metadata": {},
   "outputs": [],
   "source": [
    "## Retorna data.frame\n",
    "alunos[ ,\"idade\", drop = FALSE]\n",
    "\n",
    " \n",
    "## Retorna data.frame\n",
    "alunos[\"idade\"]\n"
   ]
  },
  {
   "cell_type": "code",
   "execution_count": null,
   "metadata": {},
   "outputs": [],
   "source": [
    "## Retorna vetor\n",
    "alunos$idade\n",
    "\n",
    " \n",
    "## Retorna vetor\n",
    "alunos[ ,\"idade\"]\n"
   ]
  },
  {
   "cell_type": "markdown",
   "metadata": {},
   "source": [
    "### 5.3 Adicionar Colunas e Linhas em data.frame\n",
    "- Há várias forma de se adicionar e remover colunas em data.frames\n",
    "- Para adicionar, pode utilizar $, [ , ],  [[ ]] ou com cbind()."
   ]
  },
  {
   "cell_type": "code",
   "execution_count": null,
   "metadata": {
    "collapsed": true
   },
   "outputs": [],
   "source": [
    "# Adição de coluna no data.frame alunos\n",
    "\n",
    "# utilizando df$nova_coluna\n",
    "alunos$curso <- c(\"Engenharia Mecatrônica\", \"Engenharia de Computação\", \"Engenharia de Computação\", \"Engenharia de Computação\" )\n",
    "\n",
    "# utilizando [[]]\n",
    "alunos[[\"altura\"]] <- c(1.71, 1.55, 1.82, 1.63)\n",
    "\n",
    "# utilizando [ , \"nova_coluna\"]\n",
    "alunos[, \"peso\"] <- c(88.1, 55.2, 72.6, 61.1)\n",
    "\n",
    "# Utilizando matrizes\n",
    "alunos <- cbind(alunos, clube = c(\"ABC\", \"América\", \"Alecrim\", \"Potiguar\"),\n",
    "                      stringsAsFactors = FALSE)\n"
   ]
  },
  {
   "cell_type": "code",
   "execution_count": null,
   "metadata": {},
   "outputs": [],
   "source": [
    "alunos"
   ]
  },
  {
   "cell_type": "markdown",
   "metadata": {},
   "source": [
    "#### Inclusão de nova linha\n",
    "- Basta atribuir uma nova linha ao data.frame.\n",
    "- Mas, se os elementos têm colunas de tipos diferentes, use a função data.frame\n",
    "   - para evitar que todas as colunas do o data.frame sejam transformadas num memso tipo."
   ]
  },
  {
   "cell_type": "code",
   "execution_count": null,
   "metadata": {
    "collapsed": true
   },
   "outputs": [],
   "source": [
    "# Inclusão de uma nova linhas\n",
    "alunos[4, ] <- data.frame(nome = \"Ênio\", sexo = \"M\", idade = 21, curso = \"Engenharia Mecatrônica\",\n",
    "                          altura = 1.68, peso = 63.2,clube = \"Tashima\",\n",
    "                                stringsAsFactors = FALSE)"
   ]
  },
  {
   "cell_type": "code",
   "execution_count": null,
   "metadata": {},
   "outputs": [],
   "source": [
    "alunos"
   ]
  },
  {
   "cell_type": "markdown",
   "metadata": {},
   "source": [
    "- Outra maneira, é utilizando a finção rbind( )."
   ]
  },
  {
   "cell_type": "code",
   "execution_count": null,
   "metadata": {},
   "outputs": [],
   "source": [
    "# Inclusão de uma nova linha\n",
    "rbind(alunos, data.frame(nome = \"Amanda\", sexo = \"F\", idade = 20, curso = \"Engenharia de Computação\",\n",
    "                         altura = 1.65, peso = 62.1, clube = \"ABC\", \n",
    "                                stringsAsFactors = FALSE))"
   ]
  },
  {
   "cell_type": "code",
   "execution_count": null,
   "metadata": {},
   "outputs": [],
   "source": [
    "alunos[4:5,]"
   ]
  },
  {
   "cell_type": "markdown",
   "metadata": {},
   "source": [
    "#### Exercício: \n",
    "- Crie uma nova coluna com o IMC dos Alunos.\n",
    "   - IMC = peso/(altura ou quadrado)\n",
    "   - Calcule a média do IMC dos alunos."
   ]
  },
  {
   "cell_type": "code",
   "execution_count": null,
   "metadata": {
    "collapsed": true
   },
   "outputs": [],
   "source": [
    "# Exercício\n",
    "\n"
   ]
  },
  {
   "cell_type": "markdown",
   "metadata": {},
   "source": [
    "### 5.3 Remover Colunas e Linhas em data.frame"
   ]
  },
  {
   "cell_type": "markdown",
   "metadata": {},
   "source": [
    "- Para remover uma remover uma coluna de um data.frame basta atribuir o valor NULL a ela.\n",
    "   - alunos$clube <- NULL\n",
    "- Removendo linhas de um data.frame basta selecionar apenas aquelas linhas que você deseja manter:\n",
    "  - alunos <- alunos[1:3, ]  # mantém as 03 primeiras linhas\n",
    "  - alunos <- alunos[alunos$peso > 65  # mantém os alunos com peso acima de 65 kilos"
   ]
  },
  {
   "cell_type": "markdown",
   "metadata": {},
   "source": [
    "#### Exercício:\n",
    "- Obtenha um data.frame meninos_altos, que correspondem aos alunos do sexo masculino com altura maior que 1.75m."
   ]
  },
  {
   "cell_type": "code",
   "execution_count": null,
   "metadata": {
    "collapsed": true
   },
   "outputs": [],
   "source": [
    "# Resolução do Exercício:\n"
   ]
  },
  {
   "cell_type": "markdown",
   "metadata": {},
   "source": [
    "### 5.4  Algumas Funções Importante\n",
    "- subset()  - \n",
    "- with()\n",
    "- sapply() e lapply()\n",
    "- Filter() \n",
    "- sort( )\n",
    "- order( )"
   ]
  },
  {
   "cell_type": "markdown",
   "metadata": {},
   "source": [
    "#### Função subset()\n",
    "- Esta função seleciona um sub-frame a partir de uma expressão lógica.\n",
    "- Estrura geral:\t\n",
    "     subset(nome_do_data_frame, expressao_logica_para_filtrar_linhas,\n",
    "            select = nomes_das_colunas)"
   ]
  },
  {
   "cell_type": "code",
   "execution_count": null,
   "metadata": {},
   "outputs": [],
   "source": [
    "alunos"
   ]
  },
  {
   "cell_type": "code",
   "execution_count": null,
   "metadata": {},
   "outputs": [],
   "source": [
    "# Exemplo de Uso\n",
    "\n",
    "## alunos[alunos$sexo == \"F\",]\n",
    "subset(alunos, sexo == \"F\")\n"
   ]
  },
  {
   "cell_type": "code",
   "execution_count": null,
   "metadata": {},
   "outputs": [],
   "source": [
    "# Exemplo de Uso\n",
    "\n",
    "subset(alunos, sexo == \"M\" & altura >1.7 )"
   ]
  },
  {
   "cell_type": "code",
   "execution_count": null,
   "metadata": {},
   "outputs": [],
   "source": [
    "# Exemplo de Uso\n",
    "# alunos[alunos$sexo == \"M\", c(\"nome\", \"idade\")]\n",
    "subset(alunos, sexo == \"M\", select = c(\"nome\", \"idade\"))"
   ]
  },
  {
   "cell_type": "markdown",
   "metadata": {},
   "source": [
    "#### Função with()\n",
    "- Função para facilitar operações com colunas.\n"
   ]
  },
  {
   "cell_type": "code",
   "execution_count": null,
   "metadata": {},
   "outputs": [],
   "source": [
    "alunos"
   ]
  },
  {
   "cell_type": "code",
   "execution_count": null,
   "metadata": {},
   "outputs": [],
   "source": [
    "# Exemplo de uso\n",
    "\n",
    "with(alunos, peso/(altura*altura))\n"
   ]
  },
  {
   "cell_type": "code",
   "execution_count": null,
   "metadata": {},
   "outputs": [],
   "source": [
    "# Quatro formas de fazer a mesma coisa\n",
    "\n",
    "subset(alunos, sexo == \"M\", select = \"idade\", drop = TRUE)\n",
    "with(alunos, idade[sexo == \"M\"])\n",
    "alunos$idade[alunos$sexo == \"M\"]\n",
    "alunos[alunos$sexo == \"M\", \"idade\"]"
   ]
  },
  {
   "cell_type": "markdown",
   "metadata": {},
   "source": [
    "#### Funções sapply() e lapply()\n",
    "- As funções sapply( ) e lapply( ) aplicam uma função nas colunas de um data.frame.\n",
    "- A diferença é que lapply( ) sempre retorna uma lista."
   ]
  },
  {
   "cell_type": "code",
   "execution_count": null,
   "metadata": {},
   "outputs": [],
   "source": [
    "alunos"
   ]
  },
  {
   "cell_type": "code",
   "execution_count": null,
   "metadata": {},
   "outputs": [],
   "source": [
    "# Aploca a função mean nas colunas altura e peso\n",
    "sapply(alunos[5:6], mean)\n",
    "\n",
    "lapply(alunos[5:6], mean)"
   ]
  },
  {
   "cell_type": "markdown",
   "metadata": {},
   "source": [
    "#### Função Filter()\n",
    "- FIltra  apenas aquelas colunas de determinada classe (ou que satisfaçam determinada condição)."
   ]
  },
  {
   "cell_type": "code",
   "execution_count": null,
   "metadata": {},
   "outputs": [],
   "source": [
    "# seleciona apenas colunas numéricas\n",
    "Filter(is.numeric, alunos)"
   ]
  },
  {
   "cell_type": "code",
   "execution_count": null,
   "metadata": {},
   "outputs": [],
   "source": [
    "# seleciona apenas colunas de texto\n",
    "Filter(is.character, alunos)"
   ]
  },
  {
   "cell_type": "code",
   "execution_count": null,
   "metadata": {},
   "outputs": [],
   "source": [
    "# aplica a média apenas para variáveis numéricas\n",
    "sapply(Filter(is.numeric, alunos), mean)"
   ]
  },
  {
   "cell_type": "markdown",
   "metadata": {},
   "source": [
    "#### Exercício: Obtenha os maiores valores de idade, altura e peso dos alunos\n"
   ]
  },
  {
   "cell_type": "code",
   "execution_count": null,
   "metadata": {
    "collapsed": true
   },
   "outputs": [],
   "source": [
    "# Exercício - resolução\n",
    "\n"
   ]
  },
  {
   "cell_type": "markdown",
   "metadata": {},
   "source": [
    "#### Função sort( )\n",
    "    - Este comendo faz uma classificação (crescente ou decrescente) de um vetor.\n",
    "    - sintaxe --> sort(x, decreasing = FALSE, ...)\n",
    "        - onde x é o vetor a ser classificado, decreasing = false define que a classificação será em ordem crescente e ... significa que outros argumentos podem ser incrementados. \n",
    "        - Por exemplo: na.last = NA significa que valores que não foram definidos não vão ser listados. \n",
    "        - Outras opções seriam na.last = TRUE (os valores faltantes ficariam após o último valor classificado) e na.last=FALSE  (os valores faltantes ficariam antes do primeiro valor classificado)."
   ]
  },
  {
   "cell_type": "code",
   "execution_count": null,
   "metadata": {},
   "outputs": [],
   "source": [
    "amostra <- c(4, 10, 3, -2, NA, 0, NA, 30, -5)\n",
    "sort(amostra)   #É a classificação simples com os argumentos com seus valores padrões\n",
    "sort(amostra, decreasing=TRUE, na.last=TRUE)  # ordenar de forma decrescente e comocar os NA no final"
   ]
  },
  {
   "cell_type": "markdown",
   "metadata": {},
   "source": [
    "#### Função order()\n",
    "    - A função faz uma permutação que rearranja os valores em ordem crescente ou decrescente.\n",
    "    - A sintaxe da função order é:\n",
    "        - order(..., na.last = TRUE, decreasing = FALSE)"
   ]
  },
  {
   "cell_type": "code",
   "execution_count": null,
   "metadata": {},
   "outputs": [],
   "source": [
    "# exemplo de uso da função order()\n",
    "letras <-c('g', 'a', 'z', 'c')\n",
    "a <- order(letras)\n",
    "b <- sort(letras)\n",
    "c <- letras[order(letras)]\n",
    "letras\n",
    "a\n",
    "b\n",
    "c"
   ]
  },
  {
   "cell_type": "markdown",
   "metadata": {},
   "source": [
    "- Mais exemplos com a função order()."
   ]
  },
  {
   "cell_type": "code",
   "execution_count": null,
   "metadata": {},
   "outputs": [],
   "source": [
    "#set.seed(1)\n",
    "dados <- data.frame(w=rep(c(\"A\", \"B\"), 2), x= rep(c(\"D\", \"C\"), 2), y= rnorm(4), z=rnorm(4),\n",
    "                    stringsAsFactors=FALSE)\n",
    "dados"
   ]
  },
  {
   "cell_type": "code",
   "execution_count": null,
   "metadata": {},
   "outputs": [],
   "source": [
    "# Solução 1\n",
    "# No caso, ordena de acordo por w em ordem alfabética inversa, x em ordem alfabética e y em ordem decrescente. Se quiser que tudo seja na mesma ordem, basta um TRUE ou FALSE, que valerá para todos.\n",
    "\n",
    "dados[order(dados$w, dados$x, dados$y, decreasing=c(TRUE, FALSE, TRUE)), ] \n"
   ]
  },
  {
   "cell_type": "code",
   "execution_count": null,
   "metadata": {
    "collapsed": true
   },
   "outputs": [],
   "source": [
    "# caso se queira ordenar apenas uma coluna\n",
    "\n",
    "dados[order(dados$z, decreasing=TRUE),]"
   ]
  },
  {
   "cell_type": "code",
   "execution_count": null,
   "metadata": {},
   "outputs": [],
   "source": [
    "# Usando o pacote plyr\n",
    "library(plyr)\n",
    "arrange(dados,desc(z))\n",
    " "
   ]
  },
  {
   "cell_type": "code",
   "execution_count": null,
   "metadata": {},
   "outputs": [],
   "source": [
    "# Usando a função arrange - o default é ordenar de forma crescente\n",
    "arrange(dados,desc(w),z)\n"
   ]
  },
  {
   "cell_type": "markdown",
   "metadata": {},
   "source": [
    "## 6. Controle de Fluxo em R\n",
    "\n",
    "- If\n",
    "- Loop while\n",
    "- Loop for\n"
   ]
  },
  {
   "cell_type": "markdown",
   "metadata": {},
   "source": [
    "### 6.1 Comando IF-ELSE:\n",
    "\n",
    "if (logic_condition) \n",
    "\n",
    " { \n",
    "   conjunto de comandos\n",
    " }  \n",
    "      \n",
    "else \n",
    " {\n",
    "  conjunto de comandos\n",
    " }"
   ]
  },
  {
   "cell_type": "code",
   "execution_count": null,
   "metadata": {
    "collapsed": true
   },
   "outputs": [],
   "source": [
    "# Variables related to your last day of recordings\n",
    "medium <- \"LinkedIn\"\n",
    "num_views <- 14\n",
    "\n",
    "# Control structure for medium\n",
    "if (medium == \"LinkedIn\") {\n",
    "  print(\"Showing LinkedIn information\")\n",
    "} else if (medium == \"Facebook\") {\n",
    "  # Add code to print correct string when condition is TRUE\n",
    "   print(\"Showing Facebook information\")\n",
    "} else {\n",
    "  print(\"Unknown medium\")\n",
    "}\n",
    "\n",
    "# Control structure for num_views\n",
    "if (num_views > 15) {\n",
    "  print(\"You're popular!\")\n",
    "} else if (num_views <= 15 & num_views > 10) {\n",
    "  # Add code to print correct string when condition is TRUE\n",
    "   print(\"Your number of views is average\")\n",
    "} else {\n",
    "  print(\"Try to be more visible!\")\n",
    "}"
   ]
  },
  {
   "cell_type": "markdown",
   "metadata": {},
   "source": [
    "### 6.2 Comando WHILE\n",
    "\n",
    "while (logic_condition)\n",
    "\n",
    " { \n",
    " \n",
    "   conjunto de comandos\n",
    "   \n",
    " }"
   ]
  },
  {
   "cell_type": "code",
   "execution_count": null,
   "metadata": {},
   "outputs": [],
   "source": [
    "# Initialize the speed variable\n",
    "speed <- 64\n",
    "\n",
    "# Code the while loop\n",
    "while ( speed > 30) {\n",
    "  print(\"Slow down!\")\n",
    "  speed <- speed -7\n",
    "}\n",
    "\n",
    "# Print out the speed variable\n",
    "speed"
   ]
  },
  {
   "cell_type": "markdown",
   "metadata": {},
   "source": [
    "#### Exemplos com WHILE e IF"
   ]
  },
  {
   "cell_type": "code",
   "execution_count": null,
   "metadata": {},
   "outputs": [],
   "source": [
    "# Initialize the speed variable\n",
    "speed <- 64\n",
    "\n",
    "# Extend/adapt the while loop\n",
    "while (speed > 30) {\n",
    "  print(paste(\"Your speed is\",speed))\n",
    "  if ( speed > 48) {\n",
    "    print(\"Slow down big time!\")\n",
    "    speed <- speed - 11\n",
    "    \n",
    "  } else {\n",
    "    \n",
    "    print(\"Slow down!\")\n",
    "    speed <- speed - 6\n",
    "  }\n",
    "}"
   ]
  },
  {
   "cell_type": "markdown",
   "metadata": {},
   "source": [
    "#### Exemplos com BREAK no loop"
   ]
  },
  {
   "cell_type": "code",
   "execution_count": null,
   "metadata": {},
   "outputs": [],
   "source": [
    "# Initialize the speed variable\n",
    "speed <- 88\n",
    "\n",
    "while (speed > 30) {\n",
    "  print(paste(\"Your speed is\", speed))\n",
    "  \n",
    "  # Break the while loop when speed exceeds 80\n",
    "  if (speed > 80 ) {break\n",
    "    \n",
    "  }\n",
    "  \n",
    "  if (speed > 48) {\n",
    "    print(\"Slow down big time!\")\n",
    "    speed <- speed - 11\n",
    "  } else {\n",
    "    print(\"Slow down!\")\n",
    "    speed <- speed - 6\n",
    "  }\n",
    "}"
   ]
  },
  {
   "cell_type": "markdown",
   "metadata": {},
   "source": [
    "### 6.3 Comando FOR\n",
    "\n",
    "for(i in sequencia)\n",
    "\n",
    " { \n",
    "   \n",
    "   conjunto de comandos\n",
    "   \n",
    " }"
   ]
  },
  {
   "cell_type": "code",
   "execution_count": null,
   "metadata": {},
   "outputs": [],
   "source": [
    "n1 <- 1\n",
    "n2 <- 6\n",
    "for(i in n1:n2){\n",
    "  print(i)\n",
    "}"
   ]
  },
  {
   "cell_type": "code",
   "execution_count": null,
   "metadata": {},
   "outputs": [],
   "source": [
    "n <- 8\n",
    "for(letra in letters[1:n]){\n",
    "  print(letra)\n",
    "}"
   ]
  },
  {
   "cell_type": "markdown",
   "metadata": {},
   "source": [
    "## 7. Função em R\n",
    "\n",
    "- Em construção\n"
   ]
  },
  {
   "cell_type": "code",
   "execution_count": null,
   "metadata": {
    "collapsed": true
   },
   "outputs": [],
   "source": []
  }
 ],
 "metadata": {
  "kernelspec": {
   "display_name": "R",
   "language": "R",
   "name": "ir"
  },
  "language_info": {
   "codemirror_mode": "r",
   "file_extension": ".r",
   "mimetype": "text/x-r-source",
   "name": "R",
   "pygments_lexer": "r",
   "version": "3.2.3"
  }
 },
 "nbformat": 4,
 "nbformat_minor": 2
}
