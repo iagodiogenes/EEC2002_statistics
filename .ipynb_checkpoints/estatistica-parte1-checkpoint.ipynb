{
 "cells": [
  {
   "cell_type": "markdown",
   "metadata": {},
   "source": [
    "# Introdução aos Modelos Estatísticos com R\n",
    "\n",
    "## Autor: Luiz Affonso Guedes \n",
    "Última atualização: abril de 2018\n",
    "## Obtetivo\n",
    "- Apresentar uma introdução à estatítica com suporte da linguagem R\n",
    "\n",
    "## Conteúdo\n",
    "- Revisão de R: manipular frames e arquivos\n",
    "- Como manipular um arquivo Excell em R\n",
    "- Funções de estatística básica em R\n",
    "- Gráficos estatísitcos básicos em R\n",
    "- Distribuições estatísticas discretas e contínuas (modelos) em R\n",
    "- Exercícios\n"
   ]
  },
  {
   "cell_type": "markdown",
   "metadata": {},
   "source": [
    "# Como carregar um dado já disponível\n",
    "- comando data(dado)"
   ]
  },
  {
   "cell_type": "code",
   "execution_count": null,
   "metadata": {
    "collapsed": true
   },
   "outputs": [],
   "source": [
    "data(mtcars)\n",
    "head(mtcars)"
   ]
  },
  {
   "cell_type": "code",
   "execution_count": null,
   "metadata": {
    "collapsed": true
   },
   "outputs": [],
   "source": [
    "data(airquality) # carrega os dados\n",
    "airquality # mostra os dados"
   ]
  },
  {
   "cell_type": "code",
   "execution_count": null,
   "metadata": {
    "collapsed": true
   },
   "outputs": [],
   "source": [
    "is.data.frame(airquality) # verifica se é um data-frame\n",
    "names(airquality) # nome das colunas (variáveis)\n",
    "dim(airquality) # dimensões do data-frame\n",
    "help(airquality) # mostra o ‘‘help’’que explica os dados"
   ]
  },
  {
   "cell_type": "code",
   "execution_count": null,
   "metadata": {
    "collapsed": true
   },
   "outputs": [],
   "source": [
    "summary(airquality) # sumário\n",
    "summary(airquality[,1:4]) # sumário das 4 primeiras variáveis\n"
   ]
  },
  {
   "cell_type": "code",
   "execution_count": null,
   "metadata": {
    "collapsed": true
   },
   "outputs": [],
   "source": [
    "#airquality\n",
    "airquality$Wind\n",
    "mean(airquality$Temp) # média das temperaturas no período\n",
    "mean(airquality$Ozone) # média do Ozone no período - note a resposta NA\n",
    "airquality$Ozone # a razão é que existem ‘‘dados perdidos’’ na variável Ozone\n",
    "mean(airquality$Ozone, na.rm=T) # média do Ozone no período - retirando valores perdido"
   ]
  },
  {
   "cell_type": "markdown",
   "metadata": {},
   "source": [
    " # Como ler e escrever um arquivo de Texto\n",
    " - read.table(\"amostras.txt\",header=TRUE)\n",
    " - write.table(dado, file = \"arquivo.txt\")"
   ]
  },
  {
   "cell_type": "code",
   "execution_count": null,
   "metadata": {
    "collapsed": true,
    "scrolled": true
   },
   "outputs": [],
   "source": [
    "#tabela1 <- read.table(arquivo2.txt, header = TRUE)\n",
    "#tabela11\n",
    "a<- c(1,2,3)\n",
    "b<- c(4,5,6)\n",
    "cov(a,b)\n",
    "cor(a,b)"
   ]
  },
  {
   "cell_type": "markdown",
   "metadata": {
    "collapsed": true,
    "scrolled": true
   },
   "source": [
    " # Como ler e escrever um arquivo Excell em R\n",
    " - read.table(\"arquivo.csv\", head=T, sep=\":\", dec=\",\")\n",
    " - read.csv(\"arquivo.csv\")\n",
    " - read.csv2(\"arquivo.csv\") \n",
    " - write.csv2(dado, file = \"arquivo.csv\", row.names = FALSE) "
   ]
  },
  {
   "cell_type": "code",
   "execution_count": null,
   "metadata": {
    "collapsed": true
   },
   "outputs": [],
   "source": [
    "dado <- read.csv2(\"nome_do_arquivo.csv\")  # por exemplo: imd_student_blind.csv\n",
    "str(dado)"
   ]
  },
  {
   "cell_type": "code",
   "execution_count": null,
   "metadata": {
    "collapsed": true
   },
   "outputs": [],
   "source": [
    "dado[1:5,]"
   ]
  },
  {
   "cell_type": "code",
   "execution_count": null,
   "metadata": {
    "collapsed": true
   },
   "outputs": [],
   "source": [
    "mean(dado$nota)\n",
    "sd(dado$nota)\n",
    "min(dado$nota)\n",
    "max(dado$nota)\n",
    "max(dado$nota) - min(dado$nota)"
   ]
  },
  {
   "cell_type": "markdown",
   "metadata": {},
   "source": [
    "Obtendo uma subtabela\n",
    "- tabela.parametro1 <- subset(tabela, parametro==1)\n",
    "- x <- subset(tabela, parametro1 == \"A\" & parametro2 >3)\n"
   ]
  },
  {
   "cell_type": "code",
   "execution_count": null,
   "metadata": {
    "collapsed": true
   },
   "outputs": [],
   "source": [
    "#x <- subset(dado, ano_ingresso==2014)\n",
    "#head(x)\n",
    "#unique(dado$ano_ingresso) \n",
    "#unique(x$ano_ingresso)\n",
    "\n",
    "X <- subset(dado, ano_ingresso==2014 & status==\"ATIVO\")\n",
    "y <- subset(dado, ano_ingresso==2014 & status==\"CANCELADO\")\n",
    "\n",
    "media_x <- mean(x$nota)\n",
    "media_y <- mean(y$nota)\n",
    "\n",
    "media_x > media_y\n",
    "\n",
    "print(\"Media dos alunos ativos em 2014 \")\n",
    "media_x\n",
    "\n",
    "print(\"Media dos alunos cancelados em 2014 \")\n",
    "media_y\n",
    "\n",
    "#head(y)"
   ]
  },
  {
   "cell_type": "code",
   "execution_count": null,
   "metadata": {
    "collapsed": true
   },
   "outputs": [],
   "source": [
    "#X <- subset(dado, ano_ingresso==2014 & status==\"ATIVO\")\n",
    "#y <- subset(dado, ano_ingresso==2014 & status==\"CANCELADO\")\n",
    "media <- mean(x$nota)\n",
    "media\n",
    "acima <- subset(x, nota > media)\n",
    "acima"
   ]
  },
  {
   "cell_type": "code",
   "execution_count": null,
   "metadata": {
    "collapsed": true
   },
   "outputs": [],
   "source": [
    "print(\"Cálculo da probilidade de anos de 2014 terem Status CANCELADO - proporção\")\n"
   ]
  },
  {
   "cell_type": "markdown",
   "metadata": {},
   "source": [
    "Exemplo com coeficiente de correlação\n",
    "- cor(x,y)\n",
    "- cov(x,y)"
   ]
  },
  {
   "cell_type": "code",
   "execution_count": null,
   "metadata": {
    "collapsed": true
   },
   "outputs": [],
   "source": [
    "x <- c(1,2,3,4,5)\n",
    "y<- c(2,4,6,8,10)\n",
    "z <- c(4,8,12,16,20)\n",
    "\n",
    "w <- 10*x \n",
    "print(\"---- variavel x ------\")\n",
    "mean(x)\n",
    "sd(x)\n",
    "var(x)\n",
    "\n",
    "print(\"---- variavel y ------\")\n",
    "mean(y)\n",
    "sd(y)\n",
    "var(y)\n",
    "\n",
    "print(\"---- variavel z ------\")\n",
    "mean(z)\n",
    "sd(z)\n",
    "var(z)\n",
    "\n",
    "print(\"---- variavel w ------\")\n",
    "mean(w)\n",
    "sd(w)\n",
    "var(w)"
   ]
  },
  {
   "cell_type": "code",
   "execution_count": null,
   "metadata": {
    "collapsed": true
   },
   "outputs": [],
   "source": [
    "x\n",
    "y\n",
    "z\n",
    "t <- -2*x\n",
    "t\n",
    "\n",
    "cov(x,y)\n",
    "cor(x,y)\n",
    "\n",
    "cov(x,z)\n",
    "cor(x,z)\n",
    "\n",
    "cov(x,t)\n",
    "cor(x,t)"
   ]
  },
  {
   "cell_type": "code",
   "execution_count": null,
   "metadata": {
    "collapsed": true
   },
   "outputs": [],
   "source": [
    "r<-c(1,2,4,4,1)\n",
    "cov(x,r)\n",
    "cor(x,r)"
   ]
  },
  {
   "cell_type": "code",
   "execution_count": null,
   "metadata": {
    "collapsed": true
   },
   "outputs": [],
   "source": [
    "print(\"Exemplo de uso de do coeficiente de correlação sobre dados de tabela-frames\")\n",
    "(nrow(y)/(nrow(x)+nrow(y))) *100"
   ]
  },
  {
   "cell_type": "markdown",
   "metadata": {},
   "source": [
    "# Instalação de Pacotes em R\n",
    "– install.packages(“package_name”)\n",
    "ou\n",
    "– install.packages(vector_of_packages_names)\n",
    "– Exemplos: \n",
    "    - install.packages(“plyr\")\n",
    "    - install.packages(c(“plyr”,“moments”))\n",
    "    \n",
    "- Para carregar uma biblioteca:\n",
    "– library(“nome”)  OU require(“nome”)"
   ]
  },
  {
   "cell_type": "markdown",
   "metadata": {},
   "source": [
    "# Funções de estatística básica em R\n",
    "\n",
    "Algumas funções úteis que operam sobre vetores:\n",
    "- length(vetorX) ; obtém a dimensão do vetor\n",
    "- mean(vetorX) ; obtém o valor médio dos valores dos elementos de um vetor\n",
    "- max(vetorX); obtém o valor máximo entre os elementos de um vetor\n",
    "- min(vetorX); obtém o valor mínimo entre os elementos de um vetor\n",
    "- sd(vetorX); obtém o desvio padrão dos valores dos elementos de um vetor\n",
    "- var(vetorX); obtém a variância dos valores dos elementos de um vetor\n",
    "- cor(x,y); coeficiente de correlação\n",
    "- cov(x,y); covariância\n",
    "- median(vetorX); obtém a mediana dos valores dos elementos de um vetor\n",
    "- quantile(vetorX,percentual); Produz as quantidades de amostra correspondentes às probabilidades dadas\n",
    "- summary(vetorX); imprime na tela um sumário sobre o vetorX"
   ]
  },
  {
   "cell_type": "code",
   "execution_count": null,
   "metadata": {
    "collapsed": true,
    "scrolled": true
   },
   "outputs": [],
   "source": [
    "quantile(acima$nota)\n",
    "quantile(dado$nota)"
   ]
  },
  {
   "cell_type": "code",
   "execution_count": null,
   "metadata": {
    "collapsed": true,
    "scrolled": true
   },
   "outputs": [],
   "source": [
    "# install.packages(“packagename”)\n",
    "print(\"Programa exemplificando o uso de funções com vetores\")\n",
    "vetorX <- c(1,2,3,2,1)\n",
    "length(vetorX)\n",
    "mean(vetorX)\n",
    "max(vetorX)\n",
    "min(vetorX)\n",
    "sd(vetorX)\n",
    "var(vetorX)\n",
    "median(vetorX)\n",
    "quantile(vetorX,0.25)\n",
    "quantile(vetorX,0.50)\n",
    "quantile(vetorX,0.75)\n",
    "quantile(vetorX,0.90)\n",
    "quantile(vetorX,1)\n",
    "summary(vetorX)"
   ]
  },
  {
   "cell_type": "code",
   "execution_count": null,
   "metadata": {
    "collapsed": true,
    "scrolled": true
   },
   "outputs": [],
   "source": [
    "# Exercício\n",
    "print(\"Exercício: Escreva um Programa similar ao anterior para vetorY e vetorZ\")\n",
    "vetorY <- c(5,20,40,50,55,70,80,80,90,100)\n",
    "vetorZ <- c(10,20,30,40,50,60,70,80,90)\n",
    "# escrever o programa\n"
   ]
  },
  {
   "cell_type": "markdown",
   "metadata": {},
   "source": [
    "# Gráficos estatísticos básicos em R\n",
    "- Gráficos de linha\n",
    "- plot(vetorX), plot(vetorX, vetorY), plot(vetorY~vetorX) - Gráficos de pontos \n",
    "- hist(vetorX) - Histogramas\n",
    "- boxplot(vetorX, vetorLabels) - Gráficos de box\n",
    "- barplot(vetorX)"
   ]
  },
  {
   "cell_type": "code",
   "execution_count": null,
   "metadata": {
    "collapsed": true,
    "scrolled": true
   },
   "outputs": [],
   "source": [
    "riqueza <- c(15,18,22,24,25,30,31,34,37,39,41,45)\n",
    "area <- c(2,4.5,6,10,30,34,50,56,60,77.5,80,85)\n",
    "area\n",
    "area.cate <- rep(c(\"pequeno\", \"grande\"), each=6)\n",
    "area.cate\n"
   ]
  },
  {
   "cell_type": "code",
   "execution_count": null,
   "metadata": {
    "collapsed": true,
    "scrolled": false
   },
   "outputs": [],
   "source": [
    "plot(riqueza~area)\n",
    "plot(area,riqueza) # o mesmo que o anterior\n",
    "boxplot(riqueza~area.cate)\n",
    "barplot(riqueza)"
   ]
  },
  {
   "cell_type": "code",
   "execution_count": null,
   "metadata": {
    "collapsed": true
   },
   "outputs": [],
   "source": [
    "#hist(riqueza)\n",
    "hist(dado[dado$ano_ingresso == 2014,]$nota)\n"
   ]
  },
  {
   "cell_type": "code",
   "execution_count": null,
   "metadata": {
    "collapsed": true
   },
   "outputs": [],
   "source": [
    "alunos_ativos <- subset(dado, ano_ingresso==2014 & status==\"ATIVO\" & status.disciplina == \"Aprovado\")\n",
    "hist(alunos_ativos$nota)"
   ]
  },
  {
   "cell_type": "markdown",
   "metadata": {},
   "source": [
    "DICA: Como Salvar Gráficos em formatos importantes\n",
    "- Formatos: pdf(),png(),svg(),jpeg(),…, LaTeX\n"
   ]
  },
  {
   "cell_type": "code",
   "execution_count": null,
   "metadata": {
    "collapsed": true,
    "scrolled": true
   },
   "outputs": [],
   "source": [
    "print(\"Exemplo de como salvar um gráfico no formato .pdf\")\n",
    "n <- rnorm(1000)\n",
    "pdf(\"myplot.pdf\")\n",
    "plot(n)\n",
    "dev.off()"
   ]
  },
  {
   "cell_type": "markdown",
   "metadata": {},
   "source": [
    "#  Distribuições estatísticas discretas e contínuas (modelos) em R\n",
    "\n",
    "Distribuição Uniforme\n",
    "- dunif(x, min=0, max=1, opções); fornece a probabilidade dado a quantidade/quartil\n",
    "- punif(q, min=0, max=1, opções); fornece a densidade\n",
    "- qunif(p, min=0, max=1, opções); fornece a distribuição\n",
    "- runif(n, min=0, max=1); gera n amostras seguindo uma Distribuição Uniforme, com defaults mínimo igual 0 e máximo\n",
    "    - x: vetor contendo os quantis.\n",
    "    - min: limite inferior da distribuição.\n",
    "    - max: limite superior da distribuição.\n",
    "    - q: vetor contendo os quantis.\n",
    "    - p: vetor contendo as probabilidades.\n",
    "    - n: número de observações."
   ]
  },
  {
   "cell_type": "code",
   "execution_count": null,
   "metadata": {
    "collapsed": true,
    "scrolled": true
   },
   "outputs": [],
   "source": [
    "?punif"
   ]
  },
  {
   "cell_type": "code",
   "execution_count": null,
   "metadata": {
    "collapsed": true,
    "scrolled": true
   },
   "outputs": [],
   "source": [
    "a <- runif(100000, min = 0, max = 10)\n",
    "mean(a)\n",
    "var(a)\n",
    "sd(a)\n",
    "min(a)\n",
    "max(a)\n",
    "quantile(a,0.5)\n",
    "summary(a)\n",
    "#plot(a)\n",
    "hist(a)\n",
    "plot(dunif(a))\n",
    "# a"
   ]
  },
  {
   "cell_type": "code",
   "execution_count": null,
   "metadata": {
    "collapsed": true,
    "scrolled": true
   },
   "outputs": [],
   "source": [
    "b<- dunif(a, min = 0, max = 1)\n",
    "plot(b)\n",
    "c <- punif(a, min = 0, max = 1, lower.tail = TRUE, log.p = FALSE)\n",
    "hist(c)\n",
    "\n",
    "d <- qunif(c, min = 0, max = 1, lower.tail = TRUE, log.p = FALSE)\n",
    "hist(d)"
   ]
  },
  {
   "cell_type": "code",
   "execution_count": null,
   "metadata": {
    "collapsed": true,
    "scrolled": true
   },
   "outputs": [],
   "source": [
    "u <- runif(20)\n",
    "u\n",
    "## The following relations always hold :\n",
    "punif(u) == u\n",
    "dunif(u) == 1"
   ]
  },
  {
   "cell_type": "markdown",
   "metadata": {},
   "source": [
    "Como obter uma distribuição discreta via uma distribuição uniforme\n",
    "- Gerar uma distribuição de Bernoulli a apartir de uma distribuição uniforme\n",
    "    - Seja a VA X com distribuição uniforme U entre 0 e 1: X~U(0,1).\n",
    "    - Então: X=1; U < p e X=0; U > = p"
   ]
  },
  {
   "cell_type": "code",
   "execution_count": null,
   "metadata": {
    "collapsed": true
   },
   "outputs": [],
   "source": [
    "print(\"Programa para gerar uma distribuição de Bernoulli, com p= 0.5, a partir de uma distribição uniforme\")\n",
    "p = 0.5\n",
    "U = runif(1, min = 0, max = 1)\n",
    "X = (U < p)\n",
    "print(\"Sumário de X\")\n",
    "summary(X)\n",
    "print(\"Sumário de U\")\n",
    "summary(U)"
   ]
  },
  {
   "cell_type": "markdown",
   "metadata": {},
   "source": [
    "Programa que simula n lançamento de uma moeda honesta (=0.5)"
   ]
  },
  {
   "cell_type": "code",
   "execution_count": null,
   "metadata": {
    "collapsed": true
   },
   "outputs": [],
   "source": [
    "n = 1000;\n",
    "U = runif(n, min = 0, max = 1)\n",
    "toss = U < 0.5\n",
    "a = numeric(n + 1)\n",
    "avg = numeric(n)\n",
    "for(i in 2 : n + 1)\n",
    "{\n",
    "a[i] = a[i-1] + toss[i-1]\n",
    "avg[i-1] = a[i]/(i-1)\n",
    "}\n",
    "plot(1 : n, avg[1 : n], type = \"l\", lwd = 5, col = \"blue\", ylab = \"ProportionofHeads\",\n",
    "xlab = \"CoinT ossNumber\", cex.main = 1.25, cex.lab = 1.5, cex.axis = 1.75)"
   ]
  },
  {
   "cell_type": "code",
   "execution_count": null,
   "metadata": {
    "collapsed": true
   },
   "outputs": [],
   "source": [
    "n = 100;\n",
    "U = runif(n, min = 0, max = 1)\n",
    "toss = U < 0.5\n",
    "a = numeric(n + 1)\n",
    "avg = numeric(n)\n",
    "for(i in 2 : n + 1)\n",
    "{\n",
    "a[i] = a[i-1] + toss[i-1]\n",
    "avg[i-1] = a[i]/(i-1)\n",
    "}\n",
    "plot(1 : n, avg[1 : n], type = \"l\", lwd = 5, col = \"blue\", ylab = \"ProportionofHeads\",\n",
    "xlab = \"CoinT ossNumber\", cex.main = 1.25, cex.lab = 1.5, cex.axis = 1.75)"
   ]
  },
  {
   "cell_type": "code",
   "execution_count": null,
   "metadata": {
    "collapsed": true
   },
   "outputs": [],
   "source": [
    "# Código similar ao anterior\n",
    "\n",
    "n = 1000;\n",
    "U = runif(n, min = 0, max = 1)\n",
    "vez = numeric(n)\n",
    "media_acumulada = numeric(n)\n",
    "\n",
    "for(i in 1 : n)\n",
    "{\n",
    " if(U[i] <0.5)  vez[i] <- 1  \n",
    " if (i == 1) {media_acumulada <- vez[i]}\n",
    "    \n",
    " else\n",
    "    {media_acumulada[i] <- ( (i-1) * media_acumulada[i-1] + vez[i] ) / i}\n",
    " }\n",
    "    \n",
    "plot(1 : n, media_acumulada[1 : n], type = \"l\", lwd = 5, col = \"blue\", ylab = \"ProportionofHeads\",\n",
    "xlab = \"CoinT ossNumber\", cex.main = 1.25, cex.lab = 1.5, cex.axis = 1.75)"
   ]
  },
  {
   "cell_type": "code",
   "execution_count": null,
   "metadata": {
    "collapsed": true
   },
   "outputs": [],
   "source": [
    "# Código similar ao anterior\n",
    "\n",
    "n = 1000;\n",
    "U = runif(n, min = 0, max = 1)\n",
    "X = round(U)\n",
    "\n",
    "media_acumulada = numeric(n);\n",
    "\n",
    "for(i in 1 : n)  media_acumulada[i] <- sum(X[1:i])/i\n",
    "    \n",
    "plot(1 : n, media_acumulada[1 : n], type = \"l\", lwd = 5, col = \"blue\", ylab = \"ProportionofHeads\",\n",
    "xlab = \"CoinT ossNumber\", cex.main = 1.25, cex.lab = 1.5, cex.axis = 1.75)\n"
   ]
  },
  {
   "cell_type": "code",
   "execution_count": null,
   "metadata": {
    "collapsed": true
   },
   "outputs": [],
   "source": [
    "# Cálculo da variância para os n pontos\n",
    "\n",
    "n = 1000;\n",
    "U = runif(n, min = 0, max = 1)\n",
    "X = round(U)\n",
    "\n",
    "media_acumulada = numeric(n);\n",
    "segundoMomento_acumulado = numeric(n);\n",
    "variancia_acumulada = numeric(n);\n",
    "\n",
    "for(i in 1 : n) {\n",
    " media_acumulada[i] <- sum(X[1:i])/i\n",
    " segundoMomento_acumulado[i] <- sum(X[1:i]*X[1:i])/i   \n",
    "}\n",
    "variancia_acumulada = segundoMomento_acumulado - media_acumulada*media_acumulada\n",
    "    \n",
    "plot(1 : n, variancia_acumulada[1 : n], type = \"l\", lwd = 5, col = \"blue\", ylab = \"ProportionofHeads\",\n",
    "xlab = \"CoinT ossNumber\", cex.main = 1.25, cex.lab = 1.5, cex.axis = 1.75)\n",
    "\n",
    "#variancia_estimada <- variancia_acumulada[n] /seq(1, n, by=1)\n",
    "#plot(1 : n, variancia_estimada[1 : n], type = \"l\", lwd = 5, col = \"blue\", ylab = \"ProportionofHeads\",\n",
    "#xlab = \"CoinT ossNumber\", cex.main = 1.25, cex.lab = 1.5, cex.axis = 1.75)\n",
    "\n",
    "#hist(media_acumulada) # a estimativa é uma VA com distribuiçào Normal\n",
    "    \n",
    "#mean(media_acumulada)   \n",
    "#var(media_acumulada)   "
   ]
  },
  {
   "cell_type": "markdown",
   "metadata": {},
   "source": [
    "Exercício 01:\n",
    "    - Escreva um programa que simule 10000 lançamentos de um dado honesto.\n",
    "    - Calcule média, variância, valor máximo, valor mínimo. Compare com os valores teóricos.\n",
    "    - Plot o histograma."
   ]
  },
  {
   "cell_type": "code",
   "execution_count": null,
   "metadata": {
    "collapsed": true
   },
   "outputs": [],
   "source": [
    "print(\"Programa de simulação de lançamento de dado\")\n"
   ]
  },
  {
   "cell_type": "markdown",
   "metadata": {},
   "source": [
    "Como obter uma distribuição discreta via uma distribuição uniforme\n",
    "- Gerar uma distribuição de Binomial.\n",
    "- Lema: se X1; X2; ...; Xn são VA independentes seguindo distribuição de Bernoulli(p), então a VA X = X1 + X2 + ... + Xn segue uma distribuição Binomial(n; p).\n",
    "\n",
    "Exercício 02:\n",
    "- Gere 1000 amostras seguindo uma distribuição Binomial(50,0.2).\n",
    "- Calcule sua média, variância e desvio padrão. Compare com os valores teóricos.\n",
    "- Gere o histograma."
   ]
  },
  {
   "cell_type": "code",
   "execution_count": null,
   "metadata": {
    "collapsed": true
   },
   "outputs": [],
   "source": [
    "print(\"Programa que gerar 1000 amostras seguindo uma distribuição Binomial(50,0.2)\")\n"
   ]
  },
  {
   "cell_type": "markdown",
   "metadata": {},
   "source": [
    "Como obter uma distribuição contínua via uma distribuição uniforme?\n",
    "- Utilizar o método da transformação inversa\n",
    "- No caso, para transformar uma distribuição uniforme X~Unif(0,1) em uma distribuição exponencial decrescente, utiliza-se -ln(U). "
   ]
  },
  {
   "cell_type": "code",
   "execution_count": null,
   "metadata": {
    "collapsed": true,
    "scrolled": false
   },
   "outputs": [],
   "source": [
    "U <- runif(1000, min = 0, max = 1)\n",
    "X <- -log(U)\n",
    "print(\"Sumário de U\")\n",
    "summary(U)\n",
    "print(\"Sumário de X\")\n",
    "summary(X)\n",
    "#plot(U)\n",
    "hist(U)\n",
    "#plot(X)\n",
    "hist(X)"
   ]
  },
  {
   "cell_type": "markdown",
   "metadata": {},
   "source": [
    "Exercício 3:\n",
    "- Gere 1000 amostras seguindo uma distribuição exponencial de média 2. Dica: Pode-se utilizar variância (produto) ou média (soma). \n",
    "- Calcule sua média, variância e desvio padrão. Compare com os valores teóricos.\n",
    "- Gere o seu histograma."
   ]
  },
  {
   "cell_type": "code",
   "execution_count": null,
   "metadata": {
    "collapsed": true
   },
   "outputs": [],
   "source": [
    "print(\"Escreva o programa aqui\")"
   ]
  },
  {
   "cell_type": "markdown",
   "metadata": {},
   "source": [
    "Como obter um distribuição contínua via uma distribuição uniforme?\n",
    "- Distribuição Gama\n",
    "    - Teorema: Sejam n V.A. independentes (X1;X2; \u0001 \u0001 \u0001 ;Xn) seguindo dsitribuições exponenciais com média \"lambda\". Então, a V.A. Y (Y = X1 + X2 + \u0001 \u0001 \u0001 + Xn) segue uma distribuição Gama, com parâmetros \"n\" e \"lambda\". Y~Gamma(n,lambda).\n",
    "\n",
    "- Exercício:\n",
    "    - Gere 1000 amostras seguindo uma distribuição Gamma(20,1).\n",
    "    - Calcule sua média, variância e desvio padrão. Compare com os valores teóricos.\n",
    "    - Gere o seu histograma.\n",
    "    "
   ]
  },
  {
   "cell_type": "code",
   "execution_count": null,
   "metadata": {
    "collapsed": true
   },
   "outputs": [],
   "source": [
    "print(\"Escrever o Programa aqui....\")\n",
    "print(\"Programa para Gerar Distribuição Gama via uma distribuição Uniforme\")"
   ]
  },
  {
   "cell_type": "markdown",
   "metadata": {},
   "source": [
    "Desafio: Como obter uma distribuição de Poisson via distribuição uniforme?\n",
    "- ?????"
   ]
  },
  {
   "cell_type": "code",
   "execution_count": null,
   "metadata": {
    "collapsed": true
   },
   "outputs": [],
   "source": [
    "print(\"Programa para Gerar Distribuição de Poisson via uma distribuição Uniforme\")"
   ]
  },
  {
   "cell_type": "markdown",
   "metadata": {},
   "source": [
    "Como obter um distribuição contínua via uma distribuição uniforme?\n",
    "- Distribuição Gaussiana (Via algoritmo de Box-Muller)\n"
   ]
  },
  {
   "cell_type": "code",
   "execution_count": null,
   "metadata": {
    "collapsed": true
   },
   "outputs": [],
   "source": [
    "print(\"Programa que gera 500 amostras seguindo Distribuição Gaussiana via uma distribuição Uniforme - Algoritmo de Box=Muller\")\n",
    "n = 50000\n",
    "U1 = runif(n, min = 0, max = 1)\n",
    "U2 = runif(n, min = 0, max = 1)\n",
    "Z1 = sqrt(-2 * log(U1)) *  cos(2 *  pi *  U2)\n",
    "Z2 = sqrt(-2 * log(U1)) * sin(2 *  pi *  U2)\n",
    "hist(Z1, col = \"wheat\", label = T)\n",
    "summary(Z1)\n",
    "summary(Z2)\n",
    "var(Z1)\n",
    "var(Z2)"
   ]
  },
  {
   "cell_type": "markdown",
   "metadata": {},
   "source": [
    "# Distribuições Discretas Importantes\n",
    "\n",
    "R já possui as distribuições mais importantes;\n",
    "- Binomial:\n",
    "    - dbinom(x, n, p, opções)\n",
    "    - pbinom(q, n, p, opções)\n",
    "    - qbinom(prob, n, p, opções)\n",
    "    - rbinom(num_amostras, n, p)\n",
    "        - x: vetor contendo o número total de sucessos em n ensaios de Bernoulli.\n",
    "        - p: probabilidade de sucesso.\n",
    "        - q: vetor contendo os quantis em n ensaios de Bernoulli.\n",
    "        - prob: vetor contendo as probabilidades em n ensaios de Bernoulli.\n",
    "        - num_amostras: número de observações.\n",
    "        - n: número de ensaios de Bernoulli.\n",
    "- Geométrica\n",
    "    - dgeom(x, prob, opções)\n",
    "    - pgeom(q, prob, opções)\n",
    "    - qgeom(p, prob, opções)\n",
    "    - rgeom(n, prob)\n",
    "        - x: vetor contendo o número de falhas ocorridas em uma sequência de Bernoulli antes do sucesso.\n",
    "        - prob: probabilidade de sucesso em cada tentativa.\n",
    "        - q: vetor contendo os quantis\n",
    "        - p: vetor contendo as probabilidades\n",
    "        - n: número de observações.\n",
    "- Hipergeométrica\n",
    "    - dhyper(x, m, n, k, opções)\n",
    "    - phyper(q, m, n, k, opções)\n",
    "    - qhyper(p, m, n, k, opções)\n",
    "    - rhyper(nn, m, n, k)\n",
    "        - x: vetor contendo o número de elementos com a característica A extraídos sem reposição de uma urna que contém elementos com aracterísticas A e B.\n",
    "        - cm: número de elementos com a característica A.\n",
    "        - n: número de elementos com a característica B.\n",
    "        - k: número de elementos extraídos da urna.\n",
    "        - q: vetor contendo os quantis.\n",
    "        - p: vetor contendo as probabilidades.\n",
    "        - nn: número de observações.\n",
    "- Poisson\n",
    "    - dpois(x, lambda, opções)\n",
    "    - ppois(q, lambda, opções)\n",
    "    - qpois(prob, lambda, opções)\n",
    "    - rpois(obs, lambda)\n",
    "        - x: vetor contendo o número de ocorrências.\n",
    "        - lambda: número médio de eventos ocorrendo no intervalo considerado.\n",
    "        - q: vetor contendo os quantis.\n",
    "        - prob: vetor contendo as probabilidades.\n",
    "        - obs: número de observações."
   ]
  },
  {
   "cell_type": "markdown",
   "metadata": {},
   "source": [
    "Exercício: Distribuição Binomial\n",
    "- Escreva uma programa que plote as fpds das seguintes distribuições Binomiais: \n",
    "    - binomial(10,0.3), binomial(10,0.6)\n",
    "    - binomial(20,0.3), binomial(20,0.6)"
   ]
  },
  {
   "cell_type": "code",
   "execution_count": null,
   "metadata": {
    "collapsed": true
   },
   "outputs": [],
   "source": [
    "print(\"Escreva o Programa com distribuição Binomial\")\n"
   ]
  },
  {
   "cell_type": "markdown",
   "metadata": {},
   "source": [
    "Exercício: Distribuição Binomial\n",
    "- Escreva um programa que gere 10.000 amostras segundo uma distribuição binomial(m,p).\n",
    "- Obter o seu histograma, média e variância e compare com os valores teóricos."
   ]
  },
  {
   "cell_type": "code",
   "execution_count": null,
   "metadata": {
    "collapsed": true
   },
   "outputs": [],
   "source": [
    "print(\"Escreva o Programa com distribuição Binomial\")"
   ]
  },
  {
   "cell_type": "markdown",
   "metadata": {},
   "source": [
    "Exercício: Distribuição Geométrica\n",
    "- Em construção\n",
    "- ..."
   ]
  },
  {
   "cell_type": "code",
   "execution_count": null,
   "metadata": {
    "collapsed": true
   },
   "outputs": [],
   "source": [
    "print(\"Programa com distribuição Geométrica\")\n",
    "print(\"Em construção ...\")"
   ]
  },
  {
   "cell_type": "markdown",
   "metadata": {},
   "source": [
    "Exercício: Distribuição Hipergeométrica\n",
    "- Em construção\n",
    "- ..."
   ]
  },
  {
   "cell_type": "code",
   "execution_count": null,
   "metadata": {
    "collapsed": true
   },
   "outputs": [],
   "source": [
    "print(\"Programa com distribuição Hipergeométrica\")\n",
    "print(\"Em construção ...\")"
   ]
  },
  {
   "cell_type": "markdown",
   "metadata": {},
   "source": [
    "Exercício: Distribuição Poisson\n",
    "- Escreva um programa que plote as fpds da distribuição de Poisson com lambda= 1, 5 e 10. "
   ]
  },
  {
   "cell_type": "code",
   "execution_count": null,
   "metadata": {
    "collapsed": true
   },
   "outputs": [],
   "source": [
    "print(\"Escreva o Programa aqui\")"
   ]
  },
  {
   "cell_type": "markdown",
   "metadata": {},
   "source": [
    "Exercício: Dsitribuição de Poisson\n",
    "- Escreva um programa que gere 10.000 amostras segundo uma distribuição de poisson(lambda).\n",
    "- Obter o seu histograma, média e variância e compare com os valores teóricos.\n"
   ]
  },
  {
   "cell_type": "code",
   "execution_count": null,
   "metadata": {
    "collapsed": true
   },
   "outputs": [],
   "source": [
    "print(\"Escreva o Programa aqui\")\n"
   ]
  },
  {
   "cell_type": "markdown",
   "metadata": {},
   "source": [
    "# Distribuições Contínuas Importantes\n",
    "\n",
    "R já possui as distribuições mais importantes.\n",
    "- Uniforme:\n",
    "    - dunif(x, min=0, max=1, opções); fornece a probabilidade dado a quantidade/quartil\n",
    "    - punif(q, min=0, max=1, opções); fornece a densidade\n",
    "    - qunif(p, min=0, max=1, opções); fornece a distribuição\n",
    "    - runif(n, min=0, max=1); gera n amostras seguindo uma Distribuição Uniforme, com defaults mínimo igual 0 e máximo\n",
    "        - x: vetor contendo os quantis.\n",
    "        - min: limite inferior da distribuição.\n",
    "        - max: limite superior da distribuição.\n",
    "        - q: vetor contendo os quantis.\n",
    "        - p: vetor contendo as probabilidades.\n",
    "        - n: número de observações.\n",
    "- Exponencial\n",
    "    - dexp(x, rate=1, opções)\n",
    "    - pexp(q, rate=1, opções)\n",
    "    - qexp(p, rate=1, opções)\n",
    "    - rexp(n, rate = 1)\n",
    "        - x: vetor contendo os quantis.\n",
    "        - rate: parâmetro da distribuição.\n",
    "        - q: vetor contendo os quantis.\n",
    "        - p: vetor contendo as probabilidades.\n",
    "        - n: número de observações.\n",
    "            \n",
    "- Gaussiana (Normal)\n",
    "    - dnorm(x, mean=0, sd=1, opções)\n",
    "    - pnorm(q, mean=0, sd=1, opções)\n",
    "    - qnorm(p, mean=0, sd=1, opções)\n",
    "    - rnorm(n, mean=0, sd=1)\n",
    "        - x: vetor contendo os quantis.\n",
    "        - mean: média da distribuição.\n",
    "        - sd: desvio padrão da distribuição.\n",
    "        - q: vetor contendo os quantis.\n",
    "        - p: vetor contendo as probabilidades.\n",
    "        - n: número de observações.    \n",
    "- Gama:\n",
    "    - dgamma(x, shape, rate = 1, opções)\n",
    "    - pgamma(q, shape, rate = 1, opções)\n",
    "    - qgamma(p, shape, rate = 1, opções)\n",
    "    - rgamma(n, shape, rate = 1)\n",
    "        - x: vetor contendo os quantis.\n",
    "        - shape: parâmetro da distribuição.\n",
    "        - rate: parâmetro da distribuição.\n",
    "        - q: vetor contendo os quantis.\n",
    "        - p: vetor contendo as probabilidades.\n",
    "        - n: número de observações.\n",
    "        \n",
    "- Qui-quadrado\n",
    "    - dchisq(x, df, ncp=0, opções)\n",
    "    - pchisq(q, df, ncp=0, opções)\n",
    "    - qchisq(p, df, ncp=0, opções)\n",
    "    - rchisq(n, df, ncp=0)\n",
    "        - x: vetor contendo os quantis.\n",
    "        - df: graus de liberdade.\n",
    "        - ncp: parâmetro de não centralidade.\n",
    "        - q: vetor contendo os quantis.\n",
    "        - p: vetor contendo as probabilidades.\n",
    "        - n: número de observações.\n",
    "- Student\n",
    "    - dt(x, df, ncp=0, opções)\n",
    "    - pt(q, df, ncp=0, opções)\n",
    "    - qt(p, df, opções)\n",
    "    - rt(n, df)\n",
    "        - x: vetor contendo os quantis.\n",
    "        - df: graus de liberdade.\n",
    "        - ncp: parâmetro de não centralidade.\n",
    "        - q: vetor contendo os quantis.\n",
    "        - p: vetor contendo as probabilidades.\n",
    "        - n: número de observações.\n",
    "        \n",
    "- F-Snedecor\n",
    "    - df(x, df1, df2, opções)\n",
    "    - pf(q, df1, df2, ncp=0, opções)\n",
    "    - qf(p, df1, df2, opções)\n",
    "    - rf(n, df1, df2)\n",
    "        - x: vetor contendo os quantis.\n",
    "        - df1: graus de liberdade do numerador.\n",
    "        - df2: graus de liberdade do denominador.\n",
    "        - q: vetor contendo os quantis.\n",
    "        - ncp: parâmetro de não centralidade.\n",
    "        - p: vetor contendo as probabilidades.\n",
    "        - n: número de observações.\n",
    "\n"
   ]
  },
  {
   "cell_type": "markdown",
   "metadata": {},
   "source": [
    "# Exercícios com Distribuição Exponencial"
   ]
  },
  {
   "cell_type": "markdown",
   "metadata": {},
   "source": [
    "Exponencial\n",
    "\n",
    "    dexp(x, rate=1, opções)\n",
    "    pexp(q, rate=1, opções)\n",
    "    qexp(p, rate=1, opções)\n",
    "    rexp(n, rate = 1)\n",
    "        x: vetor contendo os quantis.\n",
    "        rate: parâmetro da distribuição.\n",
    "        q: vetor contendo os quantis.\n",
    "        p: vetor contendo as probabilidades.\n",
    "        n: número de observações.\n",
    "\n"
   ]
  },
  {
   "cell_type": "code",
   "execution_count": null,
   "metadata": {
    "collapsed": true
   },
   "outputs": [],
   "source": [
    "a1 <- rexp(10000,rate=.5)\n",
    "mean(a1)\n",
    "var(a1)\n",
    "sd(a1)\n",
    "hist(a1)\n"
   ]
  },
  {
   "cell_type": "code",
   "execution_count": null,
   "metadata": {
    "collapsed": true
   },
   "outputs": [],
   "source": [
    "a2 <- rexp(10000,rate=.9)\n",
    "mean(a2)\n",
    "var(a2)\n",
    "sd(a2)\n",
    "hist(a2)"
   ]
  },
  {
   "cell_type": "markdown",
   "metadata": {},
   "source": [
    "Exercício - Plote o gráfico teórico da distribuição exponencial de rate = .9. Sobreponha esse gráfico ao histograma do programa anterior.\n"
   ]
  },
  {
   "cell_type": "code",
   "execution_count": null,
   "metadata": {
    "collapsed": true
   },
   "outputs": [],
   "source": [
    "print(\"Escreva o programa aqui.\")"
   ]
  },
  {
   "cell_type": "markdown",
   "metadata": {},
   "source": [
    "Exercício - Reprodução o gráfico da Figura 4.5 do livro texto."
   ]
  },
  {
   "cell_type": "code",
   "execution_count": null,
   "metadata": {
    "collapsed": true
   },
   "outputs": [],
   "source": [
    "print(\"Escreva o programa aqui.\")"
   ]
  },
  {
   "cell_type": "markdown",
   "metadata": {},
   "source": [
    "# Exercícios com Distribuição Gaussiana - Normal"
   ]
  },
  {
   "cell_type": "markdown",
   "metadata": {},
   "source": [
    "Exercício: Soma de distribuições uniformes\n",
    "- Seja a V.A. Y, dada por Y = X1, X2, ..., Xn. Onde Xi é uma variável aleatória uniforme entre 0 e 1.\n",
    "- Gere 10.000 amostras de Y; calcule E[Y], Var[Y] e mediana e apresente seu histograma, para:\n",
    "    - n=1; n=2, n=3, n=4, ..., n = 12.\n",
    "- O que ocorre com f(Y) a madida que n aumenta?\n",
    "- Como se pode gerar uma V.A. Z~N(0,1)?"
   ]
  },
  {
   "cell_type": "code",
   "execution_count": null,
   "metadata": {
    "collapsed": true
   },
   "outputs": [],
   "source": [
    "print(\"Escreva o programa aqui\")\n",
    "\n",
    "x1<- runif(1000000)\n",
    "x2<- runif(1000000)\n",
    "x3<- runif(1000000)\n",
    "x4<- runif(1000000)\n",
    "x5<- runif(1000000)\n",
    "x6<- runif(1000000)\n",
    "x7<- runif(1000000)\n",
    "x8<- runif(1000000)\n",
    "\n",
    "Y <- x1 + x2 + x3 + x4 + x5 + x6 +x7 +x8\n",
    "\n",
    "mean(Y)\n",
    "var(Y)\n",
    "hist(Y)"
   ]
  },
  {
   "cell_type": "code",
   "execution_count": null,
   "metadata": {
    "collapsed": true
   },
   "outputs": [],
   "source": [
    "print(\"Escreva o programa aqui\")\n",
    "\n",
    "Y <- numeric(1000000)\n",
    "\n",
    "for(i in 1:12)\n",
    "{\n",
    " Y <- Y + runif(1000000)    \n",
    "}\n",
    " print(\"Valores de Y2\")\n",
    "mean(Y)\n",
    "var(Y)\n",
    "summary(Y)\n",
    "hist(Y)"
   ]
  },
  {
   "cell_type": "markdown",
   "metadata": {},
   "source": [
    "Exercício: Distribuição de Gaussiana\n",
    "- Plot o gráfico de f(x), para X~N(0,1)"
   ]
  },
  {
   "cell_type": "code",
   "execution_count": null,
   "metadata": {
    "collapsed": true
   },
   "outputs": [],
   "source": [
    "print(\"Programa que plota uma função densidade de probabilidade gaussiana, com média 0 e variância 1\")\n",
    "x <- seq(-6, 6, by=0.1)\n",
    "y <- dnorm(x)\n",
    "plot(x, y, type=\"l\")"
   ]
  },
  {
   "cell_type": "markdown",
   "metadata": {},
   "source": [
    "Exercício 04: Distribuição de Gaussiana\n",
    "- Generalize o programa anterior para X~N(mi,sigma)\n",
    "    - teste com vários valores de mi e sigma. Sendo sigma > 0."
   ]
  },
  {
   "cell_type": "code",
   "execution_count": null,
   "metadata": {
    "collapsed": true
   },
   "outputs": [],
   "source": [
    "print(\"Programa que plota uma função densidade de probabilidade gaussiana, com média mi e variância sigma\")"
   ]
  },
  {
   "cell_type": "markdown",
   "metadata": {},
   "source": [
    "Exercício: Distribuição de Gaussiana\n",
    "- Pode-se plotar uma f(x) gaussiana via a sua fórmula."
   ]
  },
  {
   "cell_type": "code",
   "execution_count": null,
   "metadata": {
    "collapsed": true
   },
   "outputs": [],
   "source": [
    "print(\"Programa que plota uma função densidade de probabilidade gaussiana, com média mi e variância sigma\")\n",
    "sigma <- 1\n",
    "mi <- 0\n",
    "X <- seq(-6, 6, by=0.1)\n",
    "fx = (1/(sigma*sqrt(2*pi)) ) * exp(- (X-mi)*(X-mi)/(2*sigma*sigma))\n",
    "plot(X, fx, type=\"l\")"
   ]
  },
  {
   "cell_type": "code",
   "execution_count": null,
   "metadata": {
    "collapsed": true
   },
   "outputs": [],
   "source": [
    "print(\"Programa que plota o histograma e a curva da função densidade gaussiana\") \n",
    "x=rnorm(100)\n",
    "hist(x,probability=TRUE,col=\"lightblue\",main=\"Normal(0,1)\",ylab=\"Densidade\", ylim=c(0,0.5),xlim=c(-3,3))\n",
    "curve(dnorm(x),add=T)"
   ]
  },
  {
   "cell_type": "markdown",
   "metadata": {},
   "source": [
    "Exercício: Distribuição de Gaussiana\n",
    "- Teorema: A soma de V.A. gaussianas independentes também é uma distribuição gaussiana.\n",
    "- Complete o programa a baixo, para:\n",
    "    - soma de n variáveis (n=3,4,5).\n",
    "    - calcule média e variância da distribuição resultante. Compare com os valores teóricos."
   ]
  },
  {
   "cell_type": "code",
   "execution_count": null,
   "metadata": {
    "collapsed": true
   },
   "outputs": [],
   "source": [
    "print(\"Generalize o programa para some de n VA, com médias e variâncias genéricas\")\n",
    "n = 50000\n",
    "X1 = rnorm(n,0,1)\n",
    "X2 = rnorm(n,0,4)\n",
    "Z = X1 + X2\n",
    "hist(Z, col = \"wheat\", label = F)"
   ]
  },
  {
   "cell_type": "markdown",
   "metadata": {},
   "source": [
    "Exercício: Distribuição de Gaussiana\n",
    "- Dado uma VA X~N(0,1), obter média, variância e histograma para a Y=a.X+b, quando:\n",
    "    - (a=2, b=3), (a=2, b=-3), (a=-2, b=3),(a=-2, b=3).\n",
    "- Compare com os valores teóricos."
   ]
  },
  {
   "cell_type": "code",
   "execution_count": null,
   "metadata": {
    "collapsed": true
   },
   "outputs": [],
   "source": [
    "print(\"Programa: distribuição gaussiana genérica\")\n",
    "n = 50000\n",
    "a = 2\n",
    "b = 3\n",
    "X = rnorm(n,0,1)\n",
    "Y = a * X + b\n",
    "summary(X)\n",
    "summary(Y)\n",
    "str(var(Y))\n",
    "hist(Y, col = \"wheat\", label = F)"
   ]
  },
  {
   "cell_type": "code",
   "execution_count": null,
   "metadata": {
    "collapsed": true
   },
   "outputs": [],
   "source": [
    "Exercício: Distribuição de Gaussiana\n",
    "- Função distribuição gaussiana F(x).\n",
    "- Utilizar pnorm(vetorX) ou pnorm(valorX)\n"
   ]
  },
  {
   "cell_type": "code",
   "execution_count": null,
   "metadata": {
    "collapsed": true
   },
   "outputs": [],
   "source": [
    "print(\"programa que plota uma distribuição gaussiana - Fx - Curva S\")\n",
    "x <- seq(-6, 6, by=0.1)\n",
    "y <- pnorm(x) # média 0 e variância 1\n",
    "F0 = pnorm(0)  # F(0)\n",
    "F1n = pnorm(-1) # F(-1)\n",
    "F2n = pnorm(-2) # F(-2)\n",
    "F2 = pnorm(2) # F(2)\n",
    "F0\n",
    "F1n\n",
    "print(\"Corresponde à área entre +- 2*sigma\")\n",
    "F2-F2n \n",
    "\n",
    "plot(x, y, type=\"l\")"
   ]
  },
  {
   "cell_type": "markdown",
   "metadata": {},
   "source": [
    "Exercício: Distribuição de Gaussiana\n",
    "- qnorm(.) é a inversa de pnorm(.).\n",
    "    - q vem de quartil; para gerar o 1o quartil de uma normal de média 5 e desvio-padrão 3, basta fazer qnorm(0.25, mean = 5, sd = 3) (o valor é 2.976531). \n",
    "    - quando não se define os outros 2 e 3, assume-se média 0 e variância 1.\n",
    "    - Analogamente, qnorm() também pode receber um vetor de probabilidades, assim, a sequência abaixo é a inversa da curva-S:"
   ]
  },
  {
   "cell_type": "code",
   "execution_count": null,
   "metadata": {
    "collapsed": true
   },
   "outputs": [],
   "source": [
    "print(\"Programa exemplificando o uso da função qnorm(.) \")  \n",
    "x <- seq(0.001, 0.999, length=1000)\n",
    "y <- qnorm(x)\n",
    "quartis = qnorm(c(0,0.25,0.5, 0.75, 1.0))\n",
    "str(quartis)\n",
    "plot(x, y, type=\"l\")"
   ]
  },
  {
   "cell_type": "markdown",
   "metadata": {},
   "source": [
    "# Exercícios com Distribuição  Gama\n",
    "           \n",
    "- Gama:\n",
    "    - dgamma(x, shape, rate = 1, opções)\n",
    "    - pgamma(q, shape, rate = 1, opções)\n",
    "    - qgamma(p, shape, rate = 1, opções)\n",
    "    - rgamma(n, shape, rate = 1)\n",
    "        - x: vetor contendo os quantis.\n",
    "        - shape: parâmetro da distribuição.\n",
    "        - rate: parâmetro da distribuição.\n",
    "        - q: vetor contendo os quantis.\n",
    "        - p: vetor contendo as probabilidades.\n",
    "        - n: número de observações."
   ]
  },
  {
   "cell_type": "code",
   "execution_count": 2,
   "metadata": {},
   "outputs": [
    {
     "name": "stdout",
     "output_type": "stream",
     "text": [
      "[1] \"Função Gama - Generalização da função fatorial\"\n"
     ]
    },
    {
     "data": {
      "text/html": [
       "3.32335097044784"
      ],
      "text/latex": [
       "3.32335097044784"
      ],
      "text/markdown": [
       "3.32335097044784"
      ],
      "text/plain": [
       "[1] 3.323351"
      ]
     },
     "metadata": {},
     "output_type": "display_data"
    }
   ],
   "source": [
    "print(\"Função Gama - Generalização da função fatorial\")\n",
    "fGama = gamma(3.5)\n",
    "fGama"
   ]
  },
  {
   "cell_type": "markdown",
   "metadata": {},
   "source": [
    "Exercício: Plote num mesmo gráfico as seguintes fdp da distribuição Gama:\n",
    "- gama(0.5,1)\n",
    "- gama(2,1)\n",
    "- gama(3,1)\n",
    "- gama(4,1)\n",
    "- gama(5,1)"
   ]
  },
  {
   "cell_type": "code",
   "execution_count": null,
   "metadata": {
    "collapsed": true
   },
   "outputs": [],
   "source": [
    "print(\"Escreva o programa aqui\")\n"
   ]
  },
  {
   "cell_type": "markdown",
   "metadata": {},
   "source": [
    "Exercício: Plote a pdf da distribiçã gama(50,1) e analise o resultado."
   ]
  },
  {
   "cell_type": "code",
   "execution_count": null,
   "metadata": {
    "collapsed": true
   },
   "outputs": [],
   "source": [
    "print(\"Escreva o programa aqui\")"
   ]
  },
  {
   "cell_type": "markdown",
   "metadata": {},
   "source": [
    "Exercício:\n",
    "- Dada uma distribuição Gama X~Gama(alfa, lambda), se alfa=1, então essa distribuição se torna uma exponencial.\n",
    "- Escreva uma programa que trace 03 distribuições gama com alafa =1 e lambda = [.1,0.2, 0.5, 1] e compare com as respectivas exeponenciais. "
   ]
  },
  {
   "cell_type": "code",
   "execution_count": null,
   "metadata": {
    "collapsed": true
   },
   "outputs": [],
   "source": [
    "print(\"Escreva o programa aqui\")"
   ]
  },
  {
   "cell_type": "markdown",
   "metadata": {},
   "source": [
    "Exercício: \n",
    "- Segundo a teoria, a soma de n VAs independentes seguindo distribuição Gama, também é um distribuição gama.\n",
    "- Para verificar isto, escreva um programa que obtenha uma VA x que é a soma de 3 VAs independentes (10.000 amostras, cada) que seguem a distribuição gama. Plote o gráfico da fdp de X."
   ]
  },
  {
   "cell_type": "code",
   "execution_count": null,
   "metadata": {
    "collapsed": true
   },
   "outputs": [],
   "source": [
    "print(\"Escreva o programa aqui\")"
   ]
  },
  {
   "cell_type": "markdown",
   "metadata": {},
   "source": [
    "# Exercícios com Distribuição  Qui-quadrado"
   ]
  },
  {
   "cell_type": "markdown",
   "metadata": {
    "collapsed": true
   },
   "source": [
    "Exercícios: \n",
    "- Uma VA X seguindo uma distribuição Qui-quadrado de grau n é a soma do quadrado de n VAs independentes que seguem distribuições normais padrões.\n",
    "- Escreva um programa que obtenha uma VA seguindo uma distribuição Qui-quadrado de grau n a partir de n VAs normais padrões independentes.\n",
    "    - Utilize 10.000 amostras para cara VA.\n",
    "    - plote histograma dessa VA e compare com a correspondente Qui-quadrada.\n",
    "    - obtenha os valores d emédia e variância e compere os valores teóricos.\n",
    "\n"
   ]
  },
  {
   "cell_type": "code",
   "execution_count": null,
   "metadata": {
    "collapsed": true
   },
   "outputs": [],
   "source": [
    "print(\"Escreva o programa aqui\")"
   ]
  },
  {
   "cell_type": "markdown",
   "metadata": {},
   "source": [
    "Exercício:\n",
    "- Uma distribuição Qui-quadrado com n graus de liberdade corresponde a uma distribuição Gama com parâmetros alfa = n/2 e lambda = 1/2.\n",
    "- Escreva um programa que trace num mesmo gráfico as fdps de qui-quadrada de grau n e de uma gama(n/,1/2).\n"
   ]
  },
  {
   "cell_type": "code",
   "execution_count": null,
   "metadata": {
    "collapsed": true
   },
   "outputs": [],
   "source": [
    "print(\"Escreva o programa aqui\")"
   ]
  },
  {
   "cell_type": "markdown",
   "metadata": {},
   "source": [
    "# Exercícios com Distribuição Student"
   ]
  },
  {
   "cell_type": "markdown",
   "metadata": {
    "collapsed": true
   },
   "source": [
    "Exercício:\n",
    "- Escreva um programa que gere k amostras segundo uma distribuição Student de grau n a partir apenas de distribuições normais padrões."
   ]
  },
  {
   "cell_type": "code",
   "execution_count": null,
   "metadata": {
    "collapsed": true
   },
   "outputs": [],
   "source": [
    "print(\"Escreva o programa aqui\")"
   ]
  },
  {
   "cell_type": "code",
   "execution_count": null,
   "metadata": {
    "collapsed": true
   },
   "outputs": [],
   "source": [
    "Exercício:\n",
    "- Escreva um programa que plote num mesmo gráfico as fdps de Student com grau de liberdade 1, 5 e 10. \n",
    "- Compare o resultado com a pdf da distribuição normal padrão."
   ]
  }
 ],
 "metadata": {
  "kernelspec": {
   "display_name": "R",
   "language": "R",
   "name": "ir"
  },
  "language_info": {
   "codemirror_mode": "r",
   "file_extension": ".r",
   "mimetype": "text/x-r-source",
   "name": "R",
   "pygments_lexer": "r",
   "version": "3.2.3"
  }
 },
 "nbformat": 4,
 "nbformat_minor": 2
}
