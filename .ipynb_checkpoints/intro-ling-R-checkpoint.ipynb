{
 "cells": [
  {
   "cell_type": "markdown",
   "metadata": {},
   "source": [
    "# Introdução à Linguagem R\n",
    "\n",
    "## Autor: Luiz Affonso Guedes\n",
    "última atualização: outubro de 2017\n",
    "\n",
    "## Objetivo\n",
    "\n",
    "O objetivo geral deste documeto é apresentar a potencialidade da linguagem R. \n",
    "Os objetivos específicos deste documento são:\n",
    "- Apresentar as principais funcionalidades da linguagem R, como tipos e estruturas de controle.\n",
    "- Apresentar funções básicas de manipulação de dados na linguagem R.\n",
    "- Tipos Vetores, Matrizes e Frames: uso, operações.\n",
    "- Uso e definição de funções em linguagem R.\n",
    "- Apresentar as funcionalidade de gráficos na linguagem R.\n",
    "\n",
    "## Metodologia Utilizada\n",
    "Usaremos uma abordagem interativa e incremental, mesclando braves explicações conceituais com programas em linguagem R.\n",
    "\n",
    "# Sumário\n",
    "- Introdução à linguagem R.\n",
    "- Operadores e tipos de dados básicos\n",
    "- Tipos de dados avançados e suas operações: vetores, matrizes, frames.\n",
    "- Estruturas de controle\n",
    "- Algumas funções úteis em R\n",
    "- Uso e definição de função em R\n",
    "    "
   ]
  },
  {
   "cell_type": "markdown",
   "metadata": {},
   "source": [
    "## 0. Por quê a Linguagem R?\n",
    "\n",
    "- R é uma ótima linguagem para iniciar sua jornada de ciência dos dados porque ela fornece um ambiente projetado desde o início para suportar a ciência dos dados. \n",
    "- R não é apenas uma linguagem de programação, mas também é um ambiente interativo para fazer ciência de dados. Para suportar a interação, R é uma linguagem muito mais flexível do que muitos dos seus pares. \n",
    "- Essa flexibilidade vem com suas desvantagens, mas a grande vantagem é como é fácil evoluir gramáticas personalizadas para partes específicas do processo de ciência dos dados. Essas mini linguagens ajudam você a pensar sobre problemas como cientista de dados, ao mesmo tempo em que oferece suporte à interação fluente entre o cérebro e o computador."
   ]
  },
  {
   "cell_type": "markdown",
   "metadata": {},
   "source": [
    "## 1. Operadores e Tipos Básicos de R\n",
    "\n",
    "Operadores matematicos básicos em R\n",
    "- Addition: +\n",
    "- Subtraction: -\n",
    "- Multiplication: *\n",
    "- Division: /\n",
    "- Exponentiation: ^\n",
    "- Modulo: %%\n",
    "\n"
   ]
  },
  {
   "cell_type": "code",
   "execution_count": 5,
   "metadata": {},
   "outputs": [
    {
     "data": {
      "text/html": [
       "10"
      ],
      "text/latex": [
       "10"
      ],
      "text/markdown": [
       "10"
      ],
      "text/plain": [
       "[1] 10"
      ]
     },
     "metadata": {},
     "output_type": "display_data"
    },
    {
     "data": {
      "text/html": [
       "0"
      ],
      "text/latex": [
       "0"
      ],
      "text/markdown": [
       "0"
      ],
      "text/plain": [
       "[1] 0"
      ]
     },
     "metadata": {},
     "output_type": "display_data"
    },
    {
     "data": {
      "text/html": [
       "15"
      ],
      "text/latex": [
       "15"
      ],
      "text/markdown": [
       "15"
      ],
      "text/plain": [
       "[1] 15"
      ]
     },
     "metadata": {},
     "output_type": "display_data"
    },
    {
     "data": {
      "text/html": [
       "5"
      ],
      "text/latex": [
       "5"
      ],
      "text/markdown": [
       "5"
      ],
      "text/plain": [
       "[1] 5"
      ]
     },
     "metadata": {},
     "output_type": "display_data"
    },
    {
     "data": {
      "text/html": [
       "25"
      ],
      "text/latex": [
       "25"
      ],
      "text/markdown": [
       "25"
      ],
      "text/plain": [
       "[1] 25"
      ]
     },
     "metadata": {},
     "output_type": "display_data"
    },
    {
     "data": {
      "text/html": [
       "1"
      ],
      "text/latex": [
       "1"
      ],
      "text/markdown": [
       "1"
      ],
      "text/plain": [
       "[1] 1"
      ]
     },
     "metadata": {},
     "output_type": "display_data"
    }
   ],
   "source": [
    "# Aqui é um comentário em R\n",
    "\n",
    "# Exemplo de uso de operadores em R\n",
    "# Adição\n",
    "5 + 5 \n",
    "\n",
    "# Subtração\n",
    "5 - 5 \n",
    "\n",
    "# Multiplicação\n",
    "3 * 5\n",
    "\n",
    " # Divisão\n",
    "(5 + 5) / 2 \n",
    "\n",
    "# Exponenciação\n",
    "5 ^ 2\n",
    "\n",
    "# Módulo\n",
    "10%%3"
   ]
  },
  {
   "cell_type": "markdown",
   "metadata": {},
   "source": [
    "Variáveis e atribuição de valor a variável\n",
    "\n",
    "a <- 2\n",
    "\n",
    "b = 3\n",
    "\n",
    "Não esquecer que R é case sensitive"
   ]
  },
  {
   "cell_type": "code",
   "execution_count": null,
   "metadata": {
    "collapsed": true
   },
   "outputs": [],
   "source": [
    "a <- 2\n",
    "A <- 4\n",
    "b = 3\n",
    "c <- A-a\n",
    "\n",
    "a\n",
    "b\n",
    "A\n",
    "c"
   ]
  },
  {
   "cell_type": "markdown",
   "metadata": {},
   "source": [
    "Alguns tipos básicos de dados em R\n",
    "- Decimais, como 4.5: numerics.\n",
    "- Naturais, como 4 - integers. Integers também são numerics.\n",
    "- Boolean (TRUE or FALSE) - logical.\n",
    "- Texto (ou string).\n"
   ]
  },
  {
   "cell_type": "code",
   "execution_count": 163,
   "metadata": {},
   "outputs": [
    {
     "data": {
      "text/html": [
       "42.5"
      ],
      "text/latex": [
       "42.5"
      ],
      "text/markdown": [
       "42.5"
      ],
      "text/plain": [
       "[1] 42.5"
      ]
     },
     "metadata": {},
     "output_type": "display_data"
    },
    {
     "data": {
      "text/html": [
       "'some text'"
      ],
      "text/latex": [
       "'some text'"
      ],
      "text/markdown": [
       "'some text'"
      ],
      "text/plain": [
       "[1] \"some text\""
      ]
     },
     "metadata": {},
     "output_type": "display_data"
    },
    {
     "data": {
      "text/html": [
       "TRUE"
      ],
      "text/latex": [
       "TRUE"
      ],
      "text/markdown": [
       "TRUE"
      ],
      "text/plain": [
       "[1] TRUE"
      ]
     },
     "metadata": {},
     "output_type": "display_data"
    }
   ],
   "source": [
    "# Aqui é um comentário em R\n",
    "# Exemplo do uso do operador atribuição em R\n",
    "\n",
    "# Change my_numeric to be 42\n",
    "my_numeric <- 42.5\n",
    "\n",
    "# Change my_character to be \"universe\"\n",
    "my_character <- \"some text\"\n",
    "\n",
    "# Change my_logical to be FALSE\n",
    "my_logical <- TRUE\n",
    "\n",
    "# Valors of Variables \n",
    "my_numeric\n",
    "my_character\n",
    "my_logical"
   ]
  },
  {
   "cell_type": "markdown",
   "metadata": {},
   "source": [
    "## 2. Algumas funções úteis\n",
    "\n",
    "Para verificar o tipo da variável em R - Utilizar função class()\n",
    "- class(nome_da-variavel)\n",
    " \n",
    "Para obter help de uma variável\n",
    "- help(nome_da-variavel)\n",
    "- ?nome_da-variavel\n",
    "\n",
    "Para obter informação sobre os argumento de uma função\n",
    "- args(snome_da-variavel)\n",
    "\n",
    "Para obter informação sobre as variáveis ativas no ambiente\n",
    "- ls( )"
   ]
  },
  {
   "cell_type": "code",
   "execution_count": 167,
   "metadata": {},
   "outputs": [
    {
     "data": {
      "text/html": [
       "'numeric'"
      ],
      "text/latex": [
       "'numeric'"
      ],
      "text/markdown": [
       "'numeric'"
      ],
      "text/plain": [
       "[1] \"numeric\""
      ]
     },
     "metadata": {},
     "output_type": "display_data"
    },
    {
     "data": {
      "text/html": [
       "'character'"
      ],
      "text/latex": [
       "'character'"
      ],
      "text/markdown": [
       "'character'"
      ],
      "text/plain": [
       "[1] \"character\""
      ]
     },
     "metadata": {},
     "output_type": "display_data"
    },
    {
     "data": {
      "text/html": [
       "'logical'"
      ],
      "text/latex": [
       "'logical'"
      ],
      "text/markdown": [
       "'logical'"
      ],
      "text/plain": [
       "[1] \"logical\""
      ]
     },
     "metadata": {},
     "output_type": "display_data"
    },
    {
     "name": "stdout",
     "output_type": "stream",
     "text": [
      "[1] \"Função args()\"\n"
     ]
    },
    {
     "data": {
      "text/html": [
       "<pre class=language-r><code>function (name, pos = -1L, envir = as.environment(pos), all.names = FALSE, \n",
       "<span style=white-space:pre-wrap>    pattern, sorted = TRUE) </span>\n",
       "NULL</code></pre>"
      ],
      "text/latex": [
       "\\begin{minted}{r}\n",
       "function (name, pos = -1L, envir = as.environment(pos), all.names = FALSE, \n",
       "    pattern, sorted = TRUE) \n",
       "NULL\n",
       "\\end{minted}"
      ],
      "text/markdown": [
       "```r\n",
       "function (name, pos = -1L, envir = as.environment(pos), all.names = FALSE, \n",
       "    pattern, sorted = TRUE) \n",
       "NULL\n",
       "```"
      ],
      "text/plain": [
       "function (name, pos = -1L, envir = as.environment(pos), all.names = FALSE, \n",
       "    pattern, sorted = TRUE) \n",
       "NULL"
      ]
     },
     "metadata": {},
     "output_type": "display_data"
    },
    {
     "name": "stdout",
     "output_type": "stream",
     "text": [
      "[1] \"Função ls()\"\n"
     ]
    },
    {
     "data": {
      "text/html": [
       "<ol class=list-inline>\n",
       "\t<li>'a'</li>\n",
       "\t<li>'A'</li>\n",
       "\t<li>'A_vector'</li>\n",
       "\t<li>'all_wars_matrix'</li>\n",
       "\t<li>'b'</li>\n",
       "\t<li>'B_vector'</li>\n",
       "\t<li>'boolean_vector'</li>\n",
       "\t<li>'box_office'</li>\n",
       "\t<li>'box_office2'</li>\n",
       "\t<li>'c'</li>\n",
       "\t<li>'character_vector'</li>\n",
       "\t<li>'days_vector'</li>\n",
       "\t<li>'diferenca_vector'</li>\n",
       "\t<li>'empire_strikes'</li>\n",
       "\t<li>'facebook'</li>\n",
       "\t<li>'idadePais'</li>\n",
       "\t<li>'last'</li>\n",
       "\t<li>'linkedin'</li>\n",
       "\t<li>'matriz1'</li>\n",
       "\t<li>'matriz2'</li>\n",
       "\t<li>'matriz3'</li>\n",
       "\t<li>'matrizX'</li>\n",
       "\t<li>'my_character'</li>\n",
       "\t<li>'my_logical'</li>\n",
       "\t<li>'my_numeric'</li>\n",
       "\t<li>'new_hope'</li>\n",
       "\t<li>'non_us_all'</li>\n",
       "\t<li>'non_us_some'</li>\n",
       "\t<li>'numeric_vector'</li>\n",
       "\t<li>'pais'</li>\n",
       "\t<li>'poker_vector'</li>\n",
       "\t<li>'region'</li>\n",
       "\t<li>'return_jedi'</li>\n",
       "\t<li>'roulette_vector'</li>\n",
       "\t<li>'soma'</li>\n",
       "\t<li>'some_vector'</li>\n",
       "\t<li>'star_wars_matrix'</li>\n",
       "\t<li>'star_wars_matrix2'</li>\n",
       "\t<li>'teste'</li>\n",
       "\t<li>'texto'</li>\n",
       "\t<li>'ticket_prices_mat'</li>\n",
       "\t<li>'ticket_prices_matrix'</li>\n",
       "\t<li>'titles'</li>\n",
       "\t<li>'total_daily'</li>\n",
       "\t<li>'total_vector'</li>\n",
       "\t<li>'us_visitors'</li>\n",
       "\t<li>'vetor1'</li>\n",
       "\t<li>'vetor2'</li>\n",
       "\t<li>'vetor3'</li>\n",
       "\t<li>'VetorA'</li>\n",
       "\t<li>'VetorB'</li>\n",
       "\t<li>'VetorC'</li>\n",
       "\t<li>'VetorD'</li>\n",
       "\t<li>'vetorX'</li>\n",
       "\t<li>'views'</li>\n",
       "\t<li>'visitors'</li>\n",
       "\t<li>'worldwide_vector'</li>\n",
       "</ol>\n"
      ],
      "text/latex": [
       "\\begin{enumerate*}\n",
       "\\item 'a'\n",
       "\\item 'A'\n",
       "\\item 'A\\_vector'\n",
       "\\item 'all\\_wars\\_matrix'\n",
       "\\item 'b'\n",
       "\\item 'B\\_vector'\n",
       "\\item 'boolean\\_vector'\n",
       "\\item 'box\\_office'\n",
       "\\item 'box\\_office2'\n",
       "\\item 'c'\n",
       "\\item 'character\\_vector'\n",
       "\\item 'days\\_vector'\n",
       "\\item 'diferenca\\_vector'\n",
       "\\item 'empire\\_strikes'\n",
       "\\item 'facebook'\n",
       "\\item 'idadePais'\n",
       "\\item 'last'\n",
       "\\item 'linkedin'\n",
       "\\item 'matriz1'\n",
       "\\item 'matriz2'\n",
       "\\item 'matriz3'\n",
       "\\item 'matrizX'\n",
       "\\item 'my\\_character'\n",
       "\\item 'my\\_logical'\n",
       "\\item 'my\\_numeric'\n",
       "\\item 'new\\_hope'\n",
       "\\item 'non\\_us\\_all'\n",
       "\\item 'non\\_us\\_some'\n",
       "\\item 'numeric\\_vector'\n",
       "\\item 'pais'\n",
       "\\item 'poker\\_vector'\n",
       "\\item 'region'\n",
       "\\item 'return\\_jedi'\n",
       "\\item 'roulette\\_vector'\n",
       "\\item 'soma'\n",
       "\\item 'some\\_vector'\n",
       "\\item 'star\\_wars\\_matrix'\n",
       "\\item 'star\\_wars\\_matrix2'\n",
       "\\item 'teste'\n",
       "\\item 'texto'\n",
       "\\item 'ticket\\_prices\\_mat'\n",
       "\\item 'ticket\\_prices\\_matrix'\n",
       "\\item 'titles'\n",
       "\\item 'total\\_daily'\n",
       "\\item 'total\\_vector'\n",
       "\\item 'us\\_visitors'\n",
       "\\item 'vetor1'\n",
       "\\item 'vetor2'\n",
       "\\item 'vetor3'\n",
       "\\item 'VetorA'\n",
       "\\item 'VetorB'\n",
       "\\item 'VetorC'\n",
       "\\item 'VetorD'\n",
       "\\item 'vetorX'\n",
       "\\item 'views'\n",
       "\\item 'visitors'\n",
       "\\item 'worldwide\\_vector'\n",
       "\\end{enumerate*}\n"
      ],
      "text/markdown": [
       "1. 'a'\n",
       "2. 'A'\n",
       "3. 'A_vector'\n",
       "4. 'all_wars_matrix'\n",
       "5. 'b'\n",
       "6. 'B_vector'\n",
       "7. 'boolean_vector'\n",
       "8. 'box_office'\n",
       "9. 'box_office2'\n",
       "10. 'c'\n",
       "11. 'character_vector'\n",
       "12. 'days_vector'\n",
       "13. 'diferenca_vector'\n",
       "14. 'empire_strikes'\n",
       "15. 'facebook'\n",
       "16. 'idadePais'\n",
       "17. 'last'\n",
       "18. 'linkedin'\n",
       "19. 'matriz1'\n",
       "20. 'matriz2'\n",
       "21. 'matriz3'\n",
       "22. 'matrizX'\n",
       "23. 'my_character'\n",
       "24. 'my_logical'\n",
       "25. 'my_numeric'\n",
       "26. 'new_hope'\n",
       "27. 'non_us_all'\n",
       "28. 'non_us_some'\n",
       "29. 'numeric_vector'\n",
       "30. 'pais'\n",
       "31. 'poker_vector'\n",
       "32. 'region'\n",
       "33. 'return_jedi'\n",
       "34. 'roulette_vector'\n",
       "35. 'soma'\n",
       "36. 'some_vector'\n",
       "37. 'star_wars_matrix'\n",
       "38. 'star_wars_matrix2'\n",
       "39. 'teste'\n",
       "40. 'texto'\n",
       "41. 'ticket_prices_mat'\n",
       "42. 'ticket_prices_matrix'\n",
       "43. 'titles'\n",
       "44. 'total_daily'\n",
       "45. 'total_vector'\n",
       "46. 'us_visitors'\n",
       "47. 'vetor1'\n",
       "48. 'vetor2'\n",
       "49. 'vetor3'\n",
       "50. 'VetorA'\n",
       "51. 'VetorB'\n",
       "52. 'VetorC'\n",
       "53. 'VetorD'\n",
       "54. 'vetorX'\n",
       "55. 'views'\n",
       "56. 'visitors'\n",
       "57. 'worldwide_vector'\n",
       "\n",
       "\n"
      ],
      "text/plain": [
       " [1] \"a\"                    \"A\"                    \"A_vector\"            \n",
       " [4] \"all_wars_matrix\"      \"b\"                    \"B_vector\"            \n",
       " [7] \"boolean_vector\"       \"box_office\"           \"box_office2\"         \n",
       "[10] \"c\"                    \"character_vector\"     \"days_vector\"         \n",
       "[13] \"diferenca_vector\"     \"empire_strikes\"       \"facebook\"            \n",
       "[16] \"idadePais\"            \"last\"                 \"linkedin\"            \n",
       "[19] \"matriz1\"              \"matriz2\"              \"matriz3\"             \n",
       "[22] \"matrizX\"              \"my_character\"         \"my_logical\"          \n",
       "[25] \"my_numeric\"           \"new_hope\"             \"non_us_all\"          \n",
       "[28] \"non_us_some\"          \"numeric_vector\"       \"pais\"                \n",
       "[31] \"poker_vector\"         \"region\"               \"return_jedi\"         \n",
       "[34] \"roulette_vector\"      \"soma\"                 \"some_vector\"         \n",
       "[37] \"star_wars_matrix\"     \"star_wars_matrix2\"    \"teste\"               \n",
       "[40] \"texto\"                \"ticket_prices_mat\"    \"ticket_prices_matrix\"\n",
       "[43] \"titles\"               \"total_daily\"          \"total_vector\"        \n",
       "[46] \"us_visitors\"          \"vetor1\"               \"vetor2\"              \n",
       "[49] \"vetor3\"               \"VetorA\"               \"VetorB\"              \n",
       "[52] \"VetorC\"               \"VetorD\"               \"vetorX\"              \n",
       "[55] \"views\"                \"visitors\"             \"worldwide_vector\"    "
      ]
     },
     "metadata": {},
     "output_type": "display_data"
    }
   ],
   "source": [
    "# Check class of my_numeric\n",
    "class(my_numeric)\n",
    "\n",
    "# Check class of my_character\n",
    "class(my_character)\n",
    "\n",
    "# Check class of my_logical\n",
    "class(my_logical)\n",
    "\n",
    "print(\"Função args()\")\n",
    "texto <- \"Alô, mundo!\"\n",
    "args(ls)\n",
    "print(\"Função ls()\")\n",
    "ls()"
   ]
  },
  {
   "cell_type": "markdown",
   "metadata": {},
   "source": [
    "## 3. Tipo vetor em R\n",
    "\n",
    "Vetores são arrays unidimencionais que \"qualquer\"tipo: numérico, lógico, decimais, etc.\n",
    "\n",
    "- Em R, vetores são criados através da função c( ). \n",
    "- Os elementos dos vetores são separados por vírgulas.\n",
    "\n",
    " c(elemento1, elemento2, ...)\n",
    " "
   ]
  },
  {
   "cell_type": "code",
   "execution_count": null,
   "metadata": {
    "collapsed": true
   },
   "outputs": [],
   "source": [
    "# Aqui é um comentário em R\n",
    "# Exemplos de criação de vetores em R\n",
    "\n",
    "numeric_vector <- c(1, 2, 3)\n",
    "character_vector <- c(\"a\", \"b\", \"c\")\n",
    "boolean_vector <-c(TRUE, FALSE, TRUE)\n",
    "\n",
    "numeric_vector\n",
    "character_vector\n",
    "boolean_vector\n",
    "\n",
    "class(numeric_vector)\n",
    "class(character_vector)\n",
    "class(boolean_vector)"
   ]
  },
  {
   "cell_type": "markdown",
   "metadata": {},
   "source": [
    "- Também é possível utilizar a função names( ) para a criação de vetores:\n",
    "\n",
    "names(nome_do_vetor)\n"
   ]
  },
  {
   "cell_type": "code",
   "execution_count": null,
   "metadata": {
    "collapsed": true
   },
   "outputs": [],
   "source": [
    "# Aqui é um comentário em R\n",
    "# Exemplo do uso da função name() para criar um vetor\n",
    "\n",
    "some_vector <- c(\"John Doe\", \"poker player\")\n",
    "some_vector\n",
    "names(some_vector) <- c(\"Name\", \"Profession\")\n",
    "some_vector"
   ]
  },
  {
   "cell_type": "markdown",
   "metadata": {},
   "source": [
    "- A seguir há mais alguns exemplo de criação de vetores em R\n"
   ]
  },
  {
   "cell_type": "code",
   "execution_count": null,
   "metadata": {
    "collapsed": true
   },
   "outputs": [],
   "source": [
    "# Poker winnings from Monday to Friday\n",
    "poker_vector <- c(140, -50, 20, -120, 240)\n",
    "poker_vector\n",
    "\n",
    "# Roulette winnings from Monday to Friday\n",
    "roulette_vector <- c(-24, -50, 100, -350, 10)\n",
    "roulette_vector\n",
    "\n",
    "# Assign days as names of poker_vector\n",
    "names(poker_vector) <- c(\"Monday\", \"Tuesday\", \"Wednesday\", \"Thursday\", \"Friday\")\n",
    "poker_vector\n",
    "\n",
    "# Assign days as names of roulette_vectors\n",
    "names(roulette_vector) <- c(\"Monday\", \"Tuesday\", \"Wednesday\", \"Thursday\", \"Friday\")\n",
    "roulette_vector\n",
    "\n",
    "# Assign new days as names of roulette_vectors\n",
    "names(roulette_vector) <- c(\"Segunda\", \"Terça\", \"Quarta\", \"Quinta\", \"Sexta\")\n",
    "roulette_vector\n",
    "\n",
    "# Assign days as names of roulette_vectors\n",
    "names(roulette_vector) <- c(\"Monday\", \"Tuesday\", \"Wednesday\", \"Thursday\", \"Friday\")\n",
    "roulette_vector"
   ]
  },
  {
   "cell_type": "markdown",
   "metadata": {},
   "source": [
    "### Exercício:\n",
    "- Crie um vetor denominado de pais com os nomes dos seus pais.\n",
    "- Crie um vetor denominado de idadePais, com a idade do seus pais.\n",
    "- Nomear os índices dos vetores pais e idadePais para \"Pai\" e  \"Mãe\".\n"
   ]
  },
  {
   "cell_type": "code",
   "execution_count": null,
   "metadata": {
    "collapsed": true
   },
   "outputs": [],
   "source": [
    "pais <- c(----, ----\")\n",
    "idadePais <- c(--, --)\n",
    "pais\n",
    "idadePais\n",
    "names(---) <- c(---, ---)\n",
    "names(---) <- c(\"Pai\", \"Mãe\")\n",
    "pais\n",
    "idadePais"
   ]
  },
  {
   "cell_type": "markdown",
   "metadata": {},
   "source": [
    "### 3.1 Operações com Vetores"
   ]
  },
  {
   "cell_type": "markdown",
   "metadata": {},
   "source": [
    "- Para Soma e Subtração de vetores, utiliza-se os operadores + e -\n",
    "\n",
    "C = A + B\n",
    "\n",
    "D = A - B"
   ]
  },
  {
   "cell_type": "code",
   "execution_count": null,
   "metadata": {
    "collapsed": true
   },
   "outputs": [],
   "source": [
    "print(\"Exemplo de soma e subtração de dois vetores\")\n",
    "A_vector <- c(1, 2, 3)\n",
    "B_vector <- c(4, 5, 6)\n",
    "\n",
    "# Soma de dois vetores é um vetor\n",
    "total_vector <- A_vector + B_vector\n",
    "total_vector\n",
    "\n",
    "# Subtração de dois vetores é um vetor\n",
    "diferenca_vector <- A_vector - B_vector\n",
    "diferenca_vector\n"
   ]
  },
  {
   "cell_type": "code",
   "execution_count": null,
   "metadata": {
    "collapsed": true
   },
   "outputs": [],
   "source": [
    "# Poker and roulette winnings from Monday to Friday:\n",
    "print(\"Outro exemplo de soma de dois vetores\")\n",
    "poker_vector <- c(140, -50, 20, -120, 240)\n",
    "roulette_vector <- c(-24, -50, 100, -350, 10)\n",
    "days_vector <- c(\"Monday\", \"Tuesday\", \"Wednesday\", \"Thursday\", \"Friday\")\n",
    "names(poker_vector) <- days_vector\n",
    "names(roulette_vector) <- days_vector\n",
    "\n",
    "# Assign to total_daily how much you won/lost on each day\n",
    "total_daily <- poker_vector + roulette_vector\n",
    "total_daily"
   ]
  },
  {
   "cell_type": "markdown",
   "metadata": {},
   "source": [
    "- O resultado da Multiplicação ou Divisão de escalar por vetor é um vetor:\n",
    "\n",
    "VetorB = c * VetorA"
   ]
  },
  {
   "cell_type": "code",
   "execution_count": 5,
   "metadata": {},
   "outputs": [
    {
     "data": {
      "text/html": [
       "<ol class=list-inline>\n",
       "\t<li>1</li>\n",
       "\t<li>2</li>\n",
       "\t<li>3</li>\n",
       "\t<li>4</li>\n",
       "</ol>\n"
      ],
      "text/latex": [
       "\\begin{enumerate*}\n",
       "\\item 1\n",
       "\\item 2\n",
       "\\item 3\n",
       "\\item 4\n",
       "\\end{enumerate*}\n"
      ],
      "text/markdown": [
       "1. 1\n",
       "2. 2\n",
       "3. 3\n",
       "4. 4\n",
       "\n",
       "\n"
      ],
      "text/plain": [
       "[1] 1 2 3 4"
      ]
     },
     "metadata": {},
     "output_type": "display_data"
    },
    {
     "data": {
      "text/html": [
       "<ol class=list-inline>\n",
       "\t<li>2</li>\n",
       "\t<li>4</li>\n",
       "\t<li>6</li>\n",
       "\t<li>8</li>\n",
       "</ol>\n"
      ],
      "text/latex": [
       "\\begin{enumerate*}\n",
       "\\item 2\n",
       "\\item 4\n",
       "\\item 6\n",
       "\\item 8\n",
       "\\end{enumerate*}\n"
      ],
      "text/markdown": [
       "1. 2\n",
       "2. 4\n",
       "3. 6\n",
       "4. 8\n",
       "\n",
       "\n"
      ],
      "text/plain": [
       "[1] 2 4 6 8"
      ]
     },
     "metadata": {},
     "output_type": "display_data"
    },
    {
     "data": {
      "text/html": [
       "<ol class=list-inline>\n",
       "\t<li>2</li>\n",
       "\t<li>4</li>\n",
       "\t<li>6</li>\n",
       "\t<li>8</li>\n",
       "</ol>\n"
      ],
      "text/latex": [
       "\\begin{enumerate*}\n",
       "\\item 2\n",
       "\\item 4\n",
       "\\item 6\n",
       "\\item 8\n",
       "\\end{enumerate*}\n"
      ],
      "text/markdown": [
       "1. 2\n",
       "2. 4\n",
       "3. 6\n",
       "4. 8\n",
       "\n",
       "\n"
      ],
      "text/plain": [
       "[1] 2 4 6 8"
      ]
     },
     "metadata": {},
     "output_type": "display_data"
    },
    {
     "data": {
      "text/html": [
       "<ol class=list-inline>\n",
       "\t<li>0.5</li>\n",
       "\t<li>1</li>\n",
       "\t<li>1.5</li>\n",
       "\t<li>2</li>\n",
       "</ol>\n"
      ],
      "text/latex": [
       "\\begin{enumerate*}\n",
       "\\item 0.5\n",
       "\\item 1\n",
       "\\item 1.5\n",
       "\\item 2\n",
       "\\end{enumerate*}\n"
      ],
      "text/markdown": [
       "1. 0.5\n",
       "2. 1\n",
       "3. 1.5\n",
       "4. 2\n",
       "\n",
       "\n"
      ],
      "text/plain": [
       "[1] 0.5 1.0 1.5 2.0"
      ]
     },
     "metadata": {},
     "output_type": "display_data"
    },
    {
     "data": {
      "text/html": [
       "<ol class=list-inline>\n",
       "\t<li>1</li>\n",
       "\t<li>4</li>\n",
       "\t<li>9</li>\n",
       "\t<li>16</li>\n",
       "</ol>\n"
      ],
      "text/latex": [
       "\\begin{enumerate*}\n",
       "\\item 1\n",
       "\\item 4\n",
       "\\item 9\n",
       "\\item 16\n",
       "\\end{enumerate*}\n"
      ],
      "text/markdown": [
       "1. 1\n",
       "2. 4\n",
       "3. 9\n",
       "4. 16\n",
       "\n",
       "\n"
      ],
      "text/plain": [
       "[1]  1  4  9 16"
      ]
     },
     "metadata": {},
     "output_type": "display_data"
    }
   ],
   "source": [
    "VetorA <- c(1,2,3,4)\n",
    "c <- 2\n",
    "VetorB <- c*VetorA\n",
    "VetorC <- VetorA*c\n",
    "VetorD <- VetorA/c\n",
    "VetorE <- VetorA^c   # exemplo de potencição\n",
    "VetorA\n",
    "VetorB\n",
    "VetorC\n",
    "VetorD\n",
    "VetorE"
   ]
  },
  {
   "cell_type": "markdown",
   "metadata": {},
   "source": [
    "### Advertência\n",
    "Em R, o operador * significa a multiplicação elemento a elemento entre dois vetores, retornando um vetor.\n",
    "\n",
    "Então: vetor3 = vetor1 * vetor2; resulta em um vetor3, cujos seus elementos são o produto de elementos dos vetores vetor1 e vetor2.\n"
   ]
  },
  {
   "cell_type": "code",
   "execution_count": null,
   "metadata": {
    "collapsed": true
   },
   "outputs": [],
   "source": [
    "print(\"Escreva um programa para exemplificar isto\")\n",
    "\n",
    "vetor1 <- \n",
    "vetor2 <- \n",
    "vetor3 <- \n",
    "vetor3"
   ]
  },
  {
   "cell_type": "markdown",
   "metadata": {},
   "source": [
    "- Para se obter a soma dos elementos de um vetor, utilize-se a função sum( ):\n",
    "\n",
    "sum(vetorX)"
   ]
  },
  {
   "cell_type": "code",
   "execution_count": null,
   "metadata": {
    "collapsed": true
   },
   "outputs": [],
   "source": [
    "print(\"Exemplo de soma de elementos de um vetor\")\n",
    "soma <- sum(VetorA)\n",
    "str(soma)"
   ]
  },
  {
   "cell_type": "markdown",
   "metadata": {},
   "source": [
    "#### Algumas funções úteis que operam sobre vetores:\n",
    "- length(vetorX) ; obtém a dimensão do vetor\n",
    "- mean(vetorX) ; obtém o valor médio dos valores dos elementos de um vetor\n",
    "- max(vetorX); obtém o valor máximo entre os elementos de um vetor\n",
    "- min(vetorX); obtém o valor mínimo entre os elementos de um vetor\n",
    "- sd(vetorX); obtém o desvio padrão dos valores dos elementos de um vetor\n",
    "- var(vetorX); obtém a variância dos valores dos elementos de um vetor\n",
    "- median(vetorX); obtém a mediana dos valores dos elementos de um vetor"
   ]
  },
  {
   "cell_type": "code",
   "execution_count": null,
   "metadata": {
    "collapsed": true
   },
   "outputs": [],
   "source": [
    "print(\"Programa exemplificando o uso de funções com vetores\")\n",
    "vetorX <- c(1,2,3,2,1)\n",
    "length(vetorX)\n",
    "mean(vetorX)\n",
    "max(vetorX)\n",
    "min(vetorX)\n",
    "sd(vetorX)\n",
    "var(vetorX)\n",
    "median(vetorX)\n"
   ]
  },
  {
   "cell_type": "markdown",
   "metadata": {},
   "source": [
    "### 3.2 Acesso a elementos de um vetor:\n",
    "- Para acessar elementos de um vetor (tuiliza-s eo mesmo procedimento para matrizes e frames) se utiliza [.].\n",
    "- Entre os [.] s idica o elemento ou seguimento.\n",
    "- Para acessar o 3 elementos do vetorX, usa-se vetorx[3].\n",
    "- para acessar do elemento 3 ou elemento 5 do vetorX, usa-se vetorx[3:5]"
   ]
  },
  {
   "cell_type": "code",
   "execution_count": null,
   "metadata": {
    "collapsed": true
   },
   "outputs": [],
   "source": [
    "print(\"Programa para exemplificar como são acessados elementos de um vetor\")\n",
    "vetorX[3]\n",
    "vetorX[c(3)]  # outra possibilidade\n",
    "vetorX[c(3, 5)] # para acesso vários valores do vetor\n",
    "vetorX[3:5]  # para acessar um intervalo no vetor\n"
   ]
  },
  {
   "cell_type": "markdown",
   "metadata": {},
   "source": [
    "### 3.3 Uso de operadores lógicos de comparação com vetores\n",
    "\n",
    "    < for less than\n",
    "    > for greater than\n",
    "    <= for less than or equal to\n",
    "    >= for greater than or equal to\n",
    "    == for equal to each other\n",
    "    != not equal to each other\n",
    "    & AND logical\n",
    "    | OR logical"
   ]
  },
  {
   "cell_type": "code",
   "execution_count": 149,
   "metadata": {},
   "outputs": [
    {
     "data": {
      "text/html": [
       "TRUE"
      ],
      "text/latex": [
       "TRUE"
      ],
      "text/markdown": [
       "TRUE"
      ],
      "text/plain": [
       "[1] TRUE"
      ]
     },
     "metadata": {},
     "output_type": "display_data"
    },
    {
     "data": {
      "text/html": [
       "FALSE"
      ],
      "text/latex": [
       "FALSE"
      ],
      "text/markdown": [
       "FALSE"
      ],
      "text/plain": [
       "[1] FALSE"
      ]
     },
     "metadata": {},
     "output_type": "display_data"
    },
    {
     "data": {
      "text/html": [
       "FALSE"
      ],
      "text/latex": [
       "FALSE"
      ],
      "text/markdown": [
       "FALSE"
      ],
      "text/plain": [
       "[1] FALSE"
      ]
     },
     "metadata": {},
     "output_type": "display_data"
    },
    {
     "data": {
      "text/html": [
       "TRUE"
      ],
      "text/latex": [
       "TRUE"
      ],
      "text/markdown": [
       "TRUE"
      ],
      "text/plain": [
       "[1] TRUE"
      ]
     },
     "metadata": {},
     "output_type": "display_data"
    },
    {
     "data": {
      "text/html": [
       "<ol class=list-inline>\n",
       "\t<li>FALSE</li>\n",
       "\t<li>FALSE</li>\n",
       "\t<li>TRUE</li>\n",
       "</ol>\n"
      ],
      "text/latex": [
       "\\begin{enumerate*}\n",
       "\\item FALSE\n",
       "\\item FALSE\n",
       "\\item TRUE\n",
       "\\end{enumerate*}\n"
      ],
      "text/markdown": [
       "1. FALSE\n",
       "2. FALSE\n",
       "3. TRUE\n",
       "\n",
       "\n"
      ],
      "text/plain": [
       "[1] FALSE FALSE  TRUE"
      ]
     },
     "metadata": {},
     "output_type": "display_data"
    },
    {
     "data": {
      "text/html": [
       "<ol class=list-inline>\n",
       "\t<li>1</li>\n",
       "\t<li>2</li>\n",
       "\t<li>3</li>\n",
       "\t<li>2</li>\n",
       "\t<li>1</li>\n",
       "</ol>\n"
      ],
      "text/latex": [
       "\\begin{enumerate*}\n",
       "\\item 1\n",
       "\\item 2\n",
       "\\item 3\n",
       "\\item 2\n",
       "\\item 1\n",
       "\\end{enumerate*}\n"
      ],
      "text/markdown": [
       "1. 1\n",
       "2. 2\n",
       "3. 3\n",
       "4. 2\n",
       "5. 1\n",
       "\n",
       "\n"
      ],
      "text/plain": [
       "[1] 1 2 3 2 1"
      ]
     },
     "metadata": {},
     "output_type": "display_data"
    },
    {
     "data": {
      "text/html": [
       "<ol class=list-inline>\n",
       "\t<li>FALSE</li>\n",
       "\t<li>TRUE</li>\n",
       "\t<li>TRUE</li>\n",
       "\t<li>TRUE</li>\n",
       "\t<li>FALSE</li>\n",
       "</ol>\n"
      ],
      "text/latex": [
       "\\begin{enumerate*}\n",
       "\\item FALSE\n",
       "\\item TRUE\n",
       "\\item TRUE\n",
       "\\item TRUE\n",
       "\\item FALSE\n",
       "\\end{enumerate*}\n"
      ],
      "text/markdown": [
       "1. FALSE\n",
       "2. TRUE\n",
       "3. TRUE\n",
       "4. TRUE\n",
       "5. FALSE\n",
       "\n",
       "\n"
      ],
      "text/plain": [
       "[1] FALSE  TRUE  TRUE  TRUE FALSE"
      ]
     },
     "metadata": {},
     "output_type": "display_data"
    },
    {
     "data": {
      "text/html": [
       "<ol class=list-inline>\n",
       "\t<li>2</li>\n",
       "\t<li>3</li>\n",
       "\t<li>2</li>\n",
       "</ol>\n"
      ],
      "text/latex": [
       "\\begin{enumerate*}\n",
       "\\item 2\n",
       "\\item 3\n",
       "\\item 2\n",
       "\\end{enumerate*}\n"
      ],
      "text/markdown": [
       "1. 2\n",
       "2. 3\n",
       "3. 2\n",
       "\n",
       "\n"
      ],
      "text/plain": [
       "[1] 2 3 2"
      ]
     },
     "metadata": {},
     "output_type": "display_data"
    }
   ],
   "source": [
    "7> 3\n",
    "3 != 3\n",
    "TRUE & FALSE\n",
    "TRUE | FALSE\n",
    "c(4, 5, 6) > 5\n",
    "vetorX\n",
    "vetorX>=2\n",
    "vetorX[vetorX>=2]"
   ]
  },
  {
   "cell_type": "code",
   "execution_count": 154,
   "metadata": {},
   "outputs": [
    {
     "data": {
      "text/html": [
       "<ol class=list-inline>\n",
       "\t<li>TRUE</li>\n",
       "\t<li>FALSE</li>\n",
       "\t<li>FALSE</li>\n",
       "\t<li>FALSE</li>\n",
       "\t<li>FALSE</li>\n",
       "\t<li>TRUE</li>\n",
       "\t<li>FALSE</li>\n",
       "</ol>\n"
      ],
      "text/latex": [
       "\\begin{enumerate*}\n",
       "\\item TRUE\n",
       "\\item FALSE\n",
       "\\item FALSE\n",
       "\\item FALSE\n",
       "\\item FALSE\n",
       "\\item TRUE\n",
       "\\item FALSE\n",
       "\\end{enumerate*}\n"
      ],
      "text/markdown": [
       "1. TRUE\n",
       "2. FALSE\n",
       "3. FALSE\n",
       "4. FALSE\n",
       "5. FALSE\n",
       "6. TRUE\n",
       "7. FALSE\n",
       "\n",
       "\n"
      ],
      "text/plain": [
       "[1]  TRUE FALSE FALSE FALSE FALSE  TRUE FALSE"
      ]
     },
     "metadata": {},
     "output_type": "display_data"
    },
    {
     "data": {
      "text/html": [
       "<ol class=list-inline>\n",
       "\t<li>FALSE</li>\n",
       "\t<li>FALSE</li>\n",
       "\t<li>FALSE</li>\n",
       "\t<li>TRUE</li>\n",
       "\t<li>TRUE</li>\n",
       "\t<li>FALSE</li>\n",
       "\t<li>FALSE</li>\n",
       "</ol>\n"
      ],
      "text/latex": [
       "\\begin{enumerate*}\n",
       "\\item FALSE\n",
       "\\item FALSE\n",
       "\\item FALSE\n",
       "\\item TRUE\n",
       "\\item TRUE\n",
       "\\item FALSE\n",
       "\\item FALSE\n",
       "\\end{enumerate*}\n"
      ],
      "text/markdown": [
       "1. FALSE\n",
       "2. FALSE\n",
       "3. FALSE\n",
       "4. TRUE\n",
       "5. TRUE\n",
       "6. FALSE\n",
       "7. FALSE\n",
       "\n",
       "\n"
      ],
      "text/plain": [
       "[1] FALSE FALSE FALSE  TRUE  TRUE FALSE FALSE"
      ]
     },
     "metadata": {},
     "output_type": "display_data"
    },
    {
     "data": {
      "text/html": [
       "<ol class=list-inline>\n",
       "\t<li>FALSE</li>\n",
       "\t<li>TRUE</li>\n",
       "\t<li>TRUE</li>\n",
       "\t<li>FALSE</li>\n",
       "\t<li>FALSE</li>\n",
       "\t<li>TRUE</li>\n",
       "\t<li>FALSE</li>\n",
       "</ol>\n"
      ],
      "text/latex": [
       "\\begin{enumerate*}\n",
       "\\item FALSE\n",
       "\\item TRUE\n",
       "\\item TRUE\n",
       "\\item FALSE\n",
       "\\item FALSE\n",
       "\\item TRUE\n",
       "\\item FALSE\n",
       "\\end{enumerate*}\n"
      ],
      "text/markdown": [
       "1. FALSE\n",
       "2. TRUE\n",
       "3. TRUE\n",
       "4. FALSE\n",
       "5. FALSE\n",
       "6. TRUE\n",
       "7. FALSE\n",
       "\n",
       "\n"
      ],
      "text/plain": [
       "[1] FALSE  TRUE  TRUE FALSE FALSE  TRUE FALSE"
      ]
     },
     "metadata": {},
     "output_type": "display_data"
    },
    {
     "data": {
      "text/html": [
       "14"
      ],
      "text/latex": [
       "14"
      ],
      "text/markdown": [
       "14"
      ],
      "text/plain": [
       "[1] 14"
      ]
     },
     "metadata": {},
     "output_type": "display_data"
    },
    {
     "data": {
      "text/html": [
       "TRUE"
      ],
      "text/latex": [
       "TRUE"
      ],
      "text/markdown": [
       "TRUE"
      ],
      "text/plain": [
       "[1] TRUE"
      ]
     },
     "metadata": {},
     "output_type": "display_data"
    },
    {
     "data": {
      "text/html": [
       "FALSE"
      ],
      "text/latex": [
       "FALSE"
      ],
      "text/markdown": [
       "FALSE"
      ],
      "text/plain": [
       "[1] FALSE"
      ]
     },
     "metadata": {},
     "output_type": "display_data"
    }
   ],
   "source": [
    "# The linkedin and facebook vectors have already been created for you\n",
    "linkedin <- c(16, 9, 13, 5, 2, 17, 14)\n",
    "facebook <- c(17, 7, 5, 16, 8, 13, 14)\n",
    "\n",
    "# Popular days\n",
    "linkedin > 15\n",
    "\n",
    "# Quiet days\n",
    "linkedin <= 5\n",
    "\n",
    "# LinkedIn more popular than Facebook\n",
    "linkedin > facebook\n",
    "\n",
    "last <- tail(linkedin, 1)\n",
    "#last <- tail(linkedin, 2)  # descomente essa linha para inferir o que faz a função tail()\n",
    "#last <- tail(linkedin, 3)\n",
    "last\n",
    "\n",
    "# Is last under 5 or above 10?\n",
    "last < 5 | last > 10\n",
    "\n",
    "# Is last between 15 (exclusive) and 20 (inclusive)?\n",
    "last >15 & last <=20"
   ]
  },
  {
   "cell_type": "markdown",
   "metadata": {},
   "source": [
    "## 4. Tipo Matriz em R\n",
    "- Em R, uma matriz é uma coleção de elementos de um mesmo tipos de dados (numeric, character, or logical) disposta em estrutura bidimensional, descrita em linhas e colunas. \n",
    "- Usa-se a função matrix() para criar uma matriz.\n",
    "- Uma matriz de 9 elementos em sequência, dispostos em 3 linhas, é definida por:\n",
    "    - matrix(1:9, byrow = TRUE, nrow = 3)\n"
   ]
  },
  {
   "cell_type": "code",
   "execution_count": 1,
   "metadata": {},
   "outputs": [
    {
     "data": {
      "text/html": [
       "<table>\n",
       "<tbody>\n",
       "\t<tr><td>1</td><td>2</td><td>3</td></tr>\n",
       "\t<tr><td>4</td><td>5</td><td>6</td></tr>\n",
       "\t<tr><td>7</td><td>8</td><td>9</td></tr>\n",
       "</tbody>\n",
       "</table>\n"
      ],
      "text/latex": [
       "\\begin{tabular}{lll}\n",
       "\t 1 & 2 & 3\\\\\n",
       "\t 4 & 5 & 6\\\\\n",
       "\t 7 & 8 & 9\\\\\n",
       "\\end{tabular}\n"
      ],
      "text/markdown": [
       "\n",
       "| 1 | 2 | 3 | \n",
       "| 4 | 5 | 6 | \n",
       "| 7 | 8 | 9 | \n",
       "\n",
       "\n"
      ],
      "text/plain": [
       "     [,1] [,2] [,3]\n",
       "[1,] 1    2    3   \n",
       "[2,] 4    5    6   \n",
       "[3,] 7    8    9   "
      ]
     },
     "metadata": {},
     "output_type": "display_data"
    }
   ],
   "source": [
    "# Exemplo de criação de uma matriz 3x3\n",
    "\n",
    "matriz1= matrix(1:9, byrow = TRUE, nrow = 3)\n",
    "matriz1"
   ]
  },
  {
   "cell_type": "code",
   "execution_count": 2,
   "metadata": {},
   "outputs": [
    {
     "data": {
      "text/html": [
       "<table>\n",
       "<tbody>\n",
       "\t<tr><td>11</td><td>12</td><td>13</td></tr>\n",
       "\t<tr><td>14</td><td>15</td><td>16</td></tr>\n",
       "\t<tr><td>17</td><td>18</td><td>19</td></tr>\n",
       "</tbody>\n",
       "</table>\n"
      ],
      "text/latex": [
       "\\begin{tabular}{lll}\n",
       "\t 11 & 12 & 13\\\\\n",
       "\t 14 & 15 & 16\\\\\n",
       "\t 17 & 18 & 19\\\\\n",
       "\\end{tabular}\n"
      ],
      "text/markdown": [
       "\n",
       "| 11 | 12 | 13 | \n",
       "| 14 | 15 | 16 | \n",
       "| 17 | 18 | 19 | \n",
       "\n",
       "\n"
      ],
      "text/plain": [
       "     [,1] [,2] [,3]\n",
       "[1,] 11   12   13  \n",
       "[2,] 14   15   16  \n",
       "[3,] 17   18   19  "
      ]
     },
     "metadata": {},
     "output_type": "display_data"
    }
   ],
   "source": [
    "# Exemplo de criação de uma matriz 3x3\n",
    "matriz2= matrix(11:19, byrow = TRUE, nrow = 3)\n",
    "matriz2"
   ]
  },
  {
   "cell_type": "markdown",
   "metadata": {},
   "source": [
    "#### Exercício:\n",
    "- Crie uma Matriz 4x2, contendo os 8 primeiros números ímpares (1,3,5,..)"
   ]
  },
  {
   "cell_type": "code",
   "execution_count": null,
   "metadata": {
    "collapsed": true
   },
   "outputs": [],
   "source": [
    "# Resolução do exercício:\n",
    "??????"
   ]
  },
  {
   "cell_type": "markdown",
   "metadata": {},
   "source": [
    "- Exemplo de outro modo de criação/iniciação de matrizes"
   ]
  },
  {
   "cell_type": "code",
   "execution_count": 7,
   "metadata": {
    "collapsed": true
   },
   "outputs": [],
   "source": [
    "A <- matrix(c(1,2,3,4,5,6),3,2)  # matrix 3x2\n",
    "B <- matrix(c(1,2,3,4,5,6),2,3)  # matrix 2x3"
   ]
  },
  {
   "cell_type": "code",
   "execution_count": 11,
   "metadata": {},
   "outputs": [
    {
     "name": "stdout",
     "output_type": "stream",
     "text": [
      "[1] \"Matriz A\"\n"
     ]
    },
    {
     "data": {
      "text/html": [
       "<table>\n",
       "<tbody>\n",
       "\t<tr><td>1</td><td>4</td></tr>\n",
       "\t<tr><td>2</td><td>5</td></tr>\n",
       "\t<tr><td>3</td><td>6</td></tr>\n",
       "</tbody>\n",
       "</table>\n"
      ],
      "text/latex": [
       "\\begin{tabular}{ll}\n",
       "\t 1 & 4\\\\\n",
       "\t 2 & 5\\\\\n",
       "\t 3 & 6\\\\\n",
       "\\end{tabular}\n"
      ],
      "text/markdown": [
       "\n",
       "| 1 | 4 | \n",
       "| 2 | 5 | \n",
       "| 3 | 6 | \n",
       "\n",
       "\n"
      ],
      "text/plain": [
       "     [,1] [,2]\n",
       "[1,] 1    4   \n",
       "[2,] 2    5   \n",
       "[3,] 3    6   "
      ]
     },
     "metadata": {},
     "output_type": "display_data"
    },
    {
     "name": "stdout",
     "output_type": "stream",
     "text": [
      "[1] \"Matriz B\"\n"
     ]
    },
    {
     "data": {
      "text/html": [
       "<table>\n",
       "<tbody>\n",
       "\t<tr><td>1</td><td>3</td><td>5</td></tr>\n",
       "\t<tr><td>2</td><td>4</td><td>6</td></tr>\n",
       "</tbody>\n",
       "</table>\n"
      ],
      "text/latex": [
       "\\begin{tabular}{lll}\n",
       "\t 1 & 3 & 5\\\\\n",
       "\t 2 & 4 & 6\\\\\n",
       "\\end{tabular}\n"
      ],
      "text/markdown": [
       "\n",
       "| 1 | 3 | 5 | \n",
       "| 2 | 4 | 6 | \n",
       "\n",
       "\n"
      ],
      "text/plain": [
       "     [,1] [,2] [,3]\n",
       "[1,] 1    3    5   \n",
       "[2,] 2    4    6   "
      ]
     },
     "metadata": {},
     "output_type": "display_data"
    }
   ],
   "source": [
    "print(\"Matriz A\")\n",
    "A\n",
    "print(\"Matriz B\")\n",
    "B"
   ]
  },
  {
   "cell_type": "code",
   "execution_count": null,
   "metadata": {
    "collapsed": true
   },
   "outputs": [],
   "source": [
    "print(\" Programa exemplificando outra forma de se criar matrizes\" )\n",
    "print(\"Os valores correspondem aos valores arrecadados nos EUA e nos outros países, respectivamente, com a trilogia Star Wars\")\n",
    "\n",
    "# Box office Star Wars (in millions!)\n",
    "new_hope <- c(460.998, 314.4)\n",
    "empire_strikes <- c(290.475, 247.900)\n",
    "return_jedi <- c(309.306, 165.8)\n",
    "\n",
    "# Create box_office\n",
    "box_office <- c(new_hope, empire_strikes, return_jedi)\n",
    "box_office\n",
    "# Construct star_wars_matrix\n",
    "star_wars_matrix <- matrix(box_office, byrow = TRUE, nrow = 3)\n",
    "star_wars_matrix"
   ]
  },
  {
   "cell_type": "markdown",
   "metadata": {},
   "source": [
    "De modo similar aos vetores, pode-se adicionar nomes às linhas e colunas de uma matriz\n",
    "\n",
    "- rownames(my_matrix) <- row_names_vector\n",
    "\n",
    "- colnames(my_matrix) <- col_names_vector"
   ]
  },
  {
   "cell_type": "code",
   "execution_count": 158,
   "metadata": {},
   "outputs": [
    {
     "name": "stdout",
     "output_type": "stream",
     "text": [
      "[1] \"Outra forma de iniciar uma matriz\"\n"
     ]
    },
    {
     "data": {
      "text/html": [
       "<table>\n",
       "<tbody>\n",
       "\t<tr><td>2</td><td>2</td><td>2</td></tr>\n",
       "\t<tr><td>2</td><td>2</td><td>2</td></tr>\n",
       "\t<tr><td>2</td><td>2</td><td>2</td></tr>\n",
       "\t<tr><td>2</td><td>2</td><td>2</td></tr>\n",
       "\t<tr><td>2</td><td>2</td><td>2</td></tr>\n",
       "</tbody>\n",
       "</table>\n"
      ],
      "text/latex": [
       "\\begin{tabular}{lll}\n",
       "\t 2 & 2 & 2\\\\\n",
       "\t 2 & 2 & 2\\\\\n",
       "\t 2 & 2 & 2\\\\\n",
       "\t 2 & 2 & 2\\\\\n",
       "\t 2 & 2 & 2\\\\\n",
       "\\end{tabular}\n"
      ],
      "text/markdown": [
       "\n",
       "| 2 | 2 | 2 | \n",
       "| 2 | 2 | 2 | \n",
       "| 2 | 2 | 2 | \n",
       "| 2 | 2 | 2 | \n",
       "| 2 | 2 | 2 | \n",
       "\n",
       "\n"
      ],
      "text/plain": [
       "     [,1] [,2] [,3]\n",
       "[1,] 2    2    2   \n",
       "[2,] 2    2    2   \n",
       "[3,] 2    2    2   \n",
       "[4,] 2    2    2   \n",
       "[5,] 2    2    2   "
      ]
     },
     "metadata": {},
     "output_type": "display_data"
    },
    {
     "data": {
      "text/html": [
       "<table>\n",
       "<thead><tr><th></th><th scope=col>col1</th><th scope=col>col2</th><th scope=col>col3</th></tr></thead>\n",
       "<tbody>\n",
       "\t<tr><th scope=row>row1</th><td>2</td><td>2</td><td>2</td></tr>\n",
       "\t<tr><th scope=row>row2</th><td>2</td><td>2</td><td>2</td></tr>\n",
       "\t<tr><th scope=row>row3</th><td>2</td><td>2</td><td>2</td></tr>\n",
       "\t<tr><th scope=row>row4</th><td>2</td><td>2</td><td>2</td></tr>\n",
       "\t<tr><th scope=row>row5</th><td>2</td><td>2</td><td>2</td></tr>\n",
       "</tbody>\n",
       "</table>\n"
      ],
      "text/latex": [
       "\\begin{tabular}{r|lll}\n",
       "  & col1 & col2 & col3\\\\\n",
       "\\hline\n",
       "\trow1 & 2 & 2 & 2\\\\\n",
       "\trow2 & 2 & 2 & 2\\\\\n",
       "\trow3 & 2 & 2 & 2\\\\\n",
       "\trow4 & 2 & 2 & 2\\\\\n",
       "\trow5 & 2 & 2 & 2\\\\\n",
       "\\end{tabular}\n"
      ],
      "text/markdown": [
       "\n",
       "| <!--/--> | col1 | col2 | col3 | \n",
       "|---|---|---|---|---|\n",
       "| row1 | 2 | 2 | 2 | \n",
       "| row2 | 2 | 2 | 2 | \n",
       "| row3 | 2 | 2 | 2 | \n",
       "| row4 | 2 | 2 | 2 | \n",
       "| row5 | 2 | 2 | 2 | \n",
       "\n",
       "\n"
      ],
      "text/plain": [
       "     col1 col2 col3\n",
       "row1 2    2    2   \n",
       "row2 2    2    2   \n",
       "row3 2    2    2   \n",
       "row4 2    2    2   \n",
       "row5 2    2    2   "
      ]
     },
     "metadata": {},
     "output_type": "display_data"
    }
   ],
   "source": [
    "print(\"Outra forma de iniciar uma matriz\")\n",
    "teste <- matrix(2,5,3)\n",
    "teste\n",
    "colnames(teste) <- c(\"col1\", \"col2\", \"col3\")\n",
    "rownames(teste) <- c(\"row1\", \"row2\", \"row3\", \"row4\",\"row5\")\n",
    "teste"
   ]
  },
  {
   "cell_type": "code",
   "execution_count": null,
   "metadata": {
    "collapsed": true
   },
   "outputs": [],
   "source": [
    "# Box office Star Wars (in millions!)\n",
    "new_hope <- c(460.998, 314.4)\n",
    "empire_strikes <- c(290.475, 247.900)\n",
    "return_jedi <- c(309.306, 165.8)\n",
    "\n",
    "# Construct matrix\n",
    "star_wars_matrix <- matrix(c(new_hope, empire_strikes, return_jedi), nrow = 3, byrow = TRUE)\n",
    "\n",
    "# Vectors region and titles, used for naming\n",
    "region <- c(\"US\", \"non-US\")\n",
    "titles <- c(\"A New Hope\", \"The Empire Strikes Back\", \"Return of the Jedi\")\n",
    "\n",
    "# Name the columns with region\n",
    "colnames(star_wars_matrix) <- region\n",
    "\n",
    "# Name the rows with titles\n",
    "rownames(star_wars_matrix) <- titles\n",
    "\n",
    "# Print out star_wars_matrix\n",
    "\n",
    "star_wars_matrix"
   ]
  },
  {
   "cell_type": "markdown",
   "metadata": {},
   "source": [
    "### 4.1 Algumas funções úteis para operar sobre matrizes\n",
    "- rowSums(), retorna num vetor o cálculo do total para cada linha de uma matriz. \n",
    "- my_vector <- rowSums(my_matrix)\n",
    "- a função colSums() é a dual da rowSums()\n"
   ]
  },
  {
   "cell_type": "code",
   "execution_count": null,
   "metadata": {
    "collapsed": true
   },
   "outputs": [],
   "source": [
    "# Construct star_wars_matrix\n",
    "box_office <- c(460.998, 314.4, 290.475, 247.900, 309.306, 165.8)\n",
    "star_wars_matrix <- matrix(box_office, nrow = 3, byrow = TRUE,\n",
    "                           dimnames = list(c(\"A New Hope\", \"The Empire Strikes Back\", \"Return of the Jedi\"), \n",
    "                                           c(\"US\", \"non-US\")))\n",
    "\n",
    "# Calculate worldwide box office figures\n",
    "worldwide_vector <- rowSums(star_wars_matrix)\n",
    "worldwide_vector"
   ]
  },
  {
   "cell_type": "markdown",
   "metadata": {},
   "source": [
    "Pode-se adicionar uma ou múltiplas colunas para uma matriz com a função cbind( ). O resultado é uma matriz que anexa as matrizes por coluna:\n",
    "- big_matrix <- cbind(matrix1, matrix2, vector1 ...)\n",
    "\n",
    "A função rbind() é a dual da cbind( ), ou seja, nesse caso há a composição das matrizes por linha ou invés de por coluna."
   ]
  },
  {
   "cell_type": "code",
   "execution_count": null,
   "metadata": {
    "collapsed": true
   },
   "outputs": [],
   "source": [
    "# Construct star_wars_matrix\n",
    "box_office <- c(460.998, 314.4, 290.475, 247.900, 309.306, 165.8)\n",
    "star_wars_matrix <- matrix(box_office, nrow = 3, byrow = TRUE,\n",
    "                           dimnames = list(c(\"A New Hope\", \"The Empire Strikes Back\", \"Return of the Jedi\"), \n",
    "                                           c(\"US\", \"non-US\")))\n",
    "\n",
    "# The worldwide box office figures\n",
    "worldwide_vector <- rowSums(star_wars_matrix)\n",
    "\n",
    "# Bind the new variable worldwide_vector as a column to star_wars_matrix\n",
    "all_wars_matrix <- cbind(star_wars_matrix,worldwide_vector)\n",
    "all_wars_matrix"
   ]
  },
  {
   "cell_type": "code",
   "execution_count": null,
   "metadata": {
    "collapsed": true
   },
   "outputs": [],
   "source": [
    "box_office2 <- c(474.5,  552.5, 310.7 , 338.7, 380.3 , 468.5)\n",
    "star_wars_matrix2<- matrix(box_office2, nrow = 3, byrow = TRUE,\n",
    "                           dimnames = list(c(\"The Phantom Menace\", \"Attack of the Clones\", \"Revenge of the Sith\"), \n",
    "                                           c(\"US\", \"non-US\")))\n",
    "all_wars_matrix <- rbind(star_wars_matrix,star_wars_matrix2)\n",
    "\n",
    "star_wars_matrix\n",
    "star_wars_matrix2\n",
    "all_wars_matrix"
   ]
  },
  {
   "cell_type": "code",
   "execution_count": null,
   "metadata": {
    "collapsed": true
   },
   "outputs": [],
   "source": [
    "all_wars_matrix\n",
    "\n",
    "worldwide_vector <- rowSums(all_wars_matrix)\n",
    "all_wars_matrix <- cbind(all_wars_matrix,worldwide_vector)\n",
    "\n",
    "total_vector <- colSums(all_wars_matrix)\n",
    "all_wars_matrix <- rbind(all_wars_matrix,total_vector)\n",
    "all_wars_matrix"
   ]
  },
  {
   "cell_type": "markdown",
   "metadata": {},
   "source": [
    "### 4.2 Seleção de elementos de Matrizes:\n",
    "- utiliza o mesmo priuncípio de acesso de elementos de vetores.\n",
    "- no caso, se utiliza [.].\n",
    "- como matrizes são bi-dimencionais, precisa-se utlizar vírgula [.,.].\n",
    "- my_matrix[1,2] seleciona o elemento da linha 1 e coluna 2.\n",
    "- my_matrix[1:3,2:4] resulta em uma matriz com dados das linhas 1, 2, 3 e colunas 2, 3, 4 da matriz my_matrix.\n",
    "\n",
    "Se se deseja selecionar todos os elementos de uma linha ou coluna, é só não especificar a coluna ou linha, respectivamente.\n",
    "- my_matrix[,1], seleciona todos os elementos da primeira coluna de my_matrix.\n",
    "- my_matrix[2,], seleciona todos os elementos da segunda coluna de my_matrix.\n"
   ]
  },
  {
   "cell_type": "code",
   "execution_count": null,
   "metadata": {
    "collapsed": true
   },
   "outputs": [],
   "source": [
    "# all_wars_matrix is available in your workspace\n",
    "all_wars_matrix\n",
    "\n",
    "# Select the non-US revenue for all movies\n",
    "non_us_all <- all_wars_matrix[,2]\n",
    "  \n",
    "# Average non-US revenue\n",
    "print(\"Valor médio de non_us_all =\")\n",
    "mean(non_us_all)\n",
    "  \n",
    "# Select the non-US revenue for first two movies\n",
    "non_us_some <- all_wars_matrix[1:2,2]\n",
    "  \n",
    "# Average non-US revenue for first two movies\n",
    "print(\"Valor médio de non_us_some =\")\n",
    "mean(non_us_some)"
   ]
  },
  {
   "cell_type": "markdown",
   "metadata": {},
   "source": [
    "### 4.3 Operação com Matrizes:\n",
    "- operadores escalares\n",
    "    - +, -, *, /\n",
    "    - escalar com matriz returna uma matriz\n",
    "    - duas matrizes, realizaoperação termo a termo"
   ]
  },
  {
   "cell_type": "code",
   "execution_count": 17,
   "metadata": {
    "collapsed": true
   },
   "outputs": [],
   "source": [
    "mat1 <- matrix(c(1,2,3,4,5,6),3,2) \n",
    "mat2 <- matrix(c(1,1,1,1,1,1),3,2)"
   ]
  },
  {
   "cell_type": "markdown",
   "metadata": {},
   "source": [
    "#### Exercício -  Calcular e exibir os resultados das seguintes operações escalares sobre mat1 e mat2:\n",
    "- soma\n",
    "- subtração\n",
    "- produto\n",
    "- divisão"
   ]
  },
  {
   "cell_type": "code",
   "execution_count": 25,
   "metadata": {
    "collapsed": true
   },
   "outputs": [],
   "source": [
    "# Resolução do exercício\n"
   ]
  },
  {
   "cell_type": "code",
   "execution_count": null,
   "metadata": {
    "collapsed": true
   },
   "outputs": [],
   "source": [
    "# all_wars_matrix and ticket_prices_matrix are available in your workspace\n",
    "all_wars_matrix\n",
    "\n",
    "ticket_prices_mat <- all_wars_matrix[1:6,1:2]\n",
    "\n",
    "\n",
    "ticket_prices_mat[1,1] <- 5\n",
    "ticket_prices_mat[1,2] <- 5\n",
    "ticket_prices_mat[2,1] <- 6\n",
    "ticket_prices_mat[2,2] <- 6\n",
    "ticket_prices_mat[3,1] <- 7\n",
    "ticket_prices_mat[3,2] <- 7\n",
    "ticket_prices_mat[4,1] <- 4\n",
    "ticket_prices_mat[4,2] <- 4\n",
    "ticket_prices_mat[5,1] <- 4.5\n",
    "ticket_prices_mat[5,2] <- 4.5\n",
    "ticket_prices_mat[6,1] <- 4.9\n",
    "ticket_prices_mat[6,2] <- 4.9\n",
    "\n",
    "\n",
    "ticket_prices_mat\n",
    "\n",
    "teste <- all_wars_matrix[1:6,1:2]\n",
    "teste\n",
    "# Estimated number of visitors\n",
    "\n",
    "#visitors <- all_wars_matrix[1:6,1:2] / ticket_prices_mat\n",
    "\n",
    "# US visitors\n",
    "us_visitors <- visitors[1:6,1]\n",
    "us_visitors\n",
    "# Average number of US visitors\n",
    "mean(us_visitors)"
   ]
  },
  {
   "cell_type": "markdown",
   "metadata": {},
   "source": [
    "#### Dica: A Função summary( ) fornece uma visão rápida sobre o conteúdo das variáveis:\n",
    "- summary(my_var)\n"
   ]
  },
  {
   "cell_type": "code",
   "execution_count": null,
   "metadata": {
    "collapsed": true
   },
   "outputs": [],
   "source": [
    "summary(all_wars_matrix)"
   ]
  },
  {
   "cell_type": "markdown",
   "metadata": {},
   "source": [
    "- operadores matriciais\n",
    "    - %+%, %-%, %*%\n",
    "    - solve(A),  corresponde à inversa da matriz A (para matrizes quadradas) \n",
    "    - t(A), corresponde à transposta da matriz A"
   ]
  },
  {
   "cell_type": "code",
   "execution_count": 26,
   "metadata": {
    "collapsed": true
   },
   "outputs": [],
   "source": [
    "mat1 <- matrix(c(1,2,3,4,5,6,7,8,9),3,3) \n",
    "mat2 <- matrix(c(1,1,1,1,1,1,1,1,1),3,3)\n",
    "identidade3 = I10 <- diag(rep(1,3))  # matriz identidade 3x3"
   ]
  },
  {
   "cell_type": "code",
   "execution_count": 27,
   "metadata": {},
   "outputs": [
    {
     "data": {
      "text/html": [
       "<table>\n",
       "<tbody>\n",
       "\t<tr><td>1</td><td>0</td><td>0</td></tr>\n",
       "\t<tr><td>0</td><td>1</td><td>0</td></tr>\n",
       "\t<tr><td>0</td><td>0</td><td>1</td></tr>\n",
       "</tbody>\n",
       "</table>\n"
      ],
      "text/latex": [
       "\\begin{tabular}{lll}\n",
       "\t 1 & 0 & 0\\\\\n",
       "\t 0 & 1 & 0\\\\\n",
       "\t 0 & 0 & 1\\\\\n",
       "\\end{tabular}\n"
      ],
      "text/markdown": [
       "\n",
       "| 1 | 0 | 0 | \n",
       "| 0 | 1 | 0 | \n",
       "| 0 | 0 | 1 | \n",
       "\n",
       "\n"
      ],
      "text/plain": [
       "     [,1] [,2] [,3]\n",
       "[1,] 1    0    0   \n",
       "[2,] 0    1    0   \n",
       "[3,] 0    0    1   "
      ]
     },
     "metadata": {},
     "output_type": "display_data"
    }
   ],
   "source": [
    "identidade3"
   ]
  },
  {
   "cell_type": "code",
   "execution_count": null,
   "metadata": {
    "collapsed": true
   },
   "outputs": [],
   "source": [
    "#### Exercício: Obter\n",
    "- Inversa de Identidade3\n",
    "- Transposta de mat1\n",
    "- produto matricial entre mat1 e mat2\n",
    "- Soma matricial de mat1 e mat2"
   ]
  },
  {
   "cell_type": "code",
   "execution_count": null,
   "metadata": {
    "collapsed": true
   },
   "outputs": [],
   "source": [
    "# Resolução do exercício:"
   ]
  },
  {
   "cell_type": "markdown",
   "metadata": {},
   "source": [
    "### 4.3 Comparação entre matrizes\n",
    "- realizado de forma similar a com vetores"
   ]
  },
  {
   "cell_type": "code",
   "execution_count": 148,
   "metadata": {},
   "outputs": [
    {
     "data": {
      "text/html": [
       "<table>\n",
       "<tbody>\n",
       "\t<tr><td>FALSE</td><td>FALSE</td><td> TRUE</td><td>FALSE</td><td>FALSE</td><td>FALSE</td><td>FALSE</td></tr>\n",
       "\t<tr><td>FALSE</td><td>FALSE</td><td>FALSE</td><td>FALSE</td><td>FALSE</td><td> TRUE</td><td>FALSE</td></tr>\n",
       "</tbody>\n",
       "</table>\n"
      ],
      "text/latex": [
       "\\begin{tabular}{lllllll}\n",
       "\t FALSE & FALSE &  TRUE & FALSE & FALSE & FALSE & FALSE\\\\\n",
       "\t FALSE & FALSE & FALSE & FALSE & FALSE &  TRUE & FALSE\\\\\n",
       "\\end{tabular}\n"
      ],
      "text/markdown": [
       "\n",
       "| FALSE | FALSE |  TRUE | FALSE | FALSE | FALSE | FALSE | \n",
       "| FALSE | FALSE | FALSE | FALSE | FALSE |  TRUE | FALSE | \n",
       "\n",
       "\n"
      ],
      "text/plain": [
       "     [,1]  [,2]  [,3]  [,4]  [,5]  [,6]  [,7] \n",
       "[1,] FALSE FALSE  TRUE FALSE FALSE FALSE FALSE\n",
       "[2,] FALSE FALSE FALSE FALSE FALSE  TRUE FALSE"
      ]
     },
     "metadata": {},
     "output_type": "display_data"
    },
    {
     "data": {
      "text/html": [
       "<table>\n",
       "<tbody>\n",
       "\t<tr><td>FALSE</td><td>TRUE </td><td>TRUE </td><td> TRUE</td><td>TRUE </td><td>FALSE</td><td>TRUE </td></tr>\n",
       "\t<tr><td>FALSE</td><td>TRUE </td><td>TRUE </td><td>FALSE</td><td>TRUE </td><td> TRUE</td><td>TRUE </td></tr>\n",
       "</tbody>\n",
       "</table>\n"
      ],
      "text/latex": [
       "\\begin{tabular}{lllllll}\n",
       "\t FALSE & TRUE  & TRUE  &  TRUE & TRUE  & FALSE & TRUE \\\\\n",
       "\t FALSE & TRUE  & TRUE  & FALSE & TRUE  &  TRUE & TRUE \\\\\n",
       "\\end{tabular}\n"
      ],
      "text/markdown": [
       "\n",
       "| FALSE | TRUE  | TRUE  |  TRUE | TRUE  | FALSE | TRUE  | \n",
       "| FALSE | TRUE  | TRUE  | FALSE | TRUE  |  TRUE | TRUE  | \n",
       "\n",
       "\n"
      ],
      "text/plain": [
       "     [,1]  [,2] [,3] [,4]  [,5] [,6]  [,7]\n",
       "[1,] FALSE TRUE TRUE  TRUE TRUE FALSE TRUE\n",
       "[2,] FALSE TRUE TRUE FALSE TRUE  TRUE TRUE"
      ]
     },
     "metadata": {},
     "output_type": "display_data"
    }
   ],
   "source": [
    "# The social data has been created for you\n",
    "linkedin <- c(16, 9, 13, 5, 2, 17, 14)\n",
    "facebook <- c(17, 7, 5, 16, 8, 13, 14)\n",
    "views <- matrix(c(linkedin, facebook), nrow = 2, byrow = TRUE)\n",
    "\n",
    "# When does views equal 13?\n",
    "views == 13\n",
    "\n",
    "# When is views less than or equal to 14?\n",
    "views <= 14"
   ]
  },
  {
   "cell_type": "code",
   "execution_count": 157,
   "metadata": {},
   "outputs": [
    {
     "data": {
      "text/html": [
       "<table>\n",
       "<tbody>\n",
       "\t<tr><td>2</td><td>2</td><td>2</td></tr>\n",
       "\t<tr><td>2</td><td>2</td><td>2</td></tr>\n",
       "\t<tr><td>2</td><td>2</td><td>2</td></tr>\n",
       "\t<tr><td>2</td><td>2</td><td>2</td></tr>\n",
       "\t<tr><td>2</td><td>2</td><td>2</td></tr>\n",
       "</tbody>\n",
       "</table>\n"
      ],
      "text/latex": [
       "\\begin{tabular}{lll}\n",
       "\t 2 & 2 & 2\\\\\n",
       "\t 2 & 2 & 2\\\\\n",
       "\t 2 & 2 & 2\\\\\n",
       "\t 2 & 2 & 2\\\\\n",
       "\t 2 & 2 & 2\\\\\n",
       "\\end{tabular}\n"
      ],
      "text/markdown": [
       "\n",
       "| 2 | 2 | 2 | \n",
       "| 2 | 2 | 2 | \n",
       "| 2 | 2 | 2 | \n",
       "| 2 | 2 | 2 | \n",
       "| 2 | 2 | 2 | \n",
       "\n",
       "\n"
      ],
      "text/plain": [
       "     [,1] [,2] [,3]\n",
       "[1,] 2    2    2   \n",
       "[2,] 2    2    2   \n",
       "[3,] 2    2    2   \n",
       "[4,] 2    2    2   \n",
       "[5,] 2    2    2   "
      ]
     },
     "metadata": {},
     "output_type": "display_data"
    }
   ],
   "source": [
    "print(\"Outra forma de iniciar uma matriz\")\n",
    "teste <- matrix(2,5,3)\n",
    "teste"
   ]
  },
  {
   "cell_type": "markdown",
   "metadata": {},
   "source": [
    "## 5. Tipo Frame em R\n",
    "\n",
    "- Estrutura bidimensional, onde as colunas não precisam ter elementos do mesmo tipo, como no caso das matrizes.\n",
    "- No data.frame cada coluna representa uma variável e cada linha uma observação.\n",
    "- Equivale aos dados de planilha."
   ]
  },
  {
   "cell_type": "markdown",
   "metadata": {},
   "source": [
    "### 5.1 Criação de data.frame\n",
    "- Usar a função data.frame()"
   ]
  },
  {
   "cell_type": "code",
   "execution_count": 130,
   "metadata": {
    "collapsed": true
   },
   "outputs": [],
   "source": [
    "# Exemplo de Craição de data.frame\n",
    "\n",
    "alunos <- data.frame(nome = c(\"João\", \"Clara\", \"Miguel\", \"Mariana\"),\n",
    "                           sexo = c(\"M\", \"F\", \"M\", \"F\"),\n",
    "                           idade = c(21,23, 22, 21),\n",
    "                           stringsAsFactors = FALSE)"
   ]
  },
  {
   "cell_type": "code",
   "execution_count": 90,
   "metadata": {},
   "outputs": [
    {
     "data": {
      "text/html": [
       "<table>\n",
       "<thead><tr><th scope=col>nome</th><th scope=col>sexo</th><th scope=col>idade</th></tr></thead>\n",
       "<tbody>\n",
       "\t<tr><td>João   </td><td>M      </td><td>21     </td></tr>\n",
       "\t<tr><td>Clara  </td><td>F      </td><td>23     </td></tr>\n",
       "\t<tr><td>Miguel </td><td>M      </td><td>22     </td></tr>\n",
       "\t<tr><td>Mariana</td><td>F      </td><td>21     </td></tr>\n",
       "</tbody>\n",
       "</table>\n"
      ],
      "text/latex": [
       "\\begin{tabular}{r|lll}\n",
       " nome & sexo & idade\\\\\n",
       "\\hline\n",
       "\t João    & M       & 21     \\\\\n",
       "\t Clara   & F       & 23     \\\\\n",
       "\t Miguel  & M       & 22     \\\\\n",
       "\t Mariana & F       & 21     \\\\\n",
       "\\end{tabular}\n"
      ],
      "text/markdown": [
       "\n",
       "nome | sexo | idade | \n",
       "|---|---|---|---|\n",
       "| João    | M       | 21      | \n",
       "| Clara   | F       | 23      | \n",
       "| Miguel  | M       | 22      | \n",
       "| Mariana | F       | 21      | \n",
       "\n",
       "\n"
      ],
      "text/plain": [
       "  nome    sexo idade\n",
       "1 João    M    21   \n",
       "2 Clara   F    23   \n",
       "3 Miguel  M    22   \n",
       "4 Mariana F    21   "
      ]
     },
     "metadata": {},
     "output_type": "display_data"
    }
   ],
   "source": [
    "alunos"
   ]
  },
  {
   "cell_type": "code",
   "execution_count": 91,
   "metadata": {},
   "outputs": [
    {
     "name": "stdout",
     "output_type": "stream",
     "text": [
      "'data.frame':\t4 obs. of  3 variables:\n",
      " $ nome : chr  \"João\" \"Clara\" \"Miguel\" \"Mariana\"\n",
      " $ sexo : chr  \"M\" \"F\" \"M\" \"F\"\n",
      " $ idade: num  21 23 22 21\n"
     ]
    }
   ],
   "source": [
    "str(alunos)"
   ]
  },
  {
   "cell_type": "markdown",
   "metadata": {},
   "source": [
    "#### Analise o que fazem as funções:\n",
    "- rownames(data.frame)\n",
    "- colnames(data.frame)\n",
    "- names(data.frame)"
   ]
  },
  {
   "cell_type": "code",
   "execution_count": 65,
   "metadata": {},
   "outputs": [
    {
     "data": {
      "text/html": [
       "<ol class=list-inline>\n",
       "\t<li>'1'</li>\n",
       "\t<li>'2'</li>\n",
       "\t<li>'3'</li>\n",
       "\t<li>'4'</li>\n",
       "</ol>\n"
      ],
      "text/latex": [
       "\\begin{enumerate*}\n",
       "\\item '1'\n",
       "\\item '2'\n",
       "\\item '3'\n",
       "\\item '4'\n",
       "\\end{enumerate*}\n"
      ],
      "text/markdown": [
       "1. '1'\n",
       "2. '2'\n",
       "3. '3'\n",
       "4. '4'\n",
       "\n",
       "\n"
      ],
      "text/plain": [
       "[1] \"1\" \"2\" \"3\" \"4\""
      ]
     },
     "metadata": {},
     "output_type": "display_data"
    },
    {
     "data": {
      "text/html": [
       "<ol class=list-inline>\n",
       "\t<li>'nome'</li>\n",
       "\t<li>'sexo'</li>\n",
       "\t<li>'idade'</li>\n",
       "</ol>\n"
      ],
      "text/latex": [
       "\\begin{enumerate*}\n",
       "\\item 'nome'\n",
       "\\item 'sexo'\n",
       "\\item 'idade'\n",
       "\\end{enumerate*}\n"
      ],
      "text/markdown": [
       "1. 'nome'\n",
       "2. 'sexo'\n",
       "3. 'idade'\n",
       "\n",
       "\n"
      ],
      "text/plain": [
       "[1] \"nome\"  \"sexo\"  \"idade\""
      ]
     },
     "metadata": {},
     "output_type": "display_data"
    },
    {
     "data": {
      "text/html": [
       "<ol class=list-inline>\n",
       "\t<li>'nome'</li>\n",
       "\t<li>'sexo'</li>\n",
       "\t<li>'idade'</li>\n",
       "</ol>\n"
      ],
      "text/latex": [
       "\\begin{enumerate*}\n",
       "\\item 'nome'\n",
       "\\item 'sexo'\n",
       "\\item 'idade'\n",
       "\\end{enumerate*}\n"
      ],
      "text/markdown": [
       "1. 'nome'\n",
       "2. 'sexo'\n",
       "3. 'idade'\n",
       "\n",
       "\n"
      ],
      "text/plain": [
       "[1] \"nome\"  \"sexo\"  \"idade\""
      ]
     },
     "metadata": {},
     "output_type": "display_data"
    }
   ],
   "source": [
    "rownames(alunos)\n",
    "colnames(alunos)\n",
    "names(alunos)"
   ]
  },
  {
   "cell_type": "markdown",
   "metadata": {},
   "source": [
    "### 5.1 Manipulação de Elementos de data.frame\n",
    "- Segue procedimento muito similar à manipulação de matrizes.\n",
    "    - acesso a elementos do data.frame.\n",
    "    - modificar elementos do data.frame.\n",
    "    "
   ]
  },
  {
   "cell_type": "markdown",
   "metadata": {},
   "source": [
    "#### Acesso a elementos de data.frames"
   ]
  },
  {
   "cell_type": "code",
   "execution_count": 66,
   "metadata": {},
   "outputs": [
    {
     "data": {
      "text/html": [
       "<table>\n",
       "<thead><tr><th scope=col>nome</th><th scope=col>sexo</th><th scope=col>idade</th></tr></thead>\n",
       "<tbody>\n",
       "\t<tr><td>João   </td><td>M      </td><td>21     </td></tr>\n",
       "\t<tr><td>Clara  </td><td>F      </td><td>23     </td></tr>\n",
       "\t<tr><td>Miguel </td><td>M      </td><td>22     </td></tr>\n",
       "\t<tr><td>Mariana</td><td>F      </td><td>21     </td></tr>\n",
       "</tbody>\n",
       "</table>\n"
      ],
      "text/latex": [
       "\\begin{tabular}{r|lll}\n",
       " nome & sexo & idade\\\\\n",
       "\\hline\n",
       "\t João    & M       & 21     \\\\\n",
       "\t Clara   & F       & 23     \\\\\n",
       "\t Miguel  & M       & 22     \\\\\n",
       "\t Mariana & F       & 21     \\\\\n",
       "\\end{tabular}\n"
      ],
      "text/markdown": [
       "\n",
       "nome | sexo | idade | \n",
       "|---|---|---|---|\n",
       "| João    | M       | 21      | \n",
       "| Clara   | F       | 23      | \n",
       "| Miguel  | M       | 22      | \n",
       "| Mariana | F       | 21      | \n",
       "\n",
       "\n"
      ],
      "text/plain": [
       "  nome    sexo idade\n",
       "1 João    M    21   \n",
       "2 Clara   F    23   \n",
       "3 Miguel  M    22   \n",
       "4 Mariana F    21   "
      ]
     },
     "metadata": {},
     "output_type": "display_data"
    }
   ],
   "source": [
    "alunos"
   ]
  },
  {
   "cell_type": "code",
   "execution_count": 67,
   "metadata": {},
   "outputs": [
    {
     "data": {
      "text/html": [
       "'João'"
      ],
      "text/latex": [
       "'João'"
      ],
      "text/markdown": [
       "'João'"
      ],
      "text/plain": [
       "[1] \"João\""
      ]
     },
     "metadata": {},
     "output_type": "display_data"
    }
   ],
   "source": [
    "alunos[1, 1]"
   ]
  },
  {
   "cell_type": "code",
   "execution_count": 68,
   "metadata": {},
   "outputs": [
    {
     "data": {
      "text/html": [
       "<table>\n",
       "<thead><tr><th scope=col>nome</th></tr></thead>\n",
       "<tbody>\n",
       "\t<tr><td>João</td></tr>\n",
       "</tbody>\n",
       "</table>\n"
      ],
      "text/latex": [
       "\\begin{tabular}{r|l}\n",
       " nome\\\\\n",
       "\\hline\n",
       "\t João\\\\\n",
       "\\end{tabular}\n"
      ],
      "text/markdown": [
       "\n",
       "nome | \n",
       "|---|\n",
       "| João | \n",
       "\n",
       "\n"
      ],
      "text/plain": [
       "  nome\n",
       "1 João"
      ]
     },
     "metadata": {},
     "output_type": "display_data"
    }
   ],
   "source": [
    "alunos[1, 1, drop = FALSE]"
   ]
  },
  {
   "cell_type": "code",
   "execution_count": 69,
   "metadata": {},
   "outputs": [
    {
     "data": {
      "text/html": [
       "<table>\n",
       "<thead><tr><th scope=col>nome</th><th scope=col>sexo</th></tr></thead>\n",
       "<tbody>\n",
       "\t<tr><td>João   </td><td>M      </td></tr>\n",
       "\t<tr><td>Clara  </td><td>F      </td></tr>\n",
       "\t<tr><td>Miguel </td><td>M      </td></tr>\n",
       "\t<tr><td>Mariana</td><td>F      </td></tr>\n",
       "</tbody>\n",
       "</table>\n"
      ],
      "text/latex": [
       "\\begin{tabular}{r|ll}\n",
       " nome & sexo\\\\\n",
       "\\hline\n",
       "\t João    & M      \\\\\n",
       "\t Clara   & F      \\\\\n",
       "\t Miguel  & M      \\\\\n",
       "\t Mariana & F      \\\\\n",
       "\\end{tabular}\n"
      ],
      "text/markdown": [
       "\n",
       "nome | sexo | \n",
       "|---|---|---|---|\n",
       "| João    | M       | \n",
       "| Clara   | F       | \n",
       "| Miguel  | M       | \n",
       "| Mariana | F       | \n",
       "\n",
       "\n"
      ],
      "text/plain": [
       "  nome    sexo\n",
       "1 João    M   \n",
       "2 Clara   F   \n",
       "3 Miguel  M   \n",
       "4 Mariana F   "
      ]
     },
     "metadata": {},
     "output_type": "display_data"
    }
   ],
   "source": [
    "alunos[,1:2]"
   ]
  },
  {
   "cell_type": "code",
   "execution_count": 70,
   "metadata": {},
   "outputs": [
    {
     "data": {
      "text/html": [
       "<table>\n",
       "<thead><tr><th></th><th scope=col>nome</th><th scope=col>sexo</th><th scope=col>idade</th></tr></thead>\n",
       "<tbody>\n",
       "\t<tr><th scope=row>2</th><td>Clara  </td><td>F      </td><td>23     </td></tr>\n",
       "\t<tr><th scope=row>3</th><td>Miguel </td><td>M      </td><td>22     </td></tr>\n",
       "\t<tr><th scope=row>4</th><td>Mariana</td><td>F      </td><td>21     </td></tr>\n",
       "</tbody>\n",
       "</table>\n"
      ],
      "text/latex": [
       "\\begin{tabular}{r|lll}\n",
       "  & nome & sexo & idade\\\\\n",
       "\\hline\n",
       "\t2 & Clara   & F       & 23     \\\\\n",
       "\t3 & Miguel  & M       & 22     \\\\\n",
       "\t4 & Mariana & F       & 21     \\\\\n",
       "\\end{tabular}\n"
      ],
      "text/markdown": [
       "\n",
       "| <!--/--> | nome | sexo | idade | \n",
       "|---|---|---|\n",
       "| 2 | Clara   | F       | 23      | \n",
       "| 3 | Miguel  | M       | 22      | \n",
       "| 4 | Mariana | F       | 21      | \n",
       "\n",
       "\n"
      ],
      "text/plain": [
       "  nome    sexo idade\n",
       "2 Clara   F    23   \n",
       "3 Miguel  M    22   \n",
       "4 Mariana F    21   "
      ]
     },
     "metadata": {},
     "output_type": "display_data"
    }
   ],
   "source": [
    "alunos[-1, ]"
   ]
  },
  {
   "cell_type": "code",
   "execution_count": 71,
   "metadata": {},
   "outputs": [
    {
     "data": {
      "text/html": [
       "<table>\n",
       "<thead><tr><th></th><th scope=col>nome</th><th scope=col>idade</th></tr></thead>\n",
       "<tbody>\n",
       "\t<tr><th scope=row>3</th><td>Miguel</td><td>22    </td></tr>\n",
       "</tbody>\n",
       "</table>\n"
      ],
      "text/latex": [
       "\\begin{tabular}{r|ll}\n",
       "  & nome & idade\\\\\n",
       "\\hline\n",
       "\t3 & Miguel & 22    \\\\\n",
       "\\end{tabular}\n"
      ],
      "text/markdown": [
       "\n",
       "| <!--/--> | nome | idade | \n",
       "|---|\n",
       "| 3 | Miguel | 22     | \n",
       "\n",
       "\n"
      ],
      "text/plain": [
       "  nome   idade\n",
       "3 Miguel 22   "
      ]
     },
     "metadata": {},
     "output_type": "display_data"
    }
   ],
   "source": [
    "## seleciona linha 3, colunas \"nome\" e \"iade\"\n",
    "alunos[3 , c(\"nome\", \"idade\")]"
   ]
  },
  {
   "cell_type": "code",
   "execution_count": null,
   "metadata": {
    "collapsed": true
   },
   "outputs": [],
   "source": [
    "# exercício: Selecione as duas últimas linhas\n"
   ]
  },
  {
   "cell_type": "markdown",
   "metadata": {},
   "source": [
    "#### Modificação de elementos de data.frames"
   ]
  },
  {
   "cell_type": "code",
   "execution_count": 72,
   "metadata": {},
   "outputs": [
    {
     "data": {
      "text/html": [
       "<table>\n",
       "<thead><tr><th scope=col>nome</th><th scope=col>sexo</th><th scope=col>idade</th></tr></thead>\n",
       "<tbody>\n",
       "\t<tr><td>João   </td><td>M      </td><td>21     </td></tr>\n",
       "\t<tr><td>Clara  </td><td>F      </td><td>23     </td></tr>\n",
       "\t<tr><td>Miguel </td><td>M      </td><td>22     </td></tr>\n",
       "\t<tr><td>Mariana</td><td>F      </td><td>21     </td></tr>\n",
       "</tbody>\n",
       "</table>\n"
      ],
      "text/latex": [
       "\\begin{tabular}{r|lll}\n",
       " nome & sexo & idade\\\\\n",
       "\\hline\n",
       "\t João    & M       & 21     \\\\\n",
       "\t Clara   & F       & 23     \\\\\n",
       "\t Miguel  & M       & 22     \\\\\n",
       "\t Mariana & F       & 21     \\\\\n",
       "\\end{tabular}\n"
      ],
      "text/markdown": [
       "\n",
       "nome | sexo | idade | \n",
       "|---|---|---|---|\n",
       "| João    | M       | 21      | \n",
       "| Clara   | F       | 23      | \n",
       "| Miguel  | M       | 22      | \n",
       "| Mariana | F       | 21      | \n",
       "\n",
       "\n"
      ],
      "text/plain": [
       "  nome    sexo idade\n",
       "1 João    M    21   \n",
       "2 Clara   F    23   \n",
       "3 Miguel  M    22   \n",
       "4 Mariana F    21   "
      ]
     },
     "metadata": {},
     "output_type": "display_data"
    }
   ],
   "source": [
    "alunos"
   ]
  },
  {
   "cell_type": "code",
   "execution_count": 92,
   "metadata": {
    "collapsed": true
   },
   "outputs": [],
   "source": [
    "## Aniversário de Clara - aumento da idade de Clara\n",
    "alunos[2, \"idade\"] <- alunos[2, \"idade\"] + 1"
   ]
  },
  {
   "cell_type": "code",
   "execution_count": 74,
   "metadata": {},
   "outputs": [
    {
     "data": {
      "text/html": [
       "<table>\n",
       "<thead><tr><th scope=col>nome</th><th scope=col>sexo</th><th scope=col>idade</th></tr></thead>\n",
       "<tbody>\n",
       "\t<tr><td>João   </td><td>M      </td><td>21     </td></tr>\n",
       "\t<tr><td>Clara  </td><td>F      </td><td>24     </td></tr>\n",
       "\t<tr><td>Miguel </td><td>M      </td><td>22     </td></tr>\n",
       "\t<tr><td>Mariana</td><td>F      </td><td>21     </td></tr>\n",
       "</tbody>\n",
       "</table>\n"
      ],
      "text/latex": [
       "\\begin{tabular}{r|lll}\n",
       " nome & sexo & idade\\\\\n",
       "\\hline\n",
       "\t João    & M       & 21     \\\\\n",
       "\t Clara   & F       & 24     \\\\\n",
       "\t Miguel  & M       & 22     \\\\\n",
       "\t Mariana & F       & 21     \\\\\n",
       "\\end{tabular}\n"
      ],
      "text/markdown": [
       "\n",
       "nome | sexo | idade | \n",
       "|---|---|---|---|\n",
       "| João    | M       | 21      | \n",
       "| Clara   | F       | 24      | \n",
       "| Miguel  | M       | 22      | \n",
       "| Mariana | F       | 21      | \n",
       "\n",
       "\n"
      ],
      "text/plain": [
       "  nome    sexo idade\n",
       "1 João    M    21   \n",
       "2 Clara   F    24   \n",
       "3 Miguel  M    22   \n",
       "4 Mariana F    21   "
      ]
     },
     "metadata": {},
     "output_type": "display_data"
    }
   ],
   "source": [
    "alunos"
   ]
  },
  {
   "cell_type": "markdown",
   "metadata": {},
   "source": [
    "### 5.2 Outras Formas para Manipulação de Elementos de data.frames\n",
    "- Pode-se acessar e modificar elementos de data.frame utilizando o operador $ e a lista [[ ]]\n",
    "- Ambos sempre retornam um vetor como resultado."
   ]
  },
  {
   "cell_type": "code",
   "execution_count": 75,
   "metadata": {},
   "outputs": [
    {
     "data": {
      "text/html": [
       "<ol class=list-inline>\n",
       "\t<li>'João'</li>\n",
       "\t<li>'Clara'</li>\n",
       "\t<li>'Miguel'</li>\n",
       "\t<li>'Mariana'</li>\n",
       "</ol>\n"
      ],
      "text/latex": [
       "\\begin{enumerate*}\n",
       "\\item 'João'\n",
       "\\item 'Clara'\n",
       "\\item 'Miguel'\n",
       "\\item 'Mariana'\n",
       "\\end{enumerate*}\n"
      ],
      "text/markdown": [
       "1. 'João'\n",
       "2. 'Clara'\n",
       "3. 'Miguel'\n",
       "4. 'Mariana'\n",
       "\n",
       "\n"
      ],
      "text/plain": [
       "[1] \"João\"    \"Clara\"   \"Miguel\"  \"Mariana\""
      ]
     },
     "metadata": {},
     "output_type": "display_data"
    },
    {
     "data": {
      "text/html": [
       "<ol class=list-inline>\n",
       "\t<li>'João'</li>\n",
       "\t<li>'Clara'</li>\n",
       "\t<li>'Miguel'</li>\n",
       "\t<li>'Mariana'</li>\n",
       "</ol>\n"
      ],
      "text/latex": [
       "\\begin{enumerate*}\n",
       "\\item 'João'\n",
       "\\item 'Clara'\n",
       "\\item 'Miguel'\n",
       "\\item 'Mariana'\n",
       "\\end{enumerate*}\n"
      ],
      "text/markdown": [
       "1. 'João'\n",
       "2. 'Clara'\n",
       "3. 'Miguel'\n",
       "4. 'Mariana'\n",
       "\n",
       "\n"
      ],
      "text/plain": [
       "[1] \"João\"    \"Clara\"   \"Miguel\"  \"Mariana\""
      ]
     },
     "metadata": {},
     "output_type": "display_data"
    }
   ],
   "source": [
    "## Seleciona coluna nome\n",
    "alunos$nome\n",
    "\n",
    "## Seleciona coluna nome \n",
    "alunos[[\"nome\"]]"
   ]
  },
  {
   "cell_type": "code",
   "execution_count": null,
   "metadata": {
    "collapsed": true
   },
   "outputs": [],
   "source": [
    "## Exercício: Selecione a coluna 'idade' no data.frame alunos\n",
    "\n"
   ]
  },
  {
   "cell_type": "markdown",
   "metadata": {},
   "source": [
    "#### Também é possível alterar valor combinando $ ou [[ ]] com <-:"
   ]
  },
  {
   "cell_type": "code",
   "execution_count": 93,
   "metadata": {},
   "outputs": [
    {
     "data": {
      "text/html": [
       "<table>\n",
       "<thead><tr><th scope=col>nome</th><th scope=col>sexo</th><th scope=col>idade</th></tr></thead>\n",
       "<tbody>\n",
       "\t<tr><td>João   </td><td>M      </td><td>22     </td></tr>\n",
       "\t<tr><td>Clara  </td><td>F      </td><td>24     </td></tr>\n",
       "\t<tr><td>Miguel </td><td>M      </td><td>22     </td></tr>\n",
       "\t<tr><td>Mariana</td><td>F      </td><td>21     </td></tr>\n",
       "</tbody>\n",
       "</table>\n"
      ],
      "text/latex": [
       "\\begin{tabular}{r|lll}\n",
       " nome & sexo & idade\\\\\n",
       "\\hline\n",
       "\t João    & M       & 22     \\\\\n",
       "\t Clara   & F       & 24     \\\\\n",
       "\t Miguel  & M       & 22     \\\\\n",
       "\t Mariana & F       & 21     \\\\\n",
       "\\end{tabular}\n"
      ],
      "text/markdown": [
       "\n",
       "nome | sexo | idade | \n",
       "|---|---|---|---|\n",
       "| João    | M       | 22      | \n",
       "| Clara   | F       | 24      | \n",
       "| Miguel  | M       | 22      | \n",
       "| Mariana | F       | 21      | \n",
       "\n",
       "\n"
      ],
      "text/plain": [
       "  nome    sexo idade\n",
       "1 João    M    22   \n",
       "2 Clara   F    24   \n",
       "3 Miguel  M    22   \n",
       "4 Mariana F    21   "
      ]
     },
     "metadata": {},
     "output_type": "display_data"
    }
   ],
   "source": [
    "## Aniversário de João\n",
    "alunos$idade[1] <- alunos$idade[1] + 1\n",
    " \n",
    "## equivalente\n",
    "# alunos[[\"idade\"]][1] <- alunos[[\"idade\"]][1] + 1\n",
    "\n",
    "\n",
    "alunos"
   ]
  },
  {
   "cell_type": "markdown",
   "metadata": {},
   "source": [
    "#### Advertência: o retorno da operação pode ser vertor ou data.frame\n",
    "- df[ ,\"x\"]                - retorna a coluna x do data.frame df como tipo vetor.\n",
    "- df$x                     - retorna a coluna x do data.frame df como tipo vetor.\n",
    "- df[ , \"x\", drop = FALSE] - retorna a coluna x do data.frame df como tipo data.frame.\n",
    "- df[\"x\"]                  - retorna a coluna x do data.frame df como tipo data.frame."
   ]
  },
  {
   "cell_type": "code",
   "execution_count": 77,
   "metadata": {},
   "outputs": [
    {
     "data": {
      "text/html": [
       "<table>\n",
       "<thead><tr><th scope=col>idade</th></tr></thead>\n",
       "<tbody>\n",
       "\t<tr><td>22</td></tr>\n",
       "\t<tr><td>24</td></tr>\n",
       "\t<tr><td>22</td></tr>\n",
       "\t<tr><td>21</td></tr>\n",
       "</tbody>\n",
       "</table>\n"
      ],
      "text/latex": [
       "\\begin{tabular}{r|l}\n",
       " idade\\\\\n",
       "\\hline\n",
       "\t 22\\\\\n",
       "\t 24\\\\\n",
       "\t 22\\\\\n",
       "\t 21\\\\\n",
       "\\end{tabular}\n"
      ],
      "text/markdown": [
       "\n",
       "idade | \n",
       "|---|---|---|---|\n",
       "| 22 | \n",
       "| 24 | \n",
       "| 22 | \n",
       "| 21 | \n",
       "\n",
       "\n"
      ],
      "text/plain": [
       "  idade\n",
       "1 22   \n",
       "2 24   \n",
       "3 22   \n",
       "4 21   "
      ]
     },
     "metadata": {},
     "output_type": "display_data"
    },
    {
     "data": {
      "text/html": [
       "<table>\n",
       "<thead><tr><th scope=col>idade</th></tr></thead>\n",
       "<tbody>\n",
       "\t<tr><td>22</td></tr>\n",
       "\t<tr><td>24</td></tr>\n",
       "\t<tr><td>22</td></tr>\n",
       "\t<tr><td>21</td></tr>\n",
       "</tbody>\n",
       "</table>\n"
      ],
      "text/latex": [
       "\\begin{tabular}{r|l}\n",
       " idade\\\\\n",
       "\\hline\n",
       "\t 22\\\\\n",
       "\t 24\\\\\n",
       "\t 22\\\\\n",
       "\t 21\\\\\n",
       "\\end{tabular}\n"
      ],
      "text/markdown": [
       "\n",
       "idade | \n",
       "|---|---|---|---|\n",
       "| 22 | \n",
       "| 24 | \n",
       "| 22 | \n",
       "| 21 | \n",
       "\n",
       "\n"
      ],
      "text/plain": [
       "  idade\n",
       "1 22   \n",
       "2 24   \n",
       "3 22   \n",
       "4 21   "
      ]
     },
     "metadata": {},
     "output_type": "display_data"
    }
   ],
   "source": [
    "## Retorna data.frame\n",
    "alunos[ ,\"idade\", drop = FALSE]\n",
    "\n",
    " \n",
    "## Retorna data.frame\n",
    "alunos[\"idade\"]\n"
   ]
  },
  {
   "cell_type": "code",
   "execution_count": 78,
   "metadata": {},
   "outputs": [
    {
     "data": {
      "text/html": [
       "<ol class=list-inline>\n",
       "\t<li>22</li>\n",
       "\t<li>24</li>\n",
       "\t<li>22</li>\n",
       "\t<li>21</li>\n",
       "</ol>\n"
      ],
      "text/latex": [
       "\\begin{enumerate*}\n",
       "\\item 22\n",
       "\\item 24\n",
       "\\item 22\n",
       "\\item 21\n",
       "\\end{enumerate*}\n"
      ],
      "text/markdown": [
       "1. 22\n",
       "2. 24\n",
       "3. 22\n",
       "4. 21\n",
       "\n",
       "\n"
      ],
      "text/plain": [
       "[1] 22 24 22 21"
      ]
     },
     "metadata": {},
     "output_type": "display_data"
    },
    {
     "data": {
      "text/html": [
       "<ol class=list-inline>\n",
       "\t<li>22</li>\n",
       "\t<li>24</li>\n",
       "\t<li>22</li>\n",
       "\t<li>21</li>\n",
       "</ol>\n"
      ],
      "text/latex": [
       "\\begin{enumerate*}\n",
       "\\item 22\n",
       "\\item 24\n",
       "\\item 22\n",
       "\\item 21\n",
       "\\end{enumerate*}\n"
      ],
      "text/markdown": [
       "1. 22\n",
       "2. 24\n",
       "3. 22\n",
       "4. 21\n",
       "\n",
       "\n"
      ],
      "text/plain": [
       "[1] 22 24 22 21"
      ]
     },
     "metadata": {},
     "output_type": "display_data"
    }
   ],
   "source": [
    "## Retorna vetor\n",
    "alunos$idade\n",
    "\n",
    " \n",
    "## Retorna vetor\n",
    "alunos[ ,\"idade\"]\n"
   ]
  },
  {
   "cell_type": "markdown",
   "metadata": {},
   "source": [
    "### 5.3 Adicionar Colunas e Linhas em data.frame\n",
    "- Há várias forma de se adicionar e remover colunas em data.frames\n",
    "- Para adicionar, pode utilizar $, [ , ],  [[ ]] ou com cbind()."
   ]
  },
  {
   "cell_type": "code",
   "execution_count": 131,
   "metadata": {
    "collapsed": true
   },
   "outputs": [],
   "source": [
    "# Adição de coluna no data.frame alunos\n",
    "\n",
    "# utilizando df$nova_coluna\n",
    "alunos$curso <- c(\"Engenharia Mecatrônica\", \"Engenharia de Computação\", \"Engenharia de Computação\", \"Engenharia de Computação\" )\n",
    "\n",
    "# utilizando [[]]\n",
    "alunos[[\"altura\"]] <- c(1.71, 1.55, 1.82, 1.63)\n",
    "\n",
    "# utilizando [ , \"nova_coluna\"]\n",
    "alunos[, \"peso\"] <- c(88.1, 55.2, 72.6, 61.1)\n",
    "\n",
    "# Utilizando matrizes\n",
    "alunos <- cbind(alunos, clube = c(\"ABC\", \"América\", \"Alecrim\", \"Potiguar\"),\n",
    "                      stringsAsFactors = FALSE)\n"
   ]
  },
  {
   "cell_type": "code",
   "execution_count": 95,
   "metadata": {},
   "outputs": [
    {
     "data": {
      "text/html": [
       "<table>\n",
       "<thead><tr><th scope=col>nome</th><th scope=col>sexo</th><th scope=col>idade</th><th scope=col>curso</th><th scope=col>altura</th><th scope=col>peso</th><th scope=col>clube</th></tr></thead>\n",
       "<tbody>\n",
       "\t<tr><td>João                    </td><td>M                       </td><td>22                      </td><td>Engenharia Mecatrônica  </td><td>1.71                    </td><td>88.1                    </td><td>ABC                     </td></tr>\n",
       "\t<tr><td>Clara                   </td><td>F                       </td><td>24                      </td><td>Engenharia de Computação</td><td>1.55                    </td><td>55.2                    </td><td>América                 </td></tr>\n",
       "\t<tr><td>Miguel                  </td><td>M                       </td><td>22                      </td><td>Engenharia de Computação</td><td>1.82                    </td><td>72.6                    </td><td>Alecrim                 </td></tr>\n",
       "\t<tr><td>Mariana                 </td><td>F                       </td><td>21                      </td><td>Engenharia de Computação</td><td>1.63                    </td><td>61.1                    </td><td>Potiguar                </td></tr>\n",
       "</tbody>\n",
       "</table>\n"
      ],
      "text/latex": [
       "\\begin{tabular}{r|lllllll}\n",
       " nome & sexo & idade & curso & altura & peso & clube\\\\\n",
       "\\hline\n",
       "\t João                     & M                        & 22                       & Engenharia Mecatrônica   & 1.71                     & 88.1                     & ABC                     \\\\\n",
       "\t Clara                    & F                        & 24                       & Engenharia de Computação & 1.55                     & 55.2                     & América                 \\\\\n",
       "\t Miguel                   & M                        & 22                       & Engenharia de Computação & 1.82                     & 72.6                     & Alecrim                 \\\\\n",
       "\t Mariana                  & F                        & 21                       & Engenharia de Computação & 1.63                     & 61.1                     & Potiguar                \\\\\n",
       "\\end{tabular}\n"
      ],
      "text/markdown": [
       "\n",
       "nome | sexo | idade | curso | altura | peso | clube | \n",
       "|---|---|---|---|\n",
       "| João                     | M                        | 22                       | Engenharia Mecatrônica   | 1.71                     | 88.1                     | ABC                      | \n",
       "| Clara                    | F                        | 24                       | Engenharia de Computação | 1.55                     | 55.2                     | América                  | \n",
       "| Miguel                   | M                        | 22                       | Engenharia de Computação | 1.82                     | 72.6                     | Alecrim                  | \n",
       "| Mariana                  | F                        | 21                       | Engenharia de Computação | 1.63                     | 61.1                     | Potiguar                 | \n",
       "\n",
       "\n"
      ],
      "text/plain": [
       "  nome    sexo idade curso                    altura peso clube   \n",
       "1 João    M    22    Engenharia Mecatrônica   1.71   88.1 ABC     \n",
       "2 Clara   F    24    Engenharia de Computação 1.55   55.2 América \n",
       "3 Miguel  M    22    Engenharia de Computação 1.82   72.6 Alecrim \n",
       "4 Mariana F    21    Engenharia de Computação 1.63   61.1 Potiguar"
      ]
     },
     "metadata": {},
     "output_type": "display_data"
    }
   ],
   "source": [
    "alunos"
   ]
  },
  {
   "cell_type": "markdown",
   "metadata": {},
   "source": [
    "#### Inclusão de nova linha\n",
    "- Basta atribuir uma nova linha ao data.frame.\n",
    "- Mas, se os elementos têm colunas de tipos diferentes, use a função data.frame\n",
    "   - para evitar que todas as colunas do o data.frame sejam transformadas num memso tipo."
   ]
  },
  {
   "cell_type": "code",
   "execution_count": 110,
   "metadata": {
    "collapsed": true
   },
   "outputs": [],
   "source": [
    "# Inclusão de uma nova linhas\n",
    "alunos[4, ] <- data.frame(nome = \"Ênio\", sexo = \"M\", idade = 21, curso = \"Engenharia Mecatrônica\",\n",
    "                          altura = 1.68, peso = 63.2,clube = \"Tashima\",\n",
    "                                stringsAsFactors = FALSE)"
   ]
  },
  {
   "cell_type": "code",
   "execution_count": 111,
   "metadata": {},
   "outputs": [
    {
     "data": {
      "text/html": [
       "<table>\n",
       "<thead><tr><th scope=col>nome</th><th scope=col>sexo</th><th scope=col>idade</th><th scope=col>curso</th><th scope=col>altura</th><th scope=col>peso</th><th scope=col>clube</th></tr></thead>\n",
       "<tbody>\n",
       "\t<tr><td>João                    </td><td>M                       </td><td>22                      </td><td>Engenharia Mecatrônica  </td><td>1.71                    </td><td>88.1                    </td><td>ABC                     </td></tr>\n",
       "\t<tr><td>Clara                   </td><td>F                       </td><td>24                      </td><td>Engenharia de Computação</td><td>1.55                    </td><td>55.2                    </td><td>América                 </td></tr>\n",
       "\t<tr><td>Miguel                  </td><td>M                       </td><td>22                      </td><td>Engenharia de Computação</td><td>1.82                    </td><td>72.6                    </td><td>Alecrim                 </td></tr>\n",
       "\t<tr><td>Ênio                    </td><td>M                       </td><td>21                      </td><td>Engenharia Mecatrônica  </td><td>1.68                    </td><td>63.2                    </td><td>Tashima                 </td></tr>\n",
       "</tbody>\n",
       "</table>\n"
      ],
      "text/latex": [
       "\\begin{tabular}{r|lllllll}\n",
       " nome & sexo & idade & curso & altura & peso & clube\\\\\n",
       "\\hline\n",
       "\t João                     & M                        & 22                       & Engenharia Mecatrônica   & 1.71                     & 88.1                     & ABC                     \\\\\n",
       "\t Clara                    & F                        & 24                       & Engenharia de Computação & 1.55                     & 55.2                     & América                 \\\\\n",
       "\t Miguel                   & M                        & 22                       & Engenharia de Computação & 1.82                     & 72.6                     & Alecrim                 \\\\\n",
       "\t Ênio                     & M                        & 21                       & Engenharia Mecatrônica   & 1.68                     & 63.2                     & Tashima                 \\\\\n",
       "\\end{tabular}\n"
      ],
      "text/markdown": [
       "\n",
       "nome | sexo | idade | curso | altura | peso | clube | \n",
       "|---|---|---|---|\n",
       "| João                     | M                        | 22                       | Engenharia Mecatrônica   | 1.71                     | 88.1                     | ABC                      | \n",
       "| Clara                    | F                        | 24                       | Engenharia de Computação | 1.55                     | 55.2                     | América                  | \n",
       "| Miguel                   | M                        | 22                       | Engenharia de Computação | 1.82                     | 72.6                     | Alecrim                  | \n",
       "| Ênio                     | M                        | 21                       | Engenharia Mecatrônica   | 1.68                     | 63.2                     | Tashima                  | \n",
       "\n",
       "\n"
      ],
      "text/plain": [
       "  nome   sexo idade curso                    altura peso clube  \n",
       "1 João   M    22    Engenharia Mecatrônica   1.71   88.1 ABC    \n",
       "2 Clara  F    24    Engenharia de Computação 1.55   55.2 América\n",
       "3 Miguel M    22    Engenharia de Computação 1.82   72.6 Alecrim\n",
       "4 Ênio   M    21    Engenharia Mecatrônica   1.68   63.2 Tashima"
      ]
     },
     "metadata": {},
     "output_type": "display_data"
    }
   ],
   "source": [
    "alunos"
   ]
  },
  {
   "cell_type": "markdown",
   "metadata": {},
   "source": [
    "- Outra maneira, é utilizando a finção rbind( )."
   ]
  },
  {
   "cell_type": "code",
   "execution_count": 116,
   "metadata": {},
   "outputs": [
    {
     "data": {
      "text/html": [
       "<table>\n",
       "<thead><tr><th scope=col>nome</th><th scope=col>sexo</th><th scope=col>idade</th><th scope=col>curso</th><th scope=col>altura</th><th scope=col>peso</th><th scope=col>clube</th></tr></thead>\n",
       "<tbody>\n",
       "\t<tr><td>João                    </td><td>M                       </td><td>22                      </td><td>Engenharia Mecatrônica  </td><td>1.71                    </td><td>88.1                    </td><td>ABC                     </td></tr>\n",
       "\t<tr><td>Clara                   </td><td>F                       </td><td>24                      </td><td>Engenharia de Computação</td><td>1.55                    </td><td>55.2                    </td><td>América                 </td></tr>\n",
       "\t<tr><td>Miguel                  </td><td>M                       </td><td>22                      </td><td>Engenharia de Computação</td><td>1.82                    </td><td>72.6                    </td><td>Alecrim                 </td></tr>\n",
       "\t<tr><td>Ênio                    </td><td>M                       </td><td>21                      </td><td>Engenharia Mecatrônica  </td><td>1.68                    </td><td>63.2                    </td><td>Tashima                 </td></tr>\n",
       "\t<tr><td>Amanda                  </td><td>F                       </td><td>20                      </td><td>Engenharia de Computação</td><td>1.65                    </td><td>62.1                    </td><td>ABC                     </td></tr>\n",
       "</tbody>\n",
       "</table>\n"
      ],
      "text/latex": [
       "\\begin{tabular}{r|lllllll}\n",
       " nome & sexo & idade & curso & altura & peso & clube\\\\\n",
       "\\hline\n",
       "\t João                     & M                        & 22                       & Engenharia Mecatrônica   & 1.71                     & 88.1                     & ABC                     \\\\\n",
       "\t Clara                    & F                        & 24                       & Engenharia de Computação & 1.55                     & 55.2                     & América                 \\\\\n",
       "\t Miguel                   & M                        & 22                       & Engenharia de Computação & 1.82                     & 72.6                     & Alecrim                 \\\\\n",
       "\t Ênio                     & M                        & 21                       & Engenharia Mecatrônica   & 1.68                     & 63.2                     & Tashima                 \\\\\n",
       "\t Amanda                   & F                        & 20                       & Engenharia de Computação & 1.65                     & 62.1                     & ABC                     \\\\\n",
       "\\end{tabular}\n"
      ],
      "text/markdown": [
       "\n",
       "nome | sexo | idade | curso | altura | peso | clube | \n",
       "|---|---|---|---|---|\n",
       "| João                     | M                        | 22                       | Engenharia Mecatrônica   | 1.71                     | 88.1                     | ABC                      | \n",
       "| Clara                    | F                        | 24                       | Engenharia de Computação | 1.55                     | 55.2                     | América                  | \n",
       "| Miguel                   | M                        | 22                       | Engenharia de Computação | 1.82                     | 72.6                     | Alecrim                  | \n",
       "| Ênio                     | M                        | 21                       | Engenharia Mecatrônica   | 1.68                     | 63.2                     | Tashima                  | \n",
       "| Amanda                   | F                        | 20                       | Engenharia de Computação | 1.65                     | 62.1                     | ABC                      | \n",
       "\n",
       "\n"
      ],
      "text/plain": [
       "  nome   sexo idade curso                    altura peso clube  \n",
       "1 João   M    22    Engenharia Mecatrônica   1.71   88.1 ABC    \n",
       "2 Clara  F    24    Engenharia de Computação 1.55   55.2 América\n",
       "3 Miguel M    22    Engenharia de Computação 1.82   72.6 Alecrim\n",
       "4 Ênio   M    21    Engenharia Mecatrônica   1.68   63.2 Tashima\n",
       "5 Amanda F    20    Engenharia de Computação 1.65   62.1 ABC    "
      ]
     },
     "metadata": {},
     "output_type": "display_data"
    }
   ],
   "source": [
    "# Inclusão de uma nova linha\n",
    "rbind(alunos, data.frame(nome = \"Amanda\", sexo = \"F\", idade = 20, curso = \"Engenharia de Computação\",\n",
    "                         altura = 1.65, peso = 62.1, clube = \"ABC\", \n",
    "                                stringsAsFactors = FALSE))"
   ]
  },
  {
   "cell_type": "code",
   "execution_count": 117,
   "metadata": {},
   "outputs": [
    {
     "data": {
      "text/html": [
       "<table>\n",
       "<thead><tr><th></th><th scope=col>nome</th><th scope=col>sexo</th><th scope=col>idade</th><th scope=col>curso</th><th scope=col>altura</th><th scope=col>peso</th><th scope=col>clube</th></tr></thead>\n",
       "<tbody>\n",
       "\t<tr><th scope=row>4</th><td>Ênio                  </td><td>M                     </td><td>21                    </td><td>Engenharia Mecatrônica</td><td>1.68                  </td><td>63.2                  </td><td>Tashima               </td></tr>\n",
       "\t<tr><th scope=row>NA</th><td>NA                    </td><td>NA                    </td><td>NA                    </td><td>NA                    </td><td>  NA                  </td><td>NA                    </td><td>NA                    </td></tr>\n",
       "</tbody>\n",
       "</table>\n"
      ],
      "text/latex": [
       "\\begin{tabular}{r|lllllll}\n",
       "  & nome & sexo & idade & curso & altura & peso & clube\\\\\n",
       "\\hline\n",
       "\t4 & Ênio                   & M                      & 21                     & Engenharia Mecatrônica & 1.68                   & 63.2                   & Tashima               \\\\\n",
       "\tNA & NA                     & NA                     & NA                     & NA                     &   NA                   & NA                     & NA                    \\\\\n",
       "\\end{tabular}\n"
      ],
      "text/markdown": [
       "\n",
       "| <!--/--> | nome | sexo | idade | curso | altura | peso | clube | \n",
       "|---|---|\n",
       "| 4 | Ênio                   | M                      | 21                     | Engenharia Mecatrônica | 1.68                   | 63.2                   | Tashima                | \n",
       "| NA | NA                     | NA                     | NA                     | NA                     |   NA                   | NA                     | NA                     | \n",
       "\n",
       "\n"
      ],
      "text/plain": [
       "   nome sexo idade curso                  altura peso clube  \n",
       "4  Ênio M    21    Engenharia Mecatrônica 1.68   63.2 Tashima\n",
       "NA NA   NA   NA    NA                       NA   NA   NA     "
      ]
     },
     "metadata": {},
     "output_type": "display_data"
    }
   ],
   "source": [
    "alunos[4:5,]"
   ]
  },
  {
   "cell_type": "markdown",
   "metadata": {},
   "source": [
    "#### Exercício: \n",
    "- Crie uma nova coluna com o IMC dos Alunos.\n",
    "   - IMC = peso/(altura ou quadrado)\n",
    "   - Calcule a média do IMC dos alunos."
   ]
  },
  {
   "cell_type": "code",
   "execution_count": 58,
   "metadata": {
    "collapsed": true
   },
   "outputs": [],
   "source": [
    "# Exercício\n",
    "\n"
   ]
  },
  {
   "cell_type": "markdown",
   "metadata": {},
   "source": [
    "### 5.3 Remover Colunas e Linhas em data.frame"
   ]
  },
  {
   "cell_type": "markdown",
   "metadata": {},
   "source": [
    "- Para remover uma remover uma coluna de um data.frame basta atribuir o valor NULL a ela.\n",
    "   - alunos$clube <- NULL\n",
    "- Removendo linhas de um data.frame basta selecionar apenas aquelas linhas que você deseja manter:\n",
    "  - alunos <- alunos[1:3, ]  # mantém as 03 primeiras linhas\n",
    "  - alunos <- alunos[alunos$peso > 65  # mantém os alunos com peso acima de 65 kilos"
   ]
  },
  {
   "cell_type": "markdown",
   "metadata": {},
   "source": [
    "#### Exercício:\n",
    "- Obtenha um data.frame meninos_altos, que correspondem aos alunos do sexo masculino com altura maior que 1.75m."
   ]
  },
  {
   "cell_type": "code",
   "execution_count": null,
   "metadata": {
    "collapsed": true
   },
   "outputs": [],
   "source": [
    "# Resolução do Exercício:\n"
   ]
  },
  {
   "cell_type": "markdown",
   "metadata": {},
   "source": [
    "### 5.4  Algumas Funções Importante\n",
    "- subset()  - \n",
    "- with()\n",
    "- sapply() e lapply()\n",
    "- Filter() \n",
    "- sort( )\n",
    "- order( )"
   ]
  },
  {
   "cell_type": "markdown",
   "metadata": {},
   "source": [
    "#### Função subset()\n",
    "- Esta função seleciona um sub-frame a partir de uma expressão lógica.\n",
    "- Estrura geral:\t\n",
    "     subset(nome_do_data_frame, expressao_logica_para_filtrar_linhas,\n",
    "            select = nomes_das_colunas)"
   ]
  },
  {
   "cell_type": "code",
   "execution_count": 107,
   "metadata": {},
   "outputs": [
    {
     "data": {
      "text/html": [
       "<table>\n",
       "<thead><tr><th scope=col>nome</th><th scope=col>sexo</th><th scope=col>idade</th><th scope=col>curso</th><th scope=col>altura</th><th scope=col>peso</th><th scope=col>clube</th></tr></thead>\n",
       "<tbody>\n",
       "\t<tr><td>João                    </td><td>M                       </td><td>22                      </td><td>Engenharia Mecatrônica  </td><td>1.71                    </td><td>88.1                    </td><td>ABC                     </td></tr>\n",
       "\t<tr><td>Clara                   </td><td>F                       </td><td>24                      </td><td>Engenharia de Computação</td><td>1.55                    </td><td>55.2                    </td><td>América                 </td></tr>\n",
       "\t<tr><td>Miguel                  </td><td>M                       </td><td>22                      </td><td>Engenharia de Computação</td><td>1.82                    </td><td>72.6                    </td><td>Alecrim                 </td></tr>\n",
       "\t<tr><td>Ênio                    </td><td>M                       </td><td>21                      </td><td>Engenharia Mecatrônica  </td><td>1.68                    </td><td>63.2                    </td><td>Tashima                 </td></tr>\n",
       "</tbody>\n",
       "</table>\n"
      ],
      "text/latex": [
       "\\begin{tabular}{r|lllllll}\n",
       " nome & sexo & idade & curso & altura & peso & clube\\\\\n",
       "\\hline\n",
       "\t João                     & M                        & 22                       & Engenharia Mecatrônica   & 1.71                     & 88.1                     & ABC                     \\\\\n",
       "\t Clara                    & F                        & 24                       & Engenharia de Computação & 1.55                     & 55.2                     & América                 \\\\\n",
       "\t Miguel                   & M                        & 22                       & Engenharia de Computação & 1.82                     & 72.6                     & Alecrim                 \\\\\n",
       "\t Ênio                     & M                        & 21                       & Engenharia Mecatrônica   & 1.68                     & 63.2                     & Tashima                 \\\\\n",
       "\\end{tabular}\n"
      ],
      "text/markdown": [
       "\n",
       "nome | sexo | idade | curso | altura | peso | clube | \n",
       "|---|---|---|---|\n",
       "| João                     | M                        | 22                       | Engenharia Mecatrônica   | 1.71                     | 88.1                     | ABC                      | \n",
       "| Clara                    | F                        | 24                       | Engenharia de Computação | 1.55                     | 55.2                     | América                  | \n",
       "| Miguel                   | M                        | 22                       | Engenharia de Computação | 1.82                     | 72.6                     | Alecrim                  | \n",
       "| Ênio                     | M                        | 21                       | Engenharia Mecatrônica   | 1.68                     | 63.2                     | Tashima                  | \n",
       "\n",
       "\n"
      ],
      "text/plain": [
       "  nome   sexo idade curso                    altura peso clube  \n",
       "1 João   M    22    Engenharia Mecatrônica   1.71   88.1 ABC    \n",
       "2 Clara  F    24    Engenharia de Computação 1.55   55.2 América\n",
       "3 Miguel M    22    Engenharia de Computação 1.82   72.6 Alecrim\n",
       "4 Ênio   M    21    Engenharia Mecatrônica   1.68   63.2 Tashima"
      ]
     },
     "metadata": {},
     "output_type": "display_data"
    }
   ],
   "source": [
    "alunos"
   ]
  },
  {
   "cell_type": "code",
   "execution_count": 106,
   "metadata": {},
   "outputs": [
    {
     "data": {
      "text/html": [
       "<table>\n",
       "<thead><tr><th></th><th scope=col>nome</th><th scope=col>sexo</th><th scope=col>idade</th><th scope=col>curso</th><th scope=col>altura</th><th scope=col>peso</th><th scope=col>clube</th></tr></thead>\n",
       "<tbody>\n",
       "\t<tr><th scope=row>2</th><td>Clara                   </td><td>F                       </td><td>24                      </td><td>Engenharia de Computação</td><td>1.55                    </td><td>55.2                    </td><td>América                 </td></tr>\n",
       "</tbody>\n",
       "</table>\n"
      ],
      "text/latex": [
       "\\begin{tabular}{r|lllllll}\n",
       "  & nome & sexo & idade & curso & altura & peso & clube\\\\\n",
       "\\hline\n",
       "\t2 & Clara                    & F                        & 24                       & Engenharia de Computação & 1.55                     & 55.2                     & América                 \\\\\n",
       "\\end{tabular}\n"
      ],
      "text/markdown": [
       "\n",
       "| <!--/--> | nome | sexo | idade | curso | altura | peso | clube | \n",
       "|---|\n",
       "| 2 | Clara                    | F                        | 24                       | Engenharia de Computação | 1.55                     | 55.2                     | América                  | \n",
       "\n",
       "\n"
      ],
      "text/plain": [
       "  nome  sexo idade curso                    altura peso clube  \n",
       "2 Clara F    24    Engenharia de Computação 1.55   55.2 América"
      ]
     },
     "metadata": {},
     "output_type": "display_data"
    }
   ],
   "source": [
    "# Exemplo de Uso\n",
    "\n",
    "## alunos[alunos$sexo == \"F\",]\n",
    "subset(alunos, sexo == \"F\")\n"
   ]
  },
  {
   "cell_type": "code",
   "execution_count": 119,
   "metadata": {},
   "outputs": [
    {
     "data": {
      "text/html": [
       "<table>\n",
       "<thead><tr><th></th><th scope=col>nome</th><th scope=col>sexo</th><th scope=col>idade</th><th scope=col>curso</th><th scope=col>altura</th><th scope=col>peso</th><th scope=col>clube</th></tr></thead>\n",
       "<tbody>\n",
       "\t<tr><th scope=row>1</th><td>João                    </td><td>M                       </td><td>22                      </td><td>Engenharia Mecatrônica  </td><td>1.71                    </td><td>88.1                    </td><td>ABC                     </td></tr>\n",
       "\t<tr><th scope=row>3</th><td>Miguel                  </td><td>M                       </td><td>22                      </td><td>Engenharia de Computação</td><td>1.82                    </td><td>72.6                    </td><td>Alecrim                 </td></tr>\n",
       "</tbody>\n",
       "</table>\n"
      ],
      "text/latex": [
       "\\begin{tabular}{r|lllllll}\n",
       "  & nome & sexo & idade & curso & altura & peso & clube\\\\\n",
       "\\hline\n",
       "\t1 & João                     & M                        & 22                       & Engenharia Mecatrônica   & 1.71                     & 88.1                     & ABC                     \\\\\n",
       "\t3 & Miguel                   & M                        & 22                       & Engenharia de Computação & 1.82                     & 72.6                     & Alecrim                 \\\\\n",
       "\\end{tabular}\n"
      ],
      "text/markdown": [
       "\n",
       "| <!--/--> | nome | sexo | idade | curso | altura | peso | clube | \n",
       "|---|---|\n",
       "| 1 | João                     | M                        | 22                       | Engenharia Mecatrônica   | 1.71                     | 88.1                     | ABC                      | \n",
       "| 3 | Miguel                   | M                        | 22                       | Engenharia de Computação | 1.82                     | 72.6                     | Alecrim                  | \n",
       "\n",
       "\n"
      ],
      "text/plain": [
       "  nome   sexo idade curso                    altura peso clube  \n",
       "1 João   M    22    Engenharia Mecatrônica   1.71   88.1 ABC    \n",
       "3 Miguel M    22    Engenharia de Computação 1.82   72.6 Alecrim"
      ]
     },
     "metadata": {},
     "output_type": "display_data"
    }
   ],
   "source": [
    "# Exemplo de Uso\n",
    "\n",
    "subset(alunos, sexo == \"M\" & altura >1.7 )"
   ]
  },
  {
   "cell_type": "code",
   "execution_count": 120,
   "metadata": {},
   "outputs": [
    {
     "data": {
      "text/html": [
       "<table>\n",
       "<thead><tr><th></th><th scope=col>nome</th><th scope=col>idade</th></tr></thead>\n",
       "<tbody>\n",
       "\t<tr><th scope=row>1</th><td>João  </td><td>22    </td></tr>\n",
       "\t<tr><th scope=row>3</th><td>Miguel</td><td>22    </td></tr>\n",
       "\t<tr><th scope=row>4</th><td>Ênio  </td><td>21    </td></tr>\n",
       "</tbody>\n",
       "</table>\n"
      ],
      "text/latex": [
       "\\begin{tabular}{r|ll}\n",
       "  & nome & idade\\\\\n",
       "\\hline\n",
       "\t1 & João   & 22    \\\\\n",
       "\t3 & Miguel & 22    \\\\\n",
       "\t4 & Ênio   & 21    \\\\\n",
       "\\end{tabular}\n"
      ],
      "text/markdown": [
       "\n",
       "| <!--/--> | nome | idade | \n",
       "|---|---|---|\n",
       "| 1 | João   | 22     | \n",
       "| 3 | Miguel | 22     | \n",
       "| 4 | Ênio   | 21     | \n",
       "\n",
       "\n"
      ],
      "text/plain": [
       "  nome   idade\n",
       "1 João   22   \n",
       "3 Miguel 22   \n",
       "4 Ênio   21   "
      ]
     },
     "metadata": {},
     "output_type": "display_data"
    }
   ],
   "source": [
    "# Exemplo de Uso\n",
    "# alunos[alunos$sexo == \"M\", c(\"nome\", \"idade\")]\n",
    "subset(alunos, sexo == \"M\", select = c(\"nome\", \"idade\"))"
   ]
  },
  {
   "cell_type": "markdown",
   "metadata": {},
   "source": [
    "#### Função with()\n",
    "- Função para facilitar operações com colunas.\n"
   ]
  },
  {
   "cell_type": "code",
   "execution_count": 132,
   "metadata": {},
   "outputs": [
    {
     "data": {
      "text/html": [
       "<table>\n",
       "<thead><tr><th scope=col>nome</th><th scope=col>sexo</th><th scope=col>idade</th><th scope=col>curso</th><th scope=col>altura</th><th scope=col>peso</th><th scope=col>clube</th></tr></thead>\n",
       "<tbody>\n",
       "\t<tr><td>João                    </td><td>M                       </td><td>21                      </td><td>Engenharia Mecatrônica  </td><td>1.71                    </td><td>88.1                    </td><td>ABC                     </td></tr>\n",
       "\t<tr><td>Clara                   </td><td>F                       </td><td>23                      </td><td>Engenharia de Computação</td><td>1.55                    </td><td>55.2                    </td><td>América                 </td></tr>\n",
       "\t<tr><td>Miguel                  </td><td>M                       </td><td>22                      </td><td>Engenharia de Computação</td><td>1.82                    </td><td>72.6                    </td><td>Alecrim                 </td></tr>\n",
       "\t<tr><td>Mariana                 </td><td>F                       </td><td>21                      </td><td>Engenharia de Computação</td><td>1.63                    </td><td>61.1                    </td><td>Potiguar                </td></tr>\n",
       "</tbody>\n",
       "</table>\n"
      ],
      "text/latex": [
       "\\begin{tabular}{r|lllllll}\n",
       " nome & sexo & idade & curso & altura & peso & clube\\\\\n",
       "\\hline\n",
       "\t João                     & M                        & 21                       & Engenharia Mecatrônica   & 1.71                     & 88.1                     & ABC                     \\\\\n",
       "\t Clara                    & F                        & 23                       & Engenharia de Computação & 1.55                     & 55.2                     & América                 \\\\\n",
       "\t Miguel                   & M                        & 22                       & Engenharia de Computação & 1.82                     & 72.6                     & Alecrim                 \\\\\n",
       "\t Mariana                  & F                        & 21                       & Engenharia de Computação & 1.63                     & 61.1                     & Potiguar                \\\\\n",
       "\\end{tabular}\n"
      ],
      "text/markdown": [
       "\n",
       "nome | sexo | idade | curso | altura | peso | clube | \n",
       "|---|---|---|---|\n",
       "| João                     | M                        | 21                       | Engenharia Mecatrônica   | 1.71                     | 88.1                     | ABC                      | \n",
       "| Clara                    | F                        | 23                       | Engenharia de Computação | 1.55                     | 55.2                     | América                  | \n",
       "| Miguel                   | M                        | 22                       | Engenharia de Computação | 1.82                     | 72.6                     | Alecrim                  | \n",
       "| Mariana                  | F                        | 21                       | Engenharia de Computação | 1.63                     | 61.1                     | Potiguar                 | \n",
       "\n",
       "\n"
      ],
      "text/plain": [
       "  nome    sexo idade curso                    altura peso clube   \n",
       "1 João    M    21    Engenharia Mecatrônica   1.71   88.1 ABC     \n",
       "2 Clara   F    23    Engenharia de Computação 1.55   55.2 América \n",
       "3 Miguel  M    22    Engenharia de Computação 1.82   72.6 Alecrim \n",
       "4 Mariana F    21    Engenharia de Computação 1.63   61.1 Potiguar"
      ]
     },
     "metadata": {},
     "output_type": "display_data"
    }
   ],
   "source": [
    "alunos"
   ]
  },
  {
   "cell_type": "code",
   "execution_count": 138,
   "metadata": {},
   "outputs": [
    {
     "data": {
      "text/html": [
       "<ol class=list-inline>\n",
       "\t<li>30.1289285592148</li>\n",
       "\t<li>22.9760665972945</li>\n",
       "\t<li>21.9176427967637</li>\n",
       "\t<li>22.99672550717</li>\n",
       "</ol>\n"
      ],
      "text/latex": [
       "\\begin{enumerate*}\n",
       "\\item 30.1289285592148\n",
       "\\item 22.9760665972945\n",
       "\\item 21.9176427967637\n",
       "\\item 22.99672550717\n",
       "\\end{enumerate*}\n"
      ],
      "text/markdown": [
       "1. 30.1289285592148\n",
       "2. 22.9760665972945\n",
       "3. 21.9176427967637\n",
       "4. 22.99672550717\n",
       "\n",
       "\n"
      ],
      "text/plain": [
       "[1] 30.12893 22.97607 21.91764 22.99673"
      ]
     },
     "metadata": {},
     "output_type": "display_data"
    }
   ],
   "source": [
    "# Exemplo de uso\n",
    "\n",
    "with(alunos, peso/(altura*altura))\n"
   ]
  },
  {
   "cell_type": "code",
   "execution_count": 141,
   "metadata": {},
   "outputs": [
    {
     "data": {
      "text/html": [
       "<ol class=list-inline>\n",
       "\t<li>21</li>\n",
       "\t<li>22</li>\n",
       "</ol>\n"
      ],
      "text/latex": [
       "\\begin{enumerate*}\n",
       "\\item 21\n",
       "\\item 22\n",
       "\\end{enumerate*}\n"
      ],
      "text/markdown": [
       "1. 21\n",
       "2. 22\n",
       "\n",
       "\n"
      ],
      "text/plain": [
       "[1] 21 22"
      ]
     },
     "metadata": {},
     "output_type": "display_data"
    },
    {
     "data": {
      "text/html": [
       "<ol class=list-inline>\n",
       "\t<li>21</li>\n",
       "\t<li>22</li>\n",
       "</ol>\n"
      ],
      "text/latex": [
       "\\begin{enumerate*}\n",
       "\\item 21\n",
       "\\item 22\n",
       "\\end{enumerate*}\n"
      ],
      "text/markdown": [
       "1. 21\n",
       "2. 22\n",
       "\n",
       "\n"
      ],
      "text/plain": [
       "[1] 21 22"
      ]
     },
     "metadata": {},
     "output_type": "display_data"
    },
    {
     "data": {
      "text/html": [
       "<ol class=list-inline>\n",
       "\t<li>21</li>\n",
       "\t<li>22</li>\n",
       "</ol>\n"
      ],
      "text/latex": [
       "\\begin{enumerate*}\n",
       "\\item 21\n",
       "\\item 22\n",
       "\\end{enumerate*}\n"
      ],
      "text/markdown": [
       "1. 21\n",
       "2. 22\n",
       "\n",
       "\n"
      ],
      "text/plain": [
       "[1] 21 22"
      ]
     },
     "metadata": {},
     "output_type": "display_data"
    },
    {
     "data": {
      "text/html": [
       "<ol class=list-inline>\n",
       "\t<li>21</li>\n",
       "\t<li>22</li>\n",
       "</ol>\n"
      ],
      "text/latex": [
       "\\begin{enumerate*}\n",
       "\\item 21\n",
       "\\item 22\n",
       "\\end{enumerate*}\n"
      ],
      "text/markdown": [
       "1. 21\n",
       "2. 22\n",
       "\n",
       "\n"
      ],
      "text/plain": [
       "[1] 21 22"
      ]
     },
     "metadata": {},
     "output_type": "display_data"
    }
   ],
   "source": [
    "# Quatro formas de fazer a mesma coisa\n",
    "\n",
    "subset(alunos, sexo == \"M\", select = \"idade\", drop = TRUE)\n",
    "with(alunos, idade[sexo == \"M\"])\n",
    "alunos$idade[alunos$sexo == \"M\"]\n",
    "alunos[alunos$sexo == \"M\", \"idade\"]"
   ]
  },
  {
   "cell_type": "markdown",
   "metadata": {},
   "source": [
    "#### Funções sapply() e lapply()\n",
    "- As funções sapply( ) e lapply( ) aplicam uma função nas colunas de um data.frame.\n",
    "- A diferença é que lapply( ) sempre retorna uma lista."
   ]
  },
  {
   "cell_type": "code",
   "execution_count": 142,
   "metadata": {},
   "outputs": [
    {
     "data": {
      "text/html": [
       "<table>\n",
       "<thead><tr><th scope=col>nome</th><th scope=col>sexo</th><th scope=col>idade</th><th scope=col>curso</th><th scope=col>altura</th><th scope=col>peso</th><th scope=col>clube</th></tr></thead>\n",
       "<tbody>\n",
       "\t<tr><td>João                    </td><td>M                       </td><td>21                      </td><td>Engenharia Mecatrônica  </td><td>1.71                    </td><td>88.1                    </td><td>ABC                     </td></tr>\n",
       "\t<tr><td>Clara                   </td><td>F                       </td><td>23                      </td><td>Engenharia de Computação</td><td>1.55                    </td><td>55.2                    </td><td>América                 </td></tr>\n",
       "\t<tr><td>Miguel                  </td><td>M                       </td><td>22                      </td><td>Engenharia de Computação</td><td>1.82                    </td><td>72.6                    </td><td>Alecrim                 </td></tr>\n",
       "\t<tr><td>Mariana                 </td><td>F                       </td><td>21                      </td><td>Engenharia de Computação</td><td>1.63                    </td><td>61.1                    </td><td>Potiguar                </td></tr>\n",
       "</tbody>\n",
       "</table>\n"
      ],
      "text/latex": [
       "\\begin{tabular}{r|lllllll}\n",
       " nome & sexo & idade & curso & altura & peso & clube\\\\\n",
       "\\hline\n",
       "\t João                     & M                        & 21                       & Engenharia Mecatrônica   & 1.71                     & 88.1                     & ABC                     \\\\\n",
       "\t Clara                    & F                        & 23                       & Engenharia de Computação & 1.55                     & 55.2                     & América                 \\\\\n",
       "\t Miguel                   & M                        & 22                       & Engenharia de Computação & 1.82                     & 72.6                     & Alecrim                 \\\\\n",
       "\t Mariana                  & F                        & 21                       & Engenharia de Computação & 1.63                     & 61.1                     & Potiguar                \\\\\n",
       "\\end{tabular}\n"
      ],
      "text/markdown": [
       "\n",
       "nome | sexo | idade | curso | altura | peso | clube | \n",
       "|---|---|---|---|\n",
       "| João                     | M                        | 21                       | Engenharia Mecatrônica   | 1.71                     | 88.1                     | ABC                      | \n",
       "| Clara                    | F                        | 23                       | Engenharia de Computação | 1.55                     | 55.2                     | América                  | \n",
       "| Miguel                   | M                        | 22                       | Engenharia de Computação | 1.82                     | 72.6                     | Alecrim                  | \n",
       "| Mariana                  | F                        | 21                       | Engenharia de Computação | 1.63                     | 61.1                     | Potiguar                 | \n",
       "\n",
       "\n"
      ],
      "text/plain": [
       "  nome    sexo idade curso                    altura peso clube   \n",
       "1 João    M    21    Engenharia Mecatrônica   1.71   88.1 ABC     \n",
       "2 Clara   F    23    Engenharia de Computação 1.55   55.2 América \n",
       "3 Miguel  M    22    Engenharia de Computação 1.82   72.6 Alecrim \n",
       "4 Mariana F    21    Engenharia de Computação 1.63   61.1 Potiguar"
      ]
     },
     "metadata": {},
     "output_type": "display_data"
    }
   ],
   "source": [
    "alunos"
   ]
  },
  {
   "cell_type": "code",
   "execution_count": 143,
   "metadata": {},
   "outputs": [
    {
     "data": {
      "text/html": [
       "<dl class=dl-horizontal>\n",
       "\t<dt>altura</dt>\n",
       "\t\t<dd>1.6775</dd>\n",
       "\t<dt>peso</dt>\n",
       "\t\t<dd>69.25</dd>\n",
       "</dl>\n"
      ],
      "text/latex": [
       "\\begin{description*}\n",
       "\\item[altura] 1.6775\n",
       "\\item[peso] 69.25\n",
       "\\end{description*}\n"
      ],
      "text/markdown": [
       "altura\n",
       ":   1.6775peso\n",
       ":   69.25\n",
       "\n"
      ],
      "text/plain": [
       " altura    peso \n",
       " 1.6775 69.2500 "
      ]
     },
     "metadata": {},
     "output_type": "display_data"
    },
    {
     "data": {
      "text/html": [
       "<dl>\n",
       "\t<dt>$altura</dt>\n",
       "\t\t<dd>1.6775</dd>\n",
       "\t<dt>$peso</dt>\n",
       "\t\t<dd>69.25</dd>\n",
       "</dl>\n"
      ],
      "text/latex": [
       "\\begin{description}\n",
       "\\item[\\$altura] 1.6775\n",
       "\\item[\\$peso] 69.25\n",
       "\\end{description}\n"
      ],
      "text/markdown": [
       "$altura\n",
       ":   1.6775\n",
       "$peso\n",
       ":   69.25\n",
       "\n",
       "\n"
      ],
      "text/plain": [
       "$altura\n",
       "[1] 1.6775\n",
       "\n",
       "$peso\n",
       "[1] 69.25\n"
      ]
     },
     "metadata": {},
     "output_type": "display_data"
    }
   ],
   "source": [
    "# Aploca a função mean nas colunas altura e peso\n",
    "sapply(alunos[5:6], mean)\n",
    "\n",
    "lapply(alunos[5:6], mean)"
   ]
  },
  {
   "cell_type": "markdown",
   "metadata": {},
   "source": [
    "#### Função Filter()\n",
    "- FIltra  apenas aquelas colunas de determinada classe (ou que satisfaçam determinada condição)."
   ]
  },
  {
   "cell_type": "code",
   "execution_count": 144,
   "metadata": {},
   "outputs": [
    {
     "data": {
      "text/html": [
       "<table>\n",
       "<thead><tr><th scope=col>idade</th><th scope=col>altura</th><th scope=col>peso</th></tr></thead>\n",
       "<tbody>\n",
       "\t<tr><td>21  </td><td>1.71</td><td>88.1</td></tr>\n",
       "\t<tr><td>23  </td><td>1.55</td><td>55.2</td></tr>\n",
       "\t<tr><td>22  </td><td>1.82</td><td>72.6</td></tr>\n",
       "\t<tr><td>21  </td><td>1.63</td><td>61.1</td></tr>\n",
       "</tbody>\n",
       "</table>\n"
      ],
      "text/latex": [
       "\\begin{tabular}{r|lll}\n",
       " idade & altura & peso\\\\\n",
       "\\hline\n",
       "\t 21   & 1.71 & 88.1\\\\\n",
       "\t 23   & 1.55 & 55.2\\\\\n",
       "\t 22   & 1.82 & 72.6\\\\\n",
       "\t 21   & 1.63 & 61.1\\\\\n",
       "\\end{tabular}\n"
      ],
      "text/markdown": [
       "\n",
       "idade | altura | peso | \n",
       "|---|---|---|---|\n",
       "| 21   | 1.71 | 88.1 | \n",
       "| 23   | 1.55 | 55.2 | \n",
       "| 22   | 1.82 | 72.6 | \n",
       "| 21   | 1.63 | 61.1 | \n",
       "\n",
       "\n"
      ],
      "text/plain": [
       "  idade altura peso\n",
       "1 21    1.71   88.1\n",
       "2 23    1.55   55.2\n",
       "3 22    1.82   72.6\n",
       "4 21    1.63   61.1"
      ]
     },
     "metadata": {},
     "output_type": "display_data"
    }
   ],
   "source": [
    "# seleciona apenas colunas numéricas\n",
    "Filter(is.numeric, alunos)"
   ]
  },
  {
   "cell_type": "code",
   "execution_count": 145,
   "metadata": {},
   "outputs": [
    {
     "data": {
      "text/html": [
       "<table>\n",
       "<thead><tr><th scope=col>nome</th><th scope=col>sexo</th><th scope=col>curso</th><th scope=col>clube</th></tr></thead>\n",
       "<tbody>\n",
       "\t<tr><td>João                    </td><td>M                       </td><td>Engenharia Mecatrônica  </td><td>ABC                     </td></tr>\n",
       "\t<tr><td>Clara                   </td><td>F                       </td><td>Engenharia de Computação</td><td>América                 </td></tr>\n",
       "\t<tr><td>Miguel                  </td><td>M                       </td><td>Engenharia de Computação</td><td>Alecrim                 </td></tr>\n",
       "\t<tr><td>Mariana                 </td><td>F                       </td><td>Engenharia de Computação</td><td>Potiguar                </td></tr>\n",
       "</tbody>\n",
       "</table>\n"
      ],
      "text/latex": [
       "\\begin{tabular}{r|llll}\n",
       " nome & sexo & curso & clube\\\\\n",
       "\\hline\n",
       "\t João                     & M                        & Engenharia Mecatrônica   & ABC                     \\\\\n",
       "\t Clara                    & F                        & Engenharia de Computação & América                 \\\\\n",
       "\t Miguel                   & M                        & Engenharia de Computação & Alecrim                 \\\\\n",
       "\t Mariana                  & F                        & Engenharia de Computação & Potiguar                \\\\\n",
       "\\end{tabular}\n"
      ],
      "text/markdown": [
       "\n",
       "nome | sexo | curso | clube | \n",
       "|---|---|---|---|\n",
       "| João                     | M                        | Engenharia Mecatrônica   | ABC                      | \n",
       "| Clara                    | F                        | Engenharia de Computação | América                  | \n",
       "| Miguel                   | M                        | Engenharia de Computação | Alecrim                  | \n",
       "| Mariana                  | F                        | Engenharia de Computação | Potiguar                 | \n",
       "\n",
       "\n"
      ],
      "text/plain": [
       "  nome    sexo curso                    clube   \n",
       "1 João    M    Engenharia Mecatrônica   ABC     \n",
       "2 Clara   F    Engenharia de Computação América \n",
       "3 Miguel  M    Engenharia de Computação Alecrim \n",
       "4 Mariana F    Engenharia de Computação Potiguar"
      ]
     },
     "metadata": {},
     "output_type": "display_data"
    }
   ],
   "source": [
    "# seleciona apenas colunas de texto\n",
    "Filter(is.character, alunos)"
   ]
  },
  {
   "cell_type": "code",
   "execution_count": 147,
   "metadata": {},
   "outputs": [
    {
     "data": {
      "text/html": [
       "<dl class=dl-horizontal>\n",
       "\t<dt>idade</dt>\n",
       "\t\t<dd>21.75</dd>\n",
       "\t<dt>altura</dt>\n",
       "\t\t<dd>1.6775</dd>\n",
       "\t<dt>peso</dt>\n",
       "\t\t<dd>69.25</dd>\n",
       "</dl>\n"
      ],
      "text/latex": [
       "\\begin{description*}\n",
       "\\item[idade] 21.75\n",
       "\\item[altura] 1.6775\n",
       "\\item[peso] 69.25\n",
       "\\end{description*}\n"
      ],
      "text/markdown": [
       "idade\n",
       ":   21.75altura\n",
       ":   1.6775peso\n",
       ":   69.25\n",
       "\n"
      ],
      "text/plain": [
       "  idade  altura    peso \n",
       "21.7500  1.6775 69.2500 "
      ]
     },
     "metadata": {},
     "output_type": "display_data"
    }
   ],
   "source": [
    "# aplica a média apenas para variáveis numéricas\n",
    "sapply(Filter(is.numeric, alunos), mean)"
   ]
  },
  {
   "cell_type": "markdown",
   "metadata": {},
   "source": [
    "#### Exercício: Obtenha os maiores valores de idade, altura e peso dos alunos\n"
   ]
  },
  {
   "cell_type": "code",
   "execution_count": null,
   "metadata": {
    "collapsed": true
   },
   "outputs": [],
   "source": [
    "# Exercício - resolução\n",
    "\n"
   ]
  },
  {
   "cell_type": "markdown",
   "metadata": {},
   "source": [
    "#### Função sort( )\n",
    "    - Este comendo faz uma classificação (crescente ou decrescente) de um vetor.\n",
    "    - sintaxe --> sort(x, decreasing = FALSE, ...)\n",
    "        - onde x é o vetor a ser classificado, decreasing = false define que a classificação será em ordem crescente e ... significa que outros argumentos podem ser incrementados. \n",
    "        - Por exemplo: na.last = NA significa que valores que não foram definidos não vão ser listados. \n",
    "        - Outras opções seriam na.last = TRUE (os valores faltantes ficariam após o último valor classificado) e na.last=FALSE  (os valores faltantes ficariam antes do primeiro valor classificado)."
   ]
  },
  {
   "cell_type": "code",
   "execution_count": 12,
   "metadata": {},
   "outputs": [
    {
     "data": {
      "text/html": [
       "<ol class=list-inline>\n",
       "\t<li>-5</li>\n",
       "\t<li>-2</li>\n",
       "\t<li>0</li>\n",
       "\t<li>3</li>\n",
       "\t<li>4</li>\n",
       "\t<li>10</li>\n",
       "\t<li>30</li>\n",
       "</ol>\n"
      ],
      "text/latex": [
       "\\begin{enumerate*}\n",
       "\\item -5\n",
       "\\item -2\n",
       "\\item 0\n",
       "\\item 3\n",
       "\\item 4\n",
       "\\item 10\n",
       "\\item 30\n",
       "\\end{enumerate*}\n"
      ],
      "text/markdown": [
       "1. -5\n",
       "2. -2\n",
       "3. 0\n",
       "4. 3\n",
       "5. 4\n",
       "6. 10\n",
       "7. 30\n",
       "\n",
       "\n"
      ],
      "text/plain": [
       "[1] -5 -2  0  3  4 10 30"
      ]
     },
     "metadata": {},
     "output_type": "display_data"
    },
    {
     "data": {
      "text/html": [
       "<ol class=list-inline>\n",
       "\t<li>30</li>\n",
       "\t<li>10</li>\n",
       "\t<li>4</li>\n",
       "\t<li>3</li>\n",
       "\t<li>0</li>\n",
       "\t<li>-2</li>\n",
       "\t<li>-5</li>\n",
       "\t<li>NA</li>\n",
       "\t<li>NA</li>\n",
       "</ol>\n"
      ],
      "text/latex": [
       "\\begin{enumerate*}\n",
       "\\item 30\n",
       "\\item 10\n",
       "\\item 4\n",
       "\\item 3\n",
       "\\item 0\n",
       "\\item -2\n",
       "\\item -5\n",
       "\\item NA\n",
       "\\item NA\n",
       "\\end{enumerate*}\n"
      ],
      "text/markdown": [
       "1. 30\n",
       "2. 10\n",
       "3. 4\n",
       "4. 3\n",
       "5. 0\n",
       "6. -2\n",
       "7. -5\n",
       "8. NA\n",
       "9. NA\n",
       "\n",
       "\n"
      ],
      "text/plain": [
       "[1] 30 10  4  3  0 -2 -5 NA NA"
      ]
     },
     "metadata": {},
     "output_type": "display_data"
    }
   ],
   "source": [
    "amostra <- c(4, 10, 3, -2, NA, 0, NA, 30, -5)\n",
    "sort(amostra)   #É a classificação simples com os argumentos com seus valores padrões\n",
    "sort(amostra, decreasing=TRUE, na.last=TRUE)  # ordenar de forma decrescente e comocar os NA no final"
   ]
  },
  {
   "cell_type": "markdown",
   "metadata": {},
   "source": [
    "#### Função order()\n",
    "    - A função faz uma permutação que rearranja os valores em ordem crescente ou decrescente.\n",
    "    - A sintaxe da função order é:\n",
    "        - order(..., na.last = TRUE, decreasing = FALSE)"
   ]
  },
  {
   "cell_type": "code",
   "execution_count": 21,
   "metadata": {},
   "outputs": [
    {
     "data": {
      "text/html": [
       "<ol class=list-inline>\n",
       "\t<li>'g'</li>\n",
       "\t<li>'a'</li>\n",
       "\t<li>'z'</li>\n",
       "\t<li>'c'</li>\n",
       "</ol>\n"
      ],
      "text/latex": [
       "\\begin{enumerate*}\n",
       "\\item 'g'\n",
       "\\item 'a'\n",
       "\\item 'z'\n",
       "\\item 'c'\n",
       "\\end{enumerate*}\n"
      ],
      "text/markdown": [
       "1. 'g'\n",
       "2. 'a'\n",
       "3. 'z'\n",
       "4. 'c'\n",
       "\n",
       "\n"
      ],
      "text/plain": [
       "[1] \"g\" \"a\" \"z\" \"c\""
      ]
     },
     "metadata": {},
     "output_type": "display_data"
    },
    {
     "data": {
      "text/html": [
       "<ol class=list-inline>\n",
       "\t<li>2</li>\n",
       "\t<li>4</li>\n",
       "\t<li>1</li>\n",
       "\t<li>3</li>\n",
       "</ol>\n"
      ],
      "text/latex": [
       "\\begin{enumerate*}\n",
       "\\item 2\n",
       "\\item 4\n",
       "\\item 1\n",
       "\\item 3\n",
       "\\end{enumerate*}\n"
      ],
      "text/markdown": [
       "1. 2\n",
       "2. 4\n",
       "3. 1\n",
       "4. 3\n",
       "\n",
       "\n"
      ],
      "text/plain": [
       "[1] 2 4 1 3"
      ]
     },
     "metadata": {},
     "output_type": "display_data"
    },
    {
     "data": {
      "text/html": [
       "<ol class=list-inline>\n",
       "\t<li>'a'</li>\n",
       "\t<li>'c'</li>\n",
       "\t<li>'g'</li>\n",
       "\t<li>'z'</li>\n",
       "</ol>\n"
      ],
      "text/latex": [
       "\\begin{enumerate*}\n",
       "\\item 'a'\n",
       "\\item 'c'\n",
       "\\item 'g'\n",
       "\\item 'z'\n",
       "\\end{enumerate*}\n"
      ],
      "text/markdown": [
       "1. 'a'\n",
       "2. 'c'\n",
       "3. 'g'\n",
       "4. 'z'\n",
       "\n",
       "\n"
      ],
      "text/plain": [
       "[1] \"a\" \"c\" \"g\" \"z\""
      ]
     },
     "metadata": {},
     "output_type": "display_data"
    },
    {
     "data": {
      "text/html": [
       "<ol class=list-inline>\n",
       "\t<li>'a'</li>\n",
       "\t<li>'c'</li>\n",
       "\t<li>'g'</li>\n",
       "\t<li>'z'</li>\n",
       "</ol>\n"
      ],
      "text/latex": [
       "\\begin{enumerate*}\n",
       "\\item 'a'\n",
       "\\item 'c'\n",
       "\\item 'g'\n",
       "\\item 'z'\n",
       "\\end{enumerate*}\n"
      ],
      "text/markdown": [
       "1. 'a'\n",
       "2. 'c'\n",
       "3. 'g'\n",
       "4. 'z'\n",
       "\n",
       "\n"
      ],
      "text/plain": [
       "[1] \"a\" \"c\" \"g\" \"z\""
      ]
     },
     "metadata": {},
     "output_type": "display_data"
    }
   ],
   "source": [
    "# exemplo de uso da função order()\n",
    "letras <-c('g', 'a', 'z', 'c')\n",
    "a <- order(letras)\n",
    "b <- sort(letras)\n",
    "c <- letras[order(letras)]\n",
    "letras\n",
    "a\n",
    "b\n",
    "c"
   ]
  },
  {
   "cell_type": "markdown",
   "metadata": {},
   "source": [
    "- Mais exemplos com a função order()."
   ]
  },
  {
   "cell_type": "code",
   "execution_count": 5,
   "metadata": {},
   "outputs": [
    {
     "data": {
      "text/html": [
       "<table>\n",
       "<thead><tr><th scope=col>w</th><th scope=col>x</th><th scope=col>y</th><th scope=col>z</th></tr></thead>\n",
       "<tbody>\n",
       "\t<tr><td>A         </td><td>D         </td><td>-0.6264538</td><td> 0.3295078</td></tr>\n",
       "\t<tr><td>B         </td><td>C         </td><td> 0.1836433</td><td>-0.8204684</td></tr>\n",
       "\t<tr><td>A         </td><td>D         </td><td>-0.8356286</td><td> 0.4874291</td></tr>\n",
       "\t<tr><td>B         </td><td>C         </td><td> 1.5952808</td><td> 0.7383247</td></tr>\n",
       "</tbody>\n",
       "</table>\n"
      ],
      "text/latex": [
       "\\begin{tabular}{r|llll}\n",
       " w & x & y & z\\\\\n",
       "\\hline\n",
       "\t A          & D          & -0.6264538 &  0.3295078\\\\\n",
       "\t B          & C          &  0.1836433 & -0.8204684\\\\\n",
       "\t A          & D          & -0.8356286 &  0.4874291\\\\\n",
       "\t B          & C          &  1.5952808 &  0.7383247\\\\\n",
       "\\end{tabular}\n"
      ],
      "text/markdown": [
       "\n",
       "w | x | y | z | \n",
       "|---|---|---|---|\n",
       "| A          | D          | -0.6264538 |  0.3295078 | \n",
       "| B          | C          |  0.1836433 | -0.8204684 | \n",
       "| A          | D          | -0.8356286 |  0.4874291 | \n",
       "| B          | C          |  1.5952808 |  0.7383247 | \n",
       "\n",
       "\n"
      ],
      "text/plain": [
       "  w x y          z         \n",
       "1 A D -0.6264538  0.3295078\n",
       "2 B C  0.1836433 -0.8204684\n",
       "3 A D -0.8356286  0.4874291\n",
       "4 B C  1.5952808  0.7383247"
      ]
     },
     "metadata": {},
     "output_type": "display_data"
    }
   ],
   "source": [
    "#set.seed(1)\n",
    "dados <- data.frame(w=rep(c(\"A\", \"B\"), 2), x= rep(c(\"D\", \"C\"), 2), y= rnorm(4), z=rnorm(4),\n",
    "                    stringsAsFactors=FALSE)\n",
    "dados"
   ]
  },
  {
   "cell_type": "code",
   "execution_count": 6,
   "metadata": {},
   "outputs": [
    {
     "data": {
      "text/html": [
       "<table>\n",
       "<thead><tr><th></th><th scope=col>w</th><th scope=col>x</th><th scope=col>y</th><th scope=col>z</th></tr></thead>\n",
       "<tbody>\n",
       "\t<tr><th scope=row>4</th><td>B         </td><td>C         </td><td> 1.5952808</td><td> 0.7383247</td></tr>\n",
       "\t<tr><th scope=row>2</th><td>B         </td><td>C         </td><td> 0.1836433</td><td>-0.8204684</td></tr>\n",
       "\t<tr><th scope=row>1</th><td>A         </td><td>D         </td><td>-0.6264538</td><td> 0.3295078</td></tr>\n",
       "\t<tr><th scope=row>3</th><td>A         </td><td>D         </td><td>-0.8356286</td><td> 0.4874291</td></tr>\n",
       "</tbody>\n",
       "</table>\n"
      ],
      "text/latex": [
       "\\begin{tabular}{r|llll}\n",
       "  & w & x & y & z\\\\\n",
       "\\hline\n",
       "\t4 & B          & C          &  1.5952808 &  0.7383247\\\\\n",
       "\t2 & B          & C          &  0.1836433 & -0.8204684\\\\\n",
       "\t1 & A          & D          & -0.6264538 &  0.3295078\\\\\n",
       "\t3 & A          & D          & -0.8356286 &  0.4874291\\\\\n",
       "\\end{tabular}\n"
      ],
      "text/markdown": [
       "\n",
       "| <!--/--> | w | x | y | z | \n",
       "|---|---|---|---|\n",
       "| 4 | B          | C          |  1.5952808 |  0.7383247 | \n",
       "| 2 | B          | C          |  0.1836433 | -0.8204684 | \n",
       "| 1 | A          | D          | -0.6264538 |  0.3295078 | \n",
       "| 3 | A          | D          | -0.8356286 |  0.4874291 | \n",
       "\n",
       "\n"
      ],
      "text/plain": [
       "  w x y          z         \n",
       "4 B C  1.5952808  0.7383247\n",
       "2 B C  0.1836433 -0.8204684\n",
       "1 A D -0.6264538  0.3295078\n",
       "3 A D -0.8356286  0.4874291"
      ]
     },
     "metadata": {},
     "output_type": "display_data"
    }
   ],
   "source": [
    "# Solução 1\n",
    "# No caso, ordena de acordo por w em ordem alfabética inversa, x em ordem alfabética e y em ordem decrescente. Se quiser que tudo seja na mesma ordem, basta um TRUE ou FALSE, que valerá para todos.\n",
    "\n",
    "dados[order(dados$w, dados$x, dados$y, decreasing=c(TRUE, FALSE, TRUE)), ] \n"
   ]
  },
  {
   "cell_type": "code",
   "execution_count": null,
   "metadata": {
    "collapsed": true
   },
   "outputs": [],
   "source": [
    "# caso se queira ordenar apenas uma coluna\n",
    "\n",
    "dados[order(dados$z, decreasing=TRUE),]"
   ]
  },
  {
   "cell_type": "code",
   "execution_count": 7,
   "metadata": {},
   "outputs": [
    {
     "data": {
      "text/html": [
       "<table>\n",
       "<thead><tr><th scope=col>w</th><th scope=col>x</th><th scope=col>y</th><th scope=col>z</th></tr></thead>\n",
       "<tbody>\n",
       "\t<tr><td>B         </td><td>C         </td><td> 1.5952808</td><td> 0.7383247</td></tr>\n",
       "\t<tr><td>A         </td><td>D         </td><td>-0.8356286</td><td> 0.4874291</td></tr>\n",
       "\t<tr><td>A         </td><td>D         </td><td>-0.6264538</td><td> 0.3295078</td></tr>\n",
       "\t<tr><td>B         </td><td>C         </td><td> 0.1836433</td><td>-0.8204684</td></tr>\n",
       "</tbody>\n",
       "</table>\n"
      ],
      "text/latex": [
       "\\begin{tabular}{r|llll}\n",
       " w & x & y & z\\\\\n",
       "\\hline\n",
       "\t B          & C          &  1.5952808 &  0.7383247\\\\\n",
       "\t A          & D          & -0.8356286 &  0.4874291\\\\\n",
       "\t A          & D          & -0.6264538 &  0.3295078\\\\\n",
       "\t B          & C          &  0.1836433 & -0.8204684\\\\\n",
       "\\end{tabular}\n"
      ],
      "text/markdown": [
       "\n",
       "w | x | y | z | \n",
       "|---|---|---|---|\n",
       "| B          | C          |  1.5952808 |  0.7383247 | \n",
       "| A          | D          | -0.8356286 |  0.4874291 | \n",
       "| A          | D          | -0.6264538 |  0.3295078 | \n",
       "| B          | C          |  0.1836433 | -0.8204684 | \n",
       "\n",
       "\n"
      ],
      "text/plain": [
       "  w x y          z         \n",
       "1 B C  1.5952808  0.7383247\n",
       "2 A D -0.8356286  0.4874291\n",
       "3 A D -0.6264538  0.3295078\n",
       "4 B C  0.1836433 -0.8204684"
      ]
     },
     "metadata": {},
     "output_type": "display_data"
    }
   ],
   "source": [
    "# Usando o pacote plyr\n",
    "library(plyr)\n",
    "arrange(dados,desc(z))\n",
    " "
   ]
  },
  {
   "cell_type": "code",
   "execution_count": 10,
   "metadata": {},
   "outputs": [
    {
     "data": {
      "text/html": [
       "<table>\n",
       "<thead><tr><th scope=col>w</th><th scope=col>x</th><th scope=col>y</th><th scope=col>z</th></tr></thead>\n",
       "<tbody>\n",
       "\t<tr><td>B         </td><td>C         </td><td> 0.1836433</td><td>-0.8204684</td></tr>\n",
       "\t<tr><td>B         </td><td>C         </td><td> 1.5952808</td><td> 0.7383247</td></tr>\n",
       "\t<tr><td>A         </td><td>D         </td><td>-0.6264538</td><td> 0.3295078</td></tr>\n",
       "\t<tr><td>A         </td><td>D         </td><td>-0.8356286</td><td> 0.4874291</td></tr>\n",
       "</tbody>\n",
       "</table>\n"
      ],
      "text/latex": [
       "\\begin{tabular}{r|llll}\n",
       " w & x & y & z\\\\\n",
       "\\hline\n",
       "\t B          & C          &  0.1836433 & -0.8204684\\\\\n",
       "\t B          & C          &  1.5952808 &  0.7383247\\\\\n",
       "\t A          & D          & -0.6264538 &  0.3295078\\\\\n",
       "\t A          & D          & -0.8356286 &  0.4874291\\\\\n",
       "\\end{tabular}\n"
      ],
      "text/markdown": [
       "\n",
       "w | x | y | z | \n",
       "|---|---|---|---|\n",
       "| B          | C          |  0.1836433 | -0.8204684 | \n",
       "| B          | C          |  1.5952808 |  0.7383247 | \n",
       "| A          | D          | -0.6264538 |  0.3295078 | \n",
       "| A          | D          | -0.8356286 |  0.4874291 | \n",
       "\n",
       "\n"
      ],
      "text/plain": [
       "  w x y          z         \n",
       "1 B C  0.1836433 -0.8204684\n",
       "2 B C  1.5952808  0.7383247\n",
       "3 A D -0.6264538  0.3295078\n",
       "4 A D -0.8356286  0.4874291"
      ]
     },
     "metadata": {},
     "output_type": "display_data"
    }
   ],
   "source": [
    "# Usando a função arrange - o default é ordenar de forma crescente\n",
    "arrange(dados,desc(w),z)\n"
   ]
  },
  {
   "cell_type": "markdown",
   "metadata": {},
   "source": [
    "## 6. Controle de Fluxo em R\n",
    "\n",
    "- If\n",
    "- Loop while\n",
    "- Loop for\n"
   ]
  },
  {
   "cell_type": "markdown",
   "metadata": {},
   "source": [
    "### 6.1 Comando IF-ELSE:\n",
    "\n",
    "if (logic_condition) \n",
    "\n",
    " { \n",
    "   conjunto de comandos\n",
    " }  \n",
    "      \n",
    "else \n",
    " {\n",
    "  conjunto de comandos\n",
    " }"
   ]
  },
  {
   "cell_type": "code",
   "execution_count": null,
   "metadata": {
    "collapsed": true
   },
   "outputs": [],
   "source": [
    "# Variables related to your last day of recordings\n",
    "medium <- \"LinkedIn\"\n",
    "num_views <- 14\n",
    "\n",
    "# Control structure for medium\n",
    "if (medium == \"LinkedIn\") {\n",
    "  print(\"Showing LinkedIn information\")\n",
    "} else if (medium == \"Facebook\") {\n",
    "  # Add code to print correct string when condition is TRUE\n",
    "   print(\"Showing Facebook information\")\n",
    "} else {\n",
    "  print(\"Unknown medium\")\n",
    "}\n",
    "\n",
    "# Control structure for num_views\n",
    "if (num_views > 15) {\n",
    "  print(\"You're popular!\")\n",
    "} else if (num_views <= 15 & num_views > 10) {\n",
    "  # Add code to print correct string when condition is TRUE\n",
    "   print(\"Your number of views is average\")\n",
    "} else {\n",
    "  print(\"Try to be more visible!\")\n",
    "}"
   ]
  },
  {
   "cell_type": "markdown",
   "metadata": {},
   "source": [
    "### 6.2 Comando WHILE\n",
    "\n",
    "while (logic_condition)\n",
    "\n",
    " { \n",
    " \n",
    "   conjunto de comandos\n",
    "   \n",
    " }"
   ]
  },
  {
   "cell_type": "code",
   "execution_count": 2,
   "metadata": {},
   "outputs": [
    {
     "name": "stdout",
     "output_type": "stream",
     "text": [
      "[1] \"Slow down!\"\n",
      "[1] \"Slow down!\"\n",
      "[1] \"Slow down!\"\n",
      "[1] \"Slow down!\"\n",
      "[1] \"Slow down!\"\n"
     ]
    },
    {
     "data": {
      "text/html": [
       "29"
      ],
      "text/latex": [
       "29"
      ],
      "text/markdown": [
       "29"
      ],
      "text/plain": [
       "[1] 29"
      ]
     },
     "metadata": {},
     "output_type": "display_data"
    }
   ],
   "source": [
    "# Initialize the speed variable\n",
    "speed <- 64\n",
    "\n",
    "# Code the while loop\n",
    "while ( speed > 30) {\n",
    "  print(\"Slow down!\")\n",
    "  speed <- speed -7\n",
    "}\n",
    "\n",
    "# Print out the speed variable\n",
    "speed"
   ]
  },
  {
   "cell_type": "markdown",
   "metadata": {},
   "source": [
    "#### Exemplos com WHILE e IF"
   ]
  },
  {
   "cell_type": "code",
   "execution_count": 3,
   "metadata": {},
   "outputs": [
    {
     "name": "stdout",
     "output_type": "stream",
     "text": [
      "[1] \"Your speed is 64\"\n",
      "[1] \"Slow down big time!\"\n",
      "[1] \"Your speed is 53\"\n",
      "[1] \"Slow down big time!\"\n",
      "[1] \"Your speed is 42\"\n",
      "[1] \"Slow down!\"\n",
      "[1] \"Your speed is 36\"\n",
      "[1] \"Slow down!\"\n"
     ]
    }
   ],
   "source": [
    "# Initialize the speed variable\n",
    "speed <- 64\n",
    "\n",
    "# Extend/adapt the while loop\n",
    "while (speed > 30) {\n",
    "  print(paste(\"Your speed is\",speed))\n",
    "  if ( speed > 48) {\n",
    "    print(\"Slow down big time!\")\n",
    "    speed <- speed - 11\n",
    "    \n",
    "  } else {\n",
    "    \n",
    "    print(\"Slow down!\")\n",
    "    speed <- speed - 6\n",
    "  }\n",
    "}"
   ]
  },
  {
   "cell_type": "markdown",
   "metadata": {},
   "source": [
    "#### Exemplos com BREAK no loop"
   ]
  },
  {
   "cell_type": "code",
   "execution_count": 4,
   "metadata": {},
   "outputs": [
    {
     "name": "stdout",
     "output_type": "stream",
     "text": [
      "[1] \"Your speed is 88\"\n"
     ]
    }
   ],
   "source": [
    "# Initialize the speed variable\n",
    "speed <- 88\n",
    "\n",
    "while (speed > 30) {\n",
    "  print(paste(\"Your speed is\", speed))\n",
    "  \n",
    "  # Break the while loop when speed exceeds 80\n",
    "  if (speed > 80 ) {break\n",
    "    \n",
    "  }\n",
    "  \n",
    "  if (speed > 48) {\n",
    "    print(\"Slow down big time!\")\n",
    "    speed <- speed - 11\n",
    "  } else {\n",
    "    print(\"Slow down!\")\n",
    "    speed <- speed - 6\n",
    "  }\n",
    "}"
   ]
  },
  {
   "cell_type": "markdown",
   "metadata": {},
   "source": [
    "### 6.3 Comando FOR\n",
    "\n",
    "for(i in sequencia)\n",
    "\n",
    " { \n",
    "   \n",
    "   conjunto de comandos\n",
    "   \n",
    " }"
   ]
  },
  {
   "cell_type": "code",
   "execution_count": 154,
   "metadata": {},
   "outputs": [
    {
     "name": "stdout",
     "output_type": "stream",
     "text": [
      "[1] 1\n",
      "[1] 2\n",
      "[1] 3\n",
      "[1] 4\n",
      "[1] 5\n",
      "[1] 6\n"
     ]
    }
   ],
   "source": [
    "n1 <- 1\n",
    "n2 <- 6\n",
    "for(i in n1:n2){\n",
    "  print(i)\n",
    "}"
   ]
  },
  {
   "cell_type": "code",
   "execution_count": 153,
   "metadata": {},
   "outputs": [
    {
     "name": "stdout",
     "output_type": "stream",
     "text": [
      "[1] \"a\"\n",
      "[1] \"b\"\n",
      "[1] \"c\"\n",
      "[1] \"d\"\n",
      "[1] \"e\"\n",
      "[1] \"f\"\n",
      "[1] \"g\"\n",
      "[1] \"h\"\n"
     ]
    }
   ],
   "source": [
    "n <- 8\n",
    "for(letra in letters[1:n]){\n",
    "  print(letra)\n",
    "}"
   ]
  },
  {
   "cell_type": "markdown",
   "metadata": {},
   "source": [
    "## 7. Função em R\n",
    "\n",
    "- Em construção\n"
   ]
  },
  {
   "cell_type": "code",
   "execution_count": null,
   "metadata": {
    "collapsed": true
   },
   "outputs": [],
   "source": []
  }
 ],
 "metadata": {
  "kernelspec": {
   "display_name": "R",
   "language": "R",
   "name": "ir"
  },
  "language_info": {
   "codemirror_mode": "r",
   "file_extension": ".r",
   "mimetype": "text/x-r-source",
   "name": "R",
   "pygments_lexer": "r",
   "version": "3.2.3"
  }
 },
 "nbformat": 4,
 "nbformat_minor": 2
}
