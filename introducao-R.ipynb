{
 "cells": [
  {
   "cell_type": "markdown",
   "metadata": {},
   "source": [
    "# Introdução à Linguagem R\n",
    "\n",
    "## Autor: Luiz Affonso Guedes\n",
    "última atualização: outubro de 2017\n",
    "\n",
    "## Objetivo\n",
    "\n",
    "O objetivo geral deste documeto é apresentar a potencialidade da linguagem R. \n",
    "Os objetivos específicos deste documento são:\n",
    "- Apresentar as principais funcionalidades da linguagem R, como tipos e estruturas de controle.\n",
    "- Apresentar funções básicas de manipulação de dados na linguagem R.\n",
    "- Tipos Vetores, Matrizes e Frames: uso, operações.\n",
    "- Uso e definição de funções em linguagem R.\n",
    "- Apresentar as funcionalidade de gráficos na linguagem R.\n",
    "\n",
    "## Metodologia Utilizada\n",
    "Usaremos uma abordagem interativa e incremental, mesclando breves explicações conceituais com programas em linguagem R.\n",
    "\n",
    "# Sumário\n",
    "- Introdução à linguagem R.\n",
    "- Operadores e tipos de dados básicos\n",
    "- Tipos de dados avançados e suas operações: vetores, matrizes, frames.\n",
    "- Estruturas de controle\n",
    "- Algumas funções úteis em R\n",
    "- Uso e definição de função em R\n",
    "    "
   ]
  },
  {
   "cell_type": "markdown",
   "metadata": {},
   "source": [
    "## 0. Por quê a Linguagem R?\n",
    "\n",
    "- R é uma ótima linguagem para iniciar sua jornada de ciência dos dados porque ela fornece um ambiente projetado desde o início para suportar a ciência dos dados. \n",
    "- R não é apenas uma linguagem de programação, mas também é um ambiente interativo para fazer ciência de dados. Para suportar a interação, R é uma linguagem muito mais flexível do que muitos dos seus pares. \n",
    "- Essa flexibilidade vem com suas desvantagens, mas a grande vantagem é como é fácil evoluir gramáticas personalizadas para partes específicas do processo de ciência dos dados. Essas mini linguagens ajudam você a pensar sobre problemas como cientista de dados, ao mesmo tempo em que oferece suporte à interação fluente entre o cérebro e o computador."
   ]
  },
  {
   "cell_type": "markdown",
   "metadata": {},
   "source": [
    "## 1. Operadores e Tipos Básicos de R\n",
    "\n",
    "Operadores matematicos básicos em R\n",
    "- Addition: +\n",
    "- Subtraction: -\n",
    "- Multiplication: *\n",
    "- Division: /\n",
    "- Exponentiation: ^\n",
    "- Modulo: %%\n",
    "\n"
   ]
  },
  {
   "cell_type": "markdown",
   "metadata": {},
   "source": [
    "# Header 1"
   ]
  },
  {
   "cell_type": "code",
   "execution_count": null,
   "metadata": {
    "collapsed": true
   },
   "outputs": [],
   "source": [
    "2 + 2"
   ]
  },
  {
   "cell_type": "code",
   "execution_count": null,
   "metadata": {
    "collapsed": true
   },
   "outputs": [],
   "source": [
    "# Aqui é um comentário em R\n",
    "\n",
    "# Exemplo de uso de operadores em R\n",
    "# Adição\n",
    "5 + 5 \n",
    "\n",
    "# Subtração\n",
    "5 - 5 \n",
    "\n",
    "# Multiplicação\n",
    "3 * 5\n",
    "\n",
    " # Divisão\n",
    "(5 + 5) / 2 \n",
    "\n",
    "# Exponenciação\n",
    "5 ^ 2\n",
    "\n",
    "# Módulo\n",
    "10%%3"
   ]
  },
  {
   "cell_type": "markdown",
   "metadata": {},
   "source": [
    "Variáveis e atribuição de valor a variável\n",
    "\n",
    "a <- 2\n",
    "\n",
    "b = 3\n",
    "\n",
    "Não esquecer que R é case sensitive"
   ]
  },
  {
   "cell_type": "code",
   "execution_count": 1,
   "metadata": {},
   "outputs": [
    {
     "data": {
      "text/html": [
       "2"
      ],
      "text/latex": [
       "2"
      ],
      "text/markdown": [
       "2"
      ],
      "text/plain": [
       "[1] 2"
      ]
     },
     "metadata": {},
     "output_type": "display_data"
    },
    {
     "data": {
      "text/html": [
       "3"
      ],
      "text/latex": [
       "3"
      ],
      "text/markdown": [
       "3"
      ],
      "text/plain": [
       "[1] 3"
      ]
     },
     "metadata": {},
     "output_type": "display_data"
    },
    {
     "data": {
      "text/html": [
       "4"
      ],
      "text/latex": [
       "4"
      ],
      "text/markdown": [
       "4"
      ],
      "text/plain": [
       "[1] 4"
      ]
     },
     "metadata": {},
     "output_type": "display_data"
    },
    {
     "data": {
      "text/html": [
       "2"
      ],
      "text/latex": [
       "2"
      ],
      "text/markdown": [
       "2"
      ],
      "text/plain": [
       "[1] 2"
      ]
     },
     "metadata": {},
     "output_type": "display_data"
    }
   ],
   "source": [
    "a <- 2\n",
    "A <- 4\n",
    "b = 3\n",
    "c <- A-a\n",
    "\n",
    "a\n",
    "b\n",
    "A\n",
    "c"
   ]
  },
  {
   "cell_type": "markdown",
   "metadata": {},
   "source": [
    "Alguns tipos básicos de dados em R\n",
    "- Decimais, como 4.5: numerics.\n",
    "- Naturais, como 4 - integers. Integers também são numerics.\n",
    "- Boolean (TRUE or FALSE) - logical.\n",
    "- Texto (ou string).\n"
   ]
  },
  {
   "cell_type": "code",
   "execution_count": 3,
   "metadata": {},
   "outputs": [
    {
     "data": {
      "text/html": [
       "42.5"
      ],
      "text/latex": [
       "42.5"
      ],
      "text/markdown": [
       "42.5"
      ],
      "text/plain": [
       "[1] 42.5"
      ]
     },
     "metadata": {},
     "output_type": "display_data"
    },
    {
     "data": {
      "text/html": [
       "'some text'"
      ],
      "text/latex": [
       "'some text'"
      ],
      "text/markdown": [
       "'some text'"
      ],
      "text/plain": [
       "[1] \"some text\""
      ]
     },
     "metadata": {},
     "output_type": "display_data"
    },
    {
     "data": {
      "text/html": [
       "TRUE"
      ],
      "text/latex": [
       "TRUE"
      ],
      "text/markdown": [
       "TRUE"
      ],
      "text/plain": [
       "[1] TRUE"
      ]
     },
     "metadata": {},
     "output_type": "display_data"
    }
   ],
   "source": [
    "# Aqui é um comentário em R\n",
    "# Exemplo do uso do operador atribuição em R\n",
    "\n",
    "# Change my_numeric to be 42\n",
    "my_numeric <- 42.5\n",
    "\n",
    "# Change my_character to be \"universe\"\n",
    "my_character <- 'some text'\n",
    "\n",
    "# Change my_logical to be FALSE\n",
    "my_logical <- TRUE\n",
    "\n",
    "# Valors of Variables \n",
    "my_numeric\n",
    "my_character\n",
    "my_logical"
   ]
  },
  {
   "cell_type": "markdown",
   "metadata": {},
   "source": [
    "## 2. Algumas funções úteis\n",
    "\n",
    "Para verificar o tipo da variável em R - Utilizar função class()\n",
    "- class(nome_da-variavel)\n",
    " \n",
    "Para obter help de uma variável\n",
    "- help(nome_da-variavel)\n",
    "- ?nome_da-variavel\n",
    "\n",
    "Para obter informação sobre os argumentos de uma função\n",
    "- args(snome_da-variavel)\n",
    "\n",
    "Para obter informação sobre as variáveis ativas no ambiente\n",
    "- ls( )"
   ]
  },
  {
   "cell_type": "code",
   "execution_count": 7,
   "metadata": {},
   "outputs": [
    {
     "data": {
      "text/html": [
       "'numeric'"
      ],
      "text/latex": [
       "'numeric'"
      ],
      "text/markdown": [
       "'numeric'"
      ],
      "text/plain": [
       "[1] \"numeric\""
      ]
     },
     "metadata": {},
     "output_type": "display_data"
    },
    {
     "data": {
      "text/html": [
       "'character'"
      ],
      "text/latex": [
       "'character'"
      ],
      "text/markdown": [
       "'character'"
      ],
      "text/plain": [
       "[1] \"character\""
      ]
     },
     "metadata": {},
     "output_type": "display_data"
    },
    {
     "data": {
      "text/html": [
       "'logical'"
      ],
      "text/latex": [
       "'logical'"
      ],
      "text/markdown": [
       "'logical'"
      ],
      "text/plain": [
       "[1] \"logical\""
      ]
     },
     "metadata": {},
     "output_type": "display_data"
    },
    {
     "name": "stdout",
     "output_type": "stream",
     "text": [
      "[1] \"Função args()\"\n",
      "[1] \"Alô, mundo!\"\n"
     ]
    },
    {
     "data": {
      "text/html": [
       "<pre class=language-r><code>function (name, pos = -1L, envir = as.environment(pos), all.names = FALSE, \n",
       "<span style=white-space:pre-wrap>    pattern, sorted = TRUE) </span>\n",
       "NULL</code></pre>"
      ],
      "text/latex": [
       "\\begin{minted}{r}\n",
       "function (name, pos = -1L, envir = as.environment(pos), all.names = FALSE, \n",
       "    pattern, sorted = TRUE) \n",
       "NULL\n",
       "\\end{minted}"
      ],
      "text/markdown": [
       "```r\n",
       "function (name, pos = -1L, envir = as.environment(pos), all.names = FALSE, \n",
       "    pattern, sorted = TRUE) \n",
       "NULL\n",
       "```"
      ],
      "text/plain": [
       "function (name, pos = -1L, envir = as.environment(pos), all.names = FALSE, \n",
       "    pattern, sorted = TRUE) \n",
       "NULL"
      ]
     },
     "metadata": {},
     "output_type": "display_data"
    },
    {
     "name": "stdout",
     "output_type": "stream",
     "text": [
      "[1] \"Função ls()\"\n"
     ]
    },
    {
     "data": {
      "text/html": [
       "<ol class=list-inline>\n",
       "\t<li>'a'</li>\n",
       "\t<li>'A'</li>\n",
       "\t<li>'b'</li>\n",
       "\t<li>'c'</li>\n",
       "\t<li>'my_character'</li>\n",
       "\t<li>'my_logical'</li>\n",
       "\t<li>'my_numeric'</li>\n",
       "\t<li>'texto'</li>\n",
       "</ol>\n"
      ],
      "text/latex": [
       "\\begin{enumerate*}\n",
       "\\item 'a'\n",
       "\\item 'A'\n",
       "\\item 'b'\n",
       "\\item 'c'\n",
       "\\item 'my\\_character'\n",
       "\\item 'my\\_logical'\n",
       "\\item 'my\\_numeric'\n",
       "\\item 'texto'\n",
       "\\end{enumerate*}\n"
      ],
      "text/markdown": [
       "1. 'a'\n",
       "2. 'A'\n",
       "3. 'b'\n",
       "4. 'c'\n",
       "5. 'my_character'\n",
       "6. 'my_logical'\n",
       "7. 'my_numeric'\n",
       "8. 'texto'\n",
       "\n",
       "\n"
      ],
      "text/plain": [
       "[1] \"a\"            \"A\"            \"b\"            \"c\"            \"my_character\"\n",
       "[6] \"my_logical\"   \"my_numeric\"   \"texto\"       "
      ]
     },
     "metadata": {},
     "output_type": "display_data"
    }
   ],
   "source": [
    "# Check class of my_numeric\n",
    "class(my_numeric)\n",
    "\n",
    "# Check class of my_character\n",
    "class(my_character)\n",
    "\n",
    "# Check class of my_logical\n",
    "class(my_logical)\n",
    "\n",
    "print(\"Função args()\")\n",
    "texto <- \"Alô, mundo!\"\n",
    "\n",
    "print(texto)\n",
    "\n",
    "args(ls)\n",
    "print(\"Função ls()\")\n",
    "ls()"
   ]
  },
  {
   "cell_type": "markdown",
   "metadata": {},
   "source": [
    "## 3. Tipo vetor em R\n",
    "\n",
    "Vetores são arrays unidimencionais que podem ser de \"qualquer\" tipo: numérico, lógico, decimais, etc.\n",
    "\n",
    "- Em R, vetores são criados através da função c( ). \n",
    "- Os elementos dos vetores são separados por vírgulas.\n",
    "\n",
    " c(elemento1, elemento2, ...)\n",
    " "
   ]
  },
  {
   "cell_type": "code",
   "execution_count": 10,
   "metadata": {},
   "outputs": [
    {
     "data": {
      "text/html": [
       "<ol class=list-inline>\n",
       "\t<li>1</li>\n",
       "\t<li>2</li>\n",
       "\t<li>3</li>\n",
       "</ol>\n"
      ],
      "text/latex": [
       "\\begin{enumerate*}\n",
       "\\item 1\n",
       "\\item 2\n",
       "\\item 3\n",
       "\\end{enumerate*}\n"
      ],
      "text/markdown": [
       "1. 1\n",
       "2. 2\n",
       "3. 3\n",
       "\n",
       "\n"
      ],
      "text/plain": [
       "[1] 1 2 3"
      ]
     },
     "metadata": {},
     "output_type": "display_data"
    },
    {
     "data": {
      "text/html": [
       "<ol class=list-inline>\n",
       "\t<li>'a'</li>\n",
       "\t<li>'b'</li>\n",
       "\t<li>'c'</li>\n",
       "</ol>\n"
      ],
      "text/latex": [
       "\\begin{enumerate*}\n",
       "\\item 'a'\n",
       "\\item 'b'\n",
       "\\item 'c'\n",
       "\\end{enumerate*}\n"
      ],
      "text/markdown": [
       "1. 'a'\n",
       "2. 'b'\n",
       "3. 'c'\n",
       "\n",
       "\n"
      ],
      "text/plain": [
       "[1] \"a\" \"b\" \"c\""
      ]
     },
     "metadata": {},
     "output_type": "display_data"
    },
    {
     "data": {
      "text/html": [
       "<ol class=list-inline>\n",
       "\t<li>TRUE</li>\n",
       "\t<li>FALSE</li>\n",
       "\t<li>TRUE</li>\n",
       "</ol>\n"
      ],
      "text/latex": [
       "\\begin{enumerate*}\n",
       "\\item TRUE\n",
       "\\item FALSE\n",
       "\\item TRUE\n",
       "\\end{enumerate*}\n"
      ],
      "text/markdown": [
       "1. TRUE\n",
       "2. FALSE\n",
       "3. TRUE\n",
       "\n",
       "\n"
      ],
      "text/plain": [
       "[1]  TRUE FALSE  TRUE"
      ]
     },
     "metadata": {},
     "output_type": "display_data"
    },
    {
     "data": {
      "text/html": [
       "'numeric'"
      ],
      "text/latex": [
       "'numeric'"
      ],
      "text/markdown": [
       "'numeric'"
      ],
      "text/plain": [
       "[1] \"numeric\""
      ]
     },
     "metadata": {},
     "output_type": "display_data"
    },
    {
     "data": {
      "text/html": [
       "'character'"
      ],
      "text/latex": [
       "'character'"
      ],
      "text/markdown": [
       "'character'"
      ],
      "text/plain": [
       "[1] \"character\""
      ]
     },
     "metadata": {},
     "output_type": "display_data"
    },
    {
     "data": {
      "text/html": [
       "'logical'"
      ],
      "text/latex": [
       "'logical'"
      ],
      "text/markdown": [
       "'logical'"
      ],
      "text/plain": [
       "[1] \"logical\""
      ]
     },
     "metadata": {},
     "output_type": "display_data"
    }
   ],
   "source": [
    "# Aqui é um comentário em R\n",
    "# Exemplos de criação de vetores em R\n",
    "\n",
    "numeric_vector <- c(1, 2, 3)\n",
    "character_vector <- c(\"a\", \"b\", \"c\")\n",
    "boolean_vector <-c(TRUE, FALSE, TRUE)\n",
    "\n",
    "numeric_vector\n",
    "character_vector\n",
    "boolean_vector\n",
    "\n",
    "class(numeric_vector)\n",
    "class(character_vector)\n",
    "class(boolean_vector)"
   ]
  },
  {
   "cell_type": "markdown",
   "metadata": {},
   "source": [
    "- Também é possível utilizar a função names( ) para a criação de vetores:\n",
    "\n",
    "names(nome_do_vetor)\n"
   ]
  },
  {
   "cell_type": "code",
   "execution_count": 14,
   "metadata": {},
   "outputs": [
    {
     "data": {
      "text/html": [
       "<ol class=list-inline>\n",
       "\t<li>'John Doe'</li>\n",
       "\t<li>'poker player'</li>\n",
       "</ol>\n"
      ],
      "text/latex": [
       "\\begin{enumerate*}\n",
       "\\item 'John Doe'\n",
       "\\item 'poker player'\n",
       "\\end{enumerate*}\n"
      ],
      "text/markdown": [
       "1. 'John Doe'\n",
       "2. 'poker player'\n",
       "\n",
       "\n"
      ],
      "text/plain": [
       "[1] \"John Doe\"     \"poker player\""
      ]
     },
     "metadata": {},
     "output_type": "display_data"
    },
    {
     "data": {
      "text/html": [
       "<dl class=dl-horizontal>\n",
       "\t<dt>Name</dt>\n",
       "\t\t<dd>'John Doe'</dd>\n",
       "\t<dt>Profession</dt>\n",
       "\t\t<dd>'poker player'</dd>\n",
       "</dl>\n"
      ],
      "text/latex": [
       "\\begin{description*}\n",
       "\\item[Name] 'John Doe'\n",
       "\\item[Profession] 'poker player'\n",
       "\\end{description*}\n"
      ],
      "text/markdown": [
       "Name\n",
       ":   'John Doe'Profession\n",
       ":   'poker player'\n",
       "\n"
      ],
      "text/plain": [
       "          Name     Profession \n",
       "    \"John Doe\" \"poker player\" "
      ]
     },
     "metadata": {},
     "output_type": "display_data"
    }
   ],
   "source": [
    "# Aqui é um comentário em R\n",
    "# Exemplo do uso da função name() para criar um vetor\n",
    "\n",
    "some_vector <- c(\"John Doe\", \"poker player\")\n",
    "some_vector\n",
    "names(some_vector) <- c(\"Name\", \"Profession\")\n",
    "some_vector"
   ]
  },
  {
   "cell_type": "markdown",
   "metadata": {},
   "source": [
    "- A seguir há mais alguns exemplo de criação de vetores em R\n"
   ]
  },
  {
   "cell_type": "code",
   "execution_count": 15,
   "metadata": {},
   "outputs": [
    {
     "data": {
      "text/html": [
       "<ol class=list-inline>\n",
       "\t<li>140</li>\n",
       "\t<li>-50</li>\n",
       "\t<li>20</li>\n",
       "\t<li>-120</li>\n",
       "\t<li>240</li>\n",
       "</ol>\n"
      ],
      "text/latex": [
       "\\begin{enumerate*}\n",
       "\\item 140\n",
       "\\item -50\n",
       "\\item 20\n",
       "\\item -120\n",
       "\\item 240\n",
       "\\end{enumerate*}\n"
      ],
      "text/markdown": [
       "1. 140\n",
       "2. -50\n",
       "3. 20\n",
       "4. -120\n",
       "5. 240\n",
       "\n",
       "\n"
      ],
      "text/plain": [
       "[1]  140  -50   20 -120  240"
      ]
     },
     "metadata": {},
     "output_type": "display_data"
    },
    {
     "data": {
      "text/html": [
       "<ol class=list-inline>\n",
       "\t<li>-24</li>\n",
       "\t<li>-50</li>\n",
       "\t<li>100</li>\n",
       "\t<li>-350</li>\n",
       "\t<li>10</li>\n",
       "</ol>\n"
      ],
      "text/latex": [
       "\\begin{enumerate*}\n",
       "\\item -24\n",
       "\\item -50\n",
       "\\item 100\n",
       "\\item -350\n",
       "\\item 10\n",
       "\\end{enumerate*}\n"
      ],
      "text/markdown": [
       "1. -24\n",
       "2. -50\n",
       "3. 100\n",
       "4. -350\n",
       "5. 10\n",
       "\n",
       "\n"
      ],
      "text/plain": [
       "[1]  -24  -50  100 -350   10"
      ]
     },
     "metadata": {},
     "output_type": "display_data"
    },
    {
     "data": {
      "text/html": [
       "<dl class=dl-horizontal>\n",
       "\t<dt>Monday</dt>\n",
       "\t\t<dd>140</dd>\n",
       "\t<dt>Tuesday</dt>\n",
       "\t\t<dd>-50</dd>\n",
       "\t<dt>Wednesday</dt>\n",
       "\t\t<dd>20</dd>\n",
       "\t<dt>Thursday</dt>\n",
       "\t\t<dd>-120</dd>\n",
       "\t<dt>Friday</dt>\n",
       "\t\t<dd>240</dd>\n",
       "</dl>\n"
      ],
      "text/latex": [
       "\\begin{description*}\n",
       "\\item[Monday] 140\n",
       "\\item[Tuesday] -50\n",
       "\\item[Wednesday] 20\n",
       "\\item[Thursday] -120\n",
       "\\item[Friday] 240\n",
       "\\end{description*}\n"
      ],
      "text/markdown": [
       "Monday\n",
       ":   140Tuesday\n",
       ":   -50Wednesday\n",
       ":   20Thursday\n",
       ":   -120Friday\n",
       ":   240\n",
       "\n"
      ],
      "text/plain": [
       "   Monday   Tuesday Wednesday  Thursday    Friday \n",
       "      140       -50        20      -120       240 "
      ]
     },
     "metadata": {},
     "output_type": "display_data"
    },
    {
     "data": {
      "text/html": [
       "<dl class=dl-horizontal>\n",
       "\t<dt>Monday</dt>\n",
       "\t\t<dd>-24</dd>\n",
       "\t<dt>Tuesday</dt>\n",
       "\t\t<dd>-50</dd>\n",
       "\t<dt>Wednesday</dt>\n",
       "\t\t<dd>100</dd>\n",
       "\t<dt>Thursday</dt>\n",
       "\t\t<dd>-350</dd>\n",
       "\t<dt>Friday</dt>\n",
       "\t\t<dd>10</dd>\n",
       "</dl>\n"
      ],
      "text/latex": [
       "\\begin{description*}\n",
       "\\item[Monday] -24\n",
       "\\item[Tuesday] -50\n",
       "\\item[Wednesday] 100\n",
       "\\item[Thursday] -350\n",
       "\\item[Friday] 10\n",
       "\\end{description*}\n"
      ],
      "text/markdown": [
       "Monday\n",
       ":   -24Tuesday\n",
       ":   -50Wednesday\n",
       ":   100Thursday\n",
       ":   -350Friday\n",
       ":   10\n",
       "\n"
      ],
      "text/plain": [
       "   Monday   Tuesday Wednesday  Thursday    Friday \n",
       "      -24       -50       100      -350        10 "
      ]
     },
     "metadata": {},
     "output_type": "display_data"
    },
    {
     "data": {
      "text/html": [
       "<dl class=dl-horizontal>\n",
       "\t<dt>Segunda</dt>\n",
       "\t\t<dd>-24</dd>\n",
       "\t<dt>Terça</dt>\n",
       "\t\t<dd>-50</dd>\n",
       "\t<dt>Quarta</dt>\n",
       "\t\t<dd>100</dd>\n",
       "\t<dt>Quinta</dt>\n",
       "\t\t<dd>-350</dd>\n",
       "\t<dt>Sexta</dt>\n",
       "\t\t<dd>10</dd>\n",
       "</dl>\n"
      ],
      "text/latex": [
       "\\begin{description*}\n",
       "\\item[Segunda] -24\n",
       "\\item[Terça] -50\n",
       "\\item[Quarta] 100\n",
       "\\item[Quinta] -350\n",
       "\\item[Sexta] 10\n",
       "\\end{description*}\n"
      ],
      "text/markdown": [
       "Segunda\n",
       ":   -24Terça\n",
       ":   -50Quarta\n",
       ":   100Quinta\n",
       ":   -350Sexta\n",
       ":   10\n",
       "\n"
      ],
      "text/plain": [
       "Segunda   Terça  Quarta  Quinta   Sexta \n",
       "    -24     -50     100    -350      10 "
      ]
     },
     "metadata": {},
     "output_type": "display_data"
    },
    {
     "data": {
      "text/html": [
       "<dl class=dl-horizontal>\n",
       "\t<dt>Monday</dt>\n",
       "\t\t<dd>-24</dd>\n",
       "\t<dt>Tuesday</dt>\n",
       "\t\t<dd>-50</dd>\n",
       "\t<dt>Wednesday</dt>\n",
       "\t\t<dd>100</dd>\n",
       "\t<dt>Thursday</dt>\n",
       "\t\t<dd>-350</dd>\n",
       "\t<dt>Friday</dt>\n",
       "\t\t<dd>10</dd>\n",
       "</dl>\n"
      ],
      "text/latex": [
       "\\begin{description*}\n",
       "\\item[Monday] -24\n",
       "\\item[Tuesday] -50\n",
       "\\item[Wednesday] 100\n",
       "\\item[Thursday] -350\n",
       "\\item[Friday] 10\n",
       "\\end{description*}\n"
      ],
      "text/markdown": [
       "Monday\n",
       ":   -24Tuesday\n",
       ":   -50Wednesday\n",
       ":   100Thursday\n",
       ":   -350Friday\n",
       ":   10\n",
       "\n"
      ],
      "text/plain": [
       "   Monday   Tuesday Wednesday  Thursday    Friday \n",
       "      -24       -50       100      -350        10 "
      ]
     },
     "metadata": {},
     "output_type": "display_data"
    }
   ],
   "source": [
    "# Poker winnings from Monday to Friday\n",
    "poker_vector <- c(140, -50, 20, -120, 240)\n",
    "poker_vector\n",
    "\n",
    "# Roulette winnings from Monday to Friday\n",
    "roulette_vector <- c(-24, -50, 100, -350, 10)\n",
    "roulette_vector\n",
    "\n",
    "# Assign days as names of poker_vector\n",
    "names(poker_vector) <- c(\"Monday\", \"Tuesday\", \"Wednesday\", \"Thursday\", \"Friday\")\n",
    "poker_vector\n",
    "\n",
    "# Assign days as names of roulette_vectors\n",
    "names(roulette_vector) <- c(\"Monday\", \"Tuesday\", \"Wednesday\", \"Thursday\", \"Friday\")\n",
    "roulette_vector\n",
    "\n",
    "# Assign new days as names of roulette_vectors\n",
    "names(roulette_vector) <- c(\"Segunda\", \"Terça\", \"Quarta\", \"Quinta\", \"Sexta\")\n",
    "roulette_vector\n",
    "\n",
    "# Assign days as names of roulette_vectors\n",
    "names(roulette_vector) <- c(\"Monday\", \"Tuesday\", \"Wednesday\", \"Thursday\", \"Friday\")\n",
    "roulette_vector"
   ]
  },
  {
   "cell_type": "markdown",
   "metadata": {},
   "source": [
    "### Exercício:\n",
    "- Crie um vetor denominado de pais com os nomes dos seus pais.\n",
    "- Crie um vetor denominado de idadePais, com a idade do seus pais.\n",
    "- Nomear os índices dos vetores pais e idadePais para \"Pai\" e  \"Mãe\".\n"
   ]
  },
  {
   "cell_type": "code",
   "execution_count": 21,
   "metadata": {},
   "outputs": [
    {
     "data": {
      "text/html": [
       "<ol class=list-inline>\n",
       "\t<li>'Angela'</li>\n",
       "\t<li>'Vanilson'</li>\n",
       "</ol>\n"
      ],
      "text/latex": [
       "\\begin{enumerate*}\n",
       "\\item 'Angela'\n",
       "\\item 'Vanilson'\n",
       "\\end{enumerate*}\n"
      ],
      "text/markdown": [
       "1. 'Angela'\n",
       "2. 'Vanilson'\n",
       "\n",
       "\n"
      ],
      "text/plain": [
       "[1] \"Angela\"   \"Vanilson\""
      ]
     },
     "metadata": {},
     "output_type": "display_data"
    },
    {
     "data": {
      "text/html": [
       "<ol class=list-inline>\n",
       "\t<li>'59'</li>\n",
       "\t<li>'54'</li>\n",
       "</ol>\n"
      ],
      "text/latex": [
       "\\begin{enumerate*}\n",
       "\\item '59'\n",
       "\\item '54'\n",
       "\\end{enumerate*}\n"
      ],
      "text/markdown": [
       "1. '59'\n",
       "2. '54'\n",
       "\n",
       "\n"
      ],
      "text/plain": [
       "[1] \"59\" \"54\""
      ]
     },
     "metadata": {},
     "output_type": "display_data"
    },
    {
     "data": {
      "text/html": [
       "<dl class=dl-horizontal>\n",
       "\t<dt>Mãe</dt>\n",
       "\t\t<dd>'Angela'</dd>\n",
       "\t<dt>Pai</dt>\n",
       "\t\t<dd>'Vanilson'</dd>\n",
       "</dl>\n"
      ],
      "text/latex": [
       "\\begin{description*}\n",
       "\\item[Mãe] 'Angela'\n",
       "\\item[Pai] 'Vanilson'\n",
       "\\end{description*}\n"
      ],
      "text/markdown": [
       "Mãe\n",
       ":   'Angela'Pai\n",
       ":   'Vanilson'\n",
       "\n"
      ],
      "text/plain": [
       "       Mãe        Pai \n",
       "  \"Angela\" \"Vanilson\" "
      ]
     },
     "metadata": {},
     "output_type": "display_data"
    }
   ],
   "source": [
    "pais <- c(\"Angela\", \"Vanilson\")\n",
    "idadePais <- c(\"59\", \"54\")\n",
    "\n",
    "pais\n",
    "idadePais\n",
    "\n",
    "names(pais) <- c(\"Mãe\", \"Pai\")\n",
    "names(idadePais) <- c(\"Mãe\", \"Pai\")\n",
    "pais"
   ]
  },
  {
   "cell_type": "markdown",
   "metadata": {},
   "source": [
    "### 3.1 Operações com Vetores"
   ]
  },
  {
   "cell_type": "markdown",
   "metadata": {},
   "source": [
    "- Para Soma e Subtração de vetores, utiliza-se os operadores + e -\n",
    "\n",
    "C = A + B\n",
    "\n",
    "D = A - B"
   ]
  },
  {
   "cell_type": "code",
   "execution_count": 22,
   "metadata": {},
   "outputs": [
    {
     "name": "stdout",
     "output_type": "stream",
     "text": [
      "[1] \"Exemplo de soma e subtração de dois vetores\"\n"
     ]
    },
    {
     "data": {
      "text/html": [
       "<ol class=list-inline>\n",
       "\t<li>5</li>\n",
       "\t<li>7</li>\n",
       "\t<li>9</li>\n",
       "</ol>\n"
      ],
      "text/latex": [
       "\\begin{enumerate*}\n",
       "\\item 5\n",
       "\\item 7\n",
       "\\item 9\n",
       "\\end{enumerate*}\n"
      ],
      "text/markdown": [
       "1. 5\n",
       "2. 7\n",
       "3. 9\n",
       "\n",
       "\n"
      ],
      "text/plain": [
       "[1] 5 7 9"
      ]
     },
     "metadata": {},
     "output_type": "display_data"
    },
    {
     "data": {
      "text/html": [
       "<ol class=list-inline>\n",
       "\t<li>-3</li>\n",
       "\t<li>-3</li>\n",
       "\t<li>-3</li>\n",
       "</ol>\n"
      ],
      "text/latex": [
       "\\begin{enumerate*}\n",
       "\\item -3\n",
       "\\item -3\n",
       "\\item -3\n",
       "\\end{enumerate*}\n"
      ],
      "text/markdown": [
       "1. -3\n",
       "2. -3\n",
       "3. -3\n",
       "\n",
       "\n"
      ],
      "text/plain": [
       "[1] -3 -3 -3"
      ]
     },
     "metadata": {},
     "output_type": "display_data"
    }
   ],
   "source": [
    "print(\"Exemplo de soma e subtração de dois vetores\")\n",
    "A_vector <- c(1, 2, 3)\n",
    "B_vector <- c(4, 5, 6)\n",
    "\n",
    "# Soma de dois vetores é um vetor\n",
    "total_vector <- A_vector + B_vector\n",
    "total_vector\n",
    "\n",
    "# Subtração de dois vetores é um vetor\n",
    "diferenca_vector <- A_vector - B_vector\n",
    "diferenca_vector\n"
   ]
  },
  {
   "cell_type": "code",
   "execution_count": 24,
   "metadata": {},
   "outputs": [
    {
     "name": "stdout",
     "output_type": "stream",
     "text": [
      "[1] \"Outro exemplo de soma de dois vetores\"\n"
     ]
    },
    {
     "data": {
      "text/html": [
       "<dl class=dl-horizontal>\n",
       "\t<dt>Monday</dt>\n",
       "\t\t<dd>116</dd>\n",
       "\t<dt>Tuesday</dt>\n",
       "\t\t<dd>-100</dd>\n",
       "\t<dt>Wednesday</dt>\n",
       "\t\t<dd>120</dd>\n",
       "\t<dt>Thursday</dt>\n",
       "\t\t<dd>-470</dd>\n",
       "\t<dt>Friday</dt>\n",
       "\t\t<dd>250</dd>\n",
       "</dl>\n"
      ],
      "text/latex": [
       "\\begin{description*}\n",
       "\\item[Monday] 116\n",
       "\\item[Tuesday] -100\n",
       "\\item[Wednesday] 120\n",
       "\\item[Thursday] -470\n",
       "\\item[Friday] 250\n",
       "\\end{description*}\n"
      ],
      "text/markdown": [
       "Monday\n",
       ":   116Tuesday\n",
       ":   -100Wednesday\n",
       ":   120Thursday\n",
       ":   -470Friday\n",
       ":   250\n",
       "\n"
      ],
      "text/plain": [
       "   Monday   Tuesday Wednesday  Thursday    Friday \n",
       "      116      -100       120      -470       250 "
      ]
     },
     "metadata": {},
     "output_type": "display_data"
    }
   ],
   "source": [
    "# Poker and roulette winnings from Monday to Friday:\n",
    "print(\"Outro exemplo de soma de dois vetores\")\n",
    "poker_vector <- c(140, -50, 20, -120, 240)\n",
    "roulette_vector <- c(-24, -50, 100, -350, 10)\n",
    "days_vector <- c(\"Monday\", \"Tuesday\", \"Wednesday\", \"Thursday\", \"Friday\")\n",
    "names(poker_vector) <- days_vector\n",
    "names(roulette_vector) <- days_vector\n",
    "\n",
    "# Assign to total_daily how much you won/lost on each day\n",
    "total_daily <- poker_vector + roulette_vector\n",
    "total_daily"
   ]
  },
  {
   "cell_type": "markdown",
   "metadata": {},
   "source": [
    "- O resultado da Multiplicação ou Divisão de escalar por vetor é um vetor:\n",
    "\n",
    "VetorB = c * VetorA"
   ]
  },
  {
   "cell_type": "code",
   "execution_count": 26,
   "metadata": {},
   "outputs": [
    {
     "data": {
      "text/html": [
       "<ol class=list-inline>\n",
       "\t<li>1</li>\n",
       "\t<li>2</li>\n",
       "\t<li>3</li>\n",
       "\t<li>4</li>\n",
       "</ol>\n"
      ],
      "text/latex": [
       "\\begin{enumerate*}\n",
       "\\item 1\n",
       "\\item 2\n",
       "\\item 3\n",
       "\\item 4\n",
       "\\end{enumerate*}\n"
      ],
      "text/markdown": [
       "1. 1\n",
       "2. 2\n",
       "3. 3\n",
       "4. 4\n",
       "\n",
       "\n"
      ],
      "text/plain": [
       "[1] 1 2 3 4"
      ]
     },
     "metadata": {},
     "output_type": "display_data"
    },
    {
     "data": {
      "text/html": [
       "<ol class=list-inline>\n",
       "\t<li>2</li>\n",
       "\t<li>4</li>\n",
       "\t<li>6</li>\n",
       "\t<li>8</li>\n",
       "</ol>\n"
      ],
      "text/latex": [
       "\\begin{enumerate*}\n",
       "\\item 2\n",
       "\\item 4\n",
       "\\item 6\n",
       "\\item 8\n",
       "\\end{enumerate*}\n"
      ],
      "text/markdown": [
       "1. 2\n",
       "2. 4\n",
       "3. 6\n",
       "4. 8\n",
       "\n",
       "\n"
      ],
      "text/plain": [
       "[1] 2 4 6 8"
      ]
     },
     "metadata": {},
     "output_type": "display_data"
    },
    {
     "data": {
      "text/html": [
       "<ol class=list-inline>\n",
       "\t<li>2</li>\n",
       "\t<li>4</li>\n",
       "\t<li>6</li>\n",
       "\t<li>8</li>\n",
       "</ol>\n"
      ],
      "text/latex": [
       "\\begin{enumerate*}\n",
       "\\item 2\n",
       "\\item 4\n",
       "\\item 6\n",
       "\\item 8\n",
       "\\end{enumerate*}\n"
      ],
      "text/markdown": [
       "1. 2\n",
       "2. 4\n",
       "3. 6\n",
       "4. 8\n",
       "\n",
       "\n"
      ],
      "text/plain": [
       "[1] 2 4 6 8"
      ]
     },
     "metadata": {},
     "output_type": "display_data"
    },
    {
     "data": {
      "text/html": [
       "<ol class=list-inline>\n",
       "\t<li>0.5</li>\n",
       "\t<li>1</li>\n",
       "\t<li>1.5</li>\n",
       "\t<li>2</li>\n",
       "</ol>\n"
      ],
      "text/latex": [
       "\\begin{enumerate*}\n",
       "\\item 0.5\n",
       "\\item 1\n",
       "\\item 1.5\n",
       "\\item 2\n",
       "\\end{enumerate*}\n"
      ],
      "text/markdown": [
       "1. 0.5\n",
       "2. 1\n",
       "3. 1.5\n",
       "4. 2\n",
       "\n",
       "\n"
      ],
      "text/plain": [
       "[1] 0.5 1.0 1.5 2.0"
      ]
     },
     "metadata": {},
     "output_type": "display_data"
    },
    {
     "data": {
      "text/html": [
       "<ol class=list-inline>\n",
       "\t<li>1</li>\n",
       "\t<li>4</li>\n",
       "\t<li>9</li>\n",
       "\t<li>16</li>\n",
       "</ol>\n"
      ],
      "text/latex": [
       "\\begin{enumerate*}\n",
       "\\item 1\n",
       "\\item 4\n",
       "\\item 9\n",
       "\\item 16\n",
       "\\end{enumerate*}\n"
      ],
      "text/markdown": [
       "1. 1\n",
       "2. 4\n",
       "3. 9\n",
       "4. 16\n",
       "\n",
       "\n"
      ],
      "text/plain": [
       "[1]  1  4  9 16"
      ]
     },
     "metadata": {},
     "output_type": "display_data"
    },
    {
     "data": {
      "text/html": [
       "<ol class=list-inline>\n",
       "\t<li>2</li>\n",
       "\t<li>8</li>\n",
       "\t<li>18</li>\n",
       "\t<li>32</li>\n",
       "</ol>\n"
      ],
      "text/latex": [
       "\\begin{enumerate*}\n",
       "\\item 2\n",
       "\\item 8\n",
       "\\item 18\n",
       "\\item 32\n",
       "\\end{enumerate*}\n"
      ],
      "text/markdown": [
       "1. 2\n",
       "2. 8\n",
       "3. 18\n",
       "4. 32\n",
       "\n",
       "\n"
      ],
      "text/plain": [
       "[1]  2  8 18 32"
      ]
     },
     "metadata": {},
     "output_type": "display_data"
    }
   ],
   "source": [
    "VetorA <- c(1,2,3,4)\n",
    "c <- 2\n",
    "VetorB <- c*VetorA\n",
    "VetorC <- VetorA*c\n",
    "VetorD <- VetorA/c\n",
    "VetorE <- VetorA^c   # exemplo de potencição\n",
    "VetorA\n",
    "VetorB\n",
    "VetorC\n",
    "VetorD\n",
    "VetorE\n",
    "\n",
    "VetorA * VetorB"
   ]
  },
  {
   "cell_type": "markdown",
   "metadata": {},
   "source": [
    "### Advertência\n",
    "Em R, o operador * significa a multiplicação elemento a elemento entre dois vetores, retornando um vetor.\n",
    "\n",
    "Então: vetor3 = vetor1 * vetor2; resulta em um vetor3, cujos seus elementos são o produto de elementos dos vetores vetor1 e vetor2.\n"
   ]
  },
  {
   "cell_type": "code",
   "execution_count": 27,
   "metadata": {},
   "outputs": [
    {
     "name": "stdout",
     "output_type": "stream",
     "text": [
      "[1] \"Escreva um programa para exemplificar isto\"\n"
     ]
    },
    {
     "data": {
      "text/html": [
       "<ol class=list-inline>\n",
       "\t<li>1</li>\n",
       "\t<li>4</li>\n",
       "\t<li>3</li>\n",
       "\t<li>8</li>\n",
       "</ol>\n"
      ],
      "text/latex": [
       "\\begin{enumerate*}\n",
       "\\item 1\n",
       "\\item 4\n",
       "\\item 3\n",
       "\\item 8\n",
       "\\end{enumerate*}\n"
      ],
      "text/markdown": [
       "1. 1\n",
       "2. 4\n",
       "3. 3\n",
       "4. 8\n",
       "\n",
       "\n"
      ],
      "text/plain": [
       "[1] 1 4 3 8"
      ]
     },
     "metadata": {},
     "output_type": "display_data"
    }
   ],
   "source": [
    "print(\"Escreva um programa para exemplificar isto\")\n",
    "\n",
    "vetor1 <- c(1,2,1,2)\n",
    "vetor2 <- c(1,2,3,4)\n",
    "vetor3 <- vetor1*vetor2\n",
    "vetor3"
   ]
  },
  {
   "cell_type": "markdown",
   "metadata": {},
   "source": [
    "- Para se obter a soma dos elementos de um vetor, utilize-se a função sum( ):\n",
    "\n",
    "sum(vetorX)"
   ]
  },
  {
   "cell_type": "code",
   "execution_count": 30,
   "metadata": {},
   "outputs": [
    {
     "name": "stdout",
     "output_type": "stream",
     "text": [
      "[1] \"Exemplo de soma de elementos de um vetor\"\n",
      " num 10\n"
     ]
    }
   ],
   "source": [
    "print(\"Exemplo de soma de elementos de um vetor\")\n",
    "soma <- sum(VetorA)\n",
    "str(soma)"
   ]
  },
  {
   "cell_type": "markdown",
   "metadata": {},
   "source": [
    "#### Algumas funções úteis que operam sobre vetores:\n",
    "- length(vetorX) ; obtém a dimensão do vetor\n",
    "- mean(vetorX) ; obtém o valor médio dos valores dos elementos de um vetor\n",
    "- max(vetorX); obtém o valor máximo entre os elementos de um vetor\n",
    "- min(vetorX); obtém o valor mínimo entre os elementos de um vetor\n",
    "- sd(vetorX); obtém o desvio padrão dos valores dos elementos de um vetor\n",
    "- var(vetorX); obtém a variância dos valores dos elementos de um vetor\n",
    "- median(vetorX); obtém a mediana dos valores dos elementos de um vetor"
   ]
  },
  {
   "cell_type": "code",
   "execution_count": 31,
   "metadata": {},
   "outputs": [
    {
     "name": "stdout",
     "output_type": "stream",
     "text": [
      "[1] \"Programa exemplificando o uso de funções com vetores\"\n"
     ]
    },
    {
     "data": {
      "text/html": [
       "5"
      ],
      "text/latex": [
       "5"
      ],
      "text/markdown": [
       "5"
      ],
      "text/plain": [
       "[1] 5"
      ]
     },
     "metadata": {},
     "output_type": "display_data"
    },
    {
     "data": {
      "text/html": [
       "1.8"
      ],
      "text/latex": [
       "1.8"
      ],
      "text/markdown": [
       "1.8"
      ],
      "text/plain": [
       "[1] 1.8"
      ]
     },
     "metadata": {},
     "output_type": "display_data"
    },
    {
     "data": {
      "text/html": [
       "3"
      ],
      "text/latex": [
       "3"
      ],
      "text/markdown": [
       "3"
      ],
      "text/plain": [
       "[1] 3"
      ]
     },
     "metadata": {},
     "output_type": "display_data"
    },
    {
     "data": {
      "text/html": [
       "1"
      ],
      "text/latex": [
       "1"
      ],
      "text/markdown": [
       "1"
      ],
      "text/plain": [
       "[1] 1"
      ]
     },
     "metadata": {},
     "output_type": "display_data"
    },
    {
     "data": {
      "text/html": [
       "0.836660026534076"
      ],
      "text/latex": [
       "0.836660026534076"
      ],
      "text/markdown": [
       "0.836660026534076"
      ],
      "text/plain": [
       "[1] 0.83666"
      ]
     },
     "metadata": {},
     "output_type": "display_data"
    },
    {
     "data": {
      "text/html": [
       "0.7"
      ],
      "text/latex": [
       "0.7"
      ],
      "text/markdown": [
       "0.7"
      ],
      "text/plain": [
       "[1] 0.7"
      ]
     },
     "metadata": {},
     "output_type": "display_data"
    },
    {
     "data": {
      "text/html": [
       "2"
      ],
      "text/latex": [
       "2"
      ],
      "text/markdown": [
       "2"
      ],
      "text/plain": [
       "[1] 2"
      ]
     },
     "metadata": {},
     "output_type": "display_data"
    }
   ],
   "source": [
    "print(\"Programa exemplificando o uso de funções com vetores\")\n",
    "vetorX <- c(1,2,3,2,1)\n",
    "length(vetorX)\n",
    "mean(vetorX)\n",
    "max(vetorX)\n",
    "min(vetorX)\n",
    "sd(vetorX)\n",
    "var(vetorX)\n",
    "median(vetorX)\n"
   ]
  },
  {
   "cell_type": "markdown",
   "metadata": {},
   "source": [
    "### 3.2 Acesso a elementos de um vetor:\n",
    "- Para acessar elementos de um vetor (utiliza-se o mesmo procedimento para matrizes e frames) se utiliza [.].\n",
    "- Entre os [.] se indica o elemento ou seguimento.\n",
    "- Para acessar o 3º elemento do vetorX, usa-se vetorx[3].\n",
    "- Para acessar do elemento 3 ao elemento 5 do vetorX, usa-se vetorx[3:5]"
   ]
  },
  {
   "cell_type": "code",
   "execution_count": 32,
   "metadata": {},
   "outputs": [
    {
     "name": "stdout",
     "output_type": "stream",
     "text": [
      "[1] \"Programa para exemplificar como são acessados elementos de um vetor\"\n"
     ]
    },
    {
     "data": {
      "text/html": [
       "3"
      ],
      "text/latex": [
       "3"
      ],
      "text/markdown": [
       "3"
      ],
      "text/plain": [
       "[1] 3"
      ]
     },
     "metadata": {},
     "output_type": "display_data"
    },
    {
     "data": {
      "text/html": [
       "3"
      ],
      "text/latex": [
       "3"
      ],
      "text/markdown": [
       "3"
      ],
      "text/plain": [
       "[1] 3"
      ]
     },
     "metadata": {},
     "output_type": "display_data"
    },
    {
     "data": {
      "text/html": [
       "<ol class=list-inline>\n",
       "\t<li>3</li>\n",
       "\t<li>1</li>\n",
       "</ol>\n"
      ],
      "text/latex": [
       "\\begin{enumerate*}\n",
       "\\item 3\n",
       "\\item 1\n",
       "\\end{enumerate*}\n"
      ],
      "text/markdown": [
       "1. 3\n",
       "2. 1\n",
       "\n",
       "\n"
      ],
      "text/plain": [
       "[1] 3 1"
      ]
     },
     "metadata": {},
     "output_type": "display_data"
    },
    {
     "data": {
      "text/html": [
       "<ol class=list-inline>\n",
       "\t<li>3</li>\n",
       "\t<li>2</li>\n",
       "\t<li>1</li>\n",
       "</ol>\n"
      ],
      "text/latex": [
       "\\begin{enumerate*}\n",
       "\\item 3\n",
       "\\item 2\n",
       "\\item 1\n",
       "\\end{enumerate*}\n"
      ],
      "text/markdown": [
       "1. 3\n",
       "2. 2\n",
       "3. 1\n",
       "\n",
       "\n"
      ],
      "text/plain": [
       "[1] 3 2 1"
      ]
     },
     "metadata": {},
     "output_type": "display_data"
    }
   ],
   "source": [
    "print(\"Programa para exemplificar como são acessados elementos de um vetor\")\n",
    "vetorX[3]\n",
    "vetorX[c(3)]  # outra possibilidade\n",
    "vetorX[c(3, 5)] # para acesso vários valores do vetor\n",
    "vetorX[3:5]  # para acessar um intervalo no vetor\n"
   ]
  },
  {
   "cell_type": "markdown",
   "metadata": {},
   "source": [
    "### 3.3 Uso de operadores lógicos de comparação com vetores\n",
    "\n",
    "    < for less than\n",
    "    > for greater than\n",
    "    <= for less than or equal to\n",
    "    >= for greater than or equal to\n",
    "    == for equal to each other\n",
    "    != not equal to each other\n",
    "    & AND logical\n",
    "    | OR logical"
   ]
  },
  {
   "cell_type": "code",
   "execution_count": 33,
   "metadata": {},
   "outputs": [
    {
     "data": {
      "text/html": [
       "TRUE"
      ],
      "text/latex": [
       "TRUE"
      ],
      "text/markdown": [
       "TRUE"
      ],
      "text/plain": [
       "[1] TRUE"
      ]
     },
     "metadata": {},
     "output_type": "display_data"
    },
    {
     "data": {
      "text/html": [
       "FALSE"
      ],
      "text/latex": [
       "FALSE"
      ],
      "text/markdown": [
       "FALSE"
      ],
      "text/plain": [
       "[1] FALSE"
      ]
     },
     "metadata": {},
     "output_type": "display_data"
    },
    {
     "data": {
      "text/html": [
       "FALSE"
      ],
      "text/latex": [
       "FALSE"
      ],
      "text/markdown": [
       "FALSE"
      ],
      "text/plain": [
       "[1] FALSE"
      ]
     },
     "metadata": {},
     "output_type": "display_data"
    },
    {
     "data": {
      "text/html": [
       "TRUE"
      ],
      "text/latex": [
       "TRUE"
      ],
      "text/markdown": [
       "TRUE"
      ],
      "text/plain": [
       "[1] TRUE"
      ]
     },
     "metadata": {},
     "output_type": "display_data"
    },
    {
     "data": {
      "text/html": [
       "<ol class=list-inline>\n",
       "\t<li>FALSE</li>\n",
       "\t<li>FALSE</li>\n",
       "\t<li>TRUE</li>\n",
       "</ol>\n"
      ],
      "text/latex": [
       "\\begin{enumerate*}\n",
       "\\item FALSE\n",
       "\\item FALSE\n",
       "\\item TRUE\n",
       "\\end{enumerate*}\n"
      ],
      "text/markdown": [
       "1. FALSE\n",
       "2. FALSE\n",
       "3. TRUE\n",
       "\n",
       "\n"
      ],
      "text/plain": [
       "[1] FALSE FALSE  TRUE"
      ]
     },
     "metadata": {},
     "output_type": "display_data"
    },
    {
     "data": {
      "text/html": [
       "<ol class=list-inline>\n",
       "\t<li>1</li>\n",
       "\t<li>2</li>\n",
       "\t<li>3</li>\n",
       "\t<li>2</li>\n",
       "\t<li>1</li>\n",
       "</ol>\n"
      ],
      "text/latex": [
       "\\begin{enumerate*}\n",
       "\\item 1\n",
       "\\item 2\n",
       "\\item 3\n",
       "\\item 2\n",
       "\\item 1\n",
       "\\end{enumerate*}\n"
      ],
      "text/markdown": [
       "1. 1\n",
       "2. 2\n",
       "3. 3\n",
       "4. 2\n",
       "5. 1\n",
       "\n",
       "\n"
      ],
      "text/plain": [
       "[1] 1 2 3 2 1"
      ]
     },
     "metadata": {},
     "output_type": "display_data"
    },
    {
     "data": {
      "text/html": [
       "<ol class=list-inline>\n",
       "\t<li>FALSE</li>\n",
       "\t<li>TRUE</li>\n",
       "\t<li>TRUE</li>\n",
       "\t<li>TRUE</li>\n",
       "\t<li>FALSE</li>\n",
       "</ol>\n"
      ],
      "text/latex": [
       "\\begin{enumerate*}\n",
       "\\item FALSE\n",
       "\\item TRUE\n",
       "\\item TRUE\n",
       "\\item TRUE\n",
       "\\item FALSE\n",
       "\\end{enumerate*}\n"
      ],
      "text/markdown": [
       "1. FALSE\n",
       "2. TRUE\n",
       "3. TRUE\n",
       "4. TRUE\n",
       "5. FALSE\n",
       "\n",
       "\n"
      ],
      "text/plain": [
       "[1] FALSE  TRUE  TRUE  TRUE FALSE"
      ]
     },
     "metadata": {},
     "output_type": "display_data"
    },
    {
     "data": {
      "text/html": [
       "<ol class=list-inline>\n",
       "\t<li>2</li>\n",
       "\t<li>3</li>\n",
       "\t<li>2</li>\n",
       "</ol>\n"
      ],
      "text/latex": [
       "\\begin{enumerate*}\n",
       "\\item 2\n",
       "\\item 3\n",
       "\\item 2\n",
       "\\end{enumerate*}\n"
      ],
      "text/markdown": [
       "1. 2\n",
       "2. 3\n",
       "3. 2\n",
       "\n",
       "\n"
      ],
      "text/plain": [
       "[1] 2 3 2"
      ]
     },
     "metadata": {},
     "output_type": "display_data"
    }
   ],
   "source": [
    "7> 3\n",
    "3 != 3\n",
    "TRUE & FALSE\n",
    "TRUE | FALSE\n",
    "c(4, 5, 6) > 5\n",
    "vetorX\n",
    "vetorX>=2\n",
    "vetorX[vetorX>=2] #IRADO"
   ]
  },
  {
   "cell_type": "code",
   "execution_count": 36,
   "metadata": {},
   "outputs": [
    {
     "data": {
      "text/html": [
       "<ol class=list-inline>\n",
       "\t<li>TRUE</li>\n",
       "\t<li>FALSE</li>\n",
       "\t<li>FALSE</li>\n",
       "\t<li>FALSE</li>\n",
       "\t<li>FALSE</li>\n",
       "\t<li>TRUE</li>\n",
       "\t<li>FALSE</li>\n",
       "</ol>\n"
      ],
      "text/latex": [
       "\\begin{enumerate*}\n",
       "\\item TRUE\n",
       "\\item FALSE\n",
       "\\item FALSE\n",
       "\\item FALSE\n",
       "\\item FALSE\n",
       "\\item TRUE\n",
       "\\item FALSE\n",
       "\\end{enumerate*}\n"
      ],
      "text/markdown": [
       "1. TRUE\n",
       "2. FALSE\n",
       "3. FALSE\n",
       "4. FALSE\n",
       "5. FALSE\n",
       "6. TRUE\n",
       "7. FALSE\n",
       "\n",
       "\n"
      ],
      "text/plain": [
       "[1]  TRUE FALSE FALSE FALSE FALSE  TRUE FALSE"
      ]
     },
     "metadata": {},
     "output_type": "display_data"
    },
    {
     "data": {
      "text/html": [
       "<ol class=list-inline>\n",
       "\t<li>FALSE</li>\n",
       "\t<li>FALSE</li>\n",
       "\t<li>FALSE</li>\n",
       "\t<li>TRUE</li>\n",
       "\t<li>TRUE</li>\n",
       "\t<li>FALSE</li>\n",
       "\t<li>FALSE</li>\n",
       "</ol>\n"
      ],
      "text/latex": [
       "\\begin{enumerate*}\n",
       "\\item FALSE\n",
       "\\item FALSE\n",
       "\\item FALSE\n",
       "\\item TRUE\n",
       "\\item TRUE\n",
       "\\item FALSE\n",
       "\\item FALSE\n",
       "\\end{enumerate*}\n"
      ],
      "text/markdown": [
       "1. FALSE\n",
       "2. FALSE\n",
       "3. FALSE\n",
       "4. TRUE\n",
       "5. TRUE\n",
       "6. FALSE\n",
       "7. FALSE\n",
       "\n",
       "\n"
      ],
      "text/plain": [
       "[1] FALSE FALSE FALSE  TRUE  TRUE FALSE FALSE"
      ]
     },
     "metadata": {},
     "output_type": "display_data"
    },
    {
     "data": {
      "text/html": [
       "<ol class=list-inline>\n",
       "\t<li>FALSE</li>\n",
       "\t<li>TRUE</li>\n",
       "\t<li>TRUE</li>\n",
       "\t<li>FALSE</li>\n",
       "\t<li>FALSE</li>\n",
       "\t<li>TRUE</li>\n",
       "\t<li>FALSE</li>\n",
       "</ol>\n"
      ],
      "text/latex": [
       "\\begin{enumerate*}\n",
       "\\item FALSE\n",
       "\\item TRUE\n",
       "\\item TRUE\n",
       "\\item FALSE\n",
       "\\item FALSE\n",
       "\\item TRUE\n",
       "\\item FALSE\n",
       "\\end{enumerate*}\n"
      ],
      "text/markdown": [
       "1. FALSE\n",
       "2. TRUE\n",
       "3. TRUE\n",
       "4. FALSE\n",
       "5. FALSE\n",
       "6. TRUE\n",
       "7. FALSE\n",
       "\n",
       "\n"
      ],
      "text/plain": [
       "[1] FALSE  TRUE  TRUE FALSE FALSE  TRUE FALSE"
      ]
     },
     "metadata": {},
     "output_type": "display_data"
    },
    {
     "data": {
      "text/html": [
       "<ol class=list-inline>\n",
       "\t<li>2</li>\n",
       "\t<li>17</li>\n",
       "\t<li>14</li>\n",
       "</ol>\n"
      ],
      "text/latex": [
       "\\begin{enumerate*}\n",
       "\\item 2\n",
       "\\item 17\n",
       "\\item 14\n",
       "\\end{enumerate*}\n"
      ],
      "text/markdown": [
       "1. 2\n",
       "2. 17\n",
       "3. 14\n",
       "\n",
       "\n"
      ],
      "text/plain": [
       "[1]  2 17 14"
      ]
     },
     "metadata": {},
     "output_type": "display_data"
    },
    {
     "data": {
      "text/html": [
       "<ol class=list-inline>\n",
       "\t<li>TRUE</li>\n",
       "\t<li>TRUE</li>\n",
       "\t<li>TRUE</li>\n",
       "</ol>\n"
      ],
      "text/latex": [
       "\\begin{enumerate*}\n",
       "\\item TRUE\n",
       "\\item TRUE\n",
       "\\item TRUE\n",
       "\\end{enumerate*}\n"
      ],
      "text/markdown": [
       "1. TRUE\n",
       "2. TRUE\n",
       "3. TRUE\n",
       "\n",
       "\n"
      ],
      "text/plain": [
       "[1] TRUE TRUE TRUE"
      ]
     },
     "metadata": {},
     "output_type": "display_data"
    },
    {
     "data": {
      "text/html": [
       "<ol class=list-inline>\n",
       "\t<li>FALSE</li>\n",
       "\t<li>TRUE</li>\n",
       "\t<li>FALSE</li>\n",
       "</ol>\n"
      ],
      "text/latex": [
       "\\begin{enumerate*}\n",
       "\\item FALSE\n",
       "\\item TRUE\n",
       "\\item FALSE\n",
       "\\end{enumerate*}\n"
      ],
      "text/markdown": [
       "1. FALSE\n",
       "2. TRUE\n",
       "3. FALSE\n",
       "\n",
       "\n"
      ],
      "text/plain": [
       "[1] FALSE  TRUE FALSE"
      ]
     },
     "metadata": {},
     "output_type": "display_data"
    }
   ],
   "source": [
    "# The linkedin and facebook vectors have already been created for you\n",
    "linkedin <- c(16, 9, 13, 5, 2, 17, 14)\n",
    "facebook <- c(17, 7, 5, 16, 8, 13, 14)\n",
    "\n",
    "# Popular days\n",
    "linkedin > 15\n",
    "\n",
    "# Quiet days\n",
    "linkedin <= 5\n",
    "\n",
    "# LinkedIn more popular than Facebook\n",
    "linkedin > facebook\n",
    "\n",
    "last <- tail(linkedin, 1)\n",
    "last <- tail(linkedin, 2)  # descomente essa linha para inferir o que faz a função tail()\n",
    "last <- tail(linkedin, 3)\n",
    "last\n",
    "\n",
    "# Is last under 5 or above 10?\n",
    "last < 5 | last > 10\n",
    "\n",
    "# Is last between 15 (exclusive) and 20 (inclusive)?\n",
    "last >15 & last <=20"
   ]
  },
  {
   "cell_type": "markdown",
   "metadata": {},
   "source": [
    "## 4. Tipo Matriz em R\n",
    "- Em R, uma matriz é uma coleção de elementos de um mesmo tipos de dados (numeric, character, or logical) disposta em estrutura bidimensional, descrita em linhas e colunas. \n",
    "- Usa-se a função matrix() para criar uma matriz.\n",
    "- Uma matriz de 9 elementos em sequência, dispostos em 3 linhas, é definida por:\n",
    "    - matrix(1:9, byrow = TRUE, nrow = 3)\n"
   ]
  },
  {
   "cell_type": "code",
   "execution_count": 41,
   "metadata": {},
   "outputs": [
    {
     "data": {
      "text/html": [
       "<table>\n",
       "<tbody>\n",
       "\t<tr><td>1</td><td>2</td><td>3</td></tr>\n",
       "\t<tr><td>4</td><td>5</td><td>6</td></tr>\n",
       "\t<tr><td>7</td><td>8</td><td>9</td></tr>\n",
       "</tbody>\n",
       "</table>\n"
      ],
      "text/latex": [
       "\\begin{tabular}{lll}\n",
       "\t 1 & 2 & 3\\\\\n",
       "\t 4 & 5 & 6\\\\\n",
       "\t 7 & 8 & 9\\\\\n",
       "\\end{tabular}\n"
      ],
      "text/markdown": [
       "\n",
       "| 1 | 2 | 3 | \n",
       "| 4 | 5 | 6 | \n",
       "| 7 | 8 | 9 | \n",
       "\n",
       "\n"
      ],
      "text/plain": [
       "     [,1] [,2] [,3]\n",
       "[1,] 1    2    3   \n",
       "[2,] 4    5    6   \n",
       "[3,] 7    8    9   "
      ]
     },
     "metadata": {},
     "output_type": "display_data"
    }
   ],
   "source": [
    "# Exemplo de criação de uma matriz 3x3\n",
    "\n",
    "matriz1= matrix(1:9, byrow = TRUE, nrow = 3)\n",
    "matriz1"
   ]
  },
  {
   "cell_type": "code",
   "execution_count": 42,
   "metadata": {},
   "outputs": [
    {
     "data": {
      "text/html": [
       "<table>\n",
       "<tbody>\n",
       "\t<tr><td>11</td><td>12</td><td>13</td></tr>\n",
       "\t<tr><td>14</td><td>15</td><td>16</td></tr>\n",
       "\t<tr><td>17</td><td>18</td><td>19</td></tr>\n",
       "</tbody>\n",
       "</table>\n"
      ],
      "text/latex": [
       "\\begin{tabular}{lll}\n",
       "\t 11 & 12 & 13\\\\\n",
       "\t 14 & 15 & 16\\\\\n",
       "\t 17 & 18 & 19\\\\\n",
       "\\end{tabular}\n"
      ],
      "text/markdown": [
       "\n",
       "| 11 | 12 | 13 | \n",
       "| 14 | 15 | 16 | \n",
       "| 17 | 18 | 19 | \n",
       "\n",
       "\n"
      ],
      "text/plain": [
       "     [,1] [,2] [,3]\n",
       "[1,] 11   12   13  \n",
       "[2,] 14   15   16  \n",
       "[3,] 17   18   19  "
      ]
     },
     "metadata": {},
     "output_type": "display_data"
    }
   ],
   "source": [
    "# Exemplo de criação de uma matriz 3x3\n",
    "matriz2= matrix(11:19, byrow = TRUE, nrow = 3)\n",
    "matriz2"
   ]
  },
  {
   "cell_type": "markdown",
   "metadata": {},
   "source": [
    "#### Exercício:\n",
    "- Crie uma Matriz 4x2, contendo os 8 primeiros números ímpares (1,3,5,..)"
   ]
  },
  {
   "cell_type": "code",
   "execution_count": 68,
   "metadata": {},
   "outputs": [
    {
     "data": {
      "text/html": [
       "<ol class=list-inline>\n",
       "\t<li>1</li>\n",
       "\t<li>3</li>\n",
       "\t<li>5</li>\n",
       "\t<li>7</li>\n",
       "\t<li>9</li>\n",
       "\t<li>11</li>\n",
       "\t<li>13</li>\n",
       "\t<li>15</li>\n",
       "\t<li>17</li>\n",
       "\t<li>19</li>\n",
       "\t<li>21</li>\n",
       "\t<li>23</li>\n",
       "\t<li>25</li>\n",
       "\t<li>27</li>\n",
       "\t<li>29</li>\n",
       "\t<li>31</li>\n",
       "\t<li>33</li>\n",
       "\t<li>35</li>\n",
       "\t<li>37</li>\n",
       "\t<li>39</li>\n",
       "\t<li>41</li>\n",
       "\t<li>43</li>\n",
       "\t<li>45</li>\n",
       "\t<li>47</li>\n",
       "\t<li>49</li>\n",
       "\t<li>51</li>\n",
       "\t<li>53</li>\n",
       "\t<li>55</li>\n",
       "\t<li>57</li>\n",
       "\t<li>59</li>\n",
       "\t<li>61</li>\n",
       "\t<li>63</li>\n",
       "\t<li>65</li>\n",
       "\t<li>67</li>\n",
       "\t<li>69</li>\n",
       "\t<li>71</li>\n",
       "\t<li>73</li>\n",
       "\t<li>75</li>\n",
       "\t<li>77</li>\n",
       "\t<li>79</li>\n",
       "\t<li>81</li>\n",
       "\t<li>83</li>\n",
       "\t<li>85</li>\n",
       "\t<li>87</li>\n",
       "\t<li>89</li>\n",
       "\t<li>91</li>\n",
       "\t<li>93</li>\n",
       "\t<li>95</li>\n",
       "\t<li>97</li>\n",
       "\t<li>99</li>\n",
       "</ol>\n"
      ],
      "text/latex": [
       "\\begin{enumerate*}\n",
       "\\item 1\n",
       "\\item 3\n",
       "\\item 5\n",
       "\\item 7\n",
       "\\item 9\n",
       "\\item 11\n",
       "\\item 13\n",
       "\\item 15\n",
       "\\item 17\n",
       "\\item 19\n",
       "\\item 21\n",
       "\\item 23\n",
       "\\item 25\n",
       "\\item 27\n",
       "\\item 29\n",
       "\\item 31\n",
       "\\item 33\n",
       "\\item 35\n",
       "\\item 37\n",
       "\\item 39\n",
       "\\item 41\n",
       "\\item 43\n",
       "\\item 45\n",
       "\\item 47\n",
       "\\item 49\n",
       "\\item 51\n",
       "\\item 53\n",
       "\\item 55\n",
       "\\item 57\n",
       "\\item 59\n",
       "\\item 61\n",
       "\\item 63\n",
       "\\item 65\n",
       "\\item 67\n",
       "\\item 69\n",
       "\\item 71\n",
       "\\item 73\n",
       "\\item 75\n",
       "\\item 77\n",
       "\\item 79\n",
       "\\item 81\n",
       "\\item 83\n",
       "\\item 85\n",
       "\\item 87\n",
       "\\item 89\n",
       "\\item 91\n",
       "\\item 93\n",
       "\\item 95\n",
       "\\item 97\n",
       "\\item 99\n",
       "\\end{enumerate*}\n"
      ],
      "text/markdown": [
       "1. 1\n",
       "2. 3\n",
       "3. 5\n",
       "4. 7\n",
       "5. 9\n",
       "6. 11\n",
       "7. 13\n",
       "8. 15\n",
       "9. 17\n",
       "10. 19\n",
       "11. 21\n",
       "12. 23\n",
       "13. 25\n",
       "14. 27\n",
       "15. 29\n",
       "16. 31\n",
       "17. 33\n",
       "18. 35\n",
       "19. 37\n",
       "20. 39\n",
       "21. 41\n",
       "22. 43\n",
       "23. 45\n",
       "24. 47\n",
       "25. 49\n",
       "26. 51\n",
       "27. 53\n",
       "28. 55\n",
       "29. 57\n",
       "30. 59\n",
       "31. 61\n",
       "32. 63\n",
       "33. 65\n",
       "34. 67\n",
       "35. 69\n",
       "36. 71\n",
       "37. 73\n",
       "38. 75\n",
       "39. 77\n",
       "40. 79\n",
       "41. 81\n",
       "42. 83\n",
       "43. 85\n",
       "44. 87\n",
       "45. 89\n",
       "46. 91\n",
       "47. 93\n",
       "48. 95\n",
       "49. 97\n",
       "50. 99\n",
       "\n",
       "\n"
      ],
      "text/plain": [
       " [1]  1  3  5  7  9 11 13 15 17 19 21 23 25 27 29 31 33 35 37 39 41 43 45 47 49\n",
       "[26] 51 53 55 57 59 61 63 65 67 69 71 73 75 77 79 81 83 85 87 89 91 93 95 97 99"
      ]
     },
     "metadata": {},
     "output_type": "display_data"
    },
    {
     "data": {
      "text/html": [
       "<pre class=language-r><code>function (data = NA, nrow = 1, ncol = 1, byrow = FALSE, dimnames = NULL) \n",
       "NULL</code></pre>"
      ],
      "text/latex": [
       "\\begin{minted}{r}\n",
       "function (data = NA, nrow = 1, ncol = 1, byrow = FALSE, dimnames = NULL) \n",
       "NULL\n",
       "\\end{minted}"
      ],
      "text/markdown": [
       "```r\n",
       "function (data = NA, nrow = 1, ncol = 1, byrow = FALSE, dimnames = NULL) \n",
       "NULL\n",
       "```"
      ],
      "text/plain": [
       "function (data = NA, nrow = 1, ncol = 1, byrow = FALSE, dimnames = NULL) \n",
       "NULL"
      ]
     },
     "metadata": {},
     "output_type": "display_data"
    },
    {
     "data": {
      "text/html": [
       "<table>\n",
       "<tbody>\n",
       "\t<tr><td> 1</td><td> 3</td></tr>\n",
       "\t<tr><td> 5</td><td> 7</td></tr>\n",
       "\t<tr><td> 9</td><td>11</td></tr>\n",
       "\t<tr><td>13</td><td>15</td></tr>\n",
       "</tbody>\n",
       "</table>\n"
      ],
      "text/latex": [
       "\\begin{tabular}{ll}\n",
       "\t  1 &  3\\\\\n",
       "\t  5 &  7\\\\\n",
       "\t  9 & 11\\\\\n",
       "\t 13 & 15\\\\\n",
       "\\end{tabular}\n"
      ],
      "text/markdown": [
       "\n",
       "|  1 |  3 | \n",
       "|  5 |  7 | \n",
       "|  9 | 11 | \n",
       "| 13 | 15 | \n",
       "\n",
       "\n"
      ],
      "text/plain": [
       "     [,1] [,2]\n",
       "[1,]  1    3  \n",
       "[2,]  5    7  \n",
       "[3,]  9   11  \n",
       "[4,] 13   15  "
      ]
     },
     "metadata": {},
     "output_type": "display_data"
    }
   ],
   "source": [
    "# Resolução do exercício:\n",
    "a = c(1:100)\n",
    "a = a[a%%2!=0]\n",
    "a\n",
    "\n",
    "args(matrix)\n",
    "matrix(a[1:8], byrow=TRUE, nrow=4, ncol=2)"
   ]
  },
  {
   "cell_type": "markdown",
   "metadata": {},
   "source": [
    "- Exemplo de outro modo de criação/iniciação de matrizes"
   ]
  },
  {
   "cell_type": "code",
   "execution_count": 69,
   "metadata": {
    "collapsed": true
   },
   "outputs": [],
   "source": [
    "A <- matrix(c(1,2,3,4,5,6),3,2)  # matrix 3x2\n",
    "B <- matrix(c(1,2,3,4,5,6),2,3)  # matrix 2x3"
   ]
  },
  {
   "cell_type": "code",
   "execution_count": 70,
   "metadata": {},
   "outputs": [
    {
     "name": "stdout",
     "output_type": "stream",
     "text": [
      "[1] \"Matriz A\"\n"
     ]
    },
    {
     "data": {
      "text/html": [
       "<table>\n",
       "<tbody>\n",
       "\t<tr><td>1</td><td>4</td></tr>\n",
       "\t<tr><td>2</td><td>5</td></tr>\n",
       "\t<tr><td>3</td><td>6</td></tr>\n",
       "</tbody>\n",
       "</table>\n"
      ],
      "text/latex": [
       "\\begin{tabular}{ll}\n",
       "\t 1 & 4\\\\\n",
       "\t 2 & 5\\\\\n",
       "\t 3 & 6\\\\\n",
       "\\end{tabular}\n"
      ],
      "text/markdown": [
       "\n",
       "| 1 | 4 | \n",
       "| 2 | 5 | \n",
       "| 3 | 6 | \n",
       "\n",
       "\n"
      ],
      "text/plain": [
       "     [,1] [,2]\n",
       "[1,] 1    4   \n",
       "[2,] 2    5   \n",
       "[3,] 3    6   "
      ]
     },
     "metadata": {},
     "output_type": "display_data"
    },
    {
     "name": "stdout",
     "output_type": "stream",
     "text": [
      "[1] \"Matriz B\"\n"
     ]
    },
    {
     "data": {
      "text/html": [
       "<table>\n",
       "<tbody>\n",
       "\t<tr><td>1</td><td>3</td><td>5</td></tr>\n",
       "\t<tr><td>2</td><td>4</td><td>6</td></tr>\n",
       "</tbody>\n",
       "</table>\n"
      ],
      "text/latex": [
       "\\begin{tabular}{lll}\n",
       "\t 1 & 3 & 5\\\\\n",
       "\t 2 & 4 & 6\\\\\n",
       "\\end{tabular}\n"
      ],
      "text/markdown": [
       "\n",
       "| 1 | 3 | 5 | \n",
       "| 2 | 4 | 6 | \n",
       "\n",
       "\n"
      ],
      "text/plain": [
       "     [,1] [,2] [,3]\n",
       "[1,] 1    3    5   \n",
       "[2,] 2    4    6   "
      ]
     },
     "metadata": {},
     "output_type": "display_data"
    }
   ],
   "source": [
    "print(\"Matriz A\")\n",
    "A\n",
    "print(\"Matriz B\")\n",
    "B"
   ]
  },
  {
   "cell_type": "code",
   "execution_count": 13,
   "metadata": {},
   "outputs": [
    {
     "name": "stdout",
     "output_type": "stream",
     "text": [
      "[1] \" Programa exemplificando outra forma de se criar matrizes\"\n",
      "[1] \"Os valores correspondem aos valores arrecadados nos EUA e nos outros países, respectivamente, com a trilogia Star Wars\"\n"
     ]
    },
    {
     "data": {
      "text/html": [
       "<ol class=list-inline>\n",
       "\t<li>460.998</li>\n",
       "\t<li>314.4</li>\n",
       "\t<li>290.475</li>\n",
       "\t<li>247.9</li>\n",
       "\t<li>309.306</li>\n",
       "\t<li>165.8</li>\n",
       "</ol>\n"
      ],
      "text/latex": [
       "\\begin{enumerate*}\n",
       "\\item 460.998\n",
       "\\item 314.4\n",
       "\\item 290.475\n",
       "\\item 247.9\n",
       "\\item 309.306\n",
       "\\item 165.8\n",
       "\\end{enumerate*}\n"
      ],
      "text/markdown": [
       "1. 460.998\n",
       "2. 314.4\n",
       "3. 290.475\n",
       "4. 247.9\n",
       "5. 309.306\n",
       "6. 165.8\n",
       "\n",
       "\n"
      ],
      "text/plain": [
       "[1] 460.998 314.400 290.475 247.900 309.306 165.800"
      ]
     },
     "metadata": {},
     "output_type": "display_data"
    },
    {
     "data": {
      "text/html": [
       "<table>\n",
       "<tbody>\n",
       "\t<tr><td>460.998</td><td>314.4  </td></tr>\n",
       "\t<tr><td>290.475</td><td>247.9  </td></tr>\n",
       "\t<tr><td>309.306</td><td>165.8  </td></tr>\n",
       "</tbody>\n",
       "</table>\n"
      ],
      "text/latex": [
       "\\begin{tabular}{ll}\n",
       "\t 460.998 & 314.4  \\\\\n",
       "\t 290.475 & 247.9  \\\\\n",
       "\t 309.306 & 165.8  \\\\\n",
       "\\end{tabular}\n"
      ],
      "text/markdown": [
       "\n",
       "| 460.998 | 314.4   | \n",
       "| 290.475 | 247.9   | \n",
       "| 309.306 | 165.8   | \n",
       "\n",
       "\n"
      ],
      "text/plain": [
       "     [,1]    [,2] \n",
       "[1,] 460.998 314.4\n",
       "[2,] 290.475 247.9\n",
       "[3,] 309.306 165.8"
      ]
     },
     "metadata": {},
     "output_type": "display_data"
    }
   ],
   "source": [
    "print(\" Programa exemplificando outra forma de se criar matrizes\" )\n",
    "print(\"Os valores correspondem aos valores arrecadados nos EUA e nos outros países, respectivamente, com a trilogia Star Wars\")\n",
    "\n",
    "# Box office Star Wars (in millions!)\n",
    "new_hope <- c(460.998, 314.4)\n",
    "empire_strikes <- c(290.475, 247.900)\n",
    "return_jedi <- c(309.306, 165.8)\n",
    "\n",
    "# Create box_office\n",
    "box_office <- c(new_hope, empire_strikes, return_jedi)\n",
    "box_office\n",
    "# Construct star_wars_matrix\n",
    "star_wars_matrix <- matrix(box_office, byrow = TRUE, nrow = 3)\n",
    "star_wars_matrix"
   ]
  },
  {
   "cell_type": "markdown",
   "metadata": {},
   "source": [
    "De modo similar aos vetores, pode-se adicionar nomes às linhas e colunas de uma matriz\n",
    "\n",
    "- rownames(my_matrix) <- row_names_vector\n",
    "\n",
    "- colnames(my_matrix) <- col_names_vector"
   ]
  },
  {
   "cell_type": "code",
   "execution_count": 3,
   "metadata": {},
   "outputs": [
    {
     "name": "stdout",
     "output_type": "stream",
     "text": [
      "[1] \"Outra forma de iniciar uma matriz\"\n"
     ]
    },
    {
     "data": {
      "text/html": [
       "<table>\n",
       "<tbody>\n",
       "\t<tr><td>2</td><td>2</td><td>2</td></tr>\n",
       "\t<tr><td>2</td><td>2</td><td>2</td></tr>\n",
       "\t<tr><td>2</td><td>2</td><td>2</td></tr>\n",
       "\t<tr><td>2</td><td>2</td><td>2</td></tr>\n",
       "\t<tr><td>2</td><td>2</td><td>2</td></tr>\n",
       "</tbody>\n",
       "</table>\n"
      ],
      "text/latex": [
       "\\begin{tabular}{lll}\n",
       "\t 2 & 2 & 2\\\\\n",
       "\t 2 & 2 & 2\\\\\n",
       "\t 2 & 2 & 2\\\\\n",
       "\t 2 & 2 & 2\\\\\n",
       "\t 2 & 2 & 2\\\\\n",
       "\\end{tabular}\n"
      ],
      "text/markdown": [
       "\n",
       "| 2 | 2 | 2 | \n",
       "| 2 | 2 | 2 | \n",
       "| 2 | 2 | 2 | \n",
       "| 2 | 2 | 2 | \n",
       "| 2 | 2 | 2 | \n",
       "\n",
       "\n"
      ],
      "text/plain": [
       "     [,1] [,2] [,3]\n",
       "[1,] 2    2    2   \n",
       "[2,] 2    2    2   \n",
       "[3,] 2    2    2   \n",
       "[4,] 2    2    2   \n",
       "[5,] 2    2    2   "
      ]
     },
     "metadata": {},
     "output_type": "display_data"
    },
    {
     "data": {
      "text/html": [
       "<table>\n",
       "<thead><tr><th></th><th scope=col>col1</th><th scope=col>col2</th><th scope=col>col3</th></tr></thead>\n",
       "<tbody>\n",
       "\t<tr><th scope=row>row1</th><td>2</td><td>2</td><td>2</td></tr>\n",
       "\t<tr><th scope=row>row2</th><td>2</td><td>2</td><td>2</td></tr>\n",
       "\t<tr><th scope=row>row3</th><td>2</td><td>2</td><td>2</td></tr>\n",
       "\t<tr><th scope=row>row4</th><td>2</td><td>2</td><td>2</td></tr>\n",
       "\t<tr><th scope=row>row5</th><td>2</td><td>2</td><td>2</td></tr>\n",
       "</tbody>\n",
       "</table>\n"
      ],
      "text/latex": [
       "\\begin{tabular}{r|lll}\n",
       "  & col1 & col2 & col3\\\\\n",
       "\\hline\n",
       "\trow1 & 2 & 2 & 2\\\\\n",
       "\trow2 & 2 & 2 & 2\\\\\n",
       "\trow3 & 2 & 2 & 2\\\\\n",
       "\trow4 & 2 & 2 & 2\\\\\n",
       "\trow5 & 2 & 2 & 2\\\\\n",
       "\\end{tabular}\n"
      ],
      "text/markdown": [
       "\n",
       "| <!--/--> | col1 | col2 | col3 | \n",
       "|---|---|---|---|---|\n",
       "| row1 | 2 | 2 | 2 | \n",
       "| row2 | 2 | 2 | 2 | \n",
       "| row3 | 2 | 2 | 2 | \n",
       "| row4 | 2 | 2 | 2 | \n",
       "| row5 | 2 | 2 | 2 | \n",
       "\n",
       "\n"
      ],
      "text/plain": [
       "     col1 col2 col3\n",
       "row1 2    2    2   \n",
       "row2 2    2    2   \n",
       "row3 2    2    2   \n",
       "row4 2    2    2   \n",
       "row5 2    2    2   "
      ]
     },
     "metadata": {},
     "output_type": "display_data"
    }
   ],
   "source": [
    "print(\"Outra forma de iniciar uma matriz\")\n",
    "teste <- matrix(2,5,3)\n",
    "teste\n",
    "colnames(teste) <- c(\"col1\", \"col2\", \"col3\")\n",
    "rownames(teste) <- c(\"row1\", \"row2\", \"row3\", \"row4\",\"row5\")\n",
    "teste"
   ]
  },
  {
   "cell_type": "code",
   "execution_count": 4,
   "metadata": {},
   "outputs": [
    {
     "data": {
      "text/html": [
       "<table>\n",
       "<thead><tr><th></th><th scope=col>US</th><th scope=col>non-US</th></tr></thead>\n",
       "<tbody>\n",
       "\t<tr><th scope=row>A New Hope</th><td>460.998</td><td>314.4  </td></tr>\n",
       "\t<tr><th scope=row>The Empire Strikes Back</th><td>290.475</td><td>247.9  </td></tr>\n",
       "\t<tr><th scope=row>Return of the Jedi</th><td>309.306</td><td>165.8  </td></tr>\n",
       "</tbody>\n",
       "</table>\n"
      ],
      "text/latex": [
       "\\begin{tabular}{r|ll}\n",
       "  & US & non-US\\\\\n",
       "\\hline\n",
       "\tA New Hope & 460.998 & 314.4  \\\\\n",
       "\tThe Empire Strikes Back & 290.475 & 247.9  \\\\\n",
       "\tReturn of the Jedi & 309.306 & 165.8  \\\\\n",
       "\\end{tabular}\n"
      ],
      "text/markdown": [
       "\n",
       "| <!--/--> | US | non-US | \n",
       "|---|---|---|\n",
       "| A New Hope | 460.998 | 314.4   | \n",
       "| The Empire Strikes Back | 290.475 | 247.9   | \n",
       "| Return of the Jedi | 309.306 | 165.8   | \n",
       "\n",
       "\n"
      ],
      "text/plain": [
       "                        US      non-US\n",
       "A New Hope              460.998 314.4 \n",
       "The Empire Strikes Back 290.475 247.9 \n",
       "Return of the Jedi      309.306 165.8 "
      ]
     },
     "metadata": {},
     "output_type": "display_data"
    }
   ],
   "source": [
    "# Box office Star Wars (in millions!)\n",
    "new_hope <- c(460.998, 314.4)\n",
    "empire_strikes <- c(290.475, 247.900)\n",
    "return_jedi <- c(309.306, 165.8)\n",
    "\n",
    "# Construct matrix\n",
    "star_wars_matrix <- matrix(c(new_hope, empire_strikes, return_jedi), nrow = 3, byrow = TRUE)\n",
    "\n",
    "# Vectors region and titles, used for naming\n",
    "region <- c(\"US\", \"non-US\")\n",
    "titles <- c(\"A New Hope\", \"The Empire Strikes Back\", \"Return of the Jedi\")\n",
    "\n",
    "# Name the columns with region\n",
    "colnames(star_wars_matrix) <- region\n",
    "\n",
    "# Name the rows with titles\n",
    "rownames(star_wars_matrix) <- titles\n",
    "\n",
    "# Print out star_wars_matrix\n",
    "\n",
    "star_wars_matrix"
   ]
  },
  {
   "cell_type": "markdown",
   "metadata": {},
   "source": [
    "### 4.1 Algumas funções úteis para operar sobre matrizes\n",
    "- rowSums(), retorna num vetor o cálculo do total para cada linha de uma matriz. \n",
    "- my_vector <- rowSums(my_matrix)\n",
    "- a função colSums() é a dual da rowSums()\n"
   ]
  },
  {
   "cell_type": "code",
   "execution_count": 5,
   "metadata": {},
   "outputs": [
    {
     "data": {
      "text/html": [
       "<table>\n",
       "<thead><tr><th></th><th scope=col>US</th><th scope=col>non-US</th></tr></thead>\n",
       "<tbody>\n",
       "\t<tr><th scope=row>A New Hope</th><td>460.998</td><td>314.4  </td></tr>\n",
       "\t<tr><th scope=row>The Empire Strikes Back</th><td>290.475</td><td>247.9  </td></tr>\n",
       "\t<tr><th scope=row>Return of the Jedi</th><td>309.306</td><td>165.8  </td></tr>\n",
       "</tbody>\n",
       "</table>\n"
      ],
      "text/latex": [
       "\\begin{tabular}{r|ll}\n",
       "  & US & non-US\\\\\n",
       "\\hline\n",
       "\tA New Hope & 460.998 & 314.4  \\\\\n",
       "\tThe Empire Strikes Back & 290.475 & 247.9  \\\\\n",
       "\tReturn of the Jedi & 309.306 & 165.8  \\\\\n",
       "\\end{tabular}\n"
      ],
      "text/markdown": [
       "\n",
       "| <!--/--> | US | non-US | \n",
       "|---|---|---|\n",
       "| A New Hope | 460.998 | 314.4   | \n",
       "| The Empire Strikes Back | 290.475 | 247.9   | \n",
       "| Return of the Jedi | 309.306 | 165.8   | \n",
       "\n",
       "\n"
      ],
      "text/plain": [
       "                        US      non-US\n",
       "A New Hope              460.998 314.4 \n",
       "The Empire Strikes Back 290.475 247.9 \n",
       "Return of the Jedi      309.306 165.8 "
      ]
     },
     "metadata": {},
     "output_type": "display_data"
    },
    {
     "data": {
      "text/html": [
       "<dl class=dl-horizontal>\n",
       "\t<dt>A New Hope</dt>\n",
       "\t\t<dd>775.398</dd>\n",
       "\t<dt>The Empire Strikes Back</dt>\n",
       "\t\t<dd>538.375</dd>\n",
       "\t<dt>Return of the Jedi</dt>\n",
       "\t\t<dd>475.106</dd>\n",
       "</dl>\n"
      ],
      "text/latex": [
       "\\begin{description*}\n",
       "\\item[A New Hope] 775.398\n",
       "\\item[The Empire Strikes Back] 538.375\n",
       "\\item[Return of the Jedi] 475.106\n",
       "\\end{description*}\n"
      ],
      "text/markdown": [
       "A New Hope\n",
       ":   775.398The Empire Strikes Back\n",
       ":   538.375Return of the Jedi\n",
       ":   475.106\n",
       "\n"
      ],
      "text/plain": [
       "             A New Hope The Empire Strikes Back      Return of the Jedi \n",
       "                775.398                 538.375                 475.106 "
      ]
     },
     "metadata": {},
     "output_type": "display_data"
    }
   ],
   "source": [
    "# Construct star_wars_matrix\n",
    "box_office <- c(460.998, 314.4, 290.475, 247.900, 309.306, 165.8)\n",
    "star_wars_matrix <- matrix(box_office, nrow = 3, byrow = TRUE,\n",
    "                           dimnames = list(c(\"A New Hope\", \"The Empire Strikes Back\", \"Return of the Jedi\"), \n",
    "                                           c(\"US\", \"non-US\")))\n",
    "star_wars_matrix\n",
    "\n",
    "# Calculate worldwide box office figures\n",
    "worldwide_vector <- rowSums(star_wars_matrix)\n",
    "worldwide_vector"
   ]
  },
  {
   "cell_type": "markdown",
   "metadata": {},
   "source": [
    "Pode-se adicionar uma ou múltiplas colunas para uma matriz com a função cbind( ). O resultado é uma matriz que anexa as matrizes por coluna:\n",
    "- big_matrix <- cbind(matrix1, matrix2, vector1 ...)\n",
    "\n",
    "A função rbind() é a dual da cbind( ), ou seja, nesse caso há a composição das matrizes por linha ou invés de por coluna."
   ]
  },
  {
   "cell_type": "code",
   "execution_count": 6,
   "metadata": {},
   "outputs": [
    {
     "data": {
      "text/html": [
       "<table>\n",
       "<thead><tr><th></th><th scope=col>US</th><th scope=col>non-US</th><th scope=col>worldwide_vector</th></tr></thead>\n",
       "<tbody>\n",
       "\t<tr><th scope=row>A New Hope</th><td>460.998</td><td>314.4  </td><td>775.398</td></tr>\n",
       "\t<tr><th scope=row>The Empire Strikes Back</th><td>290.475</td><td>247.9  </td><td>538.375</td></tr>\n",
       "\t<tr><th scope=row>Return of the Jedi</th><td>309.306</td><td>165.8  </td><td>475.106</td></tr>\n",
       "</tbody>\n",
       "</table>\n"
      ],
      "text/latex": [
       "\\begin{tabular}{r|lll}\n",
       "  & US & non-US & worldwide\\_vector\\\\\n",
       "\\hline\n",
       "\tA New Hope & 460.998 & 314.4   & 775.398\\\\\n",
       "\tThe Empire Strikes Back & 290.475 & 247.9   & 538.375\\\\\n",
       "\tReturn of the Jedi & 309.306 & 165.8   & 475.106\\\\\n",
       "\\end{tabular}\n"
      ],
      "text/markdown": [
       "\n",
       "| <!--/--> | US | non-US | worldwide_vector | \n",
       "|---|---|---|\n",
       "| A New Hope | 460.998 | 314.4   | 775.398 | \n",
       "| The Empire Strikes Back | 290.475 | 247.9   | 538.375 | \n",
       "| Return of the Jedi | 309.306 | 165.8   | 475.106 | \n",
       "\n",
       "\n"
      ],
      "text/plain": [
       "                        US      non-US worldwide_vector\n",
       "A New Hope              460.998 314.4  775.398         \n",
       "The Empire Strikes Back 290.475 247.9  538.375         \n",
       "Return of the Jedi      309.306 165.8  475.106         "
      ]
     },
     "metadata": {},
     "output_type": "display_data"
    }
   ],
   "source": [
    "# Construct star_wars_matrix\n",
    "box_office <- c(460.998, 314.4, 290.475, 247.900, 309.306, 165.8)\n",
    "star_wars_matrix <- matrix(box_office, nrow = 3, byrow = TRUE,\n",
    "                           dimnames = list(c(\"A New Hope\", \"The Empire Strikes Back\", \"Return of the Jedi\"), \n",
    "                                           c(\"US\", \"non-US\")))\n",
    "\n",
    "# The worldwide box office figures\n",
    "worldwide_vector <- rowSums(star_wars_matrix)\n",
    "\n",
    "# Bind the new variable worldwide_vector as a column to star_wars_matrix\n",
    "all_wars_matrix <- cbind(star_wars_matrix,worldwide_vector)\n",
    "all_wars_matrix"
   ]
  },
  {
   "cell_type": "code",
   "execution_count": 7,
   "metadata": {},
   "outputs": [
    {
     "data": {
      "text/html": [
       "<table>\n",
       "<thead><tr><th></th><th scope=col>US</th><th scope=col>non-US</th></tr></thead>\n",
       "<tbody>\n",
       "\t<tr><th scope=row>A New Hope</th><td>460.998</td><td>314.4  </td></tr>\n",
       "\t<tr><th scope=row>The Empire Strikes Back</th><td>290.475</td><td>247.9  </td></tr>\n",
       "\t<tr><th scope=row>Return of the Jedi</th><td>309.306</td><td>165.8  </td></tr>\n",
       "</tbody>\n",
       "</table>\n"
      ],
      "text/latex": [
       "\\begin{tabular}{r|ll}\n",
       "  & US & non-US\\\\\n",
       "\\hline\n",
       "\tA New Hope & 460.998 & 314.4  \\\\\n",
       "\tThe Empire Strikes Back & 290.475 & 247.9  \\\\\n",
       "\tReturn of the Jedi & 309.306 & 165.8  \\\\\n",
       "\\end{tabular}\n"
      ],
      "text/markdown": [
       "\n",
       "| <!--/--> | US | non-US | \n",
       "|---|---|---|\n",
       "| A New Hope | 460.998 | 314.4   | \n",
       "| The Empire Strikes Back | 290.475 | 247.9   | \n",
       "| Return of the Jedi | 309.306 | 165.8   | \n",
       "\n",
       "\n"
      ],
      "text/plain": [
       "                        US      non-US\n",
       "A New Hope              460.998 314.4 \n",
       "The Empire Strikes Back 290.475 247.9 \n",
       "Return of the Jedi      309.306 165.8 "
      ]
     },
     "metadata": {},
     "output_type": "display_data"
    },
    {
     "data": {
      "text/html": [
       "<table>\n",
       "<thead><tr><th></th><th scope=col>US</th><th scope=col>non-US</th></tr></thead>\n",
       "<tbody>\n",
       "\t<tr><th scope=row>The Phantom Menace</th><td>474.5</td><td>552.5</td></tr>\n",
       "\t<tr><th scope=row>Attack of the Clones</th><td>310.7</td><td>338.7</td></tr>\n",
       "\t<tr><th scope=row>Revenge of the Sith</th><td>380.3</td><td>468.5</td></tr>\n",
       "</tbody>\n",
       "</table>\n"
      ],
      "text/latex": [
       "\\begin{tabular}{r|ll}\n",
       "  & US & non-US\\\\\n",
       "\\hline\n",
       "\tThe Phantom Menace & 474.5 & 552.5\\\\\n",
       "\tAttack of the Clones & 310.7 & 338.7\\\\\n",
       "\tRevenge of the Sith & 380.3 & 468.5\\\\\n",
       "\\end{tabular}\n"
      ],
      "text/markdown": [
       "\n",
       "| <!--/--> | US | non-US | \n",
       "|---|---|---|\n",
       "| The Phantom Menace | 474.5 | 552.5 | \n",
       "| Attack of the Clones | 310.7 | 338.7 | \n",
       "| Revenge of the Sith | 380.3 | 468.5 | \n",
       "\n",
       "\n"
      ],
      "text/plain": [
       "                     US    non-US\n",
       "The Phantom Menace   474.5 552.5 \n",
       "Attack of the Clones 310.7 338.7 \n",
       "Revenge of the Sith  380.3 468.5 "
      ]
     },
     "metadata": {},
     "output_type": "display_data"
    },
    {
     "data": {
      "text/html": [
       "<table>\n",
       "<thead><tr><th></th><th scope=col>US</th><th scope=col>non-US</th></tr></thead>\n",
       "<tbody>\n",
       "\t<tr><th scope=row>A New Hope</th><td>460.998</td><td>314.4  </td></tr>\n",
       "\t<tr><th scope=row>The Empire Strikes Back</th><td>290.475</td><td>247.9  </td></tr>\n",
       "\t<tr><th scope=row>Return of the Jedi</th><td>309.306</td><td>165.8  </td></tr>\n",
       "\t<tr><th scope=row>The Phantom Menace</th><td>474.500</td><td>552.5  </td></tr>\n",
       "\t<tr><th scope=row>Attack of the Clones</th><td>310.700</td><td>338.7  </td></tr>\n",
       "\t<tr><th scope=row>Revenge of the Sith</th><td>380.300</td><td>468.5  </td></tr>\n",
       "</tbody>\n",
       "</table>\n"
      ],
      "text/latex": [
       "\\begin{tabular}{r|ll}\n",
       "  & US & non-US\\\\\n",
       "\\hline\n",
       "\tA New Hope & 460.998 & 314.4  \\\\\n",
       "\tThe Empire Strikes Back & 290.475 & 247.9  \\\\\n",
       "\tReturn of the Jedi & 309.306 & 165.8  \\\\\n",
       "\tThe Phantom Menace & 474.500 & 552.5  \\\\\n",
       "\tAttack of the Clones & 310.700 & 338.7  \\\\\n",
       "\tRevenge of the Sith & 380.300 & 468.5  \\\\\n",
       "\\end{tabular}\n"
      ],
      "text/markdown": [
       "\n",
       "| <!--/--> | US | non-US | \n",
       "|---|---|---|---|---|---|\n",
       "| A New Hope | 460.998 | 314.4   | \n",
       "| The Empire Strikes Back | 290.475 | 247.9   | \n",
       "| Return of the Jedi | 309.306 | 165.8   | \n",
       "| The Phantom Menace | 474.500 | 552.5   | \n",
       "| Attack of the Clones | 310.700 | 338.7   | \n",
       "| Revenge of the Sith | 380.300 | 468.5   | \n",
       "\n",
       "\n"
      ],
      "text/plain": [
       "                        US      non-US\n",
       "A New Hope              460.998 314.4 \n",
       "The Empire Strikes Back 290.475 247.9 \n",
       "Return of the Jedi      309.306 165.8 \n",
       "The Phantom Menace      474.500 552.5 \n",
       "Attack of the Clones    310.700 338.7 \n",
       "Revenge of the Sith     380.300 468.5 "
      ]
     },
     "metadata": {},
     "output_type": "display_data"
    }
   ],
   "source": [
    "box_office2 <- c(474.5,  552.5, 310.7 , 338.7, 380.3 , 468.5)\n",
    "star_wars_matrix2<- matrix(box_office2, nrow = 3, byrow = TRUE,\n",
    "                           dimnames = list(c(\"The Phantom Menace\", \"Attack of the Clones\", \"Revenge of the Sith\"), \n",
    "                                           c(\"US\", \"non-US\")))\n",
    "all_wars_matrix <- rbind(star_wars_matrix,star_wars_matrix2)\n",
    "\n",
    "star_wars_matrix\n",
    "star_wars_matrix2\n",
    "all_wars_matrix"
   ]
  },
  {
   "cell_type": "code",
   "execution_count": 8,
   "metadata": {},
   "outputs": [
    {
     "data": {
      "text/html": [
       "<table>\n",
       "<thead><tr><th></th><th scope=col>US</th><th scope=col>non-US</th></tr></thead>\n",
       "<tbody>\n",
       "\t<tr><th scope=row>A New Hope</th><td>460.998</td><td>314.4  </td></tr>\n",
       "\t<tr><th scope=row>The Empire Strikes Back</th><td>290.475</td><td>247.9  </td></tr>\n",
       "\t<tr><th scope=row>Return of the Jedi</th><td>309.306</td><td>165.8  </td></tr>\n",
       "\t<tr><th scope=row>The Phantom Menace</th><td>474.500</td><td>552.5  </td></tr>\n",
       "\t<tr><th scope=row>Attack of the Clones</th><td>310.700</td><td>338.7  </td></tr>\n",
       "\t<tr><th scope=row>Revenge of the Sith</th><td>380.300</td><td>468.5  </td></tr>\n",
       "</tbody>\n",
       "</table>\n"
      ],
      "text/latex": [
       "\\begin{tabular}{r|ll}\n",
       "  & US & non-US\\\\\n",
       "\\hline\n",
       "\tA New Hope & 460.998 & 314.4  \\\\\n",
       "\tThe Empire Strikes Back & 290.475 & 247.9  \\\\\n",
       "\tReturn of the Jedi & 309.306 & 165.8  \\\\\n",
       "\tThe Phantom Menace & 474.500 & 552.5  \\\\\n",
       "\tAttack of the Clones & 310.700 & 338.7  \\\\\n",
       "\tRevenge of the Sith & 380.300 & 468.5  \\\\\n",
       "\\end{tabular}\n"
      ],
      "text/markdown": [
       "\n",
       "| <!--/--> | US | non-US | \n",
       "|---|---|---|---|---|---|\n",
       "| A New Hope | 460.998 | 314.4   | \n",
       "| The Empire Strikes Back | 290.475 | 247.9   | \n",
       "| Return of the Jedi | 309.306 | 165.8   | \n",
       "| The Phantom Menace | 474.500 | 552.5   | \n",
       "| Attack of the Clones | 310.700 | 338.7   | \n",
       "| Revenge of the Sith | 380.300 | 468.5   | \n",
       "\n",
       "\n"
      ],
      "text/plain": [
       "                        US      non-US\n",
       "A New Hope              460.998 314.4 \n",
       "The Empire Strikes Back 290.475 247.9 \n",
       "Return of the Jedi      309.306 165.8 \n",
       "The Phantom Menace      474.500 552.5 \n",
       "Attack of the Clones    310.700 338.7 \n",
       "Revenge of the Sith     380.300 468.5 "
      ]
     },
     "metadata": {},
     "output_type": "display_data"
    },
    {
     "data": {
      "text/html": [
       "<table>\n",
       "<thead><tr><th></th><th scope=col>US</th><th scope=col>non-US</th><th scope=col>worldwide_vector</th></tr></thead>\n",
       "<tbody>\n",
       "\t<tr><th scope=row>A New Hope</th><td> 460.998</td><td> 314.4  </td><td> 775.398</td></tr>\n",
       "\t<tr><th scope=row>The Empire Strikes Back</th><td> 290.475</td><td> 247.9  </td><td> 538.375</td></tr>\n",
       "\t<tr><th scope=row>Return of the Jedi</th><td> 309.306</td><td> 165.8  </td><td> 475.106</td></tr>\n",
       "\t<tr><th scope=row>The Phantom Menace</th><td> 474.500</td><td> 552.5  </td><td>1027.000</td></tr>\n",
       "\t<tr><th scope=row>Attack of the Clones</th><td> 310.700</td><td> 338.7  </td><td> 649.400</td></tr>\n",
       "\t<tr><th scope=row>Revenge of the Sith</th><td> 380.300</td><td> 468.5  </td><td> 848.800</td></tr>\n",
       "\t<tr><th scope=row>total_vector</th><td>2226.279</td><td>2087.8  </td><td>4314.079</td></tr>\n",
       "</tbody>\n",
       "</table>\n"
      ],
      "text/latex": [
       "\\begin{tabular}{r|lll}\n",
       "  & US & non-US & worldwide\\_vector\\\\\n",
       "\\hline\n",
       "\tA New Hope &  460.998 &  314.4   &  775.398\\\\\n",
       "\tThe Empire Strikes Back &  290.475 &  247.9   &  538.375\\\\\n",
       "\tReturn of the Jedi &  309.306 &  165.8   &  475.106\\\\\n",
       "\tThe Phantom Menace &  474.500 &  552.5   & 1027.000\\\\\n",
       "\tAttack of the Clones &  310.700 &  338.7   &  649.400\\\\\n",
       "\tRevenge of the Sith &  380.300 &  468.5   &  848.800\\\\\n",
       "\ttotal\\_vector & 2226.279 & 2087.8   & 4314.079\\\\\n",
       "\\end{tabular}\n"
      ],
      "text/markdown": [
       "\n",
       "| <!--/--> | US | non-US | worldwide_vector | \n",
       "|---|---|---|---|---|---|---|\n",
       "| A New Hope |  460.998 |  314.4   |  775.398 | \n",
       "| The Empire Strikes Back |  290.475 |  247.9   |  538.375 | \n",
       "| Return of the Jedi |  309.306 |  165.8   |  475.106 | \n",
       "| The Phantom Menace |  474.500 |  552.5   | 1027.000 | \n",
       "| Attack of the Clones |  310.700 |  338.7   |  649.400 | \n",
       "| Revenge of the Sith |  380.300 |  468.5   |  848.800 | \n",
       "| total_vector | 2226.279 | 2087.8   | 4314.079 | \n",
       "\n",
       "\n"
      ],
      "text/plain": [
       "                        US       non-US worldwide_vector\n",
       "A New Hope               460.998  314.4  775.398        \n",
       "The Empire Strikes Back  290.475  247.9  538.375        \n",
       "Return of the Jedi       309.306  165.8  475.106        \n",
       "The Phantom Menace       474.500  552.5 1027.000        \n",
       "Attack of the Clones     310.700  338.7  649.400        \n",
       "Revenge of the Sith      380.300  468.5  848.800        \n",
       "total_vector            2226.279 2087.8 4314.079        "
      ]
     },
     "metadata": {},
     "output_type": "display_data"
    }
   ],
   "source": [
    "all_wars_matrix\n",
    "\n",
    "worldwide_vector <- rowSums(all_wars_matrix)\n",
    "all_wars_matrix <- cbind(all_wars_matrix,worldwide_vector)\n",
    "\n",
    "total_vector <- colSums(all_wars_matrix)\n",
    "all_wars_matrix <- rbind(all_wars_matrix,total_vector)\n",
    "all_wars_matrix"
   ]
  },
  {
   "cell_type": "markdown",
   "metadata": {},
   "source": [
    "### 4.2 Seleção de elementos de Matrizes:\n",
    "- utiliza o mesmo priuncípio de acesso de elementos de vetores.\n",
    "- no caso, se utiliza [.].\n",
    "- como matrizes são bi-dimencionais, precisa-se utlizar vírgula [.,.].\n",
    "- my_matrix[1,2] seleciona o elemento da linha 1 e coluna 2.\n",
    "- my_matrix[1:3,2:4] resulta em uma matriz com dados das linhas 1, 2, 3 e colunas 2, 3, 4 da matriz my_matrix.\n",
    "\n",
    "Se se deseja selecionar todos os elementos de uma linha ou coluna, é só não especificar a coluna ou linha, respectivamente.\n",
    "- my_matrix[,1], seleciona todos os elementos da primeira coluna de my_matrix.\n",
    "- my_matrix[2,], seleciona todos os elementos da segunda coluna de my_matrix.\n"
   ]
  },
  {
   "cell_type": "code",
   "execution_count": 9,
   "metadata": {},
   "outputs": [
    {
     "data": {
      "text/html": [
       "<table>\n",
       "<thead><tr><th></th><th scope=col>US</th><th scope=col>non-US</th><th scope=col>worldwide_vector</th></tr></thead>\n",
       "<tbody>\n",
       "\t<tr><th scope=row>A New Hope</th><td> 460.998</td><td> 314.4  </td><td> 775.398</td></tr>\n",
       "\t<tr><th scope=row>The Empire Strikes Back</th><td> 290.475</td><td> 247.9  </td><td> 538.375</td></tr>\n",
       "\t<tr><th scope=row>Return of the Jedi</th><td> 309.306</td><td> 165.8  </td><td> 475.106</td></tr>\n",
       "\t<tr><th scope=row>The Phantom Menace</th><td> 474.500</td><td> 552.5  </td><td>1027.000</td></tr>\n",
       "\t<tr><th scope=row>Attack of the Clones</th><td> 310.700</td><td> 338.7  </td><td> 649.400</td></tr>\n",
       "\t<tr><th scope=row>Revenge of the Sith</th><td> 380.300</td><td> 468.5  </td><td> 848.800</td></tr>\n",
       "\t<tr><th scope=row>total_vector</th><td>2226.279</td><td>2087.8  </td><td>4314.079</td></tr>\n",
       "</tbody>\n",
       "</table>\n"
      ],
      "text/latex": [
       "\\begin{tabular}{r|lll}\n",
       "  & US & non-US & worldwide\\_vector\\\\\n",
       "\\hline\n",
       "\tA New Hope &  460.998 &  314.4   &  775.398\\\\\n",
       "\tThe Empire Strikes Back &  290.475 &  247.9   &  538.375\\\\\n",
       "\tReturn of the Jedi &  309.306 &  165.8   &  475.106\\\\\n",
       "\tThe Phantom Menace &  474.500 &  552.5   & 1027.000\\\\\n",
       "\tAttack of the Clones &  310.700 &  338.7   &  649.400\\\\\n",
       "\tRevenge of the Sith &  380.300 &  468.5   &  848.800\\\\\n",
       "\ttotal\\_vector & 2226.279 & 2087.8   & 4314.079\\\\\n",
       "\\end{tabular}\n"
      ],
      "text/markdown": [
       "\n",
       "| <!--/--> | US | non-US | worldwide_vector | \n",
       "|---|---|---|---|---|---|---|\n",
       "| A New Hope |  460.998 |  314.4   |  775.398 | \n",
       "| The Empire Strikes Back |  290.475 |  247.9   |  538.375 | \n",
       "| Return of the Jedi |  309.306 |  165.8   |  475.106 | \n",
       "| The Phantom Menace |  474.500 |  552.5   | 1027.000 | \n",
       "| Attack of the Clones |  310.700 |  338.7   |  649.400 | \n",
       "| Revenge of the Sith |  380.300 |  468.5   |  848.800 | \n",
       "| total_vector | 2226.279 | 2087.8   | 4314.079 | \n",
       "\n",
       "\n"
      ],
      "text/plain": [
       "                        US       non-US worldwide_vector\n",
       "A New Hope               460.998  314.4  775.398        \n",
       "The Empire Strikes Back  290.475  247.9  538.375        \n",
       "Return of the Jedi       309.306  165.8  475.106        \n",
       "The Phantom Menace       474.500  552.5 1027.000        \n",
       "Attack of the Clones     310.700  338.7  649.400        \n",
       "Revenge of the Sith      380.300  468.5  848.800        \n",
       "total_vector            2226.279 2087.8 4314.079        "
      ]
     },
     "metadata": {},
     "output_type": "display_data"
    },
    {
     "name": "stdout",
     "output_type": "stream",
     "text": [
      "[1] \"Valor médio de non_us_all =\"\n"
     ]
    },
    {
     "data": {
      "text/html": [
       "596.514285714286"
      ],
      "text/latex": [
       "596.514285714286"
      ],
      "text/markdown": [
       "596.514285714286"
      ],
      "text/plain": [
       "[1] 596.5143"
      ]
     },
     "metadata": {},
     "output_type": "display_data"
    },
    {
     "name": "stdout",
     "output_type": "stream",
     "text": [
      "[1] \"Valor médio de non_us_some =\"\n"
     ]
    },
    {
     "data": {
      "text/html": [
       "281.15"
      ],
      "text/latex": [
       "281.15"
      ],
      "text/markdown": [
       "281.15"
      ],
      "text/plain": [
       "[1] 281.15"
      ]
     },
     "metadata": {},
     "output_type": "display_data"
    }
   ],
   "source": [
    "# all_wars_matrix is available in your workspace\n",
    "all_wars_matrix\n",
    "\n",
    "# Select the non-US revenue for all movies\n",
    "non_us_all <- all_wars_matrix[,2]\n",
    "  \n",
    "# Average non-US revenue\n",
    "print(\"Valor médio de non_us_all =\")\n",
    "mean(non_us_all)\n",
    "  \n",
    "# Select the non-US revenue for first two movies\n",
    "non_us_some <- all_wars_matrix[1:2,2]\n",
    "  \n",
    "# Average non-US revenue for first two movies\n",
    "print(\"Valor médio de non_us_some =\")\n",
    "mean(non_us_some)"
   ]
  },
  {
   "cell_type": "markdown",
   "metadata": {},
   "source": [
    "### 4.3 Operação com Matrizes:\n",
    "- operadores escalares\n",
    "    - +, -, *, /\n",
    "    - escalar com matriz returna uma matriz\n",
    "    - duas matrizes, realizaoperação termo a termo"
   ]
  },
  {
   "cell_type": "code",
   "execution_count": 10,
   "metadata": {},
   "outputs": [
    {
     "data": {
      "text/html": [
       "<table>\n",
       "<tbody>\n",
       "\t<tr><td>1</td><td>4</td></tr>\n",
       "\t<tr><td>2</td><td>5</td></tr>\n",
       "\t<tr><td>3</td><td>6</td></tr>\n",
       "</tbody>\n",
       "</table>\n"
      ],
      "text/latex": [
       "\\begin{tabular}{ll}\n",
       "\t 1 & 4\\\\\n",
       "\t 2 & 5\\\\\n",
       "\t 3 & 6\\\\\n",
       "\\end{tabular}\n"
      ],
      "text/markdown": [
       "\n",
       "| 1 | 4 | \n",
       "| 2 | 5 | \n",
       "| 3 | 6 | \n",
       "\n",
       "\n"
      ],
      "text/plain": [
       "     [,1] [,2]\n",
       "[1,] 1    4   \n",
       "[2,] 2    5   \n",
       "[3,] 3    6   "
      ]
     },
     "metadata": {},
     "output_type": "display_data"
    },
    {
     "data": {
      "text/html": [
       "<table>\n",
       "<tbody>\n",
       "\t<tr><td>1</td><td>1</td></tr>\n",
       "\t<tr><td>1</td><td>1</td></tr>\n",
       "\t<tr><td>1</td><td>1</td></tr>\n",
       "</tbody>\n",
       "</table>\n"
      ],
      "text/latex": [
       "\\begin{tabular}{ll}\n",
       "\t 1 & 1\\\\\n",
       "\t 1 & 1\\\\\n",
       "\t 1 & 1\\\\\n",
       "\\end{tabular}\n"
      ],
      "text/markdown": [
       "\n",
       "| 1 | 1 | \n",
       "| 1 | 1 | \n",
       "| 1 | 1 | \n",
       "\n",
       "\n"
      ],
      "text/plain": [
       "     [,1] [,2]\n",
       "[1,] 1    1   \n",
       "[2,] 1    1   \n",
       "[3,] 1    1   "
      ]
     },
     "metadata": {},
     "output_type": "display_data"
    }
   ],
   "source": [
    "mat1 <- matrix(c(1,2,3,4,5,6),3,2) \n",
    "mat2 <- matrix(c(1,1,1,1,1,1),3,2)\n",
    "\n",
    "mat1\n",
    "mat2\n"
   ]
  },
  {
   "cell_type": "markdown",
   "metadata": {},
   "source": [
    "#### Exercício -  Calcular e exibir os resultados das seguintes operações escalares sobre mat1 e mat2:\n",
    "- soma\n",
    "- subtração\n",
    "- produto\n",
    "- divisão"
   ]
  },
  {
   "cell_type": "code",
   "execution_count": 11,
   "metadata": {},
   "outputs": [
    {
     "name": "stdout",
     "output_type": "stream",
     "text": [
      "[1] \"Operações elemento a elemento entre as matrizes\"\n"
     ]
    },
    {
     "data": {
      "text/html": [
       "<table>\n",
       "<tbody>\n",
       "\t<tr><td>2</td><td>5</td></tr>\n",
       "\t<tr><td>3</td><td>6</td></tr>\n",
       "\t<tr><td>4</td><td>7</td></tr>\n",
       "</tbody>\n",
       "</table>\n"
      ],
      "text/latex": [
       "\\begin{tabular}{ll}\n",
       "\t 2 & 5\\\\\n",
       "\t 3 & 6\\\\\n",
       "\t 4 & 7\\\\\n",
       "\\end{tabular}\n"
      ],
      "text/markdown": [
       "\n",
       "| 2 | 5 | \n",
       "| 3 | 6 | \n",
       "| 4 | 7 | \n",
       "\n",
       "\n"
      ],
      "text/plain": [
       "     [,1] [,2]\n",
       "[1,] 2    5   \n",
       "[2,] 3    6   \n",
       "[3,] 4    7   "
      ]
     },
     "metadata": {},
     "output_type": "display_data"
    },
    {
     "data": {
      "text/html": [
       "<table>\n",
       "<tbody>\n",
       "\t<tr><td>0</td><td>3</td></tr>\n",
       "\t<tr><td>1</td><td>4</td></tr>\n",
       "\t<tr><td>2</td><td>5</td></tr>\n",
       "</tbody>\n",
       "</table>\n"
      ],
      "text/latex": [
       "\\begin{tabular}{ll}\n",
       "\t 0 & 3\\\\\n",
       "\t 1 & 4\\\\\n",
       "\t 2 & 5\\\\\n",
       "\\end{tabular}\n"
      ],
      "text/markdown": [
       "\n",
       "| 0 | 3 | \n",
       "| 1 | 4 | \n",
       "| 2 | 5 | \n",
       "\n",
       "\n"
      ],
      "text/plain": [
       "     [,1] [,2]\n",
       "[1,] 0    3   \n",
       "[2,] 1    4   \n",
       "[3,] 2    5   "
      ]
     },
     "metadata": {},
     "output_type": "display_data"
    },
    {
     "data": {
      "text/html": [
       "<table>\n",
       "<tbody>\n",
       "\t<tr><td>1</td><td>4</td></tr>\n",
       "\t<tr><td>2</td><td>5</td></tr>\n",
       "\t<tr><td>3</td><td>6</td></tr>\n",
       "</tbody>\n",
       "</table>\n"
      ],
      "text/latex": [
       "\\begin{tabular}{ll}\n",
       "\t 1 & 4\\\\\n",
       "\t 2 & 5\\\\\n",
       "\t 3 & 6\\\\\n",
       "\\end{tabular}\n"
      ],
      "text/markdown": [
       "\n",
       "| 1 | 4 | \n",
       "| 2 | 5 | \n",
       "| 3 | 6 | \n",
       "\n",
       "\n"
      ],
      "text/plain": [
       "     [,1] [,2]\n",
       "[1,] 1    4   \n",
       "[2,] 2    5   \n",
       "[3,] 3    6   "
      ]
     },
     "metadata": {},
     "output_type": "display_data"
    },
    {
     "data": {
      "text/html": [
       "<table>\n",
       "<tbody>\n",
       "\t<tr><td>1</td><td>4</td></tr>\n",
       "\t<tr><td>2</td><td>5</td></tr>\n",
       "\t<tr><td>3</td><td>6</td></tr>\n",
       "</tbody>\n",
       "</table>\n"
      ],
      "text/latex": [
       "\\begin{tabular}{ll}\n",
       "\t 1 & 4\\\\\n",
       "\t 2 & 5\\\\\n",
       "\t 3 & 6\\\\\n",
       "\\end{tabular}\n"
      ],
      "text/markdown": [
       "\n",
       "| 1 | 4 | \n",
       "| 2 | 5 | \n",
       "| 3 | 6 | \n",
       "\n",
       "\n"
      ],
      "text/plain": [
       "     [,1] [,2]\n",
       "[1,] 1    4   \n",
       "[2,] 2    5   \n",
       "[3,] 3    6   "
      ]
     },
     "metadata": {},
     "output_type": "display_data"
    },
    {
     "name": "stdout",
     "output_type": "stream",
     "text": [
      "[1] \"Operações elemento com escalar entre as matrizes\"\n"
     ]
    },
    {
     "data": {
      "text/html": [
       "<table>\n",
       "<tbody>\n",
       "\t<tr><td>2 </td><td> 8</td></tr>\n",
       "\t<tr><td>4 </td><td>10</td></tr>\n",
       "\t<tr><td>6 </td><td>12</td></tr>\n",
       "</tbody>\n",
       "</table>\n"
      ],
      "text/latex": [
       "\\begin{tabular}{ll}\n",
       "\t 2  &  8\\\\\n",
       "\t 4  & 10\\\\\n",
       "\t 6  & 12\\\\\n",
       "\\end{tabular}\n"
      ],
      "text/markdown": [
       "\n",
       "| 2  |  8 | \n",
       "| 4  | 10 | \n",
       "| 6  | 12 | \n",
       "\n",
       "\n"
      ],
      "text/plain": [
       "     [,1] [,2]\n",
       "[1,] 2     8  \n",
       "[2,] 4    10  \n",
       "[3,] 6    12  "
      ]
     },
     "metadata": {},
     "output_type": "display_data"
    },
    {
     "data": {
      "text/html": [
       "<table>\n",
       "<tbody>\n",
       "\t<tr><td>0</td><td>3</td></tr>\n",
       "\t<tr><td>1</td><td>4</td></tr>\n",
       "\t<tr><td>2</td><td>5</td></tr>\n",
       "</tbody>\n",
       "</table>\n"
      ],
      "text/latex": [
       "\\begin{tabular}{ll}\n",
       "\t 0 & 3\\\\\n",
       "\t 1 & 4\\\\\n",
       "\t 2 & 5\\\\\n",
       "\\end{tabular}\n"
      ],
      "text/markdown": [
       "\n",
       "| 0 | 3 | \n",
       "| 1 | 4 | \n",
       "| 2 | 5 | \n",
       "\n",
       "\n"
      ],
      "text/plain": [
       "     [,1] [,2]\n",
       "[1,] 0    3   \n",
       "[2,] 1    4   \n",
       "[3,] 2    5   "
      ]
     },
     "metadata": {},
     "output_type": "display_data"
    },
    {
     "data": {
      "text/html": [
       "<table>\n",
       "<tbody>\n",
       "\t<tr><td>2</td><td>2</td></tr>\n",
       "\t<tr><td>2</td><td>2</td></tr>\n",
       "\t<tr><td>2</td><td>2</td></tr>\n",
       "</tbody>\n",
       "</table>\n"
      ],
      "text/latex": [
       "\\begin{tabular}{ll}\n",
       "\t 2 & 2\\\\\n",
       "\t 2 & 2\\\\\n",
       "\t 2 & 2\\\\\n",
       "\\end{tabular}\n"
      ],
      "text/markdown": [
       "\n",
       "| 2 | 2 | \n",
       "| 2 | 2 | \n",
       "| 2 | 2 | \n",
       "\n",
       "\n"
      ],
      "text/plain": [
       "     [,1] [,2]\n",
       "[1,] 2    2   \n",
       "[2,] 2    2   \n",
       "[3,] 2    2   "
      ]
     },
     "metadata": {},
     "output_type": "display_data"
    },
    {
     "data": {
      "text/html": [
       "<table>\n",
       "<tbody>\n",
       "\t<tr><td>0.1</td><td>0.1</td></tr>\n",
       "\t<tr><td>0.1</td><td>0.1</td></tr>\n",
       "\t<tr><td>0.1</td><td>0.1</td></tr>\n",
       "</tbody>\n",
       "</table>\n"
      ],
      "text/latex": [
       "\\begin{tabular}{ll}\n",
       "\t 0.1 & 0.1\\\\\n",
       "\t 0.1 & 0.1\\\\\n",
       "\t 0.1 & 0.1\\\\\n",
       "\\end{tabular}\n"
      ],
      "text/markdown": [
       "\n",
       "| 0.1 | 0.1 | \n",
       "| 0.1 | 0.1 | \n",
       "| 0.1 | 0.1 | \n",
       "\n",
       "\n"
      ],
      "text/plain": [
       "     [,1] [,2]\n",
       "[1,] 0.1  0.1 \n",
       "[2,] 0.1  0.1 \n",
       "[3,] 0.1  0.1 "
      ]
     },
     "metadata": {},
     "output_type": "display_data"
    }
   ],
   "source": [
    "# Resolução do exercício\n",
    "\n",
    "print(\"Operações elemento a elemento entre as matrizes\") \n",
    "mat1 + mat2\n",
    "mat1 - mat2\n",
    "mat1 * mat2\n",
    "mat1 / mat2\n",
    "\n",
    "print(\"Operações elemento com escalar entre as matrizes\")\n",
    "\n",
    "2*mat1\n",
    "mat1 - 1\n",
    "mat2 + 1\n",
    "mat2 / 10"
   ]
  },
  {
   "cell_type": "code",
   "execution_count": 15,
   "metadata": {},
   "outputs": [
    {
     "data": {
      "text/html": [
       "<table>\n",
       "<thead><tr><th></th><th scope=col>US</th><th scope=col>non-US</th><th scope=col>worldwide_vector</th></tr></thead>\n",
       "<tbody>\n",
       "\t<tr><th scope=row>A New Hope</th><td> 460.998</td><td> 314.4  </td><td> 775.398</td></tr>\n",
       "\t<tr><th scope=row>The Empire Strikes Back</th><td> 290.475</td><td> 247.9  </td><td> 538.375</td></tr>\n",
       "\t<tr><th scope=row>Return of the Jedi</th><td> 309.306</td><td> 165.8  </td><td> 475.106</td></tr>\n",
       "\t<tr><th scope=row>The Phantom Menace</th><td> 474.500</td><td> 552.5  </td><td>1027.000</td></tr>\n",
       "\t<tr><th scope=row>Attack of the Clones</th><td> 310.700</td><td> 338.7  </td><td> 649.400</td></tr>\n",
       "\t<tr><th scope=row>Revenge of the Sith</th><td> 380.300</td><td> 468.5  </td><td> 848.800</td></tr>\n",
       "\t<tr><th scope=row>total_vector</th><td>2226.279</td><td>2087.8  </td><td>4314.079</td></tr>\n",
       "</tbody>\n",
       "</table>\n"
      ],
      "text/latex": [
       "\\begin{tabular}{r|lll}\n",
       "  & US & non-US & worldwide\\_vector\\\\\n",
       "\\hline\n",
       "\tA New Hope &  460.998 &  314.4   &  775.398\\\\\n",
       "\tThe Empire Strikes Back &  290.475 &  247.9   &  538.375\\\\\n",
       "\tReturn of the Jedi &  309.306 &  165.8   &  475.106\\\\\n",
       "\tThe Phantom Menace &  474.500 &  552.5   & 1027.000\\\\\n",
       "\tAttack of the Clones &  310.700 &  338.7   &  649.400\\\\\n",
       "\tRevenge of the Sith &  380.300 &  468.5   &  848.800\\\\\n",
       "\ttotal\\_vector & 2226.279 & 2087.8   & 4314.079\\\\\n",
       "\\end{tabular}\n"
      ],
      "text/markdown": [
       "\n",
       "| <!--/--> | US | non-US | worldwide_vector | \n",
       "|---|---|---|---|---|---|---|\n",
       "| A New Hope |  460.998 |  314.4   |  775.398 | \n",
       "| The Empire Strikes Back |  290.475 |  247.9   |  538.375 | \n",
       "| Return of the Jedi |  309.306 |  165.8   |  475.106 | \n",
       "| The Phantom Menace |  474.500 |  552.5   | 1027.000 | \n",
       "| Attack of the Clones |  310.700 |  338.7   |  649.400 | \n",
       "| Revenge of the Sith |  380.300 |  468.5   |  848.800 | \n",
       "| total_vector | 2226.279 | 2087.8   | 4314.079 | \n",
       "\n",
       "\n"
      ],
      "text/plain": [
       "                        US       non-US worldwide_vector\n",
       "A New Hope               460.998  314.4  775.398        \n",
       "The Empire Strikes Back  290.475  247.9  538.375        \n",
       "Return of the Jedi       309.306  165.8  475.106        \n",
       "The Phantom Menace       474.500  552.5 1027.000        \n",
       "Attack of the Clones     310.700  338.7  649.400        \n",
       "Revenge of the Sith      380.300  468.5  848.800        \n",
       "total_vector            2226.279 2087.8 4314.079        "
      ]
     },
     "metadata": {},
     "output_type": "display_data"
    },
    {
     "data": {
      "text/html": [
       "<table>\n",
       "<thead><tr><th></th><th scope=col>US</th><th scope=col>non-US</th></tr></thead>\n",
       "<tbody>\n",
       "\t<tr><th scope=row>A New Hope</th><td>5.0</td><td>5.0</td></tr>\n",
       "\t<tr><th scope=row>The Empire Strikes Back</th><td>6.0</td><td>6.0</td></tr>\n",
       "\t<tr><th scope=row>Return of the Jedi</th><td>7.0</td><td>7.0</td></tr>\n",
       "\t<tr><th scope=row>The Phantom Menace</th><td>4.0</td><td>4.0</td></tr>\n",
       "\t<tr><th scope=row>Attack of the Clones</th><td>4.5</td><td>4.5</td></tr>\n",
       "\t<tr><th scope=row>Revenge of the Sith</th><td>4.9</td><td>4.9</td></tr>\n",
       "</tbody>\n",
       "</table>\n"
      ],
      "text/latex": [
       "\\begin{tabular}{r|ll}\n",
       "  & US & non-US\\\\\n",
       "\\hline\n",
       "\tA New Hope & 5.0 & 5.0\\\\\n",
       "\tThe Empire Strikes Back & 6.0 & 6.0\\\\\n",
       "\tReturn of the Jedi & 7.0 & 7.0\\\\\n",
       "\tThe Phantom Menace & 4.0 & 4.0\\\\\n",
       "\tAttack of the Clones & 4.5 & 4.5\\\\\n",
       "\tRevenge of the Sith & 4.9 & 4.9\\\\\n",
       "\\end{tabular}\n"
      ],
      "text/markdown": [
       "\n",
       "| <!--/--> | US | non-US | \n",
       "|---|---|---|---|---|---|\n",
       "| A New Hope | 5.0 | 5.0 | \n",
       "| The Empire Strikes Back | 6.0 | 6.0 | \n",
       "| Return of the Jedi | 7.0 | 7.0 | \n",
       "| The Phantom Menace | 4.0 | 4.0 | \n",
       "| Attack of the Clones | 4.5 | 4.5 | \n",
       "| Revenge of the Sith | 4.9 | 4.9 | \n",
       "\n",
       "\n"
      ],
      "text/plain": [
       "                        US  non-US\n",
       "A New Hope              5.0 5.0   \n",
       "The Empire Strikes Back 6.0 6.0   \n",
       "Return of the Jedi      7.0 7.0   \n",
       "The Phantom Menace      4.0 4.0   \n",
       "Attack of the Clones    4.5 4.5   \n",
       "Revenge of the Sith     4.9 4.9   "
      ]
     },
     "metadata": {},
     "output_type": "display_data"
    },
    {
     "data": {
      "text/html": [
       "<table>\n",
       "<thead><tr><th></th><th scope=col>US</th><th scope=col>non-US</th></tr></thead>\n",
       "<tbody>\n",
       "\t<tr><th scope=row>A New Hope</th><td>460.998</td><td>314.4  </td></tr>\n",
       "\t<tr><th scope=row>The Empire Strikes Back</th><td>290.475</td><td>247.9  </td></tr>\n",
       "\t<tr><th scope=row>Return of the Jedi</th><td>309.306</td><td>165.8  </td></tr>\n",
       "\t<tr><th scope=row>The Phantom Menace</th><td>474.500</td><td>552.5  </td></tr>\n",
       "\t<tr><th scope=row>Attack of the Clones</th><td>310.700</td><td>338.7  </td></tr>\n",
       "\t<tr><th scope=row>Revenge of the Sith</th><td>380.300</td><td>468.5  </td></tr>\n",
       "</tbody>\n",
       "</table>\n"
      ],
      "text/latex": [
       "\\begin{tabular}{r|ll}\n",
       "  & US & non-US\\\\\n",
       "\\hline\n",
       "\tA New Hope & 460.998 & 314.4  \\\\\n",
       "\tThe Empire Strikes Back & 290.475 & 247.9  \\\\\n",
       "\tReturn of the Jedi & 309.306 & 165.8  \\\\\n",
       "\tThe Phantom Menace & 474.500 & 552.5  \\\\\n",
       "\tAttack of the Clones & 310.700 & 338.7  \\\\\n",
       "\tRevenge of the Sith & 380.300 & 468.5  \\\\\n",
       "\\end{tabular}\n"
      ],
      "text/markdown": [
       "\n",
       "| <!--/--> | US | non-US | \n",
       "|---|---|---|---|---|---|\n",
       "| A New Hope | 460.998 | 314.4   | \n",
       "| The Empire Strikes Back | 290.475 | 247.9   | \n",
       "| Return of the Jedi | 309.306 | 165.8   | \n",
       "| The Phantom Menace | 474.500 | 552.5   | \n",
       "| Attack of the Clones | 310.700 | 338.7   | \n",
       "| Revenge of the Sith | 380.300 | 468.5   | \n",
       "\n",
       "\n"
      ],
      "text/plain": [
       "                        US      non-US\n",
       "A New Hope              460.998 314.4 \n",
       "The Empire Strikes Back 290.475 247.9 \n",
       "Return of the Jedi      309.306 165.8 \n",
       "The Phantom Menace      474.500 552.5 \n",
       "Attack of the Clones    310.700 338.7 \n",
       "Revenge of the Sith     380.300 468.5 "
      ]
     },
     "metadata": {},
     "output_type": "display_data"
    },
    {
     "data": {
      "text/html": [
       "<dl class=dl-horizontal>\n",
       "\t<dt>A New Hope</dt>\n",
       "\t\t<dd>92.1996</dd>\n",
       "\t<dt>The Empire Strikes Back</dt>\n",
       "\t\t<dd>48.4125</dd>\n",
       "\t<dt>Return of the Jedi</dt>\n",
       "\t\t<dd>44.1865714285714</dd>\n",
       "\t<dt>The Phantom Menace</dt>\n",
       "\t\t<dd>118.625</dd>\n",
       "\t<dt>Attack of the Clones</dt>\n",
       "\t\t<dd>69.0444444444444</dd>\n",
       "\t<dt>Revenge of the Sith</dt>\n",
       "\t\t<dd>77.6122448979592</dd>\n",
       "</dl>\n"
      ],
      "text/latex": [
       "\\begin{description*}\n",
       "\\item[A New Hope] 92.1996\n",
       "\\item[The Empire Strikes Back] 48.4125\n",
       "\\item[Return of the Jedi] 44.1865714285714\n",
       "\\item[The Phantom Menace] 118.625\n",
       "\\item[Attack of the Clones] 69.0444444444444\n",
       "\\item[Revenge of the Sith] 77.6122448979592\n",
       "\\end{description*}\n"
      ],
      "text/markdown": [
       "A New Hope\n",
       ":   92.1996The Empire Strikes Back\n",
       ":   48.4125Return of the Jedi\n",
       ":   44.1865714285714The Phantom Menace\n",
       ":   118.625Attack of the Clones\n",
       ":   69.0444444444444Revenge of the Sith\n",
       ":   77.6122448979592\n",
       "\n"
      ],
      "text/plain": [
       "             A New Hope The Empire Strikes Back      Return of the Jedi \n",
       "               92.19960                48.41250                44.18657 \n",
       "     The Phantom Menace    Attack of the Clones     Revenge of the Sith \n",
       "              118.62500                69.04444                77.61224 "
      ]
     },
     "metadata": {},
     "output_type": "display_data"
    },
    {
     "data": {
      "text/html": [
       "75.0133934618292"
      ],
      "text/latex": [
       "75.0133934618292"
      ],
      "text/markdown": [
       "75.0133934618292"
      ],
      "text/plain": [
       "[1] 75.01339"
      ]
     },
     "metadata": {},
     "output_type": "display_data"
    }
   ],
   "source": [
    "# all_wars_matrix and ticket_prices_matrix are available in your workspace\n",
    "all_wars_matrix\n",
    "\n",
    "ticket_prices_mat <- all_wars_matrix[1:6,1:2]\n",
    "\n",
    "\n",
    "ticket_prices_mat[1,1] <- 5\n",
    "ticket_prices_mat[1,2] <- 5\n",
    "ticket_prices_mat[2,1] <- 6\n",
    "ticket_prices_mat[2,2] <- 6\n",
    "ticket_prices_mat[3,1] <- 7\n",
    "ticket_prices_mat[3,2] <- 7\n",
    "ticket_prices_mat[4,1] <- 4\n",
    "ticket_prices_mat[4,2] <- 4\n",
    "ticket_prices_mat[5,1] <- 4.5\n",
    "ticket_prices_mat[5,2] <- 4.5\n",
    "ticket_prices_mat[6,1] <- 4.9\n",
    "ticket_prices_mat[6,2] <- 4.9\n",
    "\n",
    "\n",
    "ticket_prices_mat\n",
    "\n",
    "teste <- all_wars_matrix[1:6,1:2]\n",
    "teste\n",
    "# Estimated number of visitors\n",
    "\n",
    "visitors <- all_wars_matrix[1:6,1:2] / ticket_prices_mat\n",
    "\n",
    "# US visitors\n",
    "us_visitors <- visitors[1:6,1]\n",
    "us_visitors\n",
    "# Average number of US visitors\n",
    "mean(us_visitors)"
   ]
  },
  {
   "cell_type": "markdown",
   "metadata": {},
   "source": [
    "#### Dica: A Função summary( ) fornece uma visão rápida sobre o conteúdo das variáveis:\n",
    "- summary(my_var)\n"
   ]
  },
  {
   "cell_type": "code",
   "execution_count": 16,
   "metadata": {},
   "outputs": [
    {
     "data": {
      "text/plain": [
       "       US             non-US       worldwide_vector\n",
       " Min.   : 290.5   Min.   : 165.8   Min.   : 475.1  \n",
       " 1st Qu.: 310.0   1st Qu.: 281.1   1st Qu.: 593.9  \n",
       " Median : 380.3   Median : 338.7   Median : 775.4  \n",
       " Mean   : 636.1   Mean   : 596.5   Mean   :1232.6  \n",
       " 3rd Qu.: 467.7   3rd Qu.: 510.5   3rd Qu.: 937.9  \n",
       " Max.   :2226.3   Max.   :2087.8   Max.   :4314.1  "
      ]
     },
     "metadata": {},
     "output_type": "display_data"
    }
   ],
   "source": [
    "summary(all_wars_matrix)"
   ]
  },
  {
   "cell_type": "markdown",
   "metadata": {},
   "source": [
    "- operadores matriciais\n",
    "    - %+%, %-%, %*%\n",
    "    - solve(A),  corresponde à inversa da matriz A (para matrizes quadradas) \n",
    "    - t(A), corresponde à transposta da matriz A"
   ]
  },
  {
   "cell_type": "code",
   "execution_count": 27,
   "metadata": {},
   "outputs": [],
   "source": [
    "mat1 <- matrix(c(1,2,3,4,5,6,7,8,9),3,3) \n",
    "mat2 <- matrix(c(1,1,1,1,1,1,1,1,1),3,3)\n",
    "identidade3 = I10 <- diag(1,3)  # matriz identidade 3x3"
   ]
  },
  {
   "cell_type": "code",
   "execution_count": 28,
   "metadata": {},
   "outputs": [
    {
     "data": {
      "text/html": [
       "<table>\n",
       "<tbody>\n",
       "\t<tr><td>1</td><td>0</td><td>0</td></tr>\n",
       "\t<tr><td>0</td><td>1</td><td>0</td></tr>\n",
       "\t<tr><td>0</td><td>0</td><td>1</td></tr>\n",
       "</tbody>\n",
       "</table>\n"
      ],
      "text/latex": [
       "\\begin{tabular}{lll}\n",
       "\t 1 & 0 & 0\\\\\n",
       "\t 0 & 1 & 0\\\\\n",
       "\t 0 & 0 & 1\\\\\n",
       "\\end{tabular}\n"
      ],
      "text/markdown": [
       "\n",
       "| 1 | 0 | 0 | \n",
       "| 0 | 1 | 0 | \n",
       "| 0 | 0 | 1 | \n",
       "\n",
       "\n"
      ],
      "text/plain": [
       "     [,1] [,2] [,3]\n",
       "[1,] 1    0    0   \n",
       "[2,] 0    1    0   \n",
       "[3,] 0    0    1   "
      ]
     },
     "metadata": {},
     "output_type": "display_data"
    }
   ],
   "source": [
    "identidade3"
   ]
  },
  {
   "cell_type": "markdown",
   "metadata": {
    "collapsed": true
   },
   "source": [
    "#### Exercício: Obter\n",
    "- Inversa de Identidade3\n",
    "- Transposta de mat1\n",
    "- produto matricial entre mat1 e mat2\n",
    "- Soma matricial de mat1 e mat2 ??"
   ]
  },
  {
   "cell_type": "code",
   "execution_count": 35,
   "metadata": {},
   "outputs": [
    {
     "data": {
      "text/html": [
       "<table>\n",
       "<tbody>\n",
       "\t<tr><td>1</td><td>0</td><td>0</td></tr>\n",
       "\t<tr><td>0</td><td>1</td><td>0</td></tr>\n",
       "\t<tr><td>0</td><td>0</td><td>1</td></tr>\n",
       "</tbody>\n",
       "</table>\n"
      ],
      "text/latex": [
       "\\begin{tabular}{lll}\n",
       "\t 1 & 0 & 0\\\\\n",
       "\t 0 & 1 & 0\\\\\n",
       "\t 0 & 0 & 1\\\\\n",
       "\\end{tabular}\n"
      ],
      "text/markdown": [
       "\n",
       "| 1 | 0 | 0 | \n",
       "| 0 | 1 | 0 | \n",
       "| 0 | 0 | 1 | \n",
       "\n",
       "\n"
      ],
      "text/plain": [
       "     [,1] [,2] [,3]\n",
       "[1,] 1    0    0   \n",
       "[2,] 0    1    0   \n",
       "[3,] 0    0    1   "
      ]
     },
     "metadata": {},
     "output_type": "display_data"
    },
    {
     "data": {
      "text/html": [
       "<table>\n",
       "<tbody>\n",
       "\t<tr><td>1</td><td>0</td><td>0</td></tr>\n",
       "\t<tr><td>0</td><td>1</td><td>0</td></tr>\n",
       "\t<tr><td>0</td><td>0</td><td>1</td></tr>\n",
       "</tbody>\n",
       "</table>\n"
      ],
      "text/latex": [
       "\\begin{tabular}{lll}\n",
       "\t 1 & 0 & 0\\\\\n",
       "\t 0 & 1 & 0\\\\\n",
       "\t 0 & 0 & 1\\\\\n",
       "\\end{tabular}\n"
      ],
      "text/markdown": [
       "\n",
       "| 1 | 0 | 0 | \n",
       "| 0 | 1 | 0 | \n",
       "| 0 | 0 | 1 | \n",
       "\n",
       "\n"
      ],
      "text/plain": [
       "     [,1] [,2] [,3]\n",
       "[1,] 1    0    0   \n",
       "[2,] 0    1    0   \n",
       "[3,] 0    0    1   "
      ]
     },
     "metadata": {},
     "output_type": "display_data"
    },
    {
     "data": {
      "text/html": [
       "<table>\n",
       "<tbody>\n",
       "\t<tr><td>12</td><td>12</td><td>12</td></tr>\n",
       "\t<tr><td>15</td><td>15</td><td>15</td></tr>\n",
       "\t<tr><td>18</td><td>18</td><td>18</td></tr>\n",
       "</tbody>\n",
       "</table>\n"
      ],
      "text/latex": [
       "\\begin{tabular}{lll}\n",
       "\t 12 & 12 & 12\\\\\n",
       "\t 15 & 15 & 15\\\\\n",
       "\t 18 & 18 & 18\\\\\n",
       "\\end{tabular}\n"
      ],
      "text/markdown": [
       "\n",
       "| 12 | 12 | 12 | \n",
       "| 15 | 15 | 15 | \n",
       "| 18 | 18 | 18 | \n",
       "\n",
       "\n"
      ],
      "text/plain": [
       "     [,1] [,2] [,3]\n",
       "[1,] 12   12   12  \n",
       "[2,] 15   15   15  \n",
       "[3,] 18   18   18  "
      ]
     },
     "metadata": {},
     "output_type": "display_data"
    },
    {
     "data": {
      "text/html": [
       "<table>\n",
       "<tbody>\n",
       "\t<tr><td>2 </td><td>5 </td><td> 8</td></tr>\n",
       "\t<tr><td>3 </td><td>6 </td><td> 9</td></tr>\n",
       "\t<tr><td>4 </td><td>7 </td><td>10</td></tr>\n",
       "</tbody>\n",
       "</table>\n"
      ],
      "text/latex": [
       "\\begin{tabular}{lll}\n",
       "\t 2  & 5  &  8\\\\\n",
       "\t 3  & 6  &  9\\\\\n",
       "\t 4  & 7  & 10\\\\\n",
       "\\end{tabular}\n"
      ],
      "text/markdown": [
       "\n",
       "| 2  | 5  |  8 | \n",
       "| 3  | 6  |  9 | \n",
       "| 4  | 7  | 10 | \n",
       "\n",
       "\n"
      ],
      "text/plain": [
       "     [,1] [,2] [,3]\n",
       "[1,] 2    5     8  \n",
       "[2,] 3    6     9  \n",
       "[3,] 4    7    10  "
      ]
     },
     "metadata": {},
     "output_type": "display_data"
    }
   ],
   "source": [
    "# Resolução do exercício:\n",
    "solve(identidade3)\n",
    "t(identidade3)\n",
    "mat1 %*% mat2\n",
    "mat1 + mat2"
   ]
  },
  {
   "cell_type": "markdown",
   "metadata": {},
   "source": [
    "### 4.3 Comparação entre matrizes\n",
    "- realizado de forma similar a com vetores"
   ]
  },
  {
   "cell_type": "code",
   "execution_count": 36,
   "metadata": {},
   "outputs": [
    {
     "data": {
      "text/html": [
       "<table>\n",
       "<tbody>\n",
       "\t<tr><td>FALSE</td><td>FALSE</td><td> TRUE</td><td>FALSE</td><td>FALSE</td><td>FALSE</td><td>FALSE</td></tr>\n",
       "\t<tr><td>FALSE</td><td>FALSE</td><td>FALSE</td><td>FALSE</td><td>FALSE</td><td> TRUE</td><td>FALSE</td></tr>\n",
       "</tbody>\n",
       "</table>\n"
      ],
      "text/latex": [
       "\\begin{tabular}{lllllll}\n",
       "\t FALSE & FALSE &  TRUE & FALSE & FALSE & FALSE & FALSE\\\\\n",
       "\t FALSE & FALSE & FALSE & FALSE & FALSE &  TRUE & FALSE\\\\\n",
       "\\end{tabular}\n"
      ],
      "text/markdown": [
       "\n",
       "| FALSE | FALSE |  TRUE | FALSE | FALSE | FALSE | FALSE | \n",
       "| FALSE | FALSE | FALSE | FALSE | FALSE |  TRUE | FALSE | \n",
       "\n",
       "\n"
      ],
      "text/plain": [
       "     [,1]  [,2]  [,3]  [,4]  [,5]  [,6]  [,7] \n",
       "[1,] FALSE FALSE  TRUE FALSE FALSE FALSE FALSE\n",
       "[2,] FALSE FALSE FALSE FALSE FALSE  TRUE FALSE"
      ]
     },
     "metadata": {},
     "output_type": "display_data"
    },
    {
     "data": {
      "text/html": [
       "<table>\n",
       "<tbody>\n",
       "\t<tr><td>FALSE</td><td>TRUE </td><td>TRUE </td><td> TRUE</td><td>TRUE </td><td>FALSE</td><td>TRUE </td></tr>\n",
       "\t<tr><td>FALSE</td><td>TRUE </td><td>TRUE </td><td>FALSE</td><td>TRUE </td><td> TRUE</td><td>TRUE </td></tr>\n",
       "</tbody>\n",
       "</table>\n"
      ],
      "text/latex": [
       "\\begin{tabular}{lllllll}\n",
       "\t FALSE & TRUE  & TRUE  &  TRUE & TRUE  & FALSE & TRUE \\\\\n",
       "\t FALSE & TRUE  & TRUE  & FALSE & TRUE  &  TRUE & TRUE \\\\\n",
       "\\end{tabular}\n"
      ],
      "text/markdown": [
       "\n",
       "| FALSE | TRUE  | TRUE  |  TRUE | TRUE  | FALSE | TRUE  | \n",
       "| FALSE | TRUE  | TRUE  | FALSE | TRUE  |  TRUE | TRUE  | \n",
       "\n",
       "\n"
      ],
      "text/plain": [
       "     [,1]  [,2] [,3] [,4]  [,5] [,6]  [,7]\n",
       "[1,] FALSE TRUE TRUE  TRUE TRUE FALSE TRUE\n",
       "[2,] FALSE TRUE TRUE FALSE TRUE  TRUE TRUE"
      ]
     },
     "metadata": {},
     "output_type": "display_data"
    }
   ],
   "source": [
    "# The social data has been created for you\n",
    "linkedin <- c(16, 9, 13, 5, 2, 17, 14)\n",
    "facebook <- c(17, 7, 5, 16, 8, 13, 14)\n",
    "views <- matrix(c(linkedin, facebook), nrow = 2, byrow = TRUE)\n",
    "\n",
    "# When does views equal 13?\n",
    "views == 13\n",
    "\n",
    "# When is views less than or equal to 14?\n",
    "views <= 14"
   ]
  },
  {
   "cell_type": "code",
   "execution_count": 37,
   "metadata": {},
   "outputs": [
    {
     "name": "stdout",
     "output_type": "stream",
     "text": [
      "[1] \"Outra forma de iniciar uma matriz\"\n"
     ]
    },
    {
     "data": {
      "text/html": [
       "<table>\n",
       "<tbody>\n",
       "\t<tr><td>2</td><td>2</td><td>2</td></tr>\n",
       "\t<tr><td>2</td><td>2</td><td>2</td></tr>\n",
       "\t<tr><td>2</td><td>2</td><td>2</td></tr>\n",
       "\t<tr><td>2</td><td>2</td><td>2</td></tr>\n",
       "\t<tr><td>2</td><td>2</td><td>2</td></tr>\n",
       "</tbody>\n",
       "</table>\n"
      ],
      "text/latex": [
       "\\begin{tabular}{lll}\n",
       "\t 2 & 2 & 2\\\\\n",
       "\t 2 & 2 & 2\\\\\n",
       "\t 2 & 2 & 2\\\\\n",
       "\t 2 & 2 & 2\\\\\n",
       "\t 2 & 2 & 2\\\\\n",
       "\\end{tabular}\n"
      ],
      "text/markdown": [
       "\n",
       "| 2 | 2 | 2 | \n",
       "| 2 | 2 | 2 | \n",
       "| 2 | 2 | 2 | \n",
       "| 2 | 2 | 2 | \n",
       "| 2 | 2 | 2 | \n",
       "\n",
       "\n"
      ],
      "text/plain": [
       "     [,1] [,2] [,3]\n",
       "[1,] 2    2    2   \n",
       "[2,] 2    2    2   \n",
       "[3,] 2    2    2   \n",
       "[4,] 2    2    2   \n",
       "[5,] 2    2    2   "
      ]
     },
     "metadata": {},
     "output_type": "display_data"
    }
   ],
   "source": [
    "print(\"Outra forma de iniciar uma matriz\")\n",
    "teste <- matrix(2,5,3)\n",
    "teste"
   ]
  },
  {
   "cell_type": "markdown",
   "metadata": {},
   "source": [
    "## 5. Tipo Frame em R\n",
    "\n",
    "- Estrutura bidimensional, onde as colunas não precisam ter elementos do mesmo tipo, como no caso das matrizes.\n",
    "- No data.frame cada coluna representa uma variável e cada linha uma observação.\n",
    "- Equivale aos dados de planilha."
   ]
  },
  {
   "cell_type": "markdown",
   "metadata": {},
   "source": [
    "### 5.1 Criação de data.frame\n",
    "- Usar a função data.frame()"
   ]
  },
  {
   "cell_type": "code",
   "execution_count": 38,
   "metadata": {
    "collapsed": true
   },
   "outputs": [],
   "source": [
    "# Exemplo de Craição de data.frame\n",
    "\n",
    "alunos <- data.frame(nome = c(\"João\", \"Clara\", \"Miguel\", \"Mariana\"),\n",
    "                           sexo = c(\"M\", \"F\", \"M\", \"F\"),\n",
    "                           idade = c(21,23, 22, 21),\n",
    "                           stringsAsFactors = FALSE)"
   ]
  },
  {
   "cell_type": "code",
   "execution_count": 39,
   "metadata": {},
   "outputs": [
    {
     "data": {
      "text/html": [
       "<table>\n",
       "<thead><tr><th scope=col>nome</th><th scope=col>sexo</th><th scope=col>idade</th></tr></thead>\n",
       "<tbody>\n",
       "\t<tr><td>João   </td><td>M      </td><td>21     </td></tr>\n",
       "\t<tr><td>Clara  </td><td>F      </td><td>23     </td></tr>\n",
       "\t<tr><td>Miguel </td><td>M      </td><td>22     </td></tr>\n",
       "\t<tr><td>Mariana</td><td>F      </td><td>21     </td></tr>\n",
       "</tbody>\n",
       "</table>\n"
      ],
      "text/latex": [
       "\\begin{tabular}{r|lll}\n",
       " nome & sexo & idade\\\\\n",
       "\\hline\n",
       "\t João    & M       & 21     \\\\\n",
       "\t Clara   & F       & 23     \\\\\n",
       "\t Miguel  & M       & 22     \\\\\n",
       "\t Mariana & F       & 21     \\\\\n",
       "\\end{tabular}\n"
      ],
      "text/markdown": [
       "\n",
       "nome | sexo | idade | \n",
       "|---|---|---|---|\n",
       "| João    | M       | 21      | \n",
       "| Clara   | F       | 23      | \n",
       "| Miguel  | M       | 22      | \n",
       "| Mariana | F       | 21      | \n",
       "\n",
       "\n"
      ],
      "text/plain": [
       "  nome    sexo idade\n",
       "1 João    M    21   \n",
       "2 Clara   F    23   \n",
       "3 Miguel  M    22   \n",
       "4 Mariana F    21   "
      ]
     },
     "metadata": {},
     "output_type": "display_data"
    }
   ],
   "source": [
    "alunos"
   ]
  },
  {
   "cell_type": "code",
   "execution_count": 41,
   "metadata": {},
   "outputs": [
    {
     "name": "stdout",
     "output_type": "stream",
     "text": [
      "'data.frame':\t4 obs. of  3 variables:\n",
      " $ nome : chr  \"João\" \"Clara\" \"Miguel\" \"Mariana\"\n",
      " $ sexo : chr  \"M\" \"F\" \"M\" \"F\"\n",
      " $ idade: num  21 23 22 21\n"
     ]
    }
   ],
   "source": [
    "str(alunos)"
   ]
  },
  {
   "cell_type": "markdown",
   "metadata": {},
   "source": [
    "#### Analise o que fazem as funções:\n",
    "- rownames(data.frame)\n",
    "- colnames(data.frame)\n",
    "- names(data.frame)"
   ]
  },
  {
   "cell_type": "code",
   "execution_count": 42,
   "metadata": {},
   "outputs": [
    {
     "data": {
      "text/html": [
       "<ol class=list-inline>\n",
       "\t<li>'1'</li>\n",
       "\t<li>'2'</li>\n",
       "\t<li>'3'</li>\n",
       "\t<li>'4'</li>\n",
       "</ol>\n"
      ],
      "text/latex": [
       "\\begin{enumerate*}\n",
       "\\item '1'\n",
       "\\item '2'\n",
       "\\item '3'\n",
       "\\item '4'\n",
       "\\end{enumerate*}\n"
      ],
      "text/markdown": [
       "1. '1'\n",
       "2. '2'\n",
       "3. '3'\n",
       "4. '4'\n",
       "\n",
       "\n"
      ],
      "text/plain": [
       "[1] \"1\" \"2\" \"3\" \"4\""
      ]
     },
     "metadata": {},
     "output_type": "display_data"
    },
    {
     "data": {
      "text/html": [
       "<ol class=list-inline>\n",
       "\t<li>'nome'</li>\n",
       "\t<li>'sexo'</li>\n",
       "\t<li>'idade'</li>\n",
       "</ol>\n"
      ],
      "text/latex": [
       "\\begin{enumerate*}\n",
       "\\item 'nome'\n",
       "\\item 'sexo'\n",
       "\\item 'idade'\n",
       "\\end{enumerate*}\n"
      ],
      "text/markdown": [
       "1. 'nome'\n",
       "2. 'sexo'\n",
       "3. 'idade'\n",
       "\n",
       "\n"
      ],
      "text/plain": [
       "[1] \"nome\"  \"sexo\"  \"idade\""
      ]
     },
     "metadata": {},
     "output_type": "display_data"
    },
    {
     "data": {
      "text/html": [
       "<ol class=list-inline>\n",
       "\t<li>'nome'</li>\n",
       "\t<li>'sexo'</li>\n",
       "\t<li>'idade'</li>\n",
       "</ol>\n"
      ],
      "text/latex": [
       "\\begin{enumerate*}\n",
       "\\item 'nome'\n",
       "\\item 'sexo'\n",
       "\\item 'idade'\n",
       "\\end{enumerate*}\n"
      ],
      "text/markdown": [
       "1. 'nome'\n",
       "2. 'sexo'\n",
       "3. 'idade'\n",
       "\n",
       "\n"
      ],
      "text/plain": [
       "[1] \"nome\"  \"sexo\"  \"idade\""
      ]
     },
     "metadata": {},
     "output_type": "display_data"
    }
   ],
   "source": [
    "rownames(alunos)\n",
    "colnames(alunos)\n",
    "names(alunos)"
   ]
  },
  {
   "cell_type": "markdown",
   "metadata": {},
   "source": [
    "### 5.1 Manipulação de Elementos de data.frame\n",
    "- Segue procedimento muito similar à manipulação de matrizes.\n",
    "    - acesso a elementos do data.frame.\n",
    "    - modificar elementos do data.frame.\n",
    "    "
   ]
  },
  {
   "cell_type": "markdown",
   "metadata": {},
   "source": [
    "#### Acesso a elementos de data.frames"
   ]
  },
  {
   "cell_type": "code",
   "execution_count": 43,
   "metadata": {},
   "outputs": [
    {
     "data": {
      "text/html": [
       "<table>\n",
       "<thead><tr><th scope=col>nome</th><th scope=col>sexo</th><th scope=col>idade</th></tr></thead>\n",
       "<tbody>\n",
       "\t<tr><td>João   </td><td>M      </td><td>21     </td></tr>\n",
       "\t<tr><td>Clara  </td><td>F      </td><td>23     </td></tr>\n",
       "\t<tr><td>Miguel </td><td>M      </td><td>22     </td></tr>\n",
       "\t<tr><td>Mariana</td><td>F      </td><td>21     </td></tr>\n",
       "</tbody>\n",
       "</table>\n"
      ],
      "text/latex": [
       "\\begin{tabular}{r|lll}\n",
       " nome & sexo & idade\\\\\n",
       "\\hline\n",
       "\t João    & M       & 21     \\\\\n",
       "\t Clara   & F       & 23     \\\\\n",
       "\t Miguel  & M       & 22     \\\\\n",
       "\t Mariana & F       & 21     \\\\\n",
       "\\end{tabular}\n"
      ],
      "text/markdown": [
       "\n",
       "nome | sexo | idade | \n",
       "|---|---|---|---|\n",
       "| João    | M       | 21      | \n",
       "| Clara   | F       | 23      | \n",
       "| Miguel  | M       | 22      | \n",
       "| Mariana | F       | 21      | \n",
       "\n",
       "\n"
      ],
      "text/plain": [
       "  nome    sexo idade\n",
       "1 João    M    21   \n",
       "2 Clara   F    23   \n",
       "3 Miguel  M    22   \n",
       "4 Mariana F    21   "
      ]
     },
     "metadata": {},
     "output_type": "display_data"
    }
   ],
   "source": [
    "alunos"
   ]
  },
  {
   "cell_type": "code",
   "execution_count": 44,
   "metadata": {},
   "outputs": [
    {
     "data": {
      "text/html": [
       "'João'"
      ],
      "text/latex": [
       "'João'"
      ],
      "text/markdown": [
       "'João'"
      ],
      "text/plain": [
       "[1] \"João\""
      ]
     },
     "metadata": {},
     "output_type": "display_data"
    }
   ],
   "source": [
    "alunos[1, 1]"
   ]
  },
  {
   "cell_type": "code",
   "execution_count": 48,
   "metadata": {},
   "outputs": [
    {
     "data": {
      "text/html": [
       "<table>\n",
       "<thead><tr><th scope=col>nome</th></tr></thead>\n",
       "<tbody>\n",
       "\t<tr><td>João</td></tr>\n",
       "</tbody>\n",
       "</table>\n"
      ],
      "text/latex": [
       "\\begin{tabular}{r|l}\n",
       " nome\\\\\n",
       "\\hline\n",
       "\t João\\\\\n",
       "\\end{tabular}\n"
      ],
      "text/markdown": [
       "\n",
       "nome | \n",
       "|---|\n",
       "| João | \n",
       "\n",
       "\n"
      ],
      "text/plain": [
       "  nome\n",
       "1 João"
      ]
     },
     "metadata": {},
     "output_type": "display_data"
    },
    {
     "data": {
      "text/html": [
       "'João'"
      ],
      "text/latex": [
       "'João'"
      ],
      "text/markdown": [
       "'João'"
      ],
      "text/plain": [
       "[1] \"João\""
      ]
     },
     "metadata": {},
     "output_type": "display_data"
    }
   ],
   "source": [
    "alunos[1, 1, drop = FALSE]\n",
    "alunos[1, 1, drop = TRUE]"
   ]
  },
  {
   "cell_type": "code",
   "execution_count": 49,
   "metadata": {},
   "outputs": [
    {
     "data": {
      "text/html": [
       "<table>\n",
       "<thead><tr><th scope=col>nome</th><th scope=col>sexo</th></tr></thead>\n",
       "<tbody>\n",
       "\t<tr><td>João   </td><td>M      </td></tr>\n",
       "\t<tr><td>Clara  </td><td>F      </td></tr>\n",
       "\t<tr><td>Miguel </td><td>M      </td></tr>\n",
       "\t<tr><td>Mariana</td><td>F      </td></tr>\n",
       "</tbody>\n",
       "</table>\n"
      ],
      "text/latex": [
       "\\begin{tabular}{r|ll}\n",
       " nome & sexo\\\\\n",
       "\\hline\n",
       "\t João    & M      \\\\\n",
       "\t Clara   & F      \\\\\n",
       "\t Miguel  & M      \\\\\n",
       "\t Mariana & F      \\\\\n",
       "\\end{tabular}\n"
      ],
      "text/markdown": [
       "\n",
       "nome | sexo | \n",
       "|---|---|---|---|\n",
       "| João    | M       | \n",
       "| Clara   | F       | \n",
       "| Miguel  | M       | \n",
       "| Mariana | F       | \n",
       "\n",
       "\n"
      ],
      "text/plain": [
       "  nome    sexo\n",
       "1 João    M   \n",
       "2 Clara   F   \n",
       "3 Miguel  M   \n",
       "4 Mariana F   "
      ]
     },
     "metadata": {},
     "output_type": "display_data"
    }
   ],
   "source": [
    "alunos[,1:2]"
   ]
  },
  {
   "cell_type": "code",
   "execution_count": 50,
   "metadata": {},
   "outputs": [
    {
     "data": {
      "text/html": [
       "<table>\n",
       "<thead><tr><th></th><th scope=col>nome</th><th scope=col>sexo</th><th scope=col>idade</th></tr></thead>\n",
       "<tbody>\n",
       "\t<tr><th scope=row>2</th><td>Clara  </td><td>F      </td><td>23     </td></tr>\n",
       "\t<tr><th scope=row>3</th><td>Miguel </td><td>M      </td><td>22     </td></tr>\n",
       "\t<tr><th scope=row>4</th><td>Mariana</td><td>F      </td><td>21     </td></tr>\n",
       "</tbody>\n",
       "</table>\n"
      ],
      "text/latex": [
       "\\begin{tabular}{r|lll}\n",
       "  & nome & sexo & idade\\\\\n",
       "\\hline\n",
       "\t2 & Clara   & F       & 23     \\\\\n",
       "\t3 & Miguel  & M       & 22     \\\\\n",
       "\t4 & Mariana & F       & 21     \\\\\n",
       "\\end{tabular}\n"
      ],
      "text/markdown": [
       "\n",
       "| <!--/--> | nome | sexo | idade | \n",
       "|---|---|---|\n",
       "| 2 | Clara   | F       | 23      | \n",
       "| 3 | Miguel  | M       | 22      | \n",
       "| 4 | Mariana | F       | 21      | \n",
       "\n",
       "\n"
      ],
      "text/plain": [
       "  nome    sexo idade\n",
       "2 Clara   F    23   \n",
       "3 Miguel  M    22   \n",
       "4 Mariana F    21   "
      ]
     },
     "metadata": {},
     "output_type": "display_data"
    }
   ],
   "source": [
    "alunos[-1, ]"
   ]
  },
  {
   "cell_type": "code",
   "execution_count": 51,
   "metadata": {},
   "outputs": [
    {
     "data": {
      "text/html": [
       "<table>\n",
       "<thead><tr><th></th><th scope=col>nome</th><th scope=col>idade</th></tr></thead>\n",
       "<tbody>\n",
       "\t<tr><th scope=row>3</th><td>Miguel</td><td>22    </td></tr>\n",
       "</tbody>\n",
       "</table>\n"
      ],
      "text/latex": [
       "\\begin{tabular}{r|ll}\n",
       "  & nome & idade\\\\\n",
       "\\hline\n",
       "\t3 & Miguel & 22    \\\\\n",
       "\\end{tabular}\n"
      ],
      "text/markdown": [
       "\n",
       "| <!--/--> | nome | idade | \n",
       "|---|\n",
       "| 3 | Miguel | 22     | \n",
       "\n",
       "\n"
      ],
      "text/plain": [
       "  nome   idade\n",
       "3 Miguel 22   "
      ]
     },
     "metadata": {},
     "output_type": "display_data"
    }
   ],
   "source": [
    "## seleciona linha 3, colunas \"nome\" e \"iade\"\n",
    "alunos[3 , c(\"nome\", \"idade\")]"
   ]
  },
  {
   "cell_type": "code",
   "execution_count": 52,
   "metadata": {},
   "outputs": [
    {
     "data": {
      "text/html": [
       "<table>\n",
       "<thead><tr><th></th><th scope=col>nome</th><th scope=col>sexo</th><th scope=col>idade</th></tr></thead>\n",
       "<tbody>\n",
       "\t<tr><th scope=row>3</th><td>Miguel </td><td>M      </td><td>22     </td></tr>\n",
       "\t<tr><th scope=row>4</th><td>Mariana</td><td>F      </td><td>21     </td></tr>\n",
       "</tbody>\n",
       "</table>\n"
      ],
      "text/latex": [
       "\\begin{tabular}{r|lll}\n",
       "  & nome & sexo & idade\\\\\n",
       "\\hline\n",
       "\t3 & Miguel  & M       & 22     \\\\\n",
       "\t4 & Mariana & F       & 21     \\\\\n",
       "\\end{tabular}\n"
      ],
      "text/markdown": [
       "\n",
       "| <!--/--> | nome | sexo | idade | \n",
       "|---|---|\n",
       "| 3 | Miguel  | M       | 22      | \n",
       "| 4 | Mariana | F       | 21      | \n",
       "\n",
       "\n"
      ],
      "text/plain": [
       "  nome    sexo idade\n",
       "3 Miguel  M    22   \n",
       "4 Mariana F    21   "
      ]
     },
     "metadata": {},
     "output_type": "display_data"
    }
   ],
   "source": [
    "# exercício: Selecione as duas últimas linhas\n",
    "alunos[3:4,]"
   ]
  },
  {
   "cell_type": "markdown",
   "metadata": {},
   "source": [
    "#### Modificação de elementos de data.frames"
   ]
  },
  {
   "cell_type": "code",
   "execution_count": 53,
   "metadata": {},
   "outputs": [
    {
     "data": {
      "text/html": [
       "<table>\n",
       "<thead><tr><th scope=col>nome</th><th scope=col>sexo</th><th scope=col>idade</th></tr></thead>\n",
       "<tbody>\n",
       "\t<tr><td>João   </td><td>M      </td><td>21     </td></tr>\n",
       "\t<tr><td>Clara  </td><td>F      </td><td>23     </td></tr>\n",
       "\t<tr><td>Miguel </td><td>M      </td><td>22     </td></tr>\n",
       "\t<tr><td>Mariana</td><td>F      </td><td>21     </td></tr>\n",
       "</tbody>\n",
       "</table>\n"
      ],
      "text/latex": [
       "\\begin{tabular}{r|lll}\n",
       " nome & sexo & idade\\\\\n",
       "\\hline\n",
       "\t João    & M       & 21     \\\\\n",
       "\t Clara   & F       & 23     \\\\\n",
       "\t Miguel  & M       & 22     \\\\\n",
       "\t Mariana & F       & 21     \\\\\n",
       "\\end{tabular}\n"
      ],
      "text/markdown": [
       "\n",
       "nome | sexo | idade | \n",
       "|---|---|---|---|\n",
       "| João    | M       | 21      | \n",
       "| Clara   | F       | 23      | \n",
       "| Miguel  | M       | 22      | \n",
       "| Mariana | F       | 21      | \n",
       "\n",
       "\n"
      ],
      "text/plain": [
       "  nome    sexo idade\n",
       "1 João    M    21   \n",
       "2 Clara   F    23   \n",
       "3 Miguel  M    22   \n",
       "4 Mariana F    21   "
      ]
     },
     "metadata": {},
     "output_type": "display_data"
    }
   ],
   "source": [
    "alunos"
   ]
  },
  {
   "cell_type": "code",
   "execution_count": 54,
   "metadata": {
    "collapsed": true
   },
   "outputs": [],
   "source": [
    "## Aniversário de Clara - aumento da idade de Clara\n",
    "alunos[2, \"idade\"] <- alunos[2, \"idade\"] + 1"
   ]
  },
  {
   "cell_type": "code",
   "execution_count": 55,
   "metadata": {},
   "outputs": [
    {
     "data": {
      "text/html": [
       "<table>\n",
       "<thead><tr><th scope=col>nome</th><th scope=col>sexo</th><th scope=col>idade</th></tr></thead>\n",
       "<tbody>\n",
       "\t<tr><td>João   </td><td>M      </td><td>21     </td></tr>\n",
       "\t<tr><td>Clara  </td><td>F      </td><td>24     </td></tr>\n",
       "\t<tr><td>Miguel </td><td>M      </td><td>22     </td></tr>\n",
       "\t<tr><td>Mariana</td><td>F      </td><td>21     </td></tr>\n",
       "</tbody>\n",
       "</table>\n"
      ],
      "text/latex": [
       "\\begin{tabular}{r|lll}\n",
       " nome & sexo & idade\\\\\n",
       "\\hline\n",
       "\t João    & M       & 21     \\\\\n",
       "\t Clara   & F       & 24     \\\\\n",
       "\t Miguel  & M       & 22     \\\\\n",
       "\t Mariana & F       & 21     \\\\\n",
       "\\end{tabular}\n"
      ],
      "text/markdown": [
       "\n",
       "nome | sexo | idade | \n",
       "|---|---|---|---|\n",
       "| João    | M       | 21      | \n",
       "| Clara   | F       | 24      | \n",
       "| Miguel  | M       | 22      | \n",
       "| Mariana | F       | 21      | \n",
       "\n",
       "\n"
      ],
      "text/plain": [
       "  nome    sexo idade\n",
       "1 João    M    21   \n",
       "2 Clara   F    24   \n",
       "3 Miguel  M    22   \n",
       "4 Mariana F    21   "
      ]
     },
     "metadata": {},
     "output_type": "display_data"
    }
   ],
   "source": [
    "alunos"
   ]
  },
  {
   "cell_type": "markdown",
   "metadata": {},
   "source": [
    "### 5.2 Outras Formas para Manipulação de Elementos de data.frames\n",
    "- Pode-se acessar e modificar elementos de data.frame utilizando o operador $ e a lista [[ ]]\n",
    "- Ambos sempre retornam um vetor como resultado."
   ]
  },
  {
   "cell_type": "code",
   "execution_count": 56,
   "metadata": {},
   "outputs": [
    {
     "data": {
      "text/html": [
       "<ol class=list-inline>\n",
       "\t<li>'João'</li>\n",
       "\t<li>'Clara'</li>\n",
       "\t<li>'Miguel'</li>\n",
       "\t<li>'Mariana'</li>\n",
       "</ol>\n"
      ],
      "text/latex": [
       "\\begin{enumerate*}\n",
       "\\item 'João'\n",
       "\\item 'Clara'\n",
       "\\item 'Miguel'\n",
       "\\item 'Mariana'\n",
       "\\end{enumerate*}\n"
      ],
      "text/markdown": [
       "1. 'João'\n",
       "2. 'Clara'\n",
       "3. 'Miguel'\n",
       "4. 'Mariana'\n",
       "\n",
       "\n"
      ],
      "text/plain": [
       "[1] \"João\"    \"Clara\"   \"Miguel\"  \"Mariana\""
      ]
     },
     "metadata": {},
     "output_type": "display_data"
    },
    {
     "data": {
      "text/html": [
       "<ol class=list-inline>\n",
       "\t<li>'João'</li>\n",
       "\t<li>'Clara'</li>\n",
       "\t<li>'Miguel'</li>\n",
       "\t<li>'Mariana'</li>\n",
       "</ol>\n"
      ],
      "text/latex": [
       "\\begin{enumerate*}\n",
       "\\item 'João'\n",
       "\\item 'Clara'\n",
       "\\item 'Miguel'\n",
       "\\item 'Mariana'\n",
       "\\end{enumerate*}\n"
      ],
      "text/markdown": [
       "1. 'João'\n",
       "2. 'Clara'\n",
       "3. 'Miguel'\n",
       "4. 'Mariana'\n",
       "\n",
       "\n"
      ],
      "text/plain": [
       "[1] \"João\"    \"Clara\"   \"Miguel\"  \"Mariana\""
      ]
     },
     "metadata": {},
     "output_type": "display_data"
    }
   ],
   "source": [
    "## Seleciona coluna nome\n",
    "alunos$nome\n",
    "\n",
    "## Seleciona coluna nome \n",
    "alunos[[\"nome\"]]"
   ]
  },
  {
   "cell_type": "code",
   "execution_count": 65,
   "metadata": {},
   "outputs": [
    {
     "data": {
      "text/html": [
       "<table>\n",
       "<thead><tr><th scope=col>idade</th></tr></thead>\n",
       "<tbody>\n",
       "\t<tr><td>21</td></tr>\n",
       "\t<tr><td>24</td></tr>\n",
       "\t<tr><td>22</td></tr>\n",
       "\t<tr><td>21</td></tr>\n",
       "</tbody>\n",
       "</table>\n"
      ],
      "text/latex": [
       "\\begin{tabular}{r|l}\n",
       " idade\\\\\n",
       "\\hline\n",
       "\t 21\\\\\n",
       "\t 24\\\\\n",
       "\t 22\\\\\n",
       "\t 21\\\\\n",
       "\\end{tabular}\n"
      ],
      "text/markdown": [
       "\n",
       "idade | \n",
       "|---|---|---|---|\n",
       "| 21 | \n",
       "| 24 | \n",
       "| 22 | \n",
       "| 21 | \n",
       "\n",
       "\n"
      ],
      "text/plain": [
       "  idade\n",
       "1 21   \n",
       "2 24   \n",
       "3 22   \n",
       "4 21   "
      ]
     },
     "metadata": {},
     "output_type": "display_data"
    },
    {
     "data": {
      "text/html": [
       "<ol class=list-inline>\n",
       "\t<li>21</li>\n",
       "\t<li>24</li>\n",
       "\t<li>22</li>\n",
       "\t<li>21</li>\n",
       "</ol>\n"
      ],
      "text/latex": [
       "\\begin{enumerate*}\n",
       "\\item 21\n",
       "\\item 24\n",
       "\\item 22\n",
       "\\item 21\n",
       "\\end{enumerate*}\n"
      ],
      "text/markdown": [
       "1. 21\n",
       "2. 24\n",
       "3. 22\n",
       "4. 21\n",
       "\n",
       "\n"
      ],
      "text/plain": [
       "[1] 21 24 22 21"
      ]
     },
     "metadata": {},
     "output_type": "display_data"
    },
    {
     "data": {
      "text/html": [
       "<ol class=list-inline>\n",
       "\t<li>21</li>\n",
       "\t<li>24</li>\n",
       "\t<li>22</li>\n",
       "\t<li>21</li>\n",
       "</ol>\n"
      ],
      "text/latex": [
       "\\begin{enumerate*}\n",
       "\\item 21\n",
       "\\item 24\n",
       "\\item 22\n",
       "\\item 21\n",
       "\\end{enumerate*}\n"
      ],
      "text/markdown": [
       "1. 21\n",
       "2. 24\n",
       "3. 22\n",
       "4. 21\n",
       "\n",
       "\n"
      ],
      "text/plain": [
       "[1] 21 24 22 21"
      ]
     },
     "metadata": {},
     "output_type": "display_data"
    }
   ],
   "source": [
    "## Exercício: Selecione a coluna 'idade' no data.frame alunos\n",
    "alunos[,c(\"idade\"),drop=FALSE]\n",
    "alunos$idade\n",
    "alunos[[\"idade\"]]"
   ]
  },
  {
   "cell_type": "markdown",
   "metadata": {},
   "source": [
    "#### Também é possível alterar valor combinando $ ou [[ ]] com <-:"
   ]
  },
  {
   "cell_type": "code",
   "execution_count": 70,
   "metadata": {},
   "outputs": [
    {
     "data": {
      "text/html": [
       "<table>\n",
       "<thead><tr><th scope=col>nome</th><th scope=col>sexo</th><th scope=col>idade</th></tr></thead>\n",
       "<tbody>\n",
       "\t<tr><td>João   </td><td>M      </td><td>30     </td></tr>\n",
       "\t<tr><td>Clara  </td><td>F      </td><td>24     </td></tr>\n",
       "\t<tr><td>Miguel </td><td>M      </td><td>22     </td></tr>\n",
       "\t<tr><td>Mariana</td><td>F      </td><td>21     </td></tr>\n",
       "</tbody>\n",
       "</table>\n"
      ],
      "text/latex": [
       "\\begin{tabular}{r|lll}\n",
       " nome & sexo & idade\\\\\n",
       "\\hline\n",
       "\t João    & M       & 30     \\\\\n",
       "\t Clara   & F       & 24     \\\\\n",
       "\t Miguel  & M       & 22     \\\\\n",
       "\t Mariana & F       & 21     \\\\\n",
       "\\end{tabular}\n"
      ],
      "text/markdown": [
       "\n",
       "nome | sexo | idade | \n",
       "|---|---|---|---|\n",
       "| João    | M       | 30      | \n",
       "| Clara   | F       | 24      | \n",
       "| Miguel  | M       | 22      | \n",
       "| Mariana | F       | 21      | \n",
       "\n",
       "\n"
      ],
      "text/plain": [
       "  nome    sexo idade\n",
       "1 João    M    30   \n",
       "2 Clara   F    24   \n",
       "3 Miguel  M    22   \n",
       "4 Mariana F    21   "
      ]
     },
     "metadata": {},
     "output_type": "display_data"
    }
   ],
   "source": [
    "## Aniversário de João\n",
    "alunos$idade[1] <- alunos$idade[1] + 1\n",
    " \n",
    "## equivalente\n",
    "alunos[[\"idade\"]][1] <- alunos[[\"idade\"]][1] + 1\n",
    "\n",
    "\n",
    "alunos"
   ]
  },
  {
   "cell_type": "markdown",
   "metadata": {},
   "source": [
    "#### Advertência: o retorno da operação pode ser vertor ou data.frame\n",
    "- df[ ,\"x\"]                - retorna a coluna x do data.frame df como tipo vetor.\n",
    "- df$x                     - retorna a coluna x do data.frame df como tipo vetor.\n",
    "- df[ , \"x\", drop = FALSE] - retorna a coluna x do data.frame df como tipo data.frame.\n",
    "- df[\"x\"]                  - retorna a coluna x do data.frame df como tipo data.frame."
   ]
  },
  {
   "cell_type": "code",
   "execution_count": 71,
   "metadata": {},
   "outputs": [
    {
     "data": {
      "text/html": [
       "<table>\n",
       "<thead><tr><th scope=col>idade</th></tr></thead>\n",
       "<tbody>\n",
       "\t<tr><td>30</td></tr>\n",
       "\t<tr><td>24</td></tr>\n",
       "\t<tr><td>22</td></tr>\n",
       "\t<tr><td>21</td></tr>\n",
       "</tbody>\n",
       "</table>\n"
      ],
      "text/latex": [
       "\\begin{tabular}{r|l}\n",
       " idade\\\\\n",
       "\\hline\n",
       "\t 30\\\\\n",
       "\t 24\\\\\n",
       "\t 22\\\\\n",
       "\t 21\\\\\n",
       "\\end{tabular}\n"
      ],
      "text/markdown": [
       "\n",
       "idade | \n",
       "|---|---|---|---|\n",
       "| 30 | \n",
       "| 24 | \n",
       "| 22 | \n",
       "| 21 | \n",
       "\n",
       "\n"
      ],
      "text/plain": [
       "  idade\n",
       "1 30   \n",
       "2 24   \n",
       "3 22   \n",
       "4 21   "
      ]
     },
     "metadata": {},
     "output_type": "display_data"
    },
    {
     "data": {
      "text/html": [
       "<table>\n",
       "<thead><tr><th scope=col>idade</th></tr></thead>\n",
       "<tbody>\n",
       "\t<tr><td>30</td></tr>\n",
       "\t<tr><td>24</td></tr>\n",
       "\t<tr><td>22</td></tr>\n",
       "\t<tr><td>21</td></tr>\n",
       "</tbody>\n",
       "</table>\n"
      ],
      "text/latex": [
       "\\begin{tabular}{r|l}\n",
       " idade\\\\\n",
       "\\hline\n",
       "\t 30\\\\\n",
       "\t 24\\\\\n",
       "\t 22\\\\\n",
       "\t 21\\\\\n",
       "\\end{tabular}\n"
      ],
      "text/markdown": [
       "\n",
       "idade | \n",
       "|---|---|---|---|\n",
       "| 30 | \n",
       "| 24 | \n",
       "| 22 | \n",
       "| 21 | \n",
       "\n",
       "\n"
      ],
      "text/plain": [
       "  idade\n",
       "1 30   \n",
       "2 24   \n",
       "3 22   \n",
       "4 21   "
      ]
     },
     "metadata": {},
     "output_type": "display_data"
    }
   ],
   "source": [
    "## Retorna data.frame\n",
    "alunos[ ,\"idade\", drop = FALSE]\n",
    "\n",
    " \n",
    "## Retorna data.frame\n",
    "alunos[\"idade\"]\n"
   ]
  },
  {
   "cell_type": "code",
   "execution_count": 72,
   "metadata": {},
   "outputs": [
    {
     "data": {
      "text/html": [
       "<ol class=list-inline>\n",
       "\t<li>30</li>\n",
       "\t<li>24</li>\n",
       "\t<li>22</li>\n",
       "\t<li>21</li>\n",
       "</ol>\n"
      ],
      "text/latex": [
       "\\begin{enumerate*}\n",
       "\\item 30\n",
       "\\item 24\n",
       "\\item 22\n",
       "\\item 21\n",
       "\\end{enumerate*}\n"
      ],
      "text/markdown": [
       "1. 30\n",
       "2. 24\n",
       "3. 22\n",
       "4. 21\n",
       "\n",
       "\n"
      ],
      "text/plain": [
       "[1] 30 24 22 21"
      ]
     },
     "metadata": {},
     "output_type": "display_data"
    },
    {
     "data": {
      "text/html": [
       "<ol class=list-inline>\n",
       "\t<li>30</li>\n",
       "\t<li>24</li>\n",
       "\t<li>22</li>\n",
       "\t<li>21</li>\n",
       "</ol>\n"
      ],
      "text/latex": [
       "\\begin{enumerate*}\n",
       "\\item 30\n",
       "\\item 24\n",
       "\\item 22\n",
       "\\item 21\n",
       "\\end{enumerate*}\n"
      ],
      "text/markdown": [
       "1. 30\n",
       "2. 24\n",
       "3. 22\n",
       "4. 21\n",
       "\n",
       "\n"
      ],
      "text/plain": [
       "[1] 30 24 22 21"
      ]
     },
     "metadata": {},
     "output_type": "display_data"
    }
   ],
   "source": [
    "## Retorna vetor\n",
    "alunos$idade\n",
    "\n",
    " \n",
    "## Retorna vetor\n",
    "alunos[ ,\"idade\"]\n"
   ]
  },
  {
   "cell_type": "markdown",
   "metadata": {},
   "source": [
    "### 5.3 Adicionar Colunas e Linhas em data.frame\n",
    "- Há várias forma de se adicionar e remover colunas em data.frames\n",
    "- Para adicionar, pode utilizar $, [ , ],  [[ ]] ou com cbind()."
   ]
  },
  {
   "cell_type": "code",
   "execution_count": 73,
   "metadata": {
    "collapsed": true
   },
   "outputs": [],
   "source": [
    "# Adição de coluna no data.frame alunos\n",
    "\n",
    "# utilizando df$nova_coluna\n",
    "alunos$curso <- c(\"Engenharia Mecatrônica\", \"Engenharia de Computação\", \"Engenharia de Computação\", \"Engenharia de Computação\" )\n",
    "\n",
    "# utilizando [[]]\n",
    "alunos[[\"altura\"]] <- c(1.71, 1.55, 1.82, 1.63)\n",
    "\n",
    "# utilizando [ , \"nova_coluna\"]\n",
    "alunos[, \"peso\"] <- c(88.1, 55.2, 72.6, 61.1)\n",
    "\n",
    "# Utilizando matrizes\n",
    "alunos <- cbind(alunos, clube = c(\"ABC\", \"América\", \"Alecrim\", \"Potiguar\"),\n",
    "                      stringsAsFactors = FALSE)\n"
   ]
  },
  {
   "cell_type": "code",
   "execution_count": 74,
   "metadata": {},
   "outputs": [
    {
     "data": {
      "text/html": [
       "<table>\n",
       "<thead><tr><th scope=col>nome</th><th scope=col>sexo</th><th scope=col>idade</th><th scope=col>curso</th><th scope=col>altura</th><th scope=col>peso</th><th scope=col>clube</th></tr></thead>\n",
       "<tbody>\n",
       "\t<tr><td>João                    </td><td>M                       </td><td>30                      </td><td>Engenharia Mecatrônica  </td><td>1.71                    </td><td>88.1                    </td><td>ABC                     </td></tr>\n",
       "\t<tr><td>Clara                   </td><td>F                       </td><td>24                      </td><td>Engenharia de Computação</td><td>1.55                    </td><td>55.2                    </td><td>América                 </td></tr>\n",
       "\t<tr><td>Miguel                  </td><td>M                       </td><td>22                      </td><td>Engenharia de Computação</td><td>1.82                    </td><td>72.6                    </td><td>Alecrim                 </td></tr>\n",
       "\t<tr><td>Mariana                 </td><td>F                       </td><td>21                      </td><td>Engenharia de Computação</td><td>1.63                    </td><td>61.1                    </td><td>Potiguar                </td></tr>\n",
       "</tbody>\n",
       "</table>\n"
      ],
      "text/latex": [
       "\\begin{tabular}{r|lllllll}\n",
       " nome & sexo & idade & curso & altura & peso & clube\\\\\n",
       "\\hline\n",
       "\t João                     & M                        & 30                       & Engenharia Mecatrônica   & 1.71                     & 88.1                     & ABC                     \\\\\n",
       "\t Clara                    & F                        & 24                       & Engenharia de Computação & 1.55                     & 55.2                     & América                 \\\\\n",
       "\t Miguel                   & M                        & 22                       & Engenharia de Computação & 1.82                     & 72.6                     & Alecrim                 \\\\\n",
       "\t Mariana                  & F                        & 21                       & Engenharia de Computação & 1.63                     & 61.1                     & Potiguar                \\\\\n",
       "\\end{tabular}\n"
      ],
      "text/markdown": [
       "\n",
       "nome | sexo | idade | curso | altura | peso | clube | \n",
       "|---|---|---|---|\n",
       "| João                     | M                        | 30                       | Engenharia Mecatrônica   | 1.71                     | 88.1                     | ABC                      | \n",
       "| Clara                    | F                        | 24                       | Engenharia de Computação | 1.55                     | 55.2                     | América                  | \n",
       "| Miguel                   | M                        | 22                       | Engenharia de Computação | 1.82                     | 72.6                     | Alecrim                  | \n",
       "| Mariana                  | F                        | 21                       | Engenharia de Computação | 1.63                     | 61.1                     | Potiguar                 | \n",
       "\n",
       "\n"
      ],
      "text/plain": [
       "  nome    sexo idade curso                    altura peso clube   \n",
       "1 João    M    30    Engenharia Mecatrônica   1.71   88.1 ABC     \n",
       "2 Clara   F    24    Engenharia de Computação 1.55   55.2 América \n",
       "3 Miguel  M    22    Engenharia de Computação 1.82   72.6 Alecrim \n",
       "4 Mariana F    21    Engenharia de Computação 1.63   61.1 Potiguar"
      ]
     },
     "metadata": {},
     "output_type": "display_data"
    }
   ],
   "source": [
    "alunos"
   ]
  },
  {
   "cell_type": "markdown",
   "metadata": {},
   "source": [
    "#### Inclusão de nova linha\n",
    "- Basta atribuir uma nova linha ao data.frame.\n",
    "- Mas, se os elementos têm colunas de tipos diferentes, use a função data.frame\n",
    "   - para evitar que todas as colunas do o data.frame sejam transformadas num memso tipo."
   ]
  },
  {
   "cell_type": "code",
   "execution_count": 75,
   "metadata": {
    "collapsed": true
   },
   "outputs": [],
   "source": [
    "# Inclusão de uma nova linhas\n",
    "alunos[4, ] <- data.frame(nome = \"Ênio\", sexo = \"M\", idade = 21, curso = \"Engenharia Mecatrônica\",\n",
    "                          altura = 1.68, peso = 63.2,clube = \"Tashima\",\n",
    "                                stringsAsFactors = FALSE)"
   ]
  },
  {
   "cell_type": "code",
   "execution_count": 76,
   "metadata": {},
   "outputs": [
    {
     "data": {
      "text/html": [
       "<table>\n",
       "<thead><tr><th scope=col>nome</th><th scope=col>sexo</th><th scope=col>idade</th><th scope=col>curso</th><th scope=col>altura</th><th scope=col>peso</th><th scope=col>clube</th></tr></thead>\n",
       "<tbody>\n",
       "\t<tr><td>João                    </td><td>M                       </td><td>30                      </td><td>Engenharia Mecatrônica  </td><td>1.71                    </td><td>88.1                    </td><td>ABC                     </td></tr>\n",
       "\t<tr><td>Clara                   </td><td>F                       </td><td>24                      </td><td>Engenharia de Computação</td><td>1.55                    </td><td>55.2                    </td><td>América                 </td></tr>\n",
       "\t<tr><td>Miguel                  </td><td>M                       </td><td>22                      </td><td>Engenharia de Computação</td><td>1.82                    </td><td>72.6                    </td><td>Alecrim                 </td></tr>\n",
       "\t<tr><td>Ênio                    </td><td>M                       </td><td>21                      </td><td>Engenharia Mecatrônica  </td><td>1.68                    </td><td>63.2                    </td><td>Tashima                 </td></tr>\n",
       "</tbody>\n",
       "</table>\n"
      ],
      "text/latex": [
       "\\begin{tabular}{r|lllllll}\n",
       " nome & sexo & idade & curso & altura & peso & clube\\\\\n",
       "\\hline\n",
       "\t João                     & M                        & 30                       & Engenharia Mecatrônica   & 1.71                     & 88.1                     & ABC                     \\\\\n",
       "\t Clara                    & F                        & 24                       & Engenharia de Computação & 1.55                     & 55.2                     & América                 \\\\\n",
       "\t Miguel                   & M                        & 22                       & Engenharia de Computação & 1.82                     & 72.6                     & Alecrim                 \\\\\n",
       "\t Ênio                     & M                        & 21                       & Engenharia Mecatrônica   & 1.68                     & 63.2                     & Tashima                 \\\\\n",
       "\\end{tabular}\n"
      ],
      "text/markdown": [
       "\n",
       "nome | sexo | idade | curso | altura | peso | clube | \n",
       "|---|---|---|---|\n",
       "| João                     | M                        | 30                       | Engenharia Mecatrônica   | 1.71                     | 88.1                     | ABC                      | \n",
       "| Clara                    | F                        | 24                       | Engenharia de Computação | 1.55                     | 55.2                     | América                  | \n",
       "| Miguel                   | M                        | 22                       | Engenharia de Computação | 1.82                     | 72.6                     | Alecrim                  | \n",
       "| Ênio                     | M                        | 21                       | Engenharia Mecatrônica   | 1.68                     | 63.2                     | Tashima                  | \n",
       "\n",
       "\n"
      ],
      "text/plain": [
       "  nome   sexo idade curso                    altura peso clube  \n",
       "1 João   M    30    Engenharia Mecatrônica   1.71   88.1 ABC    \n",
       "2 Clara  F    24    Engenharia de Computação 1.55   55.2 América\n",
       "3 Miguel M    22    Engenharia de Computação 1.82   72.6 Alecrim\n",
       "4 Ênio   M    21    Engenharia Mecatrônica   1.68   63.2 Tashima"
      ]
     },
     "metadata": {},
     "output_type": "display_data"
    }
   ],
   "source": [
    "alunos"
   ]
  },
  {
   "cell_type": "markdown",
   "metadata": {},
   "source": [
    "- Outra maneira, é utilizando a finção rbind( )."
   ]
  },
  {
   "cell_type": "code",
   "execution_count": 83,
   "metadata": {},
   "outputs": [
    {
     "data": {
      "text/html": [
       "<table>\n",
       "<thead><tr><th scope=col>nome</th><th scope=col>sexo</th><th scope=col>idade</th><th scope=col>curso</th><th scope=col>altura</th><th scope=col>peso</th><th scope=col>clube</th></tr></thead>\n",
       "<tbody>\n",
       "\t<tr><td>João                    </td><td>M                       </td><td>30                      </td><td>Engenharia Mecatrônica  </td><td>1.71                    </td><td>88.1                    </td><td>ABC                     </td></tr>\n",
       "\t<tr><td>Clara                   </td><td>F                       </td><td>24                      </td><td>Engenharia de Computação</td><td>1.55                    </td><td>55.2                    </td><td>América                 </td></tr>\n",
       "\t<tr><td>Miguel                  </td><td>M                       </td><td>22                      </td><td>Engenharia de Computação</td><td>1.82                    </td><td>72.6                    </td><td>Alecrim                 </td></tr>\n",
       "\t<tr><td>Ênio                    </td><td>M                       </td><td>21                      </td><td>Engenharia Mecatrônica  </td><td>1.68                    </td><td>63.2                    </td><td>Tashima                 </td></tr>\n",
       "\t<tr><td>Amanda                  </td><td>F                       </td><td>20                      </td><td>Engenharia de Computação</td><td>1.65                    </td><td>62.1                    </td><td>ABC                     </td></tr>\n",
       "</tbody>\n",
       "</table>\n"
      ],
      "text/latex": [
       "\\begin{tabular}{r|lllllll}\n",
       " nome & sexo & idade & curso & altura & peso & clube\\\\\n",
       "\\hline\n",
       "\t João                     & M                        & 30                       & Engenharia Mecatrônica   & 1.71                     & 88.1                     & ABC                     \\\\\n",
       "\t Clara                    & F                        & 24                       & Engenharia de Computação & 1.55                     & 55.2                     & América                 \\\\\n",
       "\t Miguel                   & M                        & 22                       & Engenharia de Computação & 1.82                     & 72.6                     & Alecrim                 \\\\\n",
       "\t Ênio                     & M                        & 21                       & Engenharia Mecatrônica   & 1.68                     & 63.2                     & Tashima                 \\\\\n",
       "\t Amanda                   & F                        & 20                       & Engenharia de Computação & 1.65                     & 62.1                     & ABC                     \\\\\n",
       "\\end{tabular}\n"
      ],
      "text/markdown": [
       "\n",
       "nome | sexo | idade | curso | altura | peso | clube | \n",
       "|---|---|---|---|---|\n",
       "| João                     | M                        | 30                       | Engenharia Mecatrônica   | 1.71                     | 88.1                     | ABC                      | \n",
       "| Clara                    | F                        | 24                       | Engenharia de Computação | 1.55                     | 55.2                     | América                  | \n",
       "| Miguel                   | M                        | 22                       | Engenharia de Computação | 1.82                     | 72.6                     | Alecrim                  | \n",
       "| Ênio                     | M                        | 21                       | Engenharia Mecatrônica   | 1.68                     | 63.2                     | Tashima                  | \n",
       "| Amanda                   | F                        | 20                       | Engenharia de Computação | 1.65                     | 62.1                     | ABC                      | \n",
       "\n",
       "\n"
      ],
      "text/plain": [
       "  nome   sexo idade curso                    altura peso clube  \n",
       "1 João   M    30    Engenharia Mecatrônica   1.71   88.1 ABC    \n",
       "2 Clara  F    24    Engenharia de Computação 1.55   55.2 América\n",
       "3 Miguel M    22    Engenharia de Computação 1.82   72.6 Alecrim\n",
       "4 Ênio   M    21    Engenharia Mecatrônica   1.68   63.2 Tashima\n",
       "5 Amanda F    20    Engenharia de Computação 1.65   62.1 ABC    "
      ]
     },
     "metadata": {},
     "output_type": "display_data"
    }
   ],
   "source": [
    "# Inclusão de uma nova linha\n",
    "rbind(alunos, data.frame(nome = \"Amanda\", sexo = \"F\", idade = 20, curso = \"Engenharia de Computação\",\n",
    "                         altura = 1.65, peso = 62.1, clube = \"ABC\", \n",
    "                                stringsAsFactors = FALSE))"
   ]
  },
  {
   "cell_type": "code",
   "execution_count": 86,
   "metadata": {},
   "outputs": [
    {
     "data": {
      "text/html": [
       "<table>\n",
       "<thead><tr><th></th><th scope=col>nome</th><th scope=col>sexo</th><th scope=col>idade</th><th scope=col>curso</th><th scope=col>altura</th><th scope=col>peso</th><th scope=col>clube</th></tr></thead>\n",
       "<tbody>\n",
       "\t<tr><th scope=row>4</th><td>Ênio                  </td><td>M                     </td><td>21                    </td><td>Engenharia Mecatrônica</td><td>1.68                  </td><td>63.2                  </td><td>Tashima               </td></tr>\n",
       "\t<tr><th scope=row>NA</th><td>NA                    </td><td>NA                    </td><td>NA                    </td><td>NA                    </td><td>  NA                  </td><td>  NA                  </td><td>NA                    </td></tr>\n",
       "</tbody>\n",
       "</table>\n"
      ],
      "text/latex": [
       "\\begin{tabular}{r|lllllll}\n",
       "  & nome & sexo & idade & curso & altura & peso & clube\\\\\n",
       "\\hline\n",
       "\t4 & Ênio                   & M                      & 21                     & Engenharia Mecatrônica & 1.68                   & 63.2                   & Tashima               \\\\\n",
       "\tNA & NA                     & NA                     & NA                     & NA                     &   NA                   &   NA                   & NA                    \\\\\n",
       "\\end{tabular}\n"
      ],
      "text/markdown": [
       "\n",
       "| <!--/--> | nome | sexo | idade | curso | altura | peso | clube | \n",
       "|---|---|\n",
       "| 4 | Ênio                   | M                      | 21                     | Engenharia Mecatrônica | 1.68                   | 63.2                   | Tashima                | \n",
       "| NA | NA                     | NA                     | NA                     | NA                     |   NA                   |   NA                   | NA                     | \n",
       "\n",
       "\n"
      ],
      "text/plain": [
       "   nome sexo idade curso                  altura peso clube  \n",
       "4  Ênio M    21    Engenharia Mecatrônica 1.68   63.2 Tashima\n",
       "NA NA   NA   NA    NA                       NA     NA NA     "
      ]
     },
     "metadata": {},
     "output_type": "display_data"
    },
    {
     "data": {
      "text/html": [
       "<table>\n",
       "<thead><tr><th scope=col>nome</th><th scope=col>sexo</th><th scope=col>idade</th><th scope=col>curso</th><th scope=col>altura</th><th scope=col>peso</th><th scope=col>clube</th></tr></thead>\n",
       "<tbody>\n",
       "\t<tr><td>João                    </td><td>M                       </td><td>30                      </td><td>Engenharia Mecatrônica  </td><td>1.71                    </td><td>88.1                    </td><td>ABC                     </td></tr>\n",
       "\t<tr><td>Clara                   </td><td>F                       </td><td>24                      </td><td>Engenharia de Computação</td><td>1.55                    </td><td>55.2                    </td><td>América                 </td></tr>\n",
       "\t<tr><td>Miguel                  </td><td>M                       </td><td>22                      </td><td>Engenharia de Computação</td><td>1.82                    </td><td>72.6                    </td><td>Alecrim                 </td></tr>\n",
       "\t<tr><td>Ênio                    </td><td>M                       </td><td>21                      </td><td>Engenharia Mecatrônica  </td><td>1.68                    </td><td>63.2                    </td><td>Tashima                 </td></tr>\n",
       "</tbody>\n",
       "</table>\n"
      ],
      "text/latex": [
       "\\begin{tabular}{r|lllllll}\n",
       " nome & sexo & idade & curso & altura & peso & clube\\\\\n",
       "\\hline\n",
       "\t João                     & M                        & 30                       & Engenharia Mecatrônica   & 1.71                     & 88.1                     & ABC                     \\\\\n",
       "\t Clara                    & F                        & 24                       & Engenharia de Computação & 1.55                     & 55.2                     & América                 \\\\\n",
       "\t Miguel                   & M                        & 22                       & Engenharia de Computação & 1.82                     & 72.6                     & Alecrim                 \\\\\n",
       "\t Ênio                     & M                        & 21                       & Engenharia Mecatrônica   & 1.68                     & 63.2                     & Tashima                 \\\\\n",
       "\\end{tabular}\n"
      ],
      "text/markdown": [
       "\n",
       "nome | sexo | idade | curso | altura | peso | clube | \n",
       "|---|---|---|---|\n",
       "| João                     | M                        | 30                       | Engenharia Mecatrônica   | 1.71                     | 88.1                     | ABC                      | \n",
       "| Clara                    | F                        | 24                       | Engenharia de Computação | 1.55                     | 55.2                     | América                  | \n",
       "| Miguel                   | M                        | 22                       | Engenharia de Computação | 1.82                     | 72.6                     | Alecrim                  | \n",
       "| Ênio                     | M                        | 21                       | Engenharia Mecatrônica   | 1.68                     | 63.2                     | Tashima                  | \n",
       "\n",
       "\n"
      ],
      "text/plain": [
       "  nome   sexo idade curso                    altura peso clube  \n",
       "1 João   M    30    Engenharia Mecatrônica   1.71   88.1 ABC    \n",
       "2 Clara  F    24    Engenharia de Computação 1.55   55.2 América\n",
       "3 Miguel M    22    Engenharia de Computação 1.82   72.6 Alecrim\n",
       "4 Ênio   M    21    Engenharia Mecatrônica   1.68   63.2 Tashima"
      ]
     },
     "metadata": {},
     "output_type": "display_data"
    }
   ],
   "source": [
    "alunos[4:5,]\n",
    "alunos"
   ]
  },
  {
   "cell_type": "markdown",
   "metadata": {},
   "source": [
    "#### Exercício: \n",
    "- Crie uma nova coluna com o IMC dos Alunos.\n",
    "   - IMC = peso/(altura ou quadrado)\n",
    "   - Calcule a média do IMC dos alunos."
   ]
  },
  {
   "cell_type": "code",
   "execution_count": 120,
   "metadata": {},
   "outputs": [
    {
     "data": {
      "text/html": [
       "<table>\n",
       "<thead><tr><th scope=col>nome</th><th scope=col>sexo</th><th scope=col>idade</th><th scope=col>curso</th><th scope=col>altura</th><th scope=col>peso</th><th scope=col>clube</th><th scope=col>IMC</th></tr></thead>\n",
       "<tbody>\n",
       "\t<tr><td>João                    </td><td>M                       </td><td>30                      </td><td>Engenharia Mecatrônica  </td><td>1.71                    </td><td>88.1                    </td><td>ABC                     </td><td>30.12893                </td></tr>\n",
       "\t<tr><td>Clara                   </td><td>F                       </td><td>24                      </td><td>Engenharia de Computação</td><td>1.55                    </td><td>55.2                    </td><td>América                 </td><td>22.97607                </td></tr>\n",
       "\t<tr><td>Miguel                  </td><td>M                       </td><td>22                      </td><td>Engenharia de Computação</td><td>1.82                    </td><td>72.6                    </td><td>Alecrim                 </td><td>21.91764                </td></tr>\n",
       "\t<tr><td>Ênio                    </td><td>M                       </td><td>21                      </td><td>Engenharia Mecatrônica  </td><td>1.68                    </td><td>63.2                    </td><td>Tashima                 </td><td>22.39229                </td></tr>\n",
       "</tbody>\n",
       "</table>\n"
      ],
      "text/latex": [
       "\\begin{tabular}{r|llllllll}\n",
       " nome & sexo & idade & curso & altura & peso & clube & IMC\\\\\n",
       "\\hline\n",
       "\t João                     & M                        & 30                       & Engenharia Mecatrônica   & 1.71                     & 88.1                     & ABC                      & 30.12893                \\\\\n",
       "\t Clara                    & F                        & 24                       & Engenharia de Computação & 1.55                     & 55.2                     & América                  & 22.97607                \\\\\n",
       "\t Miguel                   & M                        & 22                       & Engenharia de Computação & 1.82                     & 72.6                     & Alecrim                  & 21.91764                \\\\\n",
       "\t Ênio                     & M                        & 21                       & Engenharia Mecatrônica   & 1.68                     & 63.2                     & Tashima                  & 22.39229                \\\\\n",
       "\\end{tabular}\n"
      ],
      "text/markdown": [
       "\n",
       "nome | sexo | idade | curso | altura | peso | clube | IMC | \n",
       "|---|---|---|---|\n",
       "| João                     | M                        | 30                       | Engenharia Mecatrônica   | 1.71                     | 88.1                     | ABC                      | 30.12893                 | \n",
       "| Clara                    | F                        | 24                       | Engenharia de Computação | 1.55                     | 55.2                     | América                  | 22.97607                 | \n",
       "| Miguel                   | M                        | 22                       | Engenharia de Computação | 1.82                     | 72.6                     | Alecrim                  | 21.91764                 | \n",
       "| Ênio                     | M                        | 21                       | Engenharia Mecatrônica   | 1.68                     | 63.2                     | Tashima                  | 22.39229                 | \n",
       "\n",
       "\n"
      ],
      "text/plain": [
       "  nome   sexo idade curso                    altura peso clube   IMC     \n",
       "1 João   M    30    Engenharia Mecatrônica   1.71   88.1 ABC     30.12893\n",
       "2 Clara  F    24    Engenharia de Computação 1.55   55.2 América 22.97607\n",
       "3 Miguel M    22    Engenharia de Computação 1.82   72.6 Alecrim 21.91764\n",
       "4 Ênio   M    21    Engenharia Mecatrônica   1.68   63.2 Tashima 22.39229"
      ]
     },
     "metadata": {},
     "output_type": "display_data"
    }
   ],
   "source": [
    "# Exercício\n",
    "\n",
    "alunos$IMC <- c(alunos[,6]/(alunos[,5])^2)\n",
    "alunos"
   ]
  },
  {
   "cell_type": "markdown",
   "metadata": {},
   "source": [
    "### 5.3 Remover Colunas e Linhas em data.frame"
   ]
  },
  {
   "cell_type": "markdown",
   "metadata": {},
   "source": [
    "- Para remover uma remover uma coluna de um data.frame basta atribuir o valor NULL a ela.\n",
    "   - alunos$clube <- NULL\n",
    "   \n",
    "   \n",
    "- Removendo linhas de um data.frame basta selecionar apenas aquelas linhas que você deseja manter:\n",
    "  - alunos <- alunos[1:3, ]  # mantém as 03 primeiras linhas\n",
    "  - alunos <- alunos[alunos$peso > 65  # mantém os alunos com peso acima de 65 kilos"
   ]
  },
  {
   "cell_type": "markdown",
   "metadata": {},
   "source": [
    "#### Exercício:\n",
    "- Obtenha um data.frame meninos_altos, que correspondem aos alunos do sexo masculino com altura maior que 1.75m."
   ]
  },
  {
   "cell_type": "code",
   "execution_count": 133,
   "metadata": {},
   "outputs": [
    {
     "data": {
      "text/html": [
       "<table>\n",
       "<thead><tr><th scope=col>nome</th><th scope=col>sexo</th><th scope=col>idade</th><th scope=col>curso</th><th scope=col>altura</th><th scope=col>peso</th><th scope=col>clube</th><th scope=col>IMC</th></tr></thead>\n",
       "<tbody>\n",
       "\t<tr><td>João                    </td><td>M                       </td><td>30                      </td><td>Engenharia Mecatrônica  </td><td>1.71                    </td><td>88.1                    </td><td>ABC                     </td><td>30.12893                </td></tr>\n",
       "\t<tr><td>Clara                   </td><td>F                       </td><td>24                      </td><td>Engenharia de Computação</td><td>1.55                    </td><td>55.2                    </td><td>América                 </td><td>22.97607                </td></tr>\n",
       "\t<tr><td>Miguel                  </td><td>M                       </td><td>22                      </td><td>Engenharia de Computação</td><td>1.82                    </td><td>72.6                    </td><td>Alecrim                 </td><td>21.91764                </td></tr>\n",
       "\t<tr><td>Ênio                    </td><td>M                       </td><td>21                      </td><td>Engenharia Mecatrônica  </td><td>1.68                    </td><td>63.2                    </td><td>Tashima                 </td><td>22.39229                </td></tr>\n",
       "</tbody>\n",
       "</table>\n"
      ],
      "text/latex": [
       "\\begin{tabular}{r|llllllll}\n",
       " nome & sexo & idade & curso & altura & peso & clube & IMC\\\\\n",
       "\\hline\n",
       "\t João                     & M                        & 30                       & Engenharia Mecatrônica   & 1.71                     & 88.1                     & ABC                      & 30.12893                \\\\\n",
       "\t Clara                    & F                        & 24                       & Engenharia de Computação & 1.55                     & 55.2                     & América                  & 22.97607                \\\\\n",
       "\t Miguel                   & M                        & 22                       & Engenharia de Computação & 1.82                     & 72.6                     & Alecrim                  & 21.91764                \\\\\n",
       "\t Ênio                     & M                        & 21                       & Engenharia Mecatrônica   & 1.68                     & 63.2                     & Tashima                  & 22.39229                \\\\\n",
       "\\end{tabular}\n"
      ],
      "text/markdown": [
       "\n",
       "nome | sexo | idade | curso | altura | peso | clube | IMC | \n",
       "|---|---|---|---|\n",
       "| João                     | M                        | 30                       | Engenharia Mecatrônica   | 1.71                     | 88.1                     | ABC                      | 30.12893                 | \n",
       "| Clara                    | F                        | 24                       | Engenharia de Computação | 1.55                     | 55.2                     | América                  | 22.97607                 | \n",
       "| Miguel                   | M                        | 22                       | Engenharia de Computação | 1.82                     | 72.6                     | Alecrim                  | 21.91764                 | \n",
       "| Ênio                     | M                        | 21                       | Engenharia Mecatrônica   | 1.68                     | 63.2                     | Tashima                  | 22.39229                 | \n",
       "\n",
       "\n"
      ],
      "text/plain": [
       "  nome   sexo idade curso                    altura peso clube   IMC     \n",
       "1 João   M    30    Engenharia Mecatrônica   1.71   88.1 ABC     30.12893\n",
       "2 Clara  F    24    Engenharia de Computação 1.55   55.2 América 22.97607\n",
       "3 Miguel M    22    Engenharia de Computação 1.82   72.6 Alecrim 21.91764\n",
       "4 Ênio   M    21    Engenharia Mecatrônica   1.68   63.2 Tashima 22.39229"
      ]
     },
     "metadata": {},
     "output_type": "display_data"
    },
    {
     "data": {
      "text/html": [
       "<table>\n",
       "<thead><tr><th></th><th scope=col>nome</th><th scope=col>sexo</th><th scope=col>idade</th><th scope=col>curso</th><th scope=col>altura</th><th scope=col>peso</th><th scope=col>clube</th><th scope=col>IMC</th></tr></thead>\n",
       "<tbody>\n",
       "\t<tr><th scope=row>1</th><td>João                    </td><td>M                       </td><td>30                      </td><td>Engenharia Mecatrônica  </td><td>1.71                    </td><td>88.1                    </td><td>ABC                     </td><td>30.12893                </td></tr>\n",
       "\t<tr><th scope=row>3</th><td>Miguel                  </td><td>M                       </td><td>22                      </td><td>Engenharia de Computação</td><td>1.82                    </td><td>72.6                    </td><td>Alecrim                 </td><td>21.91764                </td></tr>\n",
       "\t<tr><th scope=row>4</th><td>Ênio                    </td><td>M                       </td><td>21                      </td><td>Engenharia Mecatrônica  </td><td>1.68                    </td><td>63.2                    </td><td>Tashima                 </td><td>22.39229                </td></tr>\n",
       "</tbody>\n",
       "</table>\n"
      ],
      "text/latex": [
       "\\begin{tabular}{r|llllllll}\n",
       "  & nome & sexo & idade & curso & altura & peso & clube & IMC\\\\\n",
       "\\hline\n",
       "\t1 & João                     & M                        & 30                       & Engenharia Mecatrônica   & 1.71                     & 88.1                     & ABC                      & 30.12893                \\\\\n",
       "\t3 & Miguel                   & M                        & 22                       & Engenharia de Computação & 1.82                     & 72.6                     & Alecrim                  & 21.91764                \\\\\n",
       "\t4 & Ênio                     & M                        & 21                       & Engenharia Mecatrônica   & 1.68                     & 63.2                     & Tashima                  & 22.39229                \\\\\n",
       "\\end{tabular}\n"
      ],
      "text/markdown": [
       "\n",
       "| <!--/--> | nome | sexo | idade | curso | altura | peso | clube | IMC | \n",
       "|---|---|---|\n",
       "| 1 | João                     | M                        | 30                       | Engenharia Mecatrônica   | 1.71                     | 88.1                     | ABC                      | 30.12893                 | \n",
       "| 3 | Miguel                   | M                        | 22                       | Engenharia de Computação | 1.82                     | 72.6                     | Alecrim                  | 21.91764                 | \n",
       "| 4 | Ênio                     | M                        | 21                       | Engenharia Mecatrônica   | 1.68                     | 63.2                     | Tashima                  | 22.39229                 | \n",
       "\n",
       "\n"
      ],
      "text/plain": [
       "  nome   sexo idade curso                    altura peso clube   IMC     \n",
       "1 João   M    30    Engenharia Mecatrônica   1.71   88.1 ABC     30.12893\n",
       "3 Miguel M    22    Engenharia de Computação 1.82   72.6 Alecrim 21.91764\n",
       "4 Ênio   M    21    Engenharia Mecatrônica   1.68   63.2 Tashima 22.39229"
      ]
     },
     "metadata": {},
     "output_type": "display_data"
    },
    {
     "data": {
      "text/html": [
       "<table>\n",
       "<thead><tr><th></th><th scope=col>nome</th><th scope=col>sexo</th><th scope=col>idade</th><th scope=col>curso</th><th scope=col>altura</th><th scope=col>peso</th><th scope=col>clube</th><th scope=col>IMC</th></tr></thead>\n",
       "<tbody>\n",
       "\t<tr><th scope=row>3</th><td>Miguel                  </td><td>M                       </td><td>22                      </td><td>Engenharia de Computação</td><td>1.82                    </td><td>72.6                    </td><td>Alecrim                 </td><td>21.91764                </td></tr>\n",
       "</tbody>\n",
       "</table>\n"
      ],
      "text/latex": [
       "\\begin{tabular}{r|llllllll}\n",
       "  & nome & sexo & idade & curso & altura & peso & clube & IMC\\\\\n",
       "\\hline\n",
       "\t3 & Miguel                   & M                        & 22                       & Engenharia de Computação & 1.82                     & 72.6                     & Alecrim                  & 21.91764                \\\\\n",
       "\\end{tabular}\n"
      ],
      "text/markdown": [
       "\n",
       "| <!--/--> | nome | sexo | idade | curso | altura | peso | clube | IMC | \n",
       "|---|\n",
       "| 3 | Miguel                   | M                        | 22                       | Engenharia de Computação | 1.82                     | 72.6                     | Alecrim                  | 21.91764                 | \n",
       "\n",
       "\n"
      ],
      "text/plain": [
       "  nome   sexo idade curso                    altura peso clube   IMC     \n",
       "3 Miguel M    22    Engenharia de Computação 1.82   72.6 Alecrim 21.91764"
      ]
     },
     "metadata": {},
     "output_type": "display_data"
    }
   ],
   "source": [
    "# Resolução do Exercício:\n",
    "alunos\n",
    "meninos <- alunos[alunos$sexo == \"M\",]\n",
    "meninos\n",
    "meninos_altos <- alunos[ (alunos$altura > 1.75) & (alunos$sexo == \"M\") ,]\n",
    "meninos_altos"
   ]
  },
  {
   "cell_type": "markdown",
   "metadata": {},
   "source": [
    "### 5.4  Algumas Funções Importante\n",
    "- subset()  - \n",
    "- with()\n",
    "- sapply() e lapply()\n",
    "- Filter() \n",
    "- sort( )\n",
    "- order( )"
   ]
  },
  {
   "cell_type": "markdown",
   "metadata": {},
   "source": [
    "#### Função subset()\n",
    "- Esta função seleciona um sub-frame a partir de uma expressão lógica.\n",
    "- Estrura geral:\t\n",
    "     subset(nome_do_data_frame, expressao_logica_para_filtrar_linhas,\n",
    "            select = nomes_das_colunas)"
   ]
  },
  {
   "cell_type": "code",
   "execution_count": 129,
   "metadata": {},
   "outputs": [
    {
     "data": {
      "text/html": [
       "<table>\n",
       "<thead><tr><th scope=col>nome</th><th scope=col>sexo</th><th scope=col>idade</th><th scope=col>curso</th><th scope=col>altura</th><th scope=col>peso</th><th scope=col>clube</th><th scope=col>IMC</th></tr></thead>\n",
       "<tbody>\n",
       "\t<tr><td>João                    </td><td>M                       </td><td>30                      </td><td>Engenharia Mecatrônica  </td><td>1.71                    </td><td>88.1                    </td><td>ABC                     </td><td>30.12893                </td></tr>\n",
       "\t<tr><td>Clara                   </td><td>F                       </td><td>24                      </td><td>Engenharia de Computação</td><td>1.55                    </td><td>55.2                    </td><td>América                 </td><td>22.97607                </td></tr>\n",
       "\t<tr><td>Miguel                  </td><td>M                       </td><td>22                      </td><td>Engenharia de Computação</td><td>1.82                    </td><td>72.6                    </td><td>Alecrim                 </td><td>21.91764                </td></tr>\n",
       "\t<tr><td>Ênio                    </td><td>M                       </td><td>21                      </td><td>Engenharia Mecatrônica  </td><td>1.68                    </td><td>63.2                    </td><td>Tashima                 </td><td>22.39229                </td></tr>\n",
       "</tbody>\n",
       "</table>\n"
      ],
      "text/latex": [
       "\\begin{tabular}{r|llllllll}\n",
       " nome & sexo & idade & curso & altura & peso & clube & IMC\\\\\n",
       "\\hline\n",
       "\t João                     & M                        & 30                       & Engenharia Mecatrônica   & 1.71                     & 88.1                     & ABC                      & 30.12893                \\\\\n",
       "\t Clara                    & F                        & 24                       & Engenharia de Computação & 1.55                     & 55.2                     & América                  & 22.97607                \\\\\n",
       "\t Miguel                   & M                        & 22                       & Engenharia de Computação & 1.82                     & 72.6                     & Alecrim                  & 21.91764                \\\\\n",
       "\t Ênio                     & M                        & 21                       & Engenharia Mecatrônica   & 1.68                     & 63.2                     & Tashima                  & 22.39229                \\\\\n",
       "\\end{tabular}\n"
      ],
      "text/markdown": [
       "\n",
       "nome | sexo | idade | curso | altura | peso | clube | IMC | \n",
       "|---|---|---|---|\n",
       "| João                     | M                        | 30                       | Engenharia Mecatrônica   | 1.71                     | 88.1                     | ABC                      | 30.12893                 | \n",
       "| Clara                    | F                        | 24                       | Engenharia de Computação | 1.55                     | 55.2                     | América                  | 22.97607                 | \n",
       "| Miguel                   | M                        | 22                       | Engenharia de Computação | 1.82                     | 72.6                     | Alecrim                  | 21.91764                 | \n",
       "| Ênio                     | M                        | 21                       | Engenharia Mecatrônica   | 1.68                     | 63.2                     | Tashima                  | 22.39229                 | \n",
       "\n",
       "\n"
      ],
      "text/plain": [
       "  nome   sexo idade curso                    altura peso clube   IMC     \n",
       "1 João   M    30    Engenharia Mecatrônica   1.71   88.1 ABC     30.12893\n",
       "2 Clara  F    24    Engenharia de Computação 1.55   55.2 América 22.97607\n",
       "3 Miguel M    22    Engenharia de Computação 1.82   72.6 Alecrim 21.91764\n",
       "4 Ênio   M    21    Engenharia Mecatrônica   1.68   63.2 Tashima 22.39229"
      ]
     },
     "metadata": {},
     "output_type": "display_data"
    }
   ],
   "source": [
    "alunos"
   ]
  },
  {
   "cell_type": "code",
   "execution_count": 134,
   "metadata": {},
   "outputs": [
    {
     "data": {
      "text/html": [
       "<table>\n",
       "<thead><tr><th></th><th scope=col>nome</th><th scope=col>sexo</th><th scope=col>idade</th><th scope=col>curso</th><th scope=col>altura</th><th scope=col>peso</th><th scope=col>clube</th><th scope=col>IMC</th></tr></thead>\n",
       "<tbody>\n",
       "\t<tr><th scope=row>2</th><td>Clara                   </td><td>F                       </td><td>24                      </td><td>Engenharia de Computação</td><td>1.55                    </td><td>55.2                    </td><td>América                 </td><td>22.97607                </td></tr>\n",
       "</tbody>\n",
       "</table>\n"
      ],
      "text/latex": [
       "\\begin{tabular}{r|llllllll}\n",
       "  & nome & sexo & idade & curso & altura & peso & clube & IMC\\\\\n",
       "\\hline\n",
       "\t2 & Clara                    & F                        & 24                       & Engenharia de Computação & 1.55                     & 55.2                     & América                  & 22.97607                \\\\\n",
       "\\end{tabular}\n"
      ],
      "text/markdown": [
       "\n",
       "| <!--/--> | nome | sexo | idade | curso | altura | peso | clube | IMC | \n",
       "|---|\n",
       "| 2 | Clara                    | F                        | 24                       | Engenharia de Computação | 1.55                     | 55.2                     | América                  | 22.97607                 | \n",
       "\n",
       "\n"
      ],
      "text/plain": [
       "  nome  sexo idade curso                    altura peso clube   IMC     \n",
       "2 Clara F    24    Engenharia de Computação 1.55   55.2 América 22.97607"
      ]
     },
     "metadata": {},
     "output_type": "display_data"
    }
   ],
   "source": [
    "# Exemplo de Uso\n",
    "\n",
    "## alunos[alunos$sexo == \"F\",]\n",
    "subset(alunos, sexo == \"F\")\n"
   ]
  },
  {
   "cell_type": "code",
   "execution_count": 135,
   "metadata": {},
   "outputs": [
    {
     "data": {
      "text/html": [
       "<table>\n",
       "<thead><tr><th></th><th scope=col>nome</th><th scope=col>sexo</th><th scope=col>idade</th><th scope=col>curso</th><th scope=col>altura</th><th scope=col>peso</th><th scope=col>clube</th><th scope=col>IMC</th></tr></thead>\n",
       "<tbody>\n",
       "\t<tr><th scope=row>1</th><td>João                    </td><td>M                       </td><td>30                      </td><td>Engenharia Mecatrônica  </td><td>1.71                    </td><td>88.1                    </td><td>ABC                     </td><td>30.12893                </td></tr>\n",
       "\t<tr><th scope=row>3</th><td>Miguel                  </td><td>M                       </td><td>22                      </td><td>Engenharia de Computação</td><td>1.82                    </td><td>72.6                    </td><td>Alecrim                 </td><td>21.91764                </td></tr>\n",
       "</tbody>\n",
       "</table>\n"
      ],
      "text/latex": [
       "\\begin{tabular}{r|llllllll}\n",
       "  & nome & sexo & idade & curso & altura & peso & clube & IMC\\\\\n",
       "\\hline\n",
       "\t1 & João                     & M                        & 30                       & Engenharia Mecatrônica   & 1.71                     & 88.1                     & ABC                      & 30.12893                \\\\\n",
       "\t3 & Miguel                   & M                        & 22                       & Engenharia de Computação & 1.82                     & 72.6                     & Alecrim                  & 21.91764                \\\\\n",
       "\\end{tabular}\n"
      ],
      "text/markdown": [
       "\n",
       "| <!--/--> | nome | sexo | idade | curso | altura | peso | clube | IMC | \n",
       "|---|---|\n",
       "| 1 | João                     | M                        | 30                       | Engenharia Mecatrônica   | 1.71                     | 88.1                     | ABC                      | 30.12893                 | \n",
       "| 3 | Miguel                   | M                        | 22                       | Engenharia de Computação | 1.82                     | 72.6                     | Alecrim                  | 21.91764                 | \n",
       "\n",
       "\n"
      ],
      "text/plain": [
       "  nome   sexo idade curso                    altura peso clube   IMC     \n",
       "1 João   M    30    Engenharia Mecatrônica   1.71   88.1 ABC     30.12893\n",
       "3 Miguel M    22    Engenharia de Computação 1.82   72.6 Alecrim 21.91764"
      ]
     },
     "metadata": {},
     "output_type": "display_data"
    }
   ],
   "source": [
    "# Exemplo de Uso\n",
    "\n",
    "subset(alunos, sexo == \"M\" & altura >1.7 )"
   ]
  },
  {
   "cell_type": "code",
   "execution_count": 136,
   "metadata": {},
   "outputs": [
    {
     "data": {
      "text/html": [
       "<table>\n",
       "<thead><tr><th></th><th scope=col>nome</th><th scope=col>idade</th></tr></thead>\n",
       "<tbody>\n",
       "\t<tr><th scope=row>1</th><td>João  </td><td>30    </td></tr>\n",
       "\t<tr><th scope=row>3</th><td>Miguel</td><td>22    </td></tr>\n",
       "\t<tr><th scope=row>4</th><td>Ênio  </td><td>21    </td></tr>\n",
       "</tbody>\n",
       "</table>\n"
      ],
      "text/latex": [
       "\\begin{tabular}{r|ll}\n",
       "  & nome & idade\\\\\n",
       "\\hline\n",
       "\t1 & João   & 30    \\\\\n",
       "\t3 & Miguel & 22    \\\\\n",
       "\t4 & Ênio   & 21    \\\\\n",
       "\\end{tabular}\n"
      ],
      "text/markdown": [
       "\n",
       "| <!--/--> | nome | idade | \n",
       "|---|---|---|\n",
       "| 1 | João   | 30     | \n",
       "| 3 | Miguel | 22     | \n",
       "| 4 | Ênio   | 21     | \n",
       "\n",
       "\n"
      ],
      "text/plain": [
       "  nome   idade\n",
       "1 João   30   \n",
       "3 Miguel 22   \n",
       "4 Ênio   21   "
      ]
     },
     "metadata": {},
     "output_type": "display_data"
    }
   ],
   "source": [
    "# Exemplo de Uso\n",
    "# alunos[alunos$sexo == \"M\", c(\"nome\", \"idade\")]\n",
    "subset(alunos, sexo == \"M\", select = c(\"nome\", \"idade\"))"
   ]
  },
  {
   "cell_type": "markdown",
   "metadata": {},
   "source": [
    "#### Função with()\n",
    "- Função para facilitar operações com colunas.\n"
   ]
  },
  {
   "cell_type": "code",
   "execution_count": 137,
   "metadata": {},
   "outputs": [
    {
     "data": {
      "text/html": [
       "<table>\n",
       "<thead><tr><th scope=col>nome</th><th scope=col>sexo</th><th scope=col>idade</th><th scope=col>curso</th><th scope=col>altura</th><th scope=col>peso</th><th scope=col>clube</th><th scope=col>IMC</th></tr></thead>\n",
       "<tbody>\n",
       "\t<tr><td>João                    </td><td>M                       </td><td>30                      </td><td>Engenharia Mecatrônica  </td><td>1.71                    </td><td>88.1                    </td><td>ABC                     </td><td>30.12893                </td></tr>\n",
       "\t<tr><td>Clara                   </td><td>F                       </td><td>24                      </td><td>Engenharia de Computação</td><td>1.55                    </td><td>55.2                    </td><td>América                 </td><td>22.97607                </td></tr>\n",
       "\t<tr><td>Miguel                  </td><td>M                       </td><td>22                      </td><td>Engenharia de Computação</td><td>1.82                    </td><td>72.6                    </td><td>Alecrim                 </td><td>21.91764                </td></tr>\n",
       "\t<tr><td>Ênio                    </td><td>M                       </td><td>21                      </td><td>Engenharia Mecatrônica  </td><td>1.68                    </td><td>63.2                    </td><td>Tashima                 </td><td>22.39229                </td></tr>\n",
       "</tbody>\n",
       "</table>\n"
      ],
      "text/latex": [
       "\\begin{tabular}{r|llllllll}\n",
       " nome & sexo & idade & curso & altura & peso & clube & IMC\\\\\n",
       "\\hline\n",
       "\t João                     & M                        & 30                       & Engenharia Mecatrônica   & 1.71                     & 88.1                     & ABC                      & 30.12893                \\\\\n",
       "\t Clara                    & F                        & 24                       & Engenharia de Computação & 1.55                     & 55.2                     & América                  & 22.97607                \\\\\n",
       "\t Miguel                   & M                        & 22                       & Engenharia de Computação & 1.82                     & 72.6                     & Alecrim                  & 21.91764                \\\\\n",
       "\t Ênio                     & M                        & 21                       & Engenharia Mecatrônica   & 1.68                     & 63.2                     & Tashima                  & 22.39229                \\\\\n",
       "\\end{tabular}\n"
      ],
      "text/markdown": [
       "\n",
       "nome | sexo | idade | curso | altura | peso | clube | IMC | \n",
       "|---|---|---|---|\n",
       "| João                     | M                        | 30                       | Engenharia Mecatrônica   | 1.71                     | 88.1                     | ABC                      | 30.12893                 | \n",
       "| Clara                    | F                        | 24                       | Engenharia de Computação | 1.55                     | 55.2                     | América                  | 22.97607                 | \n",
       "| Miguel                   | M                        | 22                       | Engenharia de Computação | 1.82                     | 72.6                     | Alecrim                  | 21.91764                 | \n",
       "| Ênio                     | M                        | 21                       | Engenharia Mecatrônica   | 1.68                     | 63.2                     | Tashima                  | 22.39229                 | \n",
       "\n",
       "\n"
      ],
      "text/plain": [
       "  nome   sexo idade curso                    altura peso clube   IMC     \n",
       "1 João   M    30    Engenharia Mecatrônica   1.71   88.1 ABC     30.12893\n",
       "2 Clara  F    24    Engenharia de Computação 1.55   55.2 América 22.97607\n",
       "3 Miguel M    22    Engenharia de Computação 1.82   72.6 Alecrim 21.91764\n",
       "4 Ênio   M    21    Engenharia Mecatrônica   1.68   63.2 Tashima 22.39229"
      ]
     },
     "metadata": {},
     "output_type": "display_data"
    }
   ],
   "source": [
    "alunos"
   ]
  },
  {
   "cell_type": "code",
   "execution_count": 138,
   "metadata": {},
   "outputs": [
    {
     "data": {
      "text/html": [
       "<ol class=list-inline>\n",
       "\t<li>30.1289285592148</li>\n",
       "\t<li>22.9760665972945</li>\n",
       "\t<li>21.9176427967637</li>\n",
       "\t<li>22.3922902494331</li>\n",
       "</ol>\n"
      ],
      "text/latex": [
       "\\begin{enumerate*}\n",
       "\\item 30.1289285592148\n",
       "\\item 22.9760665972945\n",
       "\\item 21.9176427967637\n",
       "\\item 22.3922902494331\n",
       "\\end{enumerate*}\n"
      ],
      "text/markdown": [
       "1. 30.1289285592148\n",
       "2. 22.9760665972945\n",
       "3. 21.9176427967637\n",
       "4. 22.3922902494331\n",
       "\n",
       "\n"
      ],
      "text/plain": [
       "[1] 30.12893 22.97607 21.91764 22.39229"
      ]
     },
     "metadata": {},
     "output_type": "display_data"
    }
   ],
   "source": [
    "# Exemplo de uso\n",
    "\n",
    "with(alunos, peso/(altura*altura))\n"
   ]
  },
  {
   "cell_type": "code",
   "execution_count": 139,
   "metadata": {},
   "outputs": [
    {
     "data": {
      "text/html": [
       "<ol class=list-inline>\n",
       "\t<li>30</li>\n",
       "\t<li>22</li>\n",
       "\t<li>21</li>\n",
       "</ol>\n"
      ],
      "text/latex": [
       "\\begin{enumerate*}\n",
       "\\item 30\n",
       "\\item 22\n",
       "\\item 21\n",
       "\\end{enumerate*}\n"
      ],
      "text/markdown": [
       "1. 30\n",
       "2. 22\n",
       "3. 21\n",
       "\n",
       "\n"
      ],
      "text/plain": [
       "[1] 30 22 21"
      ]
     },
     "metadata": {},
     "output_type": "display_data"
    },
    {
     "data": {
      "text/html": [
       "<ol class=list-inline>\n",
       "\t<li>30</li>\n",
       "\t<li>22</li>\n",
       "\t<li>21</li>\n",
       "</ol>\n"
      ],
      "text/latex": [
       "\\begin{enumerate*}\n",
       "\\item 30\n",
       "\\item 22\n",
       "\\item 21\n",
       "\\end{enumerate*}\n"
      ],
      "text/markdown": [
       "1. 30\n",
       "2. 22\n",
       "3. 21\n",
       "\n",
       "\n"
      ],
      "text/plain": [
       "[1] 30 22 21"
      ]
     },
     "metadata": {},
     "output_type": "display_data"
    },
    {
     "data": {
      "text/html": [
       "<ol class=list-inline>\n",
       "\t<li>30</li>\n",
       "\t<li>22</li>\n",
       "\t<li>21</li>\n",
       "</ol>\n"
      ],
      "text/latex": [
       "\\begin{enumerate*}\n",
       "\\item 30\n",
       "\\item 22\n",
       "\\item 21\n",
       "\\end{enumerate*}\n"
      ],
      "text/markdown": [
       "1. 30\n",
       "2. 22\n",
       "3. 21\n",
       "\n",
       "\n"
      ],
      "text/plain": [
       "[1] 30 22 21"
      ]
     },
     "metadata": {},
     "output_type": "display_data"
    },
    {
     "data": {
      "text/html": [
       "<ol class=list-inline>\n",
       "\t<li>30</li>\n",
       "\t<li>22</li>\n",
       "\t<li>21</li>\n",
       "</ol>\n"
      ],
      "text/latex": [
       "\\begin{enumerate*}\n",
       "\\item 30\n",
       "\\item 22\n",
       "\\item 21\n",
       "\\end{enumerate*}\n"
      ],
      "text/markdown": [
       "1. 30\n",
       "2. 22\n",
       "3. 21\n",
       "\n",
       "\n"
      ],
      "text/plain": [
       "[1] 30 22 21"
      ]
     },
     "metadata": {},
     "output_type": "display_data"
    }
   ],
   "source": [
    "# Quatro formas de fazer a mesma coisa\n",
    "\n",
    "subset(alunos, sexo == \"M\", select = \"idade\", drop = TRUE)\n",
    "with(alunos, idade[sexo == \"M\"])\n",
    "alunos$idade[alunos$sexo == \"M\"]\n",
    "alunos[alunos$sexo == \"M\", \"idade\"]"
   ]
  },
  {
   "cell_type": "markdown",
   "metadata": {},
   "source": [
    "#### Funções sapply() e lapply()\n",
    "- As funções sapply( ) e lapply( ) aplicam uma função nas colunas de um data.frame.\n",
    "- A diferença é que lapply( ) sempre retorna uma lista."
   ]
  },
  {
   "cell_type": "code",
   "execution_count": 140,
   "metadata": {},
   "outputs": [
    {
     "data": {
      "text/html": [
       "<table>\n",
       "<thead><tr><th scope=col>nome</th><th scope=col>sexo</th><th scope=col>idade</th><th scope=col>curso</th><th scope=col>altura</th><th scope=col>peso</th><th scope=col>clube</th><th scope=col>IMC</th></tr></thead>\n",
       "<tbody>\n",
       "\t<tr><td>João                    </td><td>M                       </td><td>30                      </td><td>Engenharia Mecatrônica  </td><td>1.71                    </td><td>88.1                    </td><td>ABC                     </td><td>30.12893                </td></tr>\n",
       "\t<tr><td>Clara                   </td><td>F                       </td><td>24                      </td><td>Engenharia de Computação</td><td>1.55                    </td><td>55.2                    </td><td>América                 </td><td>22.97607                </td></tr>\n",
       "\t<tr><td>Miguel                  </td><td>M                       </td><td>22                      </td><td>Engenharia de Computação</td><td>1.82                    </td><td>72.6                    </td><td>Alecrim                 </td><td>21.91764                </td></tr>\n",
       "\t<tr><td>Ênio                    </td><td>M                       </td><td>21                      </td><td>Engenharia Mecatrônica  </td><td>1.68                    </td><td>63.2                    </td><td>Tashima                 </td><td>22.39229                </td></tr>\n",
       "</tbody>\n",
       "</table>\n"
      ],
      "text/latex": [
       "\\begin{tabular}{r|llllllll}\n",
       " nome & sexo & idade & curso & altura & peso & clube & IMC\\\\\n",
       "\\hline\n",
       "\t João                     & M                        & 30                       & Engenharia Mecatrônica   & 1.71                     & 88.1                     & ABC                      & 30.12893                \\\\\n",
       "\t Clara                    & F                        & 24                       & Engenharia de Computação & 1.55                     & 55.2                     & América                  & 22.97607                \\\\\n",
       "\t Miguel                   & M                        & 22                       & Engenharia de Computação & 1.82                     & 72.6                     & Alecrim                  & 21.91764                \\\\\n",
       "\t Ênio                     & M                        & 21                       & Engenharia Mecatrônica   & 1.68                     & 63.2                     & Tashima                  & 22.39229                \\\\\n",
       "\\end{tabular}\n"
      ],
      "text/markdown": [
       "\n",
       "nome | sexo | idade | curso | altura | peso | clube | IMC | \n",
       "|---|---|---|---|\n",
       "| João                     | M                        | 30                       | Engenharia Mecatrônica   | 1.71                     | 88.1                     | ABC                      | 30.12893                 | \n",
       "| Clara                    | F                        | 24                       | Engenharia de Computação | 1.55                     | 55.2                     | América                  | 22.97607                 | \n",
       "| Miguel                   | M                        | 22                       | Engenharia de Computação | 1.82                     | 72.6                     | Alecrim                  | 21.91764                 | \n",
       "| Ênio                     | M                        | 21                       | Engenharia Mecatrônica   | 1.68                     | 63.2                     | Tashima                  | 22.39229                 | \n",
       "\n",
       "\n"
      ],
      "text/plain": [
       "  nome   sexo idade curso                    altura peso clube   IMC     \n",
       "1 João   M    30    Engenharia Mecatrônica   1.71   88.1 ABC     30.12893\n",
       "2 Clara  F    24    Engenharia de Computação 1.55   55.2 América 22.97607\n",
       "3 Miguel M    22    Engenharia de Computação 1.82   72.6 Alecrim 21.91764\n",
       "4 Ênio   M    21    Engenharia Mecatrônica   1.68   63.2 Tashima 22.39229"
      ]
     },
     "metadata": {},
     "output_type": "display_data"
    }
   ],
   "source": [
    "alunos"
   ]
  },
  {
   "cell_type": "code",
   "execution_count": 143,
   "metadata": {},
   "outputs": [
    {
     "data": {
      "text/html": [
       "<dl class=dl-horizontal>\n",
       "\t<dt>altura</dt>\n",
       "\t\t<dd>1.69</dd>\n",
       "\t<dt>peso</dt>\n",
       "\t\t<dd>69.775</dd>\n",
       "</dl>\n"
      ],
      "text/latex": [
       "\\begin{description*}\n",
       "\\item[altura] 1.69\n",
       "\\item[peso] 69.775\n",
       "\\end{description*}\n"
      ],
      "text/markdown": [
       "altura\n",
       ":   1.69peso\n",
       ":   69.775\n",
       "\n"
      ],
      "text/plain": [
       "altura   peso \n",
       " 1.690 69.775 "
      ]
     },
     "metadata": {},
     "output_type": "display_data"
    },
    {
     "data": {
      "text/html": [
       "<dl>\n",
       "\t<dt>$altura</dt>\n",
       "\t\t<dd>1.69</dd>\n",
       "\t<dt>$peso</dt>\n",
       "\t\t<dd>69.775</dd>\n",
       "</dl>\n"
      ],
      "text/latex": [
       "\\begin{description}\n",
       "\\item[\\$altura] 1.69\n",
       "\\item[\\$peso] 69.775\n",
       "\\end{description}\n"
      ],
      "text/markdown": [
       "$altura\n",
       ":   1.69\n",
       "$peso\n",
       ":   69.775\n",
       "\n",
       "\n"
      ],
      "text/plain": [
       "$altura\n",
       "[1] 1.69\n",
       "\n",
       "$peso\n",
       "[1] 69.775\n"
      ]
     },
     "metadata": {},
     "output_type": "display_data"
    }
   ],
   "source": [
    "# Aploca a função mean nas colunas altura e peso\n",
    "sapply(alunos[5:6], mean)\n",
    "\n",
    "lapply(alunos[5:6], mean)"
   ]
  },
  {
   "cell_type": "markdown",
   "metadata": {},
   "source": [
    "#### Função Filter()\n",
    "- FIltra  apenas aquelas colunas de determinada classe (ou que satisfaçam determinada condição)."
   ]
  },
  {
   "cell_type": "code",
   "execution_count": 144,
   "metadata": {},
   "outputs": [
    {
     "data": {
      "text/html": [
       "<table>\n",
       "<thead><tr><th scope=col>idade</th><th scope=col>altura</th><th scope=col>peso</th><th scope=col>IMC</th></tr></thead>\n",
       "<tbody>\n",
       "\t<tr><td>30      </td><td>1.71    </td><td>88.1    </td><td>30.12893</td></tr>\n",
       "\t<tr><td>24      </td><td>1.55    </td><td>55.2    </td><td>22.97607</td></tr>\n",
       "\t<tr><td>22      </td><td>1.82    </td><td>72.6    </td><td>21.91764</td></tr>\n",
       "\t<tr><td>21      </td><td>1.68    </td><td>63.2    </td><td>22.39229</td></tr>\n",
       "</tbody>\n",
       "</table>\n"
      ],
      "text/latex": [
       "\\begin{tabular}{r|llll}\n",
       " idade & altura & peso & IMC\\\\\n",
       "\\hline\n",
       "\t 30       & 1.71     & 88.1     & 30.12893\\\\\n",
       "\t 24       & 1.55     & 55.2     & 22.97607\\\\\n",
       "\t 22       & 1.82     & 72.6     & 21.91764\\\\\n",
       "\t 21       & 1.68     & 63.2     & 22.39229\\\\\n",
       "\\end{tabular}\n"
      ],
      "text/markdown": [
       "\n",
       "idade | altura | peso | IMC | \n",
       "|---|---|---|---|\n",
       "| 30       | 1.71     | 88.1     | 30.12893 | \n",
       "| 24       | 1.55     | 55.2     | 22.97607 | \n",
       "| 22       | 1.82     | 72.6     | 21.91764 | \n",
       "| 21       | 1.68     | 63.2     | 22.39229 | \n",
       "\n",
       "\n"
      ],
      "text/plain": [
       "  idade altura peso IMC     \n",
       "1 30    1.71   88.1 30.12893\n",
       "2 24    1.55   55.2 22.97607\n",
       "3 22    1.82   72.6 21.91764\n",
       "4 21    1.68   63.2 22.39229"
      ]
     },
     "metadata": {},
     "output_type": "display_data"
    }
   ],
   "source": [
    "# seleciona apenas colunas numéricas\n",
    "Filter(is.numeric, alunos)"
   ]
  },
  {
   "cell_type": "code",
   "execution_count": 145,
   "metadata": {},
   "outputs": [
    {
     "data": {
      "text/html": [
       "<table>\n",
       "<thead><tr><th scope=col>nome</th><th scope=col>sexo</th><th scope=col>curso</th><th scope=col>clube</th></tr></thead>\n",
       "<tbody>\n",
       "\t<tr><td>João                    </td><td>M                       </td><td>Engenharia Mecatrônica  </td><td>ABC                     </td></tr>\n",
       "\t<tr><td>Clara                   </td><td>F                       </td><td>Engenharia de Computação</td><td>América                 </td></tr>\n",
       "\t<tr><td>Miguel                  </td><td>M                       </td><td>Engenharia de Computação</td><td>Alecrim                 </td></tr>\n",
       "\t<tr><td>Ênio                    </td><td>M                       </td><td>Engenharia Mecatrônica  </td><td>Tashima                 </td></tr>\n",
       "</tbody>\n",
       "</table>\n"
      ],
      "text/latex": [
       "\\begin{tabular}{r|llll}\n",
       " nome & sexo & curso & clube\\\\\n",
       "\\hline\n",
       "\t João                     & M                        & Engenharia Mecatrônica   & ABC                     \\\\\n",
       "\t Clara                    & F                        & Engenharia de Computação & América                 \\\\\n",
       "\t Miguel                   & M                        & Engenharia de Computação & Alecrim                 \\\\\n",
       "\t Ênio                     & M                        & Engenharia Mecatrônica   & Tashima                 \\\\\n",
       "\\end{tabular}\n"
      ],
      "text/markdown": [
       "\n",
       "nome | sexo | curso | clube | \n",
       "|---|---|---|---|\n",
       "| João                     | M                        | Engenharia Mecatrônica   | ABC                      | \n",
       "| Clara                    | F                        | Engenharia de Computação | América                  | \n",
       "| Miguel                   | M                        | Engenharia de Computação | Alecrim                  | \n",
       "| Ênio                     | M                        | Engenharia Mecatrônica   | Tashima                  | \n",
       "\n",
       "\n"
      ],
      "text/plain": [
       "  nome   sexo curso                    clube  \n",
       "1 João   M    Engenharia Mecatrônica   ABC    \n",
       "2 Clara  F    Engenharia de Computação América\n",
       "3 Miguel M    Engenharia de Computação Alecrim\n",
       "4 Ênio   M    Engenharia Mecatrônica   Tashima"
      ]
     },
     "metadata": {},
     "output_type": "display_data"
    }
   ],
   "source": [
    "# seleciona apenas colunas de texto\n",
    "Filter(is.character, alunos)"
   ]
  },
  {
   "cell_type": "code",
   "execution_count": 146,
   "metadata": {},
   "outputs": [
    {
     "data": {
      "text/html": [
       "<dl class=dl-horizontal>\n",
       "\t<dt>idade</dt>\n",
       "\t\t<dd>24.25</dd>\n",
       "\t<dt>altura</dt>\n",
       "\t\t<dd>1.69</dd>\n",
       "\t<dt>peso</dt>\n",
       "\t\t<dd>69.775</dd>\n",
       "\t<dt>IMC</dt>\n",
       "\t\t<dd>24.3537320506765</dd>\n",
       "</dl>\n"
      ],
      "text/latex": [
       "\\begin{description*}\n",
       "\\item[idade] 24.25\n",
       "\\item[altura] 1.69\n",
       "\\item[peso] 69.775\n",
       "\\item[IMC] 24.3537320506765\n",
       "\\end{description*}\n"
      ],
      "text/markdown": [
       "idade\n",
       ":   24.25altura\n",
       ":   1.69peso\n",
       ":   69.775IMC\n",
       ":   24.3537320506765\n",
       "\n"
      ],
      "text/plain": [
       "   idade   altura     peso      IMC \n",
       "24.25000  1.69000 69.77500 24.35373 "
      ]
     },
     "metadata": {},
     "output_type": "display_data"
    }
   ],
   "source": [
    "# aplica a média apenas para variáveis numéricas\n",
    "sapply(Filter(is.numeric, alunos), mean)"
   ]
  },
  {
   "cell_type": "markdown",
   "metadata": {},
   "source": [
    "#### Exercício: Obtenha os maiores valores de idade, altura e peso dos alunos\n"
   ]
  },
  {
   "cell_type": "code",
   "execution_count": 157,
   "metadata": {},
   "outputs": [
    {
     "data": {
      "text/html": [
       "<table>\n",
       "<thead><tr><th scope=col>nome</th><th scope=col>sexo</th><th scope=col>idade</th><th scope=col>curso</th><th scope=col>altura</th><th scope=col>peso</th><th scope=col>clube</th><th scope=col>IMC</th></tr></thead>\n",
       "<tbody>\n",
       "\t<tr><td>João                    </td><td>M                       </td><td>30                      </td><td>Engenharia Mecatrônica  </td><td>1.71                    </td><td>88.1                    </td><td>ABC                     </td><td>30.12893                </td></tr>\n",
       "\t<tr><td>Clara                   </td><td>F                       </td><td>24                      </td><td>Engenharia de Computação</td><td>1.55                    </td><td>55.2                    </td><td>América                 </td><td>22.97607                </td></tr>\n",
       "\t<tr><td>Miguel                  </td><td>M                       </td><td>22                      </td><td>Engenharia de Computação</td><td>1.82                    </td><td>72.6                    </td><td>Alecrim                 </td><td>21.91764                </td></tr>\n",
       "\t<tr><td>Ênio                    </td><td>M                       </td><td>21                      </td><td>Engenharia Mecatrônica  </td><td>1.68                    </td><td>63.2                    </td><td>Tashima                 </td><td>22.39229                </td></tr>\n",
       "</tbody>\n",
       "</table>\n"
      ],
      "text/latex": [
       "\\begin{tabular}{r|llllllll}\n",
       " nome & sexo & idade & curso & altura & peso & clube & IMC\\\\\n",
       "\\hline\n",
       "\t João                     & M                        & 30                       & Engenharia Mecatrônica   & 1.71                     & 88.1                     & ABC                      & 30.12893                \\\\\n",
       "\t Clara                    & F                        & 24                       & Engenharia de Computação & 1.55                     & 55.2                     & América                  & 22.97607                \\\\\n",
       "\t Miguel                   & M                        & 22                       & Engenharia de Computação & 1.82                     & 72.6                     & Alecrim                  & 21.91764                \\\\\n",
       "\t Ênio                     & M                        & 21                       & Engenharia Mecatrônica   & 1.68                     & 63.2                     & Tashima                  & 22.39229                \\\\\n",
       "\\end{tabular}\n"
      ],
      "text/markdown": [
       "\n",
       "nome | sexo | idade | curso | altura | peso | clube | IMC | \n",
       "|---|---|---|---|\n",
       "| João                     | M                        | 30                       | Engenharia Mecatrônica   | 1.71                     | 88.1                     | ABC                      | 30.12893                 | \n",
       "| Clara                    | F                        | 24                       | Engenharia de Computação | 1.55                     | 55.2                     | América                  | 22.97607                 | \n",
       "| Miguel                   | M                        | 22                       | Engenharia de Computação | 1.82                     | 72.6                     | Alecrim                  | 21.91764                 | \n",
       "| Ênio                     | M                        | 21                       | Engenharia Mecatrônica   | 1.68                     | 63.2                     | Tashima                  | 22.39229                 | \n",
       "\n",
       "\n"
      ],
      "text/plain": [
       "  nome   sexo idade curso                    altura peso clube   IMC     \n",
       "1 João   M    30    Engenharia Mecatrônica   1.71   88.1 ABC     30.12893\n",
       "2 Clara  F    24    Engenharia de Computação 1.55   55.2 América 22.97607\n",
       "3 Miguel M    22    Engenharia de Computação 1.82   72.6 Alecrim 21.91764\n",
       "4 Ênio   M    21    Engenharia Mecatrônica   1.68   63.2 Tashima 22.39229"
      ]
     },
     "metadata": {},
     "output_type": "display_data"
    },
    {
     "data": {
      "text/html": [
       "<dl>\n",
       "\t<dt>$idade</dt>\n",
       "\t\t<dd>30</dd>\n",
       "\t<dt>$altura</dt>\n",
       "\t\t<dd>1.82</dd>\n",
       "\t<dt>$peso</dt>\n",
       "\t\t<dd>88.1</dd>\n",
       "</dl>\n"
      ],
      "text/latex": [
       "\\begin{description}\n",
       "\\item[\\$idade] 30\n",
       "\\item[\\$altura] 1.82\n",
       "\\item[\\$peso] 88.1\n",
       "\\end{description}\n"
      ],
      "text/markdown": [
       "$idade\n",
       ":   30\n",
       "$altura\n",
       ":   1.82\n",
       "$peso\n",
       ":   88.1\n",
       "\n",
       "\n"
      ],
      "text/plain": [
       "$idade\n",
       "[1] 30\n",
       "\n",
       "$altura\n",
       "[1] 1.82\n",
       "\n",
       "$peso\n",
       "[1] 88.1\n"
      ]
     },
     "metadata": {},
     "output_type": "display_data"
    }
   ],
   "source": [
    "# Exercício - resolução\n",
    "alunos\n",
    "\n",
    "lapply(Filter(is.numeric,alunos[3:6]),max)\n"
   ]
  },
  {
   "cell_type": "markdown",
   "metadata": {},
   "source": [
    "#### Função sort( )\n",
    "    - Este comendo faz uma classificação (crescente ou decrescente) de um vetor.\n",
    "    - sintaxe --> sort(x, decreasing = FALSE, ...)\n",
    "        - onde x é o vetor a ser classificado, decreasing = false define que a classificação será em ordem crescente e ... significa que outros argumentos podem ser incrementados. \n",
    "        - Por exemplo: na.last = NA significa que valores que não foram definidos não vão ser listados. \n",
    "        - Outras opções seriam na.last = TRUE (os valores faltantes ficariam após o último valor classificado) e na.last=FALSE  (os valores faltantes ficariam antes do primeiro valor classificado)."
   ]
  },
  {
   "cell_type": "code",
   "execution_count": 158,
   "metadata": {},
   "outputs": [
    {
     "data": {
      "text/html": [
       "<ol class=list-inline>\n",
       "\t<li>-5</li>\n",
       "\t<li>-2</li>\n",
       "\t<li>0</li>\n",
       "\t<li>3</li>\n",
       "\t<li>4</li>\n",
       "\t<li>10</li>\n",
       "\t<li>30</li>\n",
       "</ol>\n"
      ],
      "text/latex": [
       "\\begin{enumerate*}\n",
       "\\item -5\n",
       "\\item -2\n",
       "\\item 0\n",
       "\\item 3\n",
       "\\item 4\n",
       "\\item 10\n",
       "\\item 30\n",
       "\\end{enumerate*}\n"
      ],
      "text/markdown": [
       "1. -5\n",
       "2. -2\n",
       "3. 0\n",
       "4. 3\n",
       "5. 4\n",
       "6. 10\n",
       "7. 30\n",
       "\n",
       "\n"
      ],
      "text/plain": [
       "[1] -5 -2  0  3  4 10 30"
      ]
     },
     "metadata": {},
     "output_type": "display_data"
    },
    {
     "data": {
      "text/html": [
       "<ol class=list-inline>\n",
       "\t<li>30</li>\n",
       "\t<li>10</li>\n",
       "\t<li>4</li>\n",
       "\t<li>3</li>\n",
       "\t<li>0</li>\n",
       "\t<li>-2</li>\n",
       "\t<li>-5</li>\n",
       "\t<li>&lt;NA&gt;</li>\n",
       "\t<li>&lt;NA&gt;</li>\n",
       "</ol>\n"
      ],
      "text/latex": [
       "\\begin{enumerate*}\n",
       "\\item 30\n",
       "\\item 10\n",
       "\\item 4\n",
       "\\item 3\n",
       "\\item 0\n",
       "\\item -2\n",
       "\\item -5\n",
       "\\item <NA>\n",
       "\\item <NA>\n",
       "\\end{enumerate*}\n"
      ],
      "text/markdown": [
       "1. 30\n",
       "2. 10\n",
       "3. 4\n",
       "4. 3\n",
       "5. 0\n",
       "6. -2\n",
       "7. -5\n",
       "8. &lt;NA&gt;\n",
       "9. &lt;NA&gt;\n",
       "\n",
       "\n"
      ],
      "text/plain": [
       "[1] 30 10  4  3  0 -2 -5 NA NA"
      ]
     },
     "metadata": {},
     "output_type": "display_data"
    }
   ],
   "source": [
    "amostra <- c(4, 10, 3, -2, NA, 0, NA, 30, -5)\n",
    "sort(amostra)   #É a classificação simples com os argumentos com seus valores padrões\n",
    "sort(amostra, decreasing=TRUE, na.last=TRUE)  # ordenar de forma decrescente e comocar os NA no final"
   ]
  },
  {
   "cell_type": "markdown",
   "metadata": {},
   "source": [
    "#### Função order()\n",
    "    - A função faz uma permutação que rearranja os valores em ordem crescente ou decrescente.\n",
    "    - A sintaxe da função order é:\n",
    "        - order(..., na.last = TRUE, decreasing = FALSE)"
   ]
  },
  {
   "cell_type": "code",
   "execution_count": 159,
   "metadata": {},
   "outputs": [
    {
     "data": {
      "text/html": [
       "<ol class=list-inline>\n",
       "\t<li>'g'</li>\n",
       "\t<li>'a'</li>\n",
       "\t<li>'z'</li>\n",
       "\t<li>'c'</li>\n",
       "</ol>\n"
      ],
      "text/latex": [
       "\\begin{enumerate*}\n",
       "\\item 'g'\n",
       "\\item 'a'\n",
       "\\item 'z'\n",
       "\\item 'c'\n",
       "\\end{enumerate*}\n"
      ],
      "text/markdown": [
       "1. 'g'\n",
       "2. 'a'\n",
       "3. 'z'\n",
       "4. 'c'\n",
       "\n",
       "\n"
      ],
      "text/plain": [
       "[1] \"g\" \"a\" \"z\" \"c\""
      ]
     },
     "metadata": {},
     "output_type": "display_data"
    },
    {
     "data": {
      "text/html": [
       "<ol class=list-inline>\n",
       "\t<li>2</li>\n",
       "\t<li>4</li>\n",
       "\t<li>1</li>\n",
       "\t<li>3</li>\n",
       "</ol>\n"
      ],
      "text/latex": [
       "\\begin{enumerate*}\n",
       "\\item 2\n",
       "\\item 4\n",
       "\\item 1\n",
       "\\item 3\n",
       "\\end{enumerate*}\n"
      ],
      "text/markdown": [
       "1. 2\n",
       "2. 4\n",
       "3. 1\n",
       "4. 3\n",
       "\n",
       "\n"
      ],
      "text/plain": [
       "[1] 2 4 1 3"
      ]
     },
     "metadata": {},
     "output_type": "display_data"
    },
    {
     "data": {
      "text/html": [
       "<ol class=list-inline>\n",
       "\t<li>'a'</li>\n",
       "\t<li>'c'</li>\n",
       "\t<li>'g'</li>\n",
       "\t<li>'z'</li>\n",
       "</ol>\n"
      ],
      "text/latex": [
       "\\begin{enumerate*}\n",
       "\\item 'a'\n",
       "\\item 'c'\n",
       "\\item 'g'\n",
       "\\item 'z'\n",
       "\\end{enumerate*}\n"
      ],
      "text/markdown": [
       "1. 'a'\n",
       "2. 'c'\n",
       "3. 'g'\n",
       "4. 'z'\n",
       "\n",
       "\n"
      ],
      "text/plain": [
       "[1] \"a\" \"c\" \"g\" \"z\""
      ]
     },
     "metadata": {},
     "output_type": "display_data"
    },
    {
     "data": {
      "text/html": [
       "<ol class=list-inline>\n",
       "\t<li>'a'</li>\n",
       "\t<li>'c'</li>\n",
       "\t<li>'g'</li>\n",
       "\t<li>'z'</li>\n",
       "</ol>\n"
      ],
      "text/latex": [
       "\\begin{enumerate*}\n",
       "\\item 'a'\n",
       "\\item 'c'\n",
       "\\item 'g'\n",
       "\\item 'z'\n",
       "\\end{enumerate*}\n"
      ],
      "text/markdown": [
       "1. 'a'\n",
       "2. 'c'\n",
       "3. 'g'\n",
       "4. 'z'\n",
       "\n",
       "\n"
      ],
      "text/plain": [
       "[1] \"a\" \"c\" \"g\" \"z\""
      ]
     },
     "metadata": {},
     "output_type": "display_data"
    }
   ],
   "source": [
    "# exemplo de uso da função order()\n",
    "letras <-c('g', 'a', 'z', 'c')\n",
    "a <- order(letras)\n",
    "b <- sort(letras)\n",
    "c <- letras[order(letras)]\n",
    "letras\n",
    "a\n",
    "b\n",
    "c"
   ]
  },
  {
   "cell_type": "markdown",
   "metadata": {},
   "source": [
    "- Mais exemplos com a função order()."
   ]
  },
  {
   "cell_type": "code",
   "execution_count": 160,
   "metadata": {},
   "outputs": [
    {
     "data": {
      "text/html": [
       "<table>\n",
       "<thead><tr><th scope=col>w</th><th scope=col>x</th><th scope=col>y</th><th scope=col>z</th></tr></thead>\n",
       "<tbody>\n",
       "\t<tr><td>A          </td><td>D          </td><td>-0.19599486</td><td>0.0649673  </td></tr>\n",
       "\t<tr><td>B          </td><td>C          </td><td> 0.02078654</td><td>0.8271571  </td></tr>\n",
       "\t<tr><td>A          </td><td>D          </td><td> 1.25574295</td><td>1.0892108  </td></tr>\n",
       "\t<tr><td>B          </td><td>C          </td><td>-0.98491369</td><td>0.7210677  </td></tr>\n",
       "</tbody>\n",
       "</table>\n"
      ],
      "text/latex": [
       "\\begin{tabular}{r|llll}\n",
       " w & x & y & z\\\\\n",
       "\\hline\n",
       "\t A           & D           & -0.19599486 & 0.0649673  \\\\\n",
       "\t B           & C           &  0.02078654 & 0.8271571  \\\\\n",
       "\t A           & D           &  1.25574295 & 1.0892108  \\\\\n",
       "\t B           & C           & -0.98491369 & 0.7210677  \\\\\n",
       "\\end{tabular}\n"
      ],
      "text/markdown": [
       "\n",
       "w | x | y | z | \n",
       "|---|---|---|---|\n",
       "| A           | D           | -0.19599486 | 0.0649673   | \n",
       "| B           | C           |  0.02078654 | 0.8271571   | \n",
       "| A           | D           |  1.25574295 | 1.0892108   | \n",
       "| B           | C           | -0.98491369 | 0.7210677   | \n",
       "\n",
       "\n"
      ],
      "text/plain": [
       "  w x y           z        \n",
       "1 A D -0.19599486 0.0649673\n",
       "2 B C  0.02078654 0.8271571\n",
       "3 A D  1.25574295 1.0892108\n",
       "4 B C -0.98491369 0.7210677"
      ]
     },
     "metadata": {},
     "output_type": "display_data"
    }
   ],
   "source": [
    "#set.seed(1)\n",
    "dados <- data.frame(w=rep(c(\"A\", \"B\"), 2), x= rep(c(\"D\", \"C\"), 2), y= rnorm(4), z=rnorm(4),\n",
    "                    stringsAsFactors=FALSE)\n",
    "dados"
   ]
  },
  {
   "cell_type": "code",
   "execution_count": 161,
   "metadata": {},
   "outputs": [
    {
     "data": {
      "text/html": [
       "<table>\n",
       "<thead><tr><th></th><th scope=col>w</th><th scope=col>x</th><th scope=col>y</th><th scope=col>z</th></tr></thead>\n",
       "<tbody>\n",
       "\t<tr><th scope=row>2</th><td>B          </td><td>C          </td><td> 0.02078654</td><td>0.8271571  </td></tr>\n",
       "\t<tr><th scope=row>4</th><td>B          </td><td>C          </td><td>-0.98491369</td><td>0.7210677  </td></tr>\n",
       "\t<tr><th scope=row>3</th><td>A          </td><td>D          </td><td> 1.25574295</td><td>1.0892108  </td></tr>\n",
       "\t<tr><th scope=row>1</th><td>A          </td><td>D          </td><td>-0.19599486</td><td>0.0649673  </td></tr>\n",
       "</tbody>\n",
       "</table>\n"
      ],
      "text/latex": [
       "\\begin{tabular}{r|llll}\n",
       "  & w & x & y & z\\\\\n",
       "\\hline\n",
       "\t2 & B           & C           &  0.02078654 & 0.8271571  \\\\\n",
       "\t4 & B           & C           & -0.98491369 & 0.7210677  \\\\\n",
       "\t3 & A           & D           &  1.25574295 & 1.0892108  \\\\\n",
       "\t1 & A           & D           & -0.19599486 & 0.0649673  \\\\\n",
       "\\end{tabular}\n"
      ],
      "text/markdown": [
       "\n",
       "| <!--/--> | w | x | y | z | \n",
       "|---|---|---|---|\n",
       "| 2 | B           | C           |  0.02078654 | 0.8271571   | \n",
       "| 4 | B           | C           | -0.98491369 | 0.7210677   | \n",
       "| 3 | A           | D           |  1.25574295 | 1.0892108   | \n",
       "| 1 | A           | D           | -0.19599486 | 0.0649673   | \n",
       "\n",
       "\n"
      ],
      "text/plain": [
       "  w x y           z        \n",
       "2 B C  0.02078654 0.8271571\n",
       "4 B C -0.98491369 0.7210677\n",
       "3 A D  1.25574295 1.0892108\n",
       "1 A D -0.19599486 0.0649673"
      ]
     },
     "metadata": {},
     "output_type": "display_data"
    }
   ],
   "source": [
    "# Solução 1\n",
    "# No caso, ordena de acordo por w em ordem alfabética inversa, x em ordem alfabética e y em ordem decrescente. Se quiser que tudo seja na mesma ordem, basta um TRUE ou FALSE, que valerá para todos.\n",
    "\n",
    "dados[order(dados$w, dados$x, dados$y, decreasing=c(TRUE, FALSE, TRUE)), ] \n"
   ]
  },
  {
   "cell_type": "code",
   "execution_count": 162,
   "metadata": {},
   "outputs": [
    {
     "data": {
      "text/html": [
       "<table>\n",
       "<thead><tr><th></th><th scope=col>w</th><th scope=col>x</th><th scope=col>y</th><th scope=col>z</th></tr></thead>\n",
       "<tbody>\n",
       "\t<tr><th scope=row>3</th><td>A          </td><td>D          </td><td> 1.25574295</td><td>1.0892108  </td></tr>\n",
       "\t<tr><th scope=row>2</th><td>B          </td><td>C          </td><td> 0.02078654</td><td>0.8271571  </td></tr>\n",
       "\t<tr><th scope=row>4</th><td>B          </td><td>C          </td><td>-0.98491369</td><td>0.7210677  </td></tr>\n",
       "\t<tr><th scope=row>1</th><td>A          </td><td>D          </td><td>-0.19599486</td><td>0.0649673  </td></tr>\n",
       "</tbody>\n",
       "</table>\n"
      ],
      "text/latex": [
       "\\begin{tabular}{r|llll}\n",
       "  & w & x & y & z\\\\\n",
       "\\hline\n",
       "\t3 & A           & D           &  1.25574295 & 1.0892108  \\\\\n",
       "\t2 & B           & C           &  0.02078654 & 0.8271571  \\\\\n",
       "\t4 & B           & C           & -0.98491369 & 0.7210677  \\\\\n",
       "\t1 & A           & D           & -0.19599486 & 0.0649673  \\\\\n",
       "\\end{tabular}\n"
      ],
      "text/markdown": [
       "\n",
       "| <!--/--> | w | x | y | z | \n",
       "|---|---|---|---|\n",
       "| 3 | A           | D           |  1.25574295 | 1.0892108   | \n",
       "| 2 | B           | C           |  0.02078654 | 0.8271571   | \n",
       "| 4 | B           | C           | -0.98491369 | 0.7210677   | \n",
       "| 1 | A           | D           | -0.19599486 | 0.0649673   | \n",
       "\n",
       "\n"
      ],
      "text/plain": [
       "  w x y           z        \n",
       "3 A D  1.25574295 1.0892108\n",
       "2 B C  0.02078654 0.8271571\n",
       "4 B C -0.98491369 0.7210677\n",
       "1 A D -0.19599486 0.0649673"
      ]
     },
     "metadata": {},
     "output_type": "display_data"
    }
   ],
   "source": [
    "# caso se queira ordenar apenas uma coluna\n",
    "\n",
    "dados[order(dados$z, decreasing=TRUE),]"
   ]
  },
  {
   "cell_type": "code",
   "execution_count": 163,
   "metadata": {},
   "outputs": [
    {
     "ename": "ERROR",
     "evalue": "Error in library(plyr): there is no package called ‘plyr’\n",
     "output_type": "error",
     "traceback": [
      "Error in library(plyr): there is no package called ‘plyr’\nTraceback:\n",
      "1. library(plyr)",
      "2. stop(txt, domain = NA)"
     ]
    }
   ],
   "source": [
    "# Usando o pacote plyr\n",
    "library(plyr)\n",
    "arrange(dados,desc(z))\n",
    " "
   ]
  },
  {
   "cell_type": "code",
   "execution_count": 164,
   "metadata": {},
   "outputs": [
    {
     "ename": "ERROR",
     "evalue": "Error in eval(expr, envir, enclos): não foi possível encontrar a função \"arrange\"\n",
     "output_type": "error",
     "traceback": [
      "Error in eval(expr, envir, enclos): não foi possível encontrar a função \"arrange\"\nTraceback:\n"
     ]
    }
   ],
   "source": [
    "# Usando a função arrange - o default é ordenar de forma crescente\n",
    "arrange(dados,desc(w),z)\n"
   ]
  },
  {
   "cell_type": "markdown",
   "metadata": {},
   "source": [
    "## 6. Controle de Fluxo em R\n",
    "\n",
    "- If\n",
    "- Loop while\n",
    "- Loop for\n"
   ]
  },
  {
   "cell_type": "markdown",
   "metadata": {},
   "source": [
    "### 6.1 Comando IF-ELSE:\n",
    "\n",
    "if (logic_condition) \n",
    "\n",
    " { \n",
    "   conjunto de comandos\n",
    " }  \n",
    "      \n",
    "else \n",
    " {\n",
    "  conjunto de comandos\n",
    " }"
   ]
  },
  {
   "cell_type": "code",
   "execution_count": null,
   "metadata": {
    "collapsed": true
   },
   "outputs": [],
   "source": [
    "# Variables related to your last day of recordings\n",
    "medium <- \"LinkedIn\"\n",
    "num_views <- 14\n",
    "\n",
    "# Control structure for medium\n",
    "if (medium == \"LinkedIn\") {\n",
    "  print(\"Showing LinkedIn information\")\n",
    "} else if (medium == \"Facebook\") {\n",
    "  # Add code to print correct string when condition is TRUE\n",
    "   print(\"Showing Facebook information\")\n",
    "} else {\n",
    "  print(\"Unknown medium\")\n",
    "}\n",
    "\n",
    "# Control structure for num_views\n",
    "if (num_views > 15) {\n",
    "  print(\"You're popular!\")\n",
    "} else if (num_views <= 15 & num_views > 10) {\n",
    "  # Add code to print correct string when condition is TRUE\n",
    "   print(\"Your number of views is average\")\n",
    "} else {\n",
    "  print(\"Try to be more visible!\")\n",
    "}"
   ]
  },
  {
   "cell_type": "markdown",
   "metadata": {},
   "source": [
    "### 6.2 Comando WHILE\n",
    "\n",
    "while (logic_condition)\n",
    "\n",
    " { \n",
    " \n",
    "   conjunto de comandos\n",
    "   \n",
    " }"
   ]
  },
  {
   "cell_type": "code",
   "execution_count": null,
   "metadata": {
    "collapsed": true
   },
   "outputs": [],
   "source": [
    "# Initialize the speed variable\n",
    "speed <- 64\n",
    "\n",
    "# Code the while loop\n",
    "while ( speed > 30) {\n",
    "  print(\"Slow down!\")\n",
    "  speed <- speed -7\n",
    "}\n",
    "\n",
    "# Print out the speed variable\n",
    "speed"
   ]
  },
  {
   "cell_type": "markdown",
   "metadata": {},
   "source": [
    "#### Exemplos com WHILE e IF"
   ]
  },
  {
   "cell_type": "code",
   "execution_count": null,
   "metadata": {
    "collapsed": true
   },
   "outputs": [],
   "source": [
    "# Initialize the speed variable\n",
    "speed <- 64\n",
    "\n",
    "# Extend/adapt the while loop\n",
    "while (speed > 30) {\n",
    "  print(paste(\"Your speed is\",speed))\n",
    "  if ( speed > 48) {\n",
    "    print(\"Slow down big time!\")\n",
    "    speed <- speed - 11\n",
    "    \n",
    "  } else {\n",
    "    \n",
    "    print(\"Slow down!\")\n",
    "    speed <- speed - 6\n",
    "  }\n",
    "}"
   ]
  },
  {
   "cell_type": "markdown",
   "metadata": {},
   "source": [
    "#### Exemplos com BREAK no loop"
   ]
  },
  {
   "cell_type": "code",
   "execution_count": null,
   "metadata": {
    "collapsed": true
   },
   "outputs": [],
   "source": [
    "# Initialize the speed variable\n",
    "speed <- 88\n",
    "\n",
    "while (speed > 30) {\n",
    "  print(paste(\"Your speed is\", speed))\n",
    "  \n",
    "  # Break the while loop when speed exceeds 80\n",
    "  if (speed > 80 ) {break\n",
    "    \n",
    "  }\n",
    "  \n",
    "  if (speed > 48) {\n",
    "    print(\"Slow down big time!\")\n",
    "    speed <- speed - 11\n",
    "  } else {\n",
    "    print(\"Slow down!\")\n",
    "    speed <- speed - 6\n",
    "  }\n",
    "}"
   ]
  },
  {
   "cell_type": "markdown",
   "metadata": {},
   "source": [
    "### 6.3 Comando FOR\n",
    "\n",
    "for(i in sequencia)\n",
    "\n",
    " { \n",
    "   \n",
    "   conjunto de comandos\n",
    "   \n",
    " }"
   ]
  },
  {
   "cell_type": "code",
   "execution_count": null,
   "metadata": {
    "collapsed": true
   },
   "outputs": [],
   "source": [
    "n1 <- 1\n",
    "n2 <- 6\n",
    "for(i in n1:n2){\n",
    "  print(i)\n",
    "}"
   ]
  },
  {
   "cell_type": "code",
   "execution_count": null,
   "metadata": {
    "collapsed": true
   },
   "outputs": [],
   "source": [
    "n <- 8\n",
    "for(letra in letters[1:n]){\n",
    "  print(letra)\n",
    "}"
   ]
  },
  {
   "cell_type": "markdown",
   "metadata": {},
   "source": [
    "## 7. Função em R\n",
    "\n",
    "- Em construção\n"
   ]
  },
  {
   "cell_type": "code",
   "execution_count": null,
   "metadata": {
    "collapsed": true
   },
   "outputs": [],
   "source": []
  }
 ],
 "metadata": {
  "kernelspec": {
   "display_name": "R",
   "language": "R",
   "name": "ir"
  },
  "language_info": {
   "codemirror_mode": "r",
   "file_extension": ".r",
   "mimetype": "text/x-r-source",
   "name": "R",
   "pygments_lexer": "r",
   "version": "3.2.3"
  }
 },
 "nbformat": 4,
 "nbformat_minor": 2
}
