{
 "cells": [
  {
   "cell_type": "markdown",
   "metadata": {},
   "source": [
    "# Introdução aos Modelos Estatísticos com R\n",
    "\n",
    "## Autor: Luiz Affonso Guedes \n",
    "Última atualização: abril de 2018\n",
    "## Obtetivo\n",
    "- Apresentar uma introdução à estatítica com suporte da linguagem R\n",
    "\n",
    "## Conteúdo\n",
    "- Revisão de R: manipular frames e arquivos\n",
    "- Como manipular um arquivo Excell em R\n",
    "- Funções de estatística básica em R\n",
    "- Gráficos estatísitcos básicos em R\n",
    "- Distribuições estatísticas discretas e contínuas (modelos) em R\n",
    "- Exercícios\n"
   ]
  },
  {
   "cell_type": "markdown",
   "metadata": {},
   "source": [
    "# Como carregar um dado já disponível\n",
    "- comando data(dado)"
   ]
  },
  {
   "cell_type": "code",
   "execution_count": 1,
   "metadata": {},
   "outputs": [
    {
     "data": {
      "text/html": [
       "<table>\n",
       "<thead><tr><th></th><th scope=col>mpg</th><th scope=col>cyl</th><th scope=col>disp</th><th scope=col>hp</th><th scope=col>drat</th><th scope=col>wt</th><th scope=col>qsec</th><th scope=col>vs</th><th scope=col>am</th><th scope=col>gear</th><th scope=col>carb</th></tr></thead>\n",
       "<tbody>\n",
       "\t<tr><th scope=row>Mazda RX4</th><td>21.0 </td><td>6    </td><td>160  </td><td>110  </td><td>3.90 </td><td>2.620</td><td>16.46</td><td>0    </td><td>1    </td><td>4    </td><td>4    </td></tr>\n",
       "\t<tr><th scope=row>Mazda RX4 Wag</th><td>21.0 </td><td>6    </td><td>160  </td><td>110  </td><td>3.90 </td><td>2.875</td><td>17.02</td><td>0    </td><td>1    </td><td>4    </td><td>4    </td></tr>\n",
       "\t<tr><th scope=row>Datsun 710</th><td>22.8 </td><td>4    </td><td>108  </td><td> 93  </td><td>3.85 </td><td>2.320</td><td>18.61</td><td>1    </td><td>1    </td><td>4    </td><td>1    </td></tr>\n",
       "\t<tr><th scope=row>Hornet 4 Drive</th><td>21.4 </td><td>6    </td><td>258  </td><td>110  </td><td>3.08 </td><td>3.215</td><td>19.44</td><td>1    </td><td>0    </td><td>3    </td><td>1    </td></tr>\n",
       "\t<tr><th scope=row>Hornet Sportabout</th><td>18.7 </td><td>8    </td><td>360  </td><td>175  </td><td>3.15 </td><td>3.440</td><td>17.02</td><td>0    </td><td>0    </td><td>3    </td><td>2    </td></tr>\n",
       "\t<tr><th scope=row>Valiant</th><td>18.1 </td><td>6    </td><td>225  </td><td>105  </td><td>2.76 </td><td>3.460</td><td>20.22</td><td>1    </td><td>0    </td><td>3    </td><td>1    </td></tr>\n",
       "</tbody>\n",
       "</table>\n"
      ],
      "text/latex": [
       "\\begin{tabular}{r|lllllllllll}\n",
       "  & mpg & cyl & disp & hp & drat & wt & qsec & vs & am & gear & carb\\\\\n",
       "\\hline\n",
       "\tMazda RX4 & 21.0  & 6     & 160   & 110   & 3.90  & 2.620 & 16.46 & 0     & 1     & 4     & 4    \\\\\n",
       "\tMazda RX4 Wag & 21.0  & 6     & 160   & 110   & 3.90  & 2.875 & 17.02 & 0     & 1     & 4     & 4    \\\\\n",
       "\tDatsun 710 & 22.8  & 4     & 108   &  93   & 3.85  & 2.320 & 18.61 & 1     & 1     & 4     & 1    \\\\\n",
       "\tHornet 4 Drive & 21.4  & 6     & 258   & 110   & 3.08  & 3.215 & 19.44 & 1     & 0     & 3     & 1    \\\\\n",
       "\tHornet Sportabout & 18.7  & 8     & 360   & 175   & 3.15  & 3.440 & 17.02 & 0     & 0     & 3     & 2    \\\\\n",
       "\tValiant & 18.1  & 6     & 225   & 105   & 2.76  & 3.460 & 20.22 & 1     & 0     & 3     & 1    \\\\\n",
       "\\end{tabular}\n"
      ],
      "text/markdown": [
       "\n",
       "| <!--/--> | mpg | cyl | disp | hp | drat | wt | qsec | vs | am | gear | carb | \n",
       "|---|---|---|---|---|---|\n",
       "| Mazda RX4 | 21.0  | 6     | 160   | 110   | 3.90  | 2.620 | 16.46 | 0     | 1     | 4     | 4     | \n",
       "| Mazda RX4 Wag | 21.0  | 6     | 160   | 110   | 3.90  | 2.875 | 17.02 | 0     | 1     | 4     | 4     | \n",
       "| Datsun 710 | 22.8  | 4     | 108   |  93   | 3.85  | 2.320 | 18.61 | 1     | 1     | 4     | 1     | \n",
       "| Hornet 4 Drive | 21.4  | 6     | 258   | 110   | 3.08  | 3.215 | 19.44 | 1     | 0     | 3     | 1     | \n",
       "| Hornet Sportabout | 18.7  | 8     | 360   | 175   | 3.15  | 3.440 | 17.02 | 0     | 0     | 3     | 2     | \n",
       "| Valiant | 18.1  | 6     | 225   | 105   | 2.76  | 3.460 | 20.22 | 1     | 0     | 3     | 1     | \n",
       "\n",
       "\n"
      ],
      "text/plain": [
       "                  mpg  cyl disp hp  drat wt    qsec  vs am gear carb\n",
       "Mazda RX4         21.0 6   160  110 3.90 2.620 16.46 0  1  4    4   \n",
       "Mazda RX4 Wag     21.0 6   160  110 3.90 2.875 17.02 0  1  4    4   \n",
       "Datsun 710        22.8 4   108   93 3.85 2.320 18.61 1  1  4    1   \n",
       "Hornet 4 Drive    21.4 6   258  110 3.08 3.215 19.44 1  0  3    1   \n",
       "Hornet Sportabout 18.7 8   360  175 3.15 3.440 17.02 0  0  3    2   \n",
       "Valiant           18.1 6   225  105 2.76 3.460 20.22 1  0  3    1   "
      ]
     },
     "metadata": {},
     "output_type": "display_data"
    }
   ],
   "source": [
    "data(mtcars)\n",
    "head(mtcars)"
   ]
  },
  {
   "cell_type": "code",
   "execution_count": 2,
   "metadata": {
    "scrolled": false
   },
   "outputs": [
    {
     "data": {
      "text/html": [
       "<table>\n",
       "<thead><tr><th scope=col>Ozone</th><th scope=col>Solar.R</th><th scope=col>Wind</th><th scope=col>Temp</th><th scope=col>Month</th><th scope=col>Day</th></tr></thead>\n",
       "<tbody>\n",
       "\t<tr><td> 41 </td><td>190 </td><td> 7.4</td><td>67  </td><td>5   </td><td> 1  </td></tr>\n",
       "\t<tr><td> 36 </td><td>118 </td><td> 8.0</td><td>72  </td><td>5   </td><td> 2  </td></tr>\n",
       "\t<tr><td> 12 </td><td>149 </td><td>12.6</td><td>74  </td><td>5   </td><td> 3  </td></tr>\n",
       "\t<tr><td> 18 </td><td>313 </td><td>11.5</td><td>62  </td><td>5   </td><td> 4  </td></tr>\n",
       "\t<tr><td> NA </td><td> NA </td><td>14.3</td><td>56  </td><td>5   </td><td> 5  </td></tr>\n",
       "\t<tr><td> 28 </td><td> NA </td><td>14.9</td><td>66  </td><td>5   </td><td> 6  </td></tr>\n",
       "\t<tr><td> 23 </td><td>299 </td><td> 8.6</td><td>65  </td><td>5   </td><td> 7  </td></tr>\n",
       "\t<tr><td> 19 </td><td> 99 </td><td>13.8</td><td>59  </td><td>5   </td><td> 8  </td></tr>\n",
       "\t<tr><td>  8 </td><td> 19 </td><td>20.1</td><td>61  </td><td>5   </td><td> 9  </td></tr>\n",
       "\t<tr><td> NA </td><td>194 </td><td> 8.6</td><td>69  </td><td>5   </td><td>10  </td></tr>\n",
       "\t<tr><td>  7 </td><td> NA </td><td> 6.9</td><td>74  </td><td>5   </td><td>11  </td></tr>\n",
       "\t<tr><td> 16 </td><td>256 </td><td> 9.7</td><td>69  </td><td>5   </td><td>12  </td></tr>\n",
       "\t<tr><td> 11 </td><td>290 </td><td> 9.2</td><td>66  </td><td>5   </td><td>13  </td></tr>\n",
       "\t<tr><td> 14 </td><td>274 </td><td>10.9</td><td>68  </td><td>5   </td><td>14  </td></tr>\n",
       "\t<tr><td> 18 </td><td> 65 </td><td>13.2</td><td>58  </td><td>5   </td><td>15  </td></tr>\n",
       "\t<tr><td> 14 </td><td>334 </td><td>11.5</td><td>64  </td><td>5   </td><td>16  </td></tr>\n",
       "\t<tr><td> 34 </td><td>307 </td><td>12.0</td><td>66  </td><td>5   </td><td>17  </td></tr>\n",
       "\t<tr><td>  6 </td><td> 78 </td><td>18.4</td><td>57  </td><td>5   </td><td>18  </td></tr>\n",
       "\t<tr><td> 30 </td><td>322 </td><td>11.5</td><td>68  </td><td>5   </td><td>19  </td></tr>\n",
       "\t<tr><td> 11 </td><td> 44 </td><td> 9.7</td><td>62  </td><td>5   </td><td>20  </td></tr>\n",
       "\t<tr><td>  1 </td><td>  8 </td><td> 9.7</td><td>59  </td><td>5   </td><td>21  </td></tr>\n",
       "\t<tr><td> 11 </td><td>320 </td><td>16.6</td><td>73  </td><td>5   </td><td>22  </td></tr>\n",
       "\t<tr><td>  4 </td><td> 25 </td><td> 9.7</td><td>61  </td><td>5   </td><td>23  </td></tr>\n",
       "\t<tr><td> 32 </td><td> 92 </td><td>12.0</td><td>61  </td><td>5   </td><td>24  </td></tr>\n",
       "\t<tr><td> NA </td><td> 66 </td><td>16.6</td><td>57  </td><td>5   </td><td>25  </td></tr>\n",
       "\t<tr><td> NA </td><td>266 </td><td>14.9</td><td>58  </td><td>5   </td><td>26  </td></tr>\n",
       "\t<tr><td> NA </td><td> NA </td><td> 8.0</td><td>57  </td><td>5   </td><td>27  </td></tr>\n",
       "\t<tr><td> 23 </td><td> 13 </td><td>12.0</td><td>67  </td><td>5   </td><td>28  </td></tr>\n",
       "\t<tr><td> 45 </td><td>252 </td><td>14.9</td><td>81  </td><td>5   </td><td>29  </td></tr>\n",
       "\t<tr><td>115 </td><td>223 </td><td> 5.7</td><td>79  </td><td>5   </td><td>30  </td></tr>\n",
       "\t<tr><td>⋮</td><td>⋮</td><td>⋮</td><td>⋮</td><td>⋮</td><td>⋮</td></tr>\n",
       "\t<tr><td>96  </td><td>167 </td><td> 6.9</td><td>91  </td><td>9   </td><td> 1  </td></tr>\n",
       "\t<tr><td>78  </td><td>197 </td><td> 5.1</td><td>92  </td><td>9   </td><td> 2  </td></tr>\n",
       "\t<tr><td>73  </td><td>183 </td><td> 2.8</td><td>93  </td><td>9   </td><td> 3  </td></tr>\n",
       "\t<tr><td>91  </td><td>189 </td><td> 4.6</td><td>93  </td><td>9   </td><td> 4  </td></tr>\n",
       "\t<tr><td>47  </td><td> 95 </td><td> 7.4</td><td>87  </td><td>9   </td><td> 5  </td></tr>\n",
       "\t<tr><td>32  </td><td> 92 </td><td>15.5</td><td>84  </td><td>9   </td><td> 6  </td></tr>\n",
       "\t<tr><td>20  </td><td>252 </td><td>10.9</td><td>80  </td><td>9   </td><td> 7  </td></tr>\n",
       "\t<tr><td>23  </td><td>220 </td><td>10.3</td><td>78  </td><td>9   </td><td> 8  </td></tr>\n",
       "\t<tr><td>21  </td><td>230 </td><td>10.9</td><td>75  </td><td>9   </td><td> 9  </td></tr>\n",
       "\t<tr><td>24  </td><td>259 </td><td> 9.7</td><td>73  </td><td>9   </td><td>10  </td></tr>\n",
       "\t<tr><td>44  </td><td>236 </td><td>14.9</td><td>81  </td><td>9   </td><td>11  </td></tr>\n",
       "\t<tr><td>21  </td><td>259 </td><td>15.5</td><td>76  </td><td>9   </td><td>12  </td></tr>\n",
       "\t<tr><td>28  </td><td>238 </td><td> 6.3</td><td>77  </td><td>9   </td><td>13  </td></tr>\n",
       "\t<tr><td> 9  </td><td> 24 </td><td>10.9</td><td>71  </td><td>9   </td><td>14  </td></tr>\n",
       "\t<tr><td>13  </td><td>112 </td><td>11.5</td><td>71  </td><td>9   </td><td>15  </td></tr>\n",
       "\t<tr><td>46  </td><td>237 </td><td> 6.9</td><td>78  </td><td>9   </td><td>16  </td></tr>\n",
       "\t<tr><td>18  </td><td>224 </td><td>13.8</td><td>67  </td><td>9   </td><td>17  </td></tr>\n",
       "\t<tr><td>13  </td><td> 27 </td><td>10.3</td><td>76  </td><td>9   </td><td>18  </td></tr>\n",
       "\t<tr><td>24  </td><td>238 </td><td>10.3</td><td>68  </td><td>9   </td><td>19  </td></tr>\n",
       "\t<tr><td>16  </td><td>201 </td><td> 8.0</td><td>82  </td><td>9   </td><td>20  </td></tr>\n",
       "\t<tr><td>13  </td><td>238 </td><td>12.6</td><td>64  </td><td>9   </td><td>21  </td></tr>\n",
       "\t<tr><td>23  </td><td> 14 </td><td> 9.2</td><td>71  </td><td>9   </td><td>22  </td></tr>\n",
       "\t<tr><td>36  </td><td>139 </td><td>10.3</td><td>81  </td><td>9   </td><td>23  </td></tr>\n",
       "\t<tr><td> 7  </td><td> 49 </td><td>10.3</td><td>69  </td><td>9   </td><td>24  </td></tr>\n",
       "\t<tr><td>14  </td><td> 20 </td><td>16.6</td><td>63  </td><td>9   </td><td>25  </td></tr>\n",
       "\t<tr><td>30  </td><td>193 </td><td> 6.9</td><td>70  </td><td>9   </td><td>26  </td></tr>\n",
       "\t<tr><td>NA  </td><td>145 </td><td>13.2</td><td>77  </td><td>9   </td><td>27  </td></tr>\n",
       "\t<tr><td>14  </td><td>191 </td><td>14.3</td><td>75  </td><td>9   </td><td>28  </td></tr>\n",
       "\t<tr><td>18  </td><td>131 </td><td> 8.0</td><td>76  </td><td>9   </td><td>29  </td></tr>\n",
       "\t<tr><td>20  </td><td>223 </td><td>11.5</td><td>68  </td><td>9   </td><td>30  </td></tr>\n",
       "</tbody>\n",
       "</table>\n"
      ],
      "text/latex": [
       "\\begin{tabular}{r|llllll}\n",
       " Ozone & Solar.R & Wind & Temp & Month & Day\\\\\n",
       "\\hline\n",
       "\t  41  & 190  &  7.4 & 67   & 5    &  1  \\\\\n",
       "\t  36  & 118  &  8.0 & 72   & 5    &  2  \\\\\n",
       "\t  12  & 149  & 12.6 & 74   & 5    &  3  \\\\\n",
       "\t  18  & 313  & 11.5 & 62   & 5    &  4  \\\\\n",
       "\t  NA  &  NA  & 14.3 & 56   & 5    &  5  \\\\\n",
       "\t  28  &  NA  & 14.9 & 66   & 5    &  6  \\\\\n",
       "\t  23  & 299  &  8.6 & 65   & 5    &  7  \\\\\n",
       "\t  19  &  99  & 13.8 & 59   & 5    &  8  \\\\\n",
       "\t   8  &  19  & 20.1 & 61   & 5    &  9  \\\\\n",
       "\t  NA  & 194  &  8.6 & 69   & 5    & 10  \\\\\n",
       "\t   7  &  NA  &  6.9 & 74   & 5    & 11  \\\\\n",
       "\t  16  & 256  &  9.7 & 69   & 5    & 12  \\\\\n",
       "\t  11  & 290  &  9.2 & 66   & 5    & 13  \\\\\n",
       "\t  14  & 274  & 10.9 & 68   & 5    & 14  \\\\\n",
       "\t  18  &  65  & 13.2 & 58   & 5    & 15  \\\\\n",
       "\t  14  & 334  & 11.5 & 64   & 5    & 16  \\\\\n",
       "\t  34  & 307  & 12.0 & 66   & 5    & 17  \\\\\n",
       "\t   6  &  78  & 18.4 & 57   & 5    & 18  \\\\\n",
       "\t  30  & 322  & 11.5 & 68   & 5    & 19  \\\\\n",
       "\t  11  &  44  &  9.7 & 62   & 5    & 20  \\\\\n",
       "\t   1  &   8  &  9.7 & 59   & 5    & 21  \\\\\n",
       "\t  11  & 320  & 16.6 & 73   & 5    & 22  \\\\\n",
       "\t   4  &  25  &  9.7 & 61   & 5    & 23  \\\\\n",
       "\t  32  &  92  & 12.0 & 61   & 5    & 24  \\\\\n",
       "\t  NA  &  66  & 16.6 & 57   & 5    & 25  \\\\\n",
       "\t  NA  & 266  & 14.9 & 58   & 5    & 26  \\\\\n",
       "\t  NA  &  NA  &  8.0 & 57   & 5    & 27  \\\\\n",
       "\t  23  &  13  & 12.0 & 67   & 5    & 28  \\\\\n",
       "\t  45  & 252  & 14.9 & 81   & 5    & 29  \\\\\n",
       "\t 115  & 223  &  5.7 & 79   & 5    & 30  \\\\\n",
       "\t ⋮ & ⋮ & ⋮ & ⋮ & ⋮ & ⋮\\\\\n",
       "\t 96   & 167  &  6.9 & 91   & 9    &  1  \\\\\n",
       "\t 78   & 197  &  5.1 & 92   & 9    &  2  \\\\\n",
       "\t 73   & 183  &  2.8 & 93   & 9    &  3  \\\\\n",
       "\t 91   & 189  &  4.6 & 93   & 9    &  4  \\\\\n",
       "\t 47   &  95  &  7.4 & 87   & 9    &  5  \\\\\n",
       "\t 32   &  92  & 15.5 & 84   & 9    &  6  \\\\\n",
       "\t 20   & 252  & 10.9 & 80   & 9    &  7  \\\\\n",
       "\t 23   & 220  & 10.3 & 78   & 9    &  8  \\\\\n",
       "\t 21   & 230  & 10.9 & 75   & 9    &  9  \\\\\n",
       "\t 24   & 259  &  9.7 & 73   & 9    & 10  \\\\\n",
       "\t 44   & 236  & 14.9 & 81   & 9    & 11  \\\\\n",
       "\t 21   & 259  & 15.5 & 76   & 9    & 12  \\\\\n",
       "\t 28   & 238  &  6.3 & 77   & 9    & 13  \\\\\n",
       "\t  9   &  24  & 10.9 & 71   & 9    & 14  \\\\\n",
       "\t 13   & 112  & 11.5 & 71   & 9    & 15  \\\\\n",
       "\t 46   & 237  &  6.9 & 78   & 9    & 16  \\\\\n",
       "\t 18   & 224  & 13.8 & 67   & 9    & 17  \\\\\n",
       "\t 13   &  27  & 10.3 & 76   & 9    & 18  \\\\\n",
       "\t 24   & 238  & 10.3 & 68   & 9    & 19  \\\\\n",
       "\t 16   & 201  &  8.0 & 82   & 9    & 20  \\\\\n",
       "\t 13   & 238  & 12.6 & 64   & 9    & 21  \\\\\n",
       "\t 23   &  14  &  9.2 & 71   & 9    & 22  \\\\\n",
       "\t 36   & 139  & 10.3 & 81   & 9    & 23  \\\\\n",
       "\t  7   &  49  & 10.3 & 69   & 9    & 24  \\\\\n",
       "\t 14   &  20  & 16.6 & 63   & 9    & 25  \\\\\n",
       "\t 30   & 193  &  6.9 & 70   & 9    & 26  \\\\\n",
       "\t NA   & 145  & 13.2 & 77   & 9    & 27  \\\\\n",
       "\t 14   & 191  & 14.3 & 75   & 9    & 28  \\\\\n",
       "\t 18   & 131  &  8.0 & 76   & 9    & 29  \\\\\n",
       "\t 20   & 223  & 11.5 & 68   & 9    & 30  \\\\\n",
       "\\end{tabular}\n"
      ],
      "text/markdown": [
       "\n",
       "Ozone | Solar.R | Wind | Temp | Month | Day | \n",
       "|---|---|---|---|---|---|---|---|---|---|---|---|---|---|---|---|---|---|---|---|---|---|---|---|---|---|---|---|---|---|---|---|---|---|---|---|---|---|---|---|---|---|---|---|---|---|---|---|---|---|---|---|---|---|---|---|---|---|---|---|---|\n",
       "|  41  | 190  |  7.4 | 67   | 5    |  1   | \n",
       "|  36  | 118  |  8.0 | 72   | 5    |  2   | \n",
       "|  12  | 149  | 12.6 | 74   | 5    |  3   | \n",
       "|  18  | 313  | 11.5 | 62   | 5    |  4   | \n",
       "|  NA  |  NA  | 14.3 | 56   | 5    |  5   | \n",
       "|  28  |  NA  | 14.9 | 66   | 5    |  6   | \n",
       "|  23  | 299  |  8.6 | 65   | 5    |  7   | \n",
       "|  19  |  99  | 13.8 | 59   | 5    |  8   | \n",
       "|   8  |  19  | 20.1 | 61   | 5    |  9   | \n",
       "|  NA  | 194  |  8.6 | 69   | 5    | 10   | \n",
       "|   7  |  NA  |  6.9 | 74   | 5    | 11   | \n",
       "|  16  | 256  |  9.7 | 69   | 5    | 12   | \n",
       "|  11  | 290  |  9.2 | 66   | 5    | 13   | \n",
       "|  14  | 274  | 10.9 | 68   | 5    | 14   | \n",
       "|  18  |  65  | 13.2 | 58   | 5    | 15   | \n",
       "|  14  | 334  | 11.5 | 64   | 5    | 16   | \n",
       "|  34  | 307  | 12.0 | 66   | 5    | 17   | \n",
       "|   6  |  78  | 18.4 | 57   | 5    | 18   | \n",
       "|  30  | 322  | 11.5 | 68   | 5    | 19   | \n",
       "|  11  |  44  |  9.7 | 62   | 5    | 20   | \n",
       "|   1  |   8  |  9.7 | 59   | 5    | 21   | \n",
       "|  11  | 320  | 16.6 | 73   | 5    | 22   | \n",
       "|   4  |  25  |  9.7 | 61   | 5    | 23   | \n",
       "|  32  |  92  | 12.0 | 61   | 5    | 24   | \n",
       "|  NA  |  66  | 16.6 | 57   | 5    | 25   | \n",
       "|  NA  | 266  | 14.9 | 58   | 5    | 26   | \n",
       "|  NA  |  NA  |  8.0 | 57   | 5    | 27   | \n",
       "|  23  |  13  | 12.0 | 67   | 5    | 28   | \n",
       "|  45  | 252  | 14.9 | 81   | 5    | 29   | \n",
       "| 115  | 223  |  5.7 | 79   | 5    | 30   | \n",
       "| ⋮ | ⋮ | ⋮ | ⋮ | ⋮ | ⋮ | \n",
       "| 96   | 167  |  6.9 | 91   | 9    |  1   | \n",
       "| 78   | 197  |  5.1 | 92   | 9    |  2   | \n",
       "| 73   | 183  |  2.8 | 93   | 9    |  3   | \n",
       "| 91   | 189  |  4.6 | 93   | 9    |  4   | \n",
       "| 47   |  95  |  7.4 | 87   | 9    |  5   | \n",
       "| 32   |  92  | 15.5 | 84   | 9    |  6   | \n",
       "| 20   | 252  | 10.9 | 80   | 9    |  7   | \n",
       "| 23   | 220  | 10.3 | 78   | 9    |  8   | \n",
       "| 21   | 230  | 10.9 | 75   | 9    |  9   | \n",
       "| 24   | 259  |  9.7 | 73   | 9    | 10   | \n",
       "| 44   | 236  | 14.9 | 81   | 9    | 11   | \n",
       "| 21   | 259  | 15.5 | 76   | 9    | 12   | \n",
       "| 28   | 238  |  6.3 | 77   | 9    | 13   | \n",
       "|  9   |  24  | 10.9 | 71   | 9    | 14   | \n",
       "| 13   | 112  | 11.5 | 71   | 9    | 15   | \n",
       "| 46   | 237  |  6.9 | 78   | 9    | 16   | \n",
       "| 18   | 224  | 13.8 | 67   | 9    | 17   | \n",
       "| 13   |  27  | 10.3 | 76   | 9    | 18   | \n",
       "| 24   | 238  | 10.3 | 68   | 9    | 19   | \n",
       "| 16   | 201  |  8.0 | 82   | 9    | 20   | \n",
       "| 13   | 238  | 12.6 | 64   | 9    | 21   | \n",
       "| 23   |  14  |  9.2 | 71   | 9    | 22   | \n",
       "| 36   | 139  | 10.3 | 81   | 9    | 23   | \n",
       "|  7   |  49  | 10.3 | 69   | 9    | 24   | \n",
       "| 14   |  20  | 16.6 | 63   | 9    | 25   | \n",
       "| 30   | 193  |  6.9 | 70   | 9    | 26   | \n",
       "| NA   | 145  | 13.2 | 77   | 9    | 27   | \n",
       "| 14   | 191  | 14.3 | 75   | 9    | 28   | \n",
       "| 18   | 131  |  8.0 | 76   | 9    | 29   | \n",
       "| 20   | 223  | 11.5 | 68   | 9    | 30   | \n",
       "\n",
       "\n"
      ],
      "text/plain": [
       "    Ozone Solar.R Wind Temp Month Day\n",
       "1    41   190      7.4 67   5      1 \n",
       "2    36   118      8.0 72   5      2 \n",
       "3    12   149     12.6 74   5      3 \n",
       "4    18   313     11.5 62   5      4 \n",
       "5    NA    NA     14.3 56   5      5 \n",
       "6    28    NA     14.9 66   5      6 \n",
       "7    23   299      8.6 65   5      7 \n",
       "8    19    99     13.8 59   5      8 \n",
       "9     8    19     20.1 61   5      9 \n",
       "10   NA   194      8.6 69   5     10 \n",
       "11    7    NA      6.9 74   5     11 \n",
       "12   16   256      9.7 69   5     12 \n",
       "13   11   290      9.2 66   5     13 \n",
       "14   14   274     10.9 68   5     14 \n",
       "15   18    65     13.2 58   5     15 \n",
       "16   14   334     11.5 64   5     16 \n",
       "17   34   307     12.0 66   5     17 \n",
       "18    6    78     18.4 57   5     18 \n",
       "19   30   322     11.5 68   5     19 \n",
       "20   11    44      9.7 62   5     20 \n",
       "21    1     8      9.7 59   5     21 \n",
       "22   11   320     16.6 73   5     22 \n",
       "23    4    25      9.7 61   5     23 \n",
       "24   32    92     12.0 61   5     24 \n",
       "25   NA    66     16.6 57   5     25 \n",
       "26   NA   266     14.9 58   5     26 \n",
       "27   NA    NA      8.0 57   5     27 \n",
       "28   23    13     12.0 67   5     28 \n",
       "29   45   252     14.9 81   5     29 \n",
       "30  115   223      5.7 79   5     30 \n",
       "⋮   ⋮     ⋮       ⋮    ⋮    ⋮     ⋮  \n",
       "124 96    167      6.9 91   9      1 \n",
       "125 78    197      5.1 92   9      2 \n",
       "126 73    183      2.8 93   9      3 \n",
       "127 91    189      4.6 93   9      4 \n",
       "128 47     95      7.4 87   9      5 \n",
       "129 32     92     15.5 84   9      6 \n",
       "130 20    252     10.9 80   9      7 \n",
       "131 23    220     10.3 78   9      8 \n",
       "132 21    230     10.9 75   9      9 \n",
       "133 24    259      9.7 73   9     10 \n",
       "134 44    236     14.9 81   9     11 \n",
       "135 21    259     15.5 76   9     12 \n",
       "136 28    238      6.3 77   9     13 \n",
       "137  9     24     10.9 71   9     14 \n",
       "138 13    112     11.5 71   9     15 \n",
       "139 46    237      6.9 78   9     16 \n",
       "140 18    224     13.8 67   9     17 \n",
       "141 13     27     10.3 76   9     18 \n",
       "142 24    238     10.3 68   9     19 \n",
       "143 16    201      8.0 82   9     20 \n",
       "144 13    238     12.6 64   9     21 \n",
       "145 23     14      9.2 71   9     22 \n",
       "146 36    139     10.3 81   9     23 \n",
       "147  7     49     10.3 69   9     24 \n",
       "148 14     20     16.6 63   9     25 \n",
       "149 30    193      6.9 70   9     26 \n",
       "150 NA    145     13.2 77   9     27 \n",
       "151 14    191     14.3 75   9     28 \n",
       "152 18    131      8.0 76   9     29 \n",
       "153 20    223     11.5 68   9     30 "
      ]
     },
     "metadata": {},
     "output_type": "display_data"
    }
   ],
   "source": [
    "data(airquality) # carrega os dados\n",
    "airquality # mostra os dados"
   ]
  },
  {
   "cell_type": "code",
   "execution_count": 4,
   "metadata": {},
   "outputs": [
    {
     "data": {
      "text/html": [
       "TRUE"
      ],
      "text/latex": [
       "TRUE"
      ],
      "text/markdown": [
       "TRUE"
      ],
      "text/plain": [
       "[1] TRUE"
      ]
     },
     "metadata": {},
     "output_type": "display_data"
    },
    {
     "data": {
      "text/html": [
       "<ol class=list-inline>\n",
       "\t<li>'Ozone'</li>\n",
       "\t<li>'Solar.R'</li>\n",
       "\t<li>'Wind'</li>\n",
       "\t<li>'Temp'</li>\n",
       "\t<li>'Month'</li>\n",
       "\t<li>'Day'</li>\n",
       "</ol>\n"
      ],
      "text/latex": [
       "\\begin{enumerate*}\n",
       "\\item 'Ozone'\n",
       "\\item 'Solar.R'\n",
       "\\item 'Wind'\n",
       "\\item 'Temp'\n",
       "\\item 'Month'\n",
       "\\item 'Day'\n",
       "\\end{enumerate*}\n"
      ],
      "text/markdown": [
       "1. 'Ozone'\n",
       "2. 'Solar.R'\n",
       "3. 'Wind'\n",
       "4. 'Temp'\n",
       "5. 'Month'\n",
       "6. 'Day'\n",
       "\n",
       "\n"
      ],
      "text/plain": [
       "[1] \"Ozone\"   \"Solar.R\" \"Wind\"    \"Temp\"    \"Month\"   \"Day\"    "
      ]
     },
     "metadata": {},
     "output_type": "display_data"
    },
    {
     "data": {
      "text/html": [
       "<ol class=list-inline>\n",
       "\t<li>153</li>\n",
       "\t<li>6</li>\n",
       "</ol>\n"
      ],
      "text/latex": [
       "\\begin{enumerate*}\n",
       "\\item 153\n",
       "\\item 6\n",
       "\\end{enumerate*}\n"
      ],
      "text/markdown": [
       "1. 153\n",
       "2. 6\n",
       "\n",
       "\n"
      ],
      "text/plain": [
       "[1] 153   6"
      ]
     },
     "metadata": {},
     "output_type": "display_data"
    }
   ],
   "source": [
    "is.data.frame(airquality) # verifica se é um data-frame\n",
    "names(airquality) # nome das colunas (variáveis)\n",
    "dim(airquality) # dimensões do data-frame\n",
    "# help(airquality) # mostra o ‘‘help’’que explica os dados"
   ]
  },
  {
   "cell_type": "code",
   "execution_count": 5,
   "metadata": {},
   "outputs": [
    {
     "data": {
      "text/plain": [
       "     Ozone           Solar.R           Wind             Temp      \n",
       " Min.   :  1.00   Min.   :  7.0   Min.   : 1.700   Min.   :56.00  \n",
       " 1st Qu.: 18.00   1st Qu.:115.8   1st Qu.: 7.400   1st Qu.:72.00  \n",
       " Median : 31.50   Median :205.0   Median : 9.700   Median :79.00  \n",
       " Mean   : 42.13   Mean   :185.9   Mean   : 9.958   Mean   :77.88  \n",
       " 3rd Qu.: 63.25   3rd Qu.:258.8   3rd Qu.:11.500   3rd Qu.:85.00  \n",
       " Max.   :168.00   Max.   :334.0   Max.   :20.700   Max.   :97.00  \n",
       " NA's   :37       NA's   :7                                       \n",
       "     Month            Day      \n",
       " Min.   :5.000   Min.   : 1.0  \n",
       " 1st Qu.:6.000   1st Qu.: 8.0  \n",
       " Median :7.000   Median :16.0  \n",
       " Mean   :6.993   Mean   :15.8  \n",
       " 3rd Qu.:8.000   3rd Qu.:23.0  \n",
       " Max.   :9.000   Max.   :31.0  \n",
       "                               "
      ]
     },
     "metadata": {},
     "output_type": "display_data"
    },
    {
     "data": {
      "text/plain": [
       "     Ozone           Solar.R           Wind             Temp      \n",
       " Min.   :  1.00   Min.   :  7.0   Min.   : 1.700   Min.   :56.00  \n",
       " 1st Qu.: 18.00   1st Qu.:115.8   1st Qu.: 7.400   1st Qu.:72.00  \n",
       " Median : 31.50   Median :205.0   Median : 9.700   Median :79.00  \n",
       " Mean   : 42.13   Mean   :185.9   Mean   : 9.958   Mean   :77.88  \n",
       " 3rd Qu.: 63.25   3rd Qu.:258.8   3rd Qu.:11.500   3rd Qu.:85.00  \n",
       " Max.   :168.00   Max.   :334.0   Max.   :20.700   Max.   :97.00  \n",
       " NA's   :37       NA's   :7                                       "
      ]
     },
     "metadata": {},
     "output_type": "display_data"
    }
   ],
   "source": [
    "summary(airquality) # sumário\n",
    "summary(airquality[,1:4]) # sumário das 4 primeiras variáveis\n"
   ]
  },
  {
   "cell_type": "code",
   "execution_count": 6,
   "metadata": {},
   "outputs": [
    {
     "data": {
      "text/html": [
       "<ol class=list-inline>\n",
       "\t<li>7.4</li>\n",
       "\t<li>8</li>\n",
       "\t<li>12.6</li>\n",
       "\t<li>11.5</li>\n",
       "\t<li>14.3</li>\n",
       "\t<li>14.9</li>\n",
       "\t<li>8.6</li>\n",
       "\t<li>13.8</li>\n",
       "\t<li>20.1</li>\n",
       "\t<li>8.6</li>\n",
       "\t<li>6.9</li>\n",
       "\t<li>9.7</li>\n",
       "\t<li>9.2</li>\n",
       "\t<li>10.9</li>\n",
       "\t<li>13.2</li>\n",
       "\t<li>11.5</li>\n",
       "\t<li>12</li>\n",
       "\t<li>18.4</li>\n",
       "\t<li>11.5</li>\n",
       "\t<li>9.7</li>\n",
       "\t<li>9.7</li>\n",
       "\t<li>16.6</li>\n",
       "\t<li>9.7</li>\n",
       "\t<li>12</li>\n",
       "\t<li>16.6</li>\n",
       "\t<li>14.9</li>\n",
       "\t<li>8</li>\n",
       "\t<li>12</li>\n",
       "\t<li>14.9</li>\n",
       "\t<li>5.7</li>\n",
       "\t<li>7.4</li>\n",
       "\t<li>8.6</li>\n",
       "\t<li>9.7</li>\n",
       "\t<li>16.1</li>\n",
       "\t<li>9.2</li>\n",
       "\t<li>8.6</li>\n",
       "\t<li>14.3</li>\n",
       "\t<li>9.7</li>\n",
       "\t<li>6.9</li>\n",
       "\t<li>13.8</li>\n",
       "\t<li>11.5</li>\n",
       "\t<li>10.9</li>\n",
       "\t<li>9.2</li>\n",
       "\t<li>8</li>\n",
       "\t<li>13.8</li>\n",
       "\t<li>11.5</li>\n",
       "\t<li>14.9</li>\n",
       "\t<li>20.7</li>\n",
       "\t<li>9.2</li>\n",
       "\t<li>11.5</li>\n",
       "\t<li>10.3</li>\n",
       "\t<li>6.3</li>\n",
       "\t<li>1.7</li>\n",
       "\t<li>4.6</li>\n",
       "\t<li>6.3</li>\n",
       "\t<li>8</li>\n",
       "\t<li>8</li>\n",
       "\t<li>10.3</li>\n",
       "\t<li>11.5</li>\n",
       "\t<li>14.9</li>\n",
       "\t<li>8</li>\n",
       "\t<li>4.1</li>\n",
       "\t<li>9.2</li>\n",
       "\t<li>9.2</li>\n",
       "\t<li>10.9</li>\n",
       "\t<li>4.6</li>\n",
       "\t<li>10.9</li>\n",
       "\t<li>5.1</li>\n",
       "\t<li>6.3</li>\n",
       "\t<li>5.7</li>\n",
       "\t<li>7.4</li>\n",
       "\t<li>8.6</li>\n",
       "\t<li>14.3</li>\n",
       "\t<li>14.9</li>\n",
       "\t<li>14.9</li>\n",
       "\t<li>14.3</li>\n",
       "\t<li>6.9</li>\n",
       "\t<li>10.3</li>\n",
       "\t<li>6.3</li>\n",
       "\t<li>5.1</li>\n",
       "\t<li>11.5</li>\n",
       "\t<li>6.9</li>\n",
       "\t<li>9.7</li>\n",
       "\t<li>11.5</li>\n",
       "\t<li>8.6</li>\n",
       "\t<li>8</li>\n",
       "\t<li>8.6</li>\n",
       "\t<li>12</li>\n",
       "\t<li>7.4</li>\n",
       "\t<li>7.4</li>\n",
       "\t<li>7.4</li>\n",
       "\t<li>9.2</li>\n",
       "\t<li>6.9</li>\n",
       "\t<li>13.8</li>\n",
       "\t<li>7.4</li>\n",
       "\t<li>6.9</li>\n",
       "\t<li>7.4</li>\n",
       "\t<li>4.6</li>\n",
       "\t<li>4</li>\n",
       "\t<li>10.3</li>\n",
       "\t<li>8</li>\n",
       "\t<li>8.6</li>\n",
       "\t<li>11.5</li>\n",
       "\t<li>11.5</li>\n",
       "\t<li>11.5</li>\n",
       "\t<li>9.7</li>\n",
       "\t<li>11.5</li>\n",
       "\t<li>10.3</li>\n",
       "\t<li>6.3</li>\n",
       "\t<li>7.4</li>\n",
       "\t<li>10.9</li>\n",
       "\t<li>10.3</li>\n",
       "\t<li>15.5</li>\n",
       "\t<li>14.3</li>\n",
       "\t<li>12.6</li>\n",
       "\t<li>9.7</li>\n",
       "\t<li>3.4</li>\n",
       "\t<li>8</li>\n",
       "\t<li>5.7</li>\n",
       "\t<li>9.7</li>\n",
       "\t<li>2.3</li>\n",
       "\t<li>6.3</li>\n",
       "\t<li>6.3</li>\n",
       "\t<li>6.9</li>\n",
       "\t<li>5.1</li>\n",
       "\t<li>2.8</li>\n",
       "\t<li>4.6</li>\n",
       "\t<li>7.4</li>\n",
       "\t<li>15.5</li>\n",
       "\t<li>10.9</li>\n",
       "\t<li>10.3</li>\n",
       "\t<li>10.9</li>\n",
       "\t<li>9.7</li>\n",
       "\t<li>14.9</li>\n",
       "\t<li>15.5</li>\n",
       "\t<li>6.3</li>\n",
       "\t<li>10.9</li>\n",
       "\t<li>11.5</li>\n",
       "\t<li>6.9</li>\n",
       "\t<li>13.8</li>\n",
       "\t<li>10.3</li>\n",
       "\t<li>10.3</li>\n",
       "\t<li>8</li>\n",
       "\t<li>12.6</li>\n",
       "\t<li>9.2</li>\n",
       "\t<li>10.3</li>\n",
       "\t<li>10.3</li>\n",
       "\t<li>16.6</li>\n",
       "\t<li>6.9</li>\n",
       "\t<li>13.2</li>\n",
       "\t<li>14.3</li>\n",
       "\t<li>8</li>\n",
       "\t<li>11.5</li>\n",
       "</ol>\n"
      ],
      "text/latex": [
       "\\begin{enumerate*}\n",
       "\\item 7.4\n",
       "\\item 8\n",
       "\\item 12.6\n",
       "\\item 11.5\n",
       "\\item 14.3\n",
       "\\item 14.9\n",
       "\\item 8.6\n",
       "\\item 13.8\n",
       "\\item 20.1\n",
       "\\item 8.6\n",
       "\\item 6.9\n",
       "\\item 9.7\n",
       "\\item 9.2\n",
       "\\item 10.9\n",
       "\\item 13.2\n",
       "\\item 11.5\n",
       "\\item 12\n",
       "\\item 18.4\n",
       "\\item 11.5\n",
       "\\item 9.7\n",
       "\\item 9.7\n",
       "\\item 16.6\n",
       "\\item 9.7\n",
       "\\item 12\n",
       "\\item 16.6\n",
       "\\item 14.9\n",
       "\\item 8\n",
       "\\item 12\n",
       "\\item 14.9\n",
       "\\item 5.7\n",
       "\\item 7.4\n",
       "\\item 8.6\n",
       "\\item 9.7\n",
       "\\item 16.1\n",
       "\\item 9.2\n",
       "\\item 8.6\n",
       "\\item 14.3\n",
       "\\item 9.7\n",
       "\\item 6.9\n",
       "\\item 13.8\n",
       "\\item 11.5\n",
       "\\item 10.9\n",
       "\\item 9.2\n",
       "\\item 8\n",
       "\\item 13.8\n",
       "\\item 11.5\n",
       "\\item 14.9\n",
       "\\item 20.7\n",
       "\\item 9.2\n",
       "\\item 11.5\n",
       "\\item 10.3\n",
       "\\item 6.3\n",
       "\\item 1.7\n",
       "\\item 4.6\n",
       "\\item 6.3\n",
       "\\item 8\n",
       "\\item 8\n",
       "\\item 10.3\n",
       "\\item 11.5\n",
       "\\item 14.9\n",
       "\\item 8\n",
       "\\item 4.1\n",
       "\\item 9.2\n",
       "\\item 9.2\n",
       "\\item 10.9\n",
       "\\item 4.6\n",
       "\\item 10.9\n",
       "\\item 5.1\n",
       "\\item 6.3\n",
       "\\item 5.7\n",
       "\\item 7.4\n",
       "\\item 8.6\n",
       "\\item 14.3\n",
       "\\item 14.9\n",
       "\\item 14.9\n",
       "\\item 14.3\n",
       "\\item 6.9\n",
       "\\item 10.3\n",
       "\\item 6.3\n",
       "\\item 5.1\n",
       "\\item 11.5\n",
       "\\item 6.9\n",
       "\\item 9.7\n",
       "\\item 11.5\n",
       "\\item 8.6\n",
       "\\item 8\n",
       "\\item 8.6\n",
       "\\item 12\n",
       "\\item 7.4\n",
       "\\item 7.4\n",
       "\\item 7.4\n",
       "\\item 9.2\n",
       "\\item 6.9\n",
       "\\item 13.8\n",
       "\\item 7.4\n",
       "\\item 6.9\n",
       "\\item 7.4\n",
       "\\item 4.6\n",
       "\\item 4\n",
       "\\item 10.3\n",
       "\\item 8\n",
       "\\item 8.6\n",
       "\\item 11.5\n",
       "\\item 11.5\n",
       "\\item 11.5\n",
       "\\item 9.7\n",
       "\\item 11.5\n",
       "\\item 10.3\n",
       "\\item 6.3\n",
       "\\item 7.4\n",
       "\\item 10.9\n",
       "\\item 10.3\n",
       "\\item 15.5\n",
       "\\item 14.3\n",
       "\\item 12.6\n",
       "\\item 9.7\n",
       "\\item 3.4\n",
       "\\item 8\n",
       "\\item 5.7\n",
       "\\item 9.7\n",
       "\\item 2.3\n",
       "\\item 6.3\n",
       "\\item 6.3\n",
       "\\item 6.9\n",
       "\\item 5.1\n",
       "\\item 2.8\n",
       "\\item 4.6\n",
       "\\item 7.4\n",
       "\\item 15.5\n",
       "\\item 10.9\n",
       "\\item 10.3\n",
       "\\item 10.9\n",
       "\\item 9.7\n",
       "\\item 14.9\n",
       "\\item 15.5\n",
       "\\item 6.3\n",
       "\\item 10.9\n",
       "\\item 11.5\n",
       "\\item 6.9\n",
       "\\item 13.8\n",
       "\\item 10.3\n",
       "\\item 10.3\n",
       "\\item 8\n",
       "\\item 12.6\n",
       "\\item 9.2\n",
       "\\item 10.3\n",
       "\\item 10.3\n",
       "\\item 16.6\n",
       "\\item 6.9\n",
       "\\item 13.2\n",
       "\\item 14.3\n",
       "\\item 8\n",
       "\\item 11.5\n",
       "\\end{enumerate*}\n"
      ],
      "text/markdown": [
       "1. 7.4\n",
       "2. 8\n",
       "3. 12.6\n",
       "4. 11.5\n",
       "5. 14.3\n",
       "6. 14.9\n",
       "7. 8.6\n",
       "8. 13.8\n",
       "9. 20.1\n",
       "10. 8.6\n",
       "11. 6.9\n",
       "12. 9.7\n",
       "13. 9.2\n",
       "14. 10.9\n",
       "15. 13.2\n",
       "16. 11.5\n",
       "17. 12\n",
       "18. 18.4\n",
       "19. 11.5\n",
       "20. 9.7\n",
       "21. 9.7\n",
       "22. 16.6\n",
       "23. 9.7\n",
       "24. 12\n",
       "25. 16.6\n",
       "26. 14.9\n",
       "27. 8\n",
       "28. 12\n",
       "29. 14.9\n",
       "30. 5.7\n",
       "31. 7.4\n",
       "32. 8.6\n",
       "33. 9.7\n",
       "34. 16.1\n",
       "35. 9.2\n",
       "36. 8.6\n",
       "37. 14.3\n",
       "38. 9.7\n",
       "39. 6.9\n",
       "40. 13.8\n",
       "41. 11.5\n",
       "42. 10.9\n",
       "43. 9.2\n",
       "44. 8\n",
       "45. 13.8\n",
       "46. 11.5\n",
       "47. 14.9\n",
       "48. 20.7\n",
       "49. 9.2\n",
       "50. 11.5\n",
       "51. 10.3\n",
       "52. 6.3\n",
       "53. 1.7\n",
       "54. 4.6\n",
       "55. 6.3\n",
       "56. 8\n",
       "57. 8\n",
       "58. 10.3\n",
       "59. 11.5\n",
       "60. 14.9\n",
       "61. 8\n",
       "62. 4.1\n",
       "63. 9.2\n",
       "64. 9.2\n",
       "65. 10.9\n",
       "66. 4.6\n",
       "67. 10.9\n",
       "68. 5.1\n",
       "69. 6.3\n",
       "70. 5.7\n",
       "71. 7.4\n",
       "72. 8.6\n",
       "73. 14.3\n",
       "74. 14.9\n",
       "75. 14.9\n",
       "76. 14.3\n",
       "77. 6.9\n",
       "78. 10.3\n",
       "79. 6.3\n",
       "80. 5.1\n",
       "81. 11.5\n",
       "82. 6.9\n",
       "83. 9.7\n",
       "84. 11.5\n",
       "85. 8.6\n",
       "86. 8\n",
       "87. 8.6\n",
       "88. 12\n",
       "89. 7.4\n",
       "90. 7.4\n",
       "91. 7.4\n",
       "92. 9.2\n",
       "93. 6.9\n",
       "94. 13.8\n",
       "95. 7.4\n",
       "96. 6.9\n",
       "97. 7.4\n",
       "98. 4.6\n",
       "99. 4\n",
       "100. 10.3\n",
       "101. 8\n",
       "102. 8.6\n",
       "103. 11.5\n",
       "104. 11.5\n",
       "105. 11.5\n",
       "106. 9.7\n",
       "107. 11.5\n",
       "108. 10.3\n",
       "109. 6.3\n",
       "110. 7.4\n",
       "111. 10.9\n",
       "112. 10.3\n",
       "113. 15.5\n",
       "114. 14.3\n",
       "115. 12.6\n",
       "116. 9.7\n",
       "117. 3.4\n",
       "118. 8\n",
       "119. 5.7\n",
       "120. 9.7\n",
       "121. 2.3\n",
       "122. 6.3\n",
       "123. 6.3\n",
       "124. 6.9\n",
       "125. 5.1\n",
       "126. 2.8\n",
       "127. 4.6\n",
       "128. 7.4\n",
       "129. 15.5\n",
       "130. 10.9\n",
       "131. 10.3\n",
       "132. 10.9\n",
       "133. 9.7\n",
       "134. 14.9\n",
       "135. 15.5\n",
       "136. 6.3\n",
       "137. 10.9\n",
       "138. 11.5\n",
       "139. 6.9\n",
       "140. 13.8\n",
       "141. 10.3\n",
       "142. 10.3\n",
       "143. 8\n",
       "144. 12.6\n",
       "145. 9.2\n",
       "146. 10.3\n",
       "147. 10.3\n",
       "148. 16.6\n",
       "149. 6.9\n",
       "150. 13.2\n",
       "151. 14.3\n",
       "152. 8\n",
       "153. 11.5\n",
       "\n",
       "\n"
      ],
      "text/plain": [
       "  [1]  7.4  8.0 12.6 11.5 14.3 14.9  8.6 13.8 20.1  8.6  6.9  9.7  9.2 10.9 13.2\n",
       " [16] 11.5 12.0 18.4 11.5  9.7  9.7 16.6  9.7 12.0 16.6 14.9  8.0 12.0 14.9  5.7\n",
       " [31]  7.4  8.6  9.7 16.1  9.2  8.6 14.3  9.7  6.9 13.8 11.5 10.9  9.2  8.0 13.8\n",
       " [46] 11.5 14.9 20.7  9.2 11.5 10.3  6.3  1.7  4.6  6.3  8.0  8.0 10.3 11.5 14.9\n",
       " [61]  8.0  4.1  9.2  9.2 10.9  4.6 10.9  5.1  6.3  5.7  7.4  8.6 14.3 14.9 14.9\n",
       " [76] 14.3  6.9 10.3  6.3  5.1 11.5  6.9  9.7 11.5  8.6  8.0  8.6 12.0  7.4  7.4\n",
       " [91]  7.4  9.2  6.9 13.8  7.4  6.9  7.4  4.6  4.0 10.3  8.0  8.6 11.5 11.5 11.5\n",
       "[106]  9.7 11.5 10.3  6.3  7.4 10.9 10.3 15.5 14.3 12.6  9.7  3.4  8.0  5.7  9.7\n",
       "[121]  2.3  6.3  6.3  6.9  5.1  2.8  4.6  7.4 15.5 10.9 10.3 10.9  9.7 14.9 15.5\n",
       "[136]  6.3 10.9 11.5  6.9 13.8 10.3 10.3  8.0 12.6  9.2 10.3 10.3 16.6  6.9 13.2\n",
       "[151] 14.3  8.0 11.5"
      ]
     },
     "metadata": {},
     "output_type": "display_data"
    },
    {
     "data": {
      "text/html": [
       "77.8823529411765"
      ],
      "text/latex": [
       "77.8823529411765"
      ],
      "text/markdown": [
       "77.8823529411765"
      ],
      "text/plain": [
       "[1] 77.88235"
      ]
     },
     "metadata": {},
     "output_type": "display_data"
    },
    {
     "data": {
      "text/html": [
       "&lt;NA&gt;"
      ],
      "text/latex": [
       "<NA>"
      ],
      "text/markdown": [
       "&lt;NA&gt;"
      ],
      "text/plain": [
       "[1] NA"
      ]
     },
     "metadata": {},
     "output_type": "display_data"
    },
    {
     "data": {
      "text/html": [
       "<ol class=list-inline>\n",
       "\t<li>41</li>\n",
       "\t<li>36</li>\n",
       "\t<li>12</li>\n",
       "\t<li>18</li>\n",
       "\t<li>&lt;NA&gt;</li>\n",
       "\t<li>28</li>\n",
       "\t<li>23</li>\n",
       "\t<li>19</li>\n",
       "\t<li>8</li>\n",
       "\t<li>&lt;NA&gt;</li>\n",
       "\t<li>7</li>\n",
       "\t<li>16</li>\n",
       "\t<li>11</li>\n",
       "\t<li>14</li>\n",
       "\t<li>18</li>\n",
       "\t<li>14</li>\n",
       "\t<li>34</li>\n",
       "\t<li>6</li>\n",
       "\t<li>30</li>\n",
       "\t<li>11</li>\n",
       "\t<li>1</li>\n",
       "\t<li>11</li>\n",
       "\t<li>4</li>\n",
       "\t<li>32</li>\n",
       "\t<li>&lt;NA&gt;</li>\n",
       "\t<li>&lt;NA&gt;</li>\n",
       "\t<li>&lt;NA&gt;</li>\n",
       "\t<li>23</li>\n",
       "\t<li>45</li>\n",
       "\t<li>115</li>\n",
       "\t<li>37</li>\n",
       "\t<li>&lt;NA&gt;</li>\n",
       "\t<li>&lt;NA&gt;</li>\n",
       "\t<li>&lt;NA&gt;</li>\n",
       "\t<li>&lt;NA&gt;</li>\n",
       "\t<li>&lt;NA&gt;</li>\n",
       "\t<li>&lt;NA&gt;</li>\n",
       "\t<li>29</li>\n",
       "\t<li>&lt;NA&gt;</li>\n",
       "\t<li>71</li>\n",
       "\t<li>39</li>\n",
       "\t<li>&lt;NA&gt;</li>\n",
       "\t<li>&lt;NA&gt;</li>\n",
       "\t<li>23</li>\n",
       "\t<li>&lt;NA&gt;</li>\n",
       "\t<li>&lt;NA&gt;</li>\n",
       "\t<li>21</li>\n",
       "\t<li>37</li>\n",
       "\t<li>20</li>\n",
       "\t<li>12</li>\n",
       "\t<li>13</li>\n",
       "\t<li>&lt;NA&gt;</li>\n",
       "\t<li>&lt;NA&gt;</li>\n",
       "\t<li>&lt;NA&gt;</li>\n",
       "\t<li>&lt;NA&gt;</li>\n",
       "\t<li>&lt;NA&gt;</li>\n",
       "\t<li>&lt;NA&gt;</li>\n",
       "\t<li>&lt;NA&gt;</li>\n",
       "\t<li>&lt;NA&gt;</li>\n",
       "\t<li>&lt;NA&gt;</li>\n",
       "\t<li>&lt;NA&gt;</li>\n",
       "\t<li>135</li>\n",
       "\t<li>49</li>\n",
       "\t<li>32</li>\n",
       "\t<li>&lt;NA&gt;</li>\n",
       "\t<li>64</li>\n",
       "\t<li>40</li>\n",
       "\t<li>77</li>\n",
       "\t<li>97</li>\n",
       "\t<li>97</li>\n",
       "\t<li>85</li>\n",
       "\t<li>&lt;NA&gt;</li>\n",
       "\t<li>10</li>\n",
       "\t<li>27</li>\n",
       "\t<li>&lt;NA&gt;</li>\n",
       "\t<li>7</li>\n",
       "\t<li>48</li>\n",
       "\t<li>35</li>\n",
       "\t<li>61</li>\n",
       "\t<li>79</li>\n",
       "\t<li>63</li>\n",
       "\t<li>16</li>\n",
       "\t<li>&lt;NA&gt;</li>\n",
       "\t<li>&lt;NA&gt;</li>\n",
       "\t<li>80</li>\n",
       "\t<li>108</li>\n",
       "\t<li>20</li>\n",
       "\t<li>52</li>\n",
       "\t<li>82</li>\n",
       "\t<li>50</li>\n",
       "\t<li>64</li>\n",
       "\t<li>59</li>\n",
       "\t<li>39</li>\n",
       "\t<li>9</li>\n",
       "\t<li>16</li>\n",
       "\t<li>78</li>\n",
       "\t<li>35</li>\n",
       "\t<li>66</li>\n",
       "\t<li>122</li>\n",
       "\t<li>89</li>\n",
       "\t<li>110</li>\n",
       "\t<li>&lt;NA&gt;</li>\n",
       "\t<li>&lt;NA&gt;</li>\n",
       "\t<li>44</li>\n",
       "\t<li>28</li>\n",
       "\t<li>65</li>\n",
       "\t<li>&lt;NA&gt;</li>\n",
       "\t<li>22</li>\n",
       "\t<li>59</li>\n",
       "\t<li>23</li>\n",
       "\t<li>31</li>\n",
       "\t<li>44</li>\n",
       "\t<li>21</li>\n",
       "\t<li>9</li>\n",
       "\t<li>&lt;NA&gt;</li>\n",
       "\t<li>45</li>\n",
       "\t<li>168</li>\n",
       "\t<li>73</li>\n",
       "\t<li>&lt;NA&gt;</li>\n",
       "\t<li>76</li>\n",
       "\t<li>118</li>\n",
       "\t<li>84</li>\n",
       "\t<li>85</li>\n",
       "\t<li>96</li>\n",
       "\t<li>78</li>\n",
       "\t<li>73</li>\n",
       "\t<li>91</li>\n",
       "\t<li>47</li>\n",
       "\t<li>32</li>\n",
       "\t<li>20</li>\n",
       "\t<li>23</li>\n",
       "\t<li>21</li>\n",
       "\t<li>24</li>\n",
       "\t<li>44</li>\n",
       "\t<li>21</li>\n",
       "\t<li>28</li>\n",
       "\t<li>9</li>\n",
       "\t<li>13</li>\n",
       "\t<li>46</li>\n",
       "\t<li>18</li>\n",
       "\t<li>13</li>\n",
       "\t<li>24</li>\n",
       "\t<li>16</li>\n",
       "\t<li>13</li>\n",
       "\t<li>23</li>\n",
       "\t<li>36</li>\n",
       "\t<li>7</li>\n",
       "\t<li>14</li>\n",
       "\t<li>30</li>\n",
       "\t<li>&lt;NA&gt;</li>\n",
       "\t<li>14</li>\n",
       "\t<li>18</li>\n",
       "\t<li>20</li>\n",
       "</ol>\n"
      ],
      "text/latex": [
       "\\begin{enumerate*}\n",
       "\\item 41\n",
       "\\item 36\n",
       "\\item 12\n",
       "\\item 18\n",
       "\\item <NA>\n",
       "\\item 28\n",
       "\\item 23\n",
       "\\item 19\n",
       "\\item 8\n",
       "\\item <NA>\n",
       "\\item 7\n",
       "\\item 16\n",
       "\\item 11\n",
       "\\item 14\n",
       "\\item 18\n",
       "\\item 14\n",
       "\\item 34\n",
       "\\item 6\n",
       "\\item 30\n",
       "\\item 11\n",
       "\\item 1\n",
       "\\item 11\n",
       "\\item 4\n",
       "\\item 32\n",
       "\\item <NA>\n",
       "\\item <NA>\n",
       "\\item <NA>\n",
       "\\item 23\n",
       "\\item 45\n",
       "\\item 115\n",
       "\\item 37\n",
       "\\item <NA>\n",
       "\\item <NA>\n",
       "\\item <NA>\n",
       "\\item <NA>\n",
       "\\item <NA>\n",
       "\\item <NA>\n",
       "\\item 29\n",
       "\\item <NA>\n",
       "\\item 71\n",
       "\\item 39\n",
       "\\item <NA>\n",
       "\\item <NA>\n",
       "\\item 23\n",
       "\\item <NA>\n",
       "\\item <NA>\n",
       "\\item 21\n",
       "\\item 37\n",
       "\\item 20\n",
       "\\item 12\n",
       "\\item 13\n",
       "\\item <NA>\n",
       "\\item <NA>\n",
       "\\item <NA>\n",
       "\\item <NA>\n",
       "\\item <NA>\n",
       "\\item <NA>\n",
       "\\item <NA>\n",
       "\\item <NA>\n",
       "\\item <NA>\n",
       "\\item <NA>\n",
       "\\item 135\n",
       "\\item 49\n",
       "\\item 32\n",
       "\\item <NA>\n",
       "\\item 64\n",
       "\\item 40\n",
       "\\item 77\n",
       "\\item 97\n",
       "\\item 97\n",
       "\\item 85\n",
       "\\item <NA>\n",
       "\\item 10\n",
       "\\item 27\n",
       "\\item <NA>\n",
       "\\item 7\n",
       "\\item 48\n",
       "\\item 35\n",
       "\\item 61\n",
       "\\item 79\n",
       "\\item 63\n",
       "\\item 16\n",
       "\\item <NA>\n",
       "\\item <NA>\n",
       "\\item 80\n",
       "\\item 108\n",
       "\\item 20\n",
       "\\item 52\n",
       "\\item 82\n",
       "\\item 50\n",
       "\\item 64\n",
       "\\item 59\n",
       "\\item 39\n",
       "\\item 9\n",
       "\\item 16\n",
       "\\item 78\n",
       "\\item 35\n",
       "\\item 66\n",
       "\\item 122\n",
       "\\item 89\n",
       "\\item 110\n",
       "\\item <NA>\n",
       "\\item <NA>\n",
       "\\item 44\n",
       "\\item 28\n",
       "\\item 65\n",
       "\\item <NA>\n",
       "\\item 22\n",
       "\\item 59\n",
       "\\item 23\n",
       "\\item 31\n",
       "\\item 44\n",
       "\\item 21\n",
       "\\item 9\n",
       "\\item <NA>\n",
       "\\item 45\n",
       "\\item 168\n",
       "\\item 73\n",
       "\\item <NA>\n",
       "\\item 76\n",
       "\\item 118\n",
       "\\item 84\n",
       "\\item 85\n",
       "\\item 96\n",
       "\\item 78\n",
       "\\item 73\n",
       "\\item 91\n",
       "\\item 47\n",
       "\\item 32\n",
       "\\item 20\n",
       "\\item 23\n",
       "\\item 21\n",
       "\\item 24\n",
       "\\item 44\n",
       "\\item 21\n",
       "\\item 28\n",
       "\\item 9\n",
       "\\item 13\n",
       "\\item 46\n",
       "\\item 18\n",
       "\\item 13\n",
       "\\item 24\n",
       "\\item 16\n",
       "\\item 13\n",
       "\\item 23\n",
       "\\item 36\n",
       "\\item 7\n",
       "\\item 14\n",
       "\\item 30\n",
       "\\item <NA>\n",
       "\\item 14\n",
       "\\item 18\n",
       "\\item 20\n",
       "\\end{enumerate*}\n"
      ],
      "text/markdown": [
       "1. 41\n",
       "2. 36\n",
       "3. 12\n",
       "4. 18\n",
       "5. &lt;NA&gt;\n",
       "6. 28\n",
       "7. 23\n",
       "8. 19\n",
       "9. 8\n",
       "10. &lt;NA&gt;\n",
       "11. 7\n",
       "12. 16\n",
       "13. 11\n",
       "14. 14\n",
       "15. 18\n",
       "16. 14\n",
       "17. 34\n",
       "18. 6\n",
       "19. 30\n",
       "20. 11\n",
       "21. 1\n",
       "22. 11\n",
       "23. 4\n",
       "24. 32\n",
       "25. &lt;NA&gt;\n",
       "26. &lt;NA&gt;\n",
       "27. &lt;NA&gt;\n",
       "28. 23\n",
       "29. 45\n",
       "30. 115\n",
       "31. 37\n",
       "32. &lt;NA&gt;\n",
       "33. &lt;NA&gt;\n",
       "34. &lt;NA&gt;\n",
       "35. &lt;NA&gt;\n",
       "36. &lt;NA&gt;\n",
       "37. &lt;NA&gt;\n",
       "38. 29\n",
       "39. &lt;NA&gt;\n",
       "40. 71\n",
       "41. 39\n",
       "42. &lt;NA&gt;\n",
       "43. &lt;NA&gt;\n",
       "44. 23\n",
       "45. &lt;NA&gt;\n",
       "46. &lt;NA&gt;\n",
       "47. 21\n",
       "48. 37\n",
       "49. 20\n",
       "50. 12\n",
       "51. 13\n",
       "52. &lt;NA&gt;\n",
       "53. &lt;NA&gt;\n",
       "54. &lt;NA&gt;\n",
       "55. &lt;NA&gt;\n",
       "56. &lt;NA&gt;\n",
       "57. &lt;NA&gt;\n",
       "58. &lt;NA&gt;\n",
       "59. &lt;NA&gt;\n",
       "60. &lt;NA&gt;\n",
       "61. &lt;NA&gt;\n",
       "62. 135\n",
       "63. 49\n",
       "64. 32\n",
       "65. &lt;NA&gt;\n",
       "66. 64\n",
       "67. 40\n",
       "68. 77\n",
       "69. 97\n",
       "70. 97\n",
       "71. 85\n",
       "72. &lt;NA&gt;\n",
       "73. 10\n",
       "74. 27\n",
       "75. &lt;NA&gt;\n",
       "76. 7\n",
       "77. 48\n",
       "78. 35\n",
       "79. 61\n",
       "80. 79\n",
       "81. 63\n",
       "82. 16\n",
       "83. &lt;NA&gt;\n",
       "84. &lt;NA&gt;\n",
       "85. 80\n",
       "86. 108\n",
       "87. 20\n",
       "88. 52\n",
       "89. 82\n",
       "90. 50\n",
       "91. 64\n",
       "92. 59\n",
       "93. 39\n",
       "94. 9\n",
       "95. 16\n",
       "96. 78\n",
       "97. 35\n",
       "98. 66\n",
       "99. 122\n",
       "100. 89\n",
       "101. 110\n",
       "102. &lt;NA&gt;\n",
       "103. &lt;NA&gt;\n",
       "104. 44\n",
       "105. 28\n",
       "106. 65\n",
       "107. &lt;NA&gt;\n",
       "108. 22\n",
       "109. 59\n",
       "110. 23\n",
       "111. 31\n",
       "112. 44\n",
       "113. 21\n",
       "114. 9\n",
       "115. &lt;NA&gt;\n",
       "116. 45\n",
       "117. 168\n",
       "118. 73\n",
       "119. &lt;NA&gt;\n",
       "120. 76\n",
       "121. 118\n",
       "122. 84\n",
       "123. 85\n",
       "124. 96\n",
       "125. 78\n",
       "126. 73\n",
       "127. 91\n",
       "128. 47\n",
       "129. 32\n",
       "130. 20\n",
       "131. 23\n",
       "132. 21\n",
       "133. 24\n",
       "134. 44\n",
       "135. 21\n",
       "136. 28\n",
       "137. 9\n",
       "138. 13\n",
       "139. 46\n",
       "140. 18\n",
       "141. 13\n",
       "142. 24\n",
       "143. 16\n",
       "144. 13\n",
       "145. 23\n",
       "146. 36\n",
       "147. 7\n",
       "148. 14\n",
       "149. 30\n",
       "150. &lt;NA&gt;\n",
       "151. 14\n",
       "152. 18\n",
       "153. 20\n",
       "\n",
       "\n"
      ],
      "text/plain": [
       "  [1]  41  36  12  18  NA  28  23  19   8  NA   7  16  11  14  18  14  34   6\n",
       " [19]  30  11   1  11   4  32  NA  NA  NA  23  45 115  37  NA  NA  NA  NA  NA\n",
       " [37]  NA  29  NA  71  39  NA  NA  23  NA  NA  21  37  20  12  13  NA  NA  NA\n",
       " [55]  NA  NA  NA  NA  NA  NA  NA 135  49  32  NA  64  40  77  97  97  85  NA\n",
       " [73]  10  27  NA   7  48  35  61  79  63  16  NA  NA  80 108  20  52  82  50\n",
       " [91]  64  59  39   9  16  78  35  66 122  89 110  NA  NA  44  28  65  NA  22\n",
       "[109]  59  23  31  44  21   9  NA  45 168  73  NA  76 118  84  85  96  78  73\n",
       "[127]  91  47  32  20  23  21  24  44  21  28   9  13  46  18  13  24  16  13\n",
       "[145]  23  36   7  14  30  NA  14  18  20"
      ]
     },
     "metadata": {},
     "output_type": "display_data"
    },
    {
     "data": {
      "text/html": [
       "42.1293103448276"
      ],
      "text/latex": [
       "42.1293103448276"
      ],
      "text/markdown": [
       "42.1293103448276"
      ],
      "text/plain": [
       "[1] 42.12931"
      ]
     },
     "metadata": {},
     "output_type": "display_data"
    }
   ],
   "source": [
    "#airquality\n",
    "airquality$Wind\n",
    "mean(airquality$Temp) # média das temperaturas no período\n",
    "mean(airquality$Ozone) # média do Ozone no período - note a resposta NA\n",
    "airquality$Ozone # a razão é que existem ‘‘dados perdidos’’ na variável Ozone\n",
    "mean(airquality$Ozone, na.rm=T) # média do Ozone no período - retirando valores perdido"
   ]
  },
  {
   "cell_type": "markdown",
   "metadata": {},
   "source": [
    " # Como ler e escrever um arquivo de Texto\n",
    " - read.table(\"amostras.txt\",header=TRUE)\n",
    " - write.table(dado, file = \"arquivo.txt\")"
   ]
  },
  {
   "cell_type": "code",
   "execution_count": 8,
   "metadata": {
    "scrolled": true
   },
   "outputs": [
    {
     "ename": "ERROR",
     "evalue": "Error in read.table(arquivo2.txt, header = TRUE): objeto 'arquivo2.txt' não encontrado\n",
     "output_type": "error",
     "traceback": [
      "Error in read.table(arquivo2.txt, header = TRUE): objeto 'arquivo2.txt' não encontrado\nTraceback:\n",
      "1. read.table(arquivo2.txt, header = TRUE)"
     ]
    }
   ],
   "source": [
    "tabela1 <- read.table(arquivo2.txt, header = TRUE)\n",
    "tabela11\n",
    "a<- c(1,2,3)\n",
    "b<- c(4,5,6)\n",
    "cov(a,b)\n",
    "cor(a,b)"
   ]
  },
  {
   "cell_type": "markdown",
   "metadata": {
    "collapsed": true,
    "scrolled": true
   },
   "source": [
    " # Como ler e escrever um arquivo Excell em R\n",
    " - read.table(\"arquivo.csv\", head=T, sep=\":\", dec=\",\")\n",
    " - read.csv(\"arquivo.csv\")\n",
    " - read.csv2(\"arquivo.csv\") \n",
    " - write.csv2(dado, file = \"arquivo.csv\", row.names = FALSE) "
   ]
  },
  {
   "cell_type": "code",
   "execution_count": 61,
   "metadata": {},
   "outputs": [],
   "source": [
    "dado <- read.csv(\"imd_student_blind.csv\")  # por exemplo: imd_student_blind.csv\n",
    "#str(dado)"
   ]
  },
  {
   "cell_type": "code",
   "execution_count": 62,
   "metadata": {
    "scrolled": false
   },
   "outputs": [
    {
     "data": {
      "text/html": [
       "<table>\n",
       "<thead><tr><th scope=col>X</th><th scope=col>a_ID</th><th scope=col>CEP</th><th scope=col>ano_ingresso</th><th scope=col>periodo_ingresso</th><th scope=col>status</th><th scope=col>ano_disciplina</th><th scope=col>periodo_disciplina</th><th scope=col>nota</th><th scope=col>disciplina_ID</th><th scope=col>status.disciplina</th></tr></thead>\n",
       "<tbody>\n",
       "\t<tr><td>0        </td><td>0        </td><td>59015430 </td><td>2014     </td><td>1        </td><td>CANCELADO</td><td>2014     </td><td>2        </td><td>2.6      </td><td>0        </td><td>Reprovado</td></tr>\n",
       "\t<tr><td>1        </td><td>0        </td><td>59015430 </td><td>2014     </td><td>1        </td><td>CANCELADO</td><td>2015     </td><td>1        </td><td>8.0      </td><td>0        </td><td>Aprovado </td></tr>\n",
       "\t<tr><td>2        </td><td>1        </td><td>59073120 </td><td>2014     </td><td>1        </td><td>CANCELADO</td><td>2014     </td><td>2        </td><td>0.1      </td><td>0        </td><td>Reprovado</td></tr>\n",
       "\t<tr><td>3        </td><td>2        </td><td>59072580 </td><td>2014     </td><td>1        </td><td>ATIVO    </td><td>2014     </td><td>2        </td><td>6.1      </td><td>0        </td><td>Aprovado </td></tr>\n",
       "\t<tr><td>4        </td><td>3        </td><td>59088150 </td><td>2014     </td><td>1        </td><td>ATIVO    </td><td>2014     </td><td>1        </td><td>3.0      </td><td>0        </td><td>Reprovado</td></tr>\n",
       "</tbody>\n",
       "</table>\n"
      ],
      "text/latex": [
       "\\begin{tabular}{r|lllllllllll}\n",
       " X & a\\_ID & CEP & ano\\_ingresso & periodo\\_ingresso & status & ano\\_disciplina & periodo\\_disciplina & nota & disciplina\\_ID & status.disciplina\\\\\n",
       "\\hline\n",
       "\t 0         & 0         & 59015430  & 2014      & 1         & CANCELADO & 2014      & 2         & 2.6       & 0         & Reprovado\\\\\n",
       "\t 1         & 0         & 59015430  & 2014      & 1         & CANCELADO & 2015      & 1         & 8.0       & 0         & Aprovado \\\\\n",
       "\t 2         & 1         & 59073120  & 2014      & 1         & CANCELADO & 2014      & 2         & 0.1       & 0         & Reprovado\\\\\n",
       "\t 3         & 2         & 59072580  & 2014      & 1         & ATIVO     & 2014      & 2         & 6.1       & 0         & Aprovado \\\\\n",
       "\t 4         & 3         & 59088150  & 2014      & 1         & ATIVO     & 2014      & 1         & 3.0       & 0         & Reprovado\\\\\n",
       "\\end{tabular}\n"
      ],
      "text/markdown": [
       "\n",
       "X | a_ID | CEP | ano_ingresso | periodo_ingresso | status | ano_disciplina | periodo_disciplina | nota | disciplina_ID | status.disciplina | \n",
       "|---|---|---|---|---|\n",
       "| 0         | 0         | 59015430  | 2014      | 1         | CANCELADO | 2014      | 2         | 2.6       | 0         | Reprovado | \n",
       "| 1         | 0         | 59015430  | 2014      | 1         | CANCELADO | 2015      | 1         | 8.0       | 0         | Aprovado  | \n",
       "| 2         | 1         | 59073120  | 2014      | 1         | CANCELADO | 2014      | 2         | 0.1       | 0         | Reprovado | \n",
       "| 3         | 2         | 59072580  | 2014      | 1         | ATIVO     | 2014      | 2         | 6.1       | 0         | Aprovado  | \n",
       "| 4         | 3         | 59088150  | 2014      | 1         | ATIVO     | 2014      | 1         | 3.0       | 0         | Reprovado | \n",
       "\n",
       "\n"
      ],
      "text/plain": [
       "  X a_ID CEP      ano_ingresso periodo_ingresso status    ano_disciplina\n",
       "1 0 0    59015430 2014         1                CANCELADO 2014          \n",
       "2 1 0    59015430 2014         1                CANCELADO 2015          \n",
       "3 2 1    59073120 2014         1                CANCELADO 2014          \n",
       "4 3 2    59072580 2014         1                ATIVO     2014          \n",
       "5 4 3    59088150 2014         1                ATIVO     2014          \n",
       "  periodo_disciplina nota disciplina_ID status.disciplina\n",
       "1 2                  2.6  0             Reprovado        \n",
       "2 1                  8.0  0             Aprovado         \n",
       "3 2                  0.1  0             Reprovado        \n",
       "4 2                  6.1  0             Aprovado         \n",
       "5 1                  3.0  0             Reprovado        "
      ]
     },
     "metadata": {},
     "output_type": "display_data"
    }
   ],
   "source": [
    "dado[1:5,]"
   ]
  },
  {
   "cell_type": "code",
   "execution_count": 68,
   "metadata": {
    "scrolled": false
   },
   "outputs": [
    {
     "data": {
      "text/html": [
       "4.62924411400248"
      ],
      "text/latex": [
       "4.62924411400248"
      ],
      "text/markdown": [
       "4.62924411400248"
      ],
      "text/plain": [
       "[1] 4.629244"
      ]
     },
     "metadata": {},
     "output_type": "display_data"
    },
    {
     "data": {
      "text/html": [
       "2.95352345025668"
      ],
      "text/latex": [
       "2.95352345025668"
      ],
      "text/markdown": [
       "2.95352345025668"
      ],
      "text/plain": [
       "[1] 2.953523"
      ]
     },
     "metadata": {},
     "output_type": "display_data"
    },
    {
     "data": {
      "text/html": [
       "0"
      ],
      "text/latex": [
       "0"
      ],
      "text/markdown": [
       "0"
      ],
      "text/plain": [
       "[1] 0"
      ]
     },
     "metadata": {},
     "output_type": "display_data"
    },
    {
     "data": {
      "text/html": [
       "10"
      ],
      "text/latex": [
       "10"
      ],
      "text/markdown": [
       "10"
      ],
      "text/plain": [
       "[1] 10"
      ]
     },
     "metadata": {},
     "output_type": "display_data"
    },
    {
     "data": {
      "text/html": [
       "10"
      ],
      "text/latex": [
       "10"
      ],
      "text/markdown": [
       "10"
      ],
      "text/plain": [
       "[1] 10"
      ]
     },
     "metadata": {},
     "output_type": "display_data"
    }
   ],
   "source": [
    "mean(dado$nota)\n",
    "sd(dado$nota)\n",
    "min(dado$nota)\n",
    "#dado$nota\n",
    "max(dado$nota)\n",
    "max(dado$nota) - min(dado$nota)"
   ]
  },
  {
   "cell_type": "markdown",
   "metadata": {},
   "source": [
    "Obtendo uma subtabela\n",
    "- tabela.parametro1 <- subset(tabela, parametro==1)\n",
    "- x <- subset(tabela, parametro1 == \"A\" & parametro2 >3)\n"
   ]
  },
  {
   "cell_type": "code",
   "execution_count": 76,
   "metadata": {},
   "outputs": [
    {
     "data": {
      "text/html": [
       "TRUE"
      ],
      "text/latex": [
       "TRUE"
      ],
      "text/markdown": [
       "TRUE"
      ],
      "text/plain": [
       "[1] TRUE"
      ]
     },
     "metadata": {},
     "output_type": "display_data"
    },
    {
     "name": "stdout",
     "output_type": "stream",
     "text": [
      "[1] \"Media dos alunos ativos em 2014 \"\n"
     ]
    },
    {
     "data": {
      "text/html": [
       "4.5305625"
      ],
      "text/latex": [
       "4.5305625"
      ],
      "text/markdown": [
       "4.5305625"
      ],
      "text/plain": [
       "[1] 4.530563"
      ]
     },
     "metadata": {},
     "output_type": "display_data"
    },
    {
     "name": "stdout",
     "output_type": "stream",
     "text": [
      "[1] \"Media dos alunos cancelados em 2014 \"\n"
     ]
    },
    {
     "data": {
      "text/html": [
       "3.30907534246575"
      ],
      "text/latex": [
       "3.30907534246575"
      ],
      "text/markdown": [
       "3.30907534246575"
      ],
      "text/plain": [
       "[1] 3.309075"
      ]
     },
     "metadata": {},
     "output_type": "display_data"
    },
    {
     "data": {
      "text/html": [
       "<table>\n",
       "<thead><tr><th></th><th scope=col>X</th><th scope=col>a_ID</th><th scope=col>CEP</th><th scope=col>ano_ingresso</th><th scope=col>periodo_ingresso</th><th scope=col>status</th><th scope=col>ano_disciplina</th><th scope=col>periodo_disciplina</th><th scope=col>nota</th><th scope=col>disciplina_ID</th><th scope=col>status.disciplina</th></tr></thead>\n",
       "<tbody>\n",
       "\t<tr><th scope=row>1</th><td>0        </td><td>0        </td><td>59015430 </td><td>2014     </td><td>1        </td><td>CANCELADO</td><td>2014     </td><td>2        </td><td>2.6      </td><td>0        </td><td>Reprovado</td></tr>\n",
       "\t<tr><th scope=row>2</th><td>1        </td><td>0        </td><td>59015430 </td><td>2014     </td><td>1        </td><td>CANCELADO</td><td>2015     </td><td>1        </td><td>8.0      </td><td>0        </td><td>Aprovado </td></tr>\n",
       "\t<tr><th scope=row>3</th><td>2        </td><td>1        </td><td>59073120 </td><td>2014     </td><td>1        </td><td>CANCELADO</td><td>2014     </td><td>2        </td><td>0.1      </td><td>0        </td><td>Reprovado</td></tr>\n",
       "\t<tr><th scope=row>7</th><td>6        </td><td>4        </td><td>59064245 </td><td>2014     </td><td>1        </td><td>CANCELADO</td><td>2014     </td><td>2        </td><td>2.1      </td><td>0        </td><td>Reprovado</td></tr>\n",
       "\t<tr><th scope=row>8</th><td>7        </td><td>4        </td><td>59064245 </td><td>2014     </td><td>1        </td><td>CANCELADO</td><td>2015     </td><td>1        </td><td>2.3      </td><td>0        </td><td>Reprovado</td></tr>\n",
       "\t<tr><th scope=row>10</th><td>9        </td><td>6        </td><td>59152780 </td><td>2014     </td><td>1        </td><td>CANCELADO</td><td>2014     </td><td>2        </td><td>2.4      </td><td>0        </td><td>Reprovado</td></tr>\n",
       "</tbody>\n",
       "</table>\n"
      ],
      "text/latex": [
       "\\begin{tabular}{r|lllllllllll}\n",
       "  & X & a\\_ID & CEP & ano\\_ingresso & periodo\\_ingresso & status & ano\\_disciplina & periodo\\_disciplina & nota & disciplina\\_ID & status.disciplina\\\\\n",
       "\\hline\n",
       "\t1 & 0         & 0         & 59015430  & 2014      & 1         & CANCELADO & 2014      & 2         & 2.6       & 0         & Reprovado\\\\\n",
       "\t2 & 1         & 0         & 59015430  & 2014      & 1         & CANCELADO & 2015      & 1         & 8.0       & 0         & Aprovado \\\\\n",
       "\t3 & 2         & 1         & 59073120  & 2014      & 1         & CANCELADO & 2014      & 2         & 0.1       & 0         & Reprovado\\\\\n",
       "\t7 & 6         & 4         & 59064245  & 2014      & 1         & CANCELADO & 2014      & 2         & 2.1       & 0         & Reprovado\\\\\n",
       "\t8 & 7         & 4         & 59064245  & 2014      & 1         & CANCELADO & 2015      & 1         & 2.3       & 0         & Reprovado\\\\\n",
       "\t10 & 9         & 6         & 59152780  & 2014      & 1         & CANCELADO & 2014      & 2         & 2.4       & 0         & Reprovado\\\\\n",
       "\\end{tabular}\n"
      ],
      "text/markdown": [
       "\n",
       "| <!--/--> | X | a_ID | CEP | ano_ingresso | periodo_ingresso | status | ano_disciplina | periodo_disciplina | nota | disciplina_ID | status.disciplina | \n",
       "|---|---|---|---|---|---|\n",
       "| 1 | 0         | 0         | 59015430  | 2014      | 1         | CANCELADO | 2014      | 2         | 2.6       | 0         | Reprovado | \n",
       "| 2 | 1         | 0         | 59015430  | 2014      | 1         | CANCELADO | 2015      | 1         | 8.0       | 0         | Aprovado  | \n",
       "| 3 | 2         | 1         | 59073120  | 2014      | 1         | CANCELADO | 2014      | 2         | 0.1       | 0         | Reprovado | \n",
       "| 7 | 6         | 4         | 59064245  | 2014      | 1         | CANCELADO | 2014      | 2         | 2.1       | 0         | Reprovado | \n",
       "| 8 | 7         | 4         | 59064245  | 2014      | 1         | CANCELADO | 2015      | 1         | 2.3       | 0         | Reprovado | \n",
       "| 10 | 9         | 6         | 59152780  | 2014      | 1         | CANCELADO | 2014      | 2         | 2.4       | 0         | Reprovado | \n",
       "\n",
       "\n"
      ],
      "text/plain": [
       "   X a_ID CEP      ano_ingresso periodo_ingresso status    ano_disciplina\n",
       "1  0 0    59015430 2014         1                CANCELADO 2014          \n",
       "2  1 0    59015430 2014         1                CANCELADO 2015          \n",
       "3  2 1    59073120 2014         1                CANCELADO 2014          \n",
       "7  6 4    59064245 2014         1                CANCELADO 2014          \n",
       "8  7 4    59064245 2014         1                CANCELADO 2015          \n",
       "10 9 6    59152780 2014         1                CANCELADO 2014          \n",
       "   periodo_disciplina nota disciplina_ID status.disciplina\n",
       "1  2                  2.6  0             Reprovado        \n",
       "2  1                  8.0  0             Aprovado         \n",
       "3  2                  0.1  0             Reprovado        \n",
       "7  2                  2.1  0             Reprovado        \n",
       "8  1                  2.3  0             Reprovado        \n",
       "10 2                  2.4  0             Reprovado        "
      ]
     },
     "metadata": {},
     "output_type": "display_data"
    }
   ],
   "source": [
    "#x <- subset(dado, ano_ingresso==2014)\n",
    "#head(x)\n",
    "#unique(dado$ano_ingresso) \n",
    "#unique(x$ano_ingresso)\n",
    "\n",
    "X <- subset(dado, ano_ingresso==2014 & status==\"ATIVO\")\n",
    "y <- subset(dado, ano_ingresso==2014 & status==\"CANCELADO\")\n",
    "\n",
    "media_x <- mean(x$nota)\n",
    "media_y <- mean(y$nota)\n",
    "\n",
    "media_x > media_y\n",
    "\n",
    "print(\"Media dos alunos ativos em 2014 \")\n",
    "media_x\n",
    "\n",
    "print(\"Media dos alunos cancelados em 2014 \")\n",
    "media_y\n",
    "\n",
    "head(y) # you cand add an integer to specify how many entries do u want"
   ]
  },
  {
   "cell_type": "code",
   "execution_count": 80,
   "metadata": {},
   "outputs": [
    {
     "data": {
      "text/html": [
       "4.5305625"
      ],
      "text/latex": [
       "4.5305625"
      ],
      "text/markdown": [
       "4.5305625"
      ],
      "text/plain": [
       "[1] 4.530563"
      ]
     },
     "metadata": {},
     "output_type": "display_data"
    },
    {
     "data": {
      "text/html": [
       "<table>\n",
       "<thead><tr><th></th><th scope=col>X</th><th scope=col>a_ID</th><th scope=col>CEP</th><th scope=col>ano_ingresso</th><th scope=col>periodo_ingresso</th><th scope=col>status</th><th scope=col>ano_disciplina</th><th scope=col>periodo_disciplina</th><th scope=col>nota</th><th scope=col>disciplina_ID</th><th scope=col>status.disciplina</th></tr></thead>\n",
       "<tbody>\n",
       "\t<tr><th scope=row>2</th><td> 1       </td><td> 0       </td><td>59015430 </td><td>2014     </td><td>1        </td><td>CANCELADO</td><td>2015     </td><td>1        </td><td>8.0      </td><td>0        </td><td>Aprovado </td></tr>\n",
       "\t<tr><th scope=row>4</th><td> 3       </td><td> 2       </td><td>59072580 </td><td>2014     </td><td>1        </td><td>ATIVO    </td><td>2014     </td><td>2        </td><td>6.1      </td><td>0        </td><td>Aprovado </td></tr>\n",
       "\t<tr><th scope=row>6</th><td> 5       </td><td> 3       </td><td>59088150 </td><td>2014     </td><td>1        </td><td>ATIVO    </td><td>2014     </td><td>2        </td><td>7.2      </td><td>0        </td><td>Aprovado </td></tr>\n",
       "\t<tr><th scope=row>9</th><td> 8       </td><td> 5       </td><td>59112430 </td><td>2014     </td><td>1        </td><td>ATIVO    </td><td>2014     </td><td>2        </td><td>8.9      </td><td>0        </td><td>Aprovado </td></tr>\n",
       "\t<tr><th scope=row>12</th><td>11       </td><td> 6       </td><td>59152780 </td><td>2014     </td><td>1        </td><td>CANCELADO</td><td>2015     </td><td>2        </td><td>6.0      </td><td>0        </td><td>Aprovado </td></tr>\n",
       "\t<tr><th scope=row>13</th><td>12       </td><td> 7       </td><td>59020330 </td><td>2014     </td><td>1        </td><td>ATIVO    </td><td>2014     </td><td>2        </td><td>5.6      </td><td>0        </td><td>Aprovado </td></tr>\n",
       "\t<tr><th scope=row>15</th><td>14       </td><td> 8       </td><td>59151610 </td><td>2014     </td><td>1        </td><td>ATIVO    </td><td>2015     </td><td>1        </td><td>6.9      </td><td>0        </td><td>Aprovado </td></tr>\n",
       "\t<tr><th scope=row>19</th><td>18       </td><td>10       </td><td>59075260 </td><td>2014     </td><td>1        </td><td>CANCELADO</td><td>2014     </td><td>2        </td><td>5.1      </td><td>0        </td><td>Aprovado </td></tr>\n",
       "\t<tr><th scope=row>23</th><td>22       </td><td>12       </td><td>59547000 </td><td>2014     </td><td>1        </td><td>ATIVO    </td><td>2015     </td><td>1        </td><td>5.9      </td><td>0        </td><td>Aprovado </td></tr>\n",
       "\t<tr><th scope=row>25</th><td>24       </td><td>13       </td><td>59082180 </td><td>2014     </td><td>1        </td><td>CANCELADO</td><td>2015     </td><td>1        </td><td>7.3      </td><td>0        </td><td>Aprovado </td></tr>\n",
       "\t<tr><th scope=row>28</th><td>27       </td><td>14       </td><td>59150500 </td><td>2014     </td><td>1        </td><td>ATIVO    </td><td>2015     </td><td>2        </td><td>7.7      </td><td>0        </td><td>Aprovado </td></tr>\n",
       "\t<tr><th scope=row>29</th><td>28       </td><td>15       </td><td>59151800 </td><td>2014     </td><td>1        </td><td>ATIVO    </td><td>2014     </td><td>2        </td><td>8.5      </td><td>0        </td><td>Aprovado </td></tr>\n",
       "\t<tr><th scope=row>30</th><td>29       </td><td>16       </td><td>59810000 </td><td>2014     </td><td>1        </td><td>ATIVO    </td><td>2014     </td><td>2        </td><td>9.8      </td><td>0        </td><td>Aprovado </td></tr>\n",
       "\t<tr><th scope=row>33</th><td>32       </td><td>17       </td><td>59115190 </td><td>2014     </td><td>1        </td><td>TRANCADO </td><td>2016     </td><td>1        </td><td>5.0      </td><td>0        </td><td>Aprovado </td></tr>\n",
       "\t<tr><th scope=row>34</th><td>33       </td><td>17       </td><td>59115190 </td><td>2014     </td><td>1        </td><td>TRANCADO </td><td>2016     </td><td>2        </td><td>8.1      </td><td>0        </td><td>Aprovado </td></tr>\n",
       "\t<tr><th scope=row>37</th><td>36       </td><td>20       </td><td>59090620 </td><td>2014     </td><td>1        </td><td>ATIVO    </td><td>2014     </td><td>2        </td><td>6.4      </td><td>0        </td><td>Aprovado </td></tr>\n",
       "\t<tr><th scope=row>38</th><td>37       </td><td>21       </td><td>59324000 </td><td>2014     </td><td>1        </td><td>ATIVO    </td><td>2014     </td><td>2        </td><td>7.5      </td><td>0        </td><td>Aprovado </td></tr>\n",
       "\t<tr><th scope=row>40</th><td>39       </td><td>23       </td><td>59070750 </td><td>2014     </td><td>2        </td><td>ATIVO    </td><td>2015     </td><td>1        </td><td>8.9      </td><td>0        </td><td>Aprovado </td></tr>\n",
       "\t<tr><th scope=row>41</th><td>40       </td><td>24       </td><td>59280000 </td><td>2014     </td><td>1        </td><td>CANCELADO</td><td>2015     </td><td>1        </td><td>7.6      </td><td>0        </td><td>Aprovado </td></tr>\n",
       "\t<tr><th scope=row>42</th><td>41       </td><td>25       </td><td>59115685 </td><td>2014     </td><td>1        </td><td>ATIVO    </td><td>2016     </td><td>1        </td><td>7.3      </td><td>0        </td><td>Aprovado </td></tr>\n",
       "\t<tr><th scope=row>45</th><td>44       </td><td>26       </td><td>59290000 </td><td>2014     </td><td>1        </td><td>ATIVO    </td><td>2015     </td><td>2        </td><td>6.6      </td><td>0        </td><td>Aprovado </td></tr>\n",
       "\t<tr><th scope=row>46</th><td>45       </td><td>27       </td><td>59040240 </td><td>2014     </td><td>1        </td><td>ATIVO    </td><td>2014     </td><td>1        </td><td>5.9      </td><td>0        </td><td>Aprovado </td></tr>\n",
       "\t<tr><th scope=row>50</th><td>49       </td><td>30       </td><td>59094300 </td><td>2014     </td><td>1        </td><td>ATIVO    </td><td>2014     </td><td>2        </td><td>6.8      </td><td>0        </td><td>Aprovado </td></tr>\n",
       "\t<tr><th scope=row>51</th><td>50       </td><td>31       </td><td>59020400 </td><td>2014     </td><td>1        </td><td>ATIVO    </td><td>2014     </td><td>2        </td><td>8.4      </td><td>0        </td><td>Aprovado </td></tr>\n",
       "\t<tr><th scope=row>53</th><td>52       </td><td>33       </td><td>59122495 </td><td>2014     </td><td>1        </td><td>ATIVO    </td><td>2014     </td><td>2        </td><td>7.5      </td><td>0        </td><td>Aprovado </td></tr>\n",
       "\t<tr><th scope=row>55</th><td>54       </td><td>34       </td><td>51011480 </td><td>2014     </td><td>1        </td><td>ATIVO    </td><td>2015     </td><td>1        </td><td>5.3      </td><td>0        </td><td>Aprovado </td></tr>\n",
       "\t<tr><th scope=row>57</th><td>56       </td><td>35       </td><td>59068310 </td><td>2014     </td><td>1        </td><td>CANCELADO</td><td>2015     </td><td>1        </td><td>5.5      </td><td>0        </td><td>Aprovado </td></tr>\n",
       "\t<tr><th scope=row>63</th><td>62       </td><td>38       </td><td>59124090 </td><td>2014     </td><td>1        </td><td>ATIVO    </td><td>2014     </td><td>2        </td><td>7.9      </td><td>0        </td><td>Aprovado </td></tr>\n",
       "\t<tr><th scope=row>64</th><td>63       </td><td>39       </td><td>59090310 </td><td>2014     </td><td>1        </td><td>ATIVO    </td><td>2014     </td><td>2        </td><td>6.0      </td><td>0        </td><td>Aprovado </td></tr>\n",
       "\t<tr><th scope=row>66</th><td>65       </td><td>41       </td><td>59151250 </td><td>2014     </td><td>1        </td><td>ATIVO    </td><td>2014     </td><td>2        </td><td>7.7      </td><td>0        </td><td>Aprovado </td></tr>\n",
       "\t<tr><th scope=row>⋮</th><td>⋮</td><td>⋮</td><td>⋮</td><td>⋮</td><td>⋮</td><td>⋮</td><td>⋮</td><td>⋮</td><td>⋮</td><td>⋮</td><td>⋮</td></tr>\n",
       "\t<tr><th scope=row>1556</th><td>1555     </td><td>128      </td><td>59290000 </td><td>2014     </td><td>1        </td><td>ATIVO    </td><td>2014     </td><td>2        </td><td>5.0      </td><td>6        </td><td>Aprovado </td></tr>\n",
       "\t<tr><th scope=row>1557</th><td>1556     </td><td>129      </td><td>59123700 </td><td>2014     </td><td>1        </td><td>ATIVO    </td><td>2014     </td><td>2        </td><td>6.0      </td><td>6        </td><td>Aprovado </td></tr>\n",
       "\t<tr><th scope=row>1558</th><td>1557     </td><td>130      </td><td>59110400 </td><td>2014     </td><td>1        </td><td>ATIVO    </td><td>2014     </td><td>2        </td><td>5.0      </td><td>6        </td><td>Aprovado </td></tr>\n",
       "\t<tr><th scope=row>1559</th><td>1558     </td><td>131      </td><td>59310000 </td><td>2014     </td><td>1        </td><td>ATIVO    </td><td>2014     </td><td>2        </td><td>8.1      </td><td>6        </td><td>Aprovado </td></tr>\n",
       "\t<tr><th scope=row>1562</th><td>1561     </td><td>210      </td><td>59380000 </td><td>2014     </td><td>1        </td><td>ATIVO    </td><td>2014     </td><td>2        </td><td>5.2      </td><td>6        </td><td>Aprovado </td></tr>\n",
       "\t<tr><th scope=row>1563</th><td>1562     </td><td>211      </td><td>59066020 </td><td>2014     </td><td>1        </td><td>FORMADO  </td><td>2014     </td><td>2        </td><td>8.7      </td><td>6        </td><td>Aprovado </td></tr>\n",
       "\t<tr><th scope=row>1564</th><td>1563     </td><td>133      </td><td> 5163000 </td><td>2014     </td><td>1        </td><td>ATIVO    </td><td>2014     </td><td>2        </td><td>7.0      </td><td>6        </td><td>Aprovado </td></tr>\n",
       "\t<tr><th scope=row>1565</th><td>1564     </td><td>136      </td><td>59650000 </td><td>2014     </td><td>1        </td><td>ATIVO    </td><td>2014     </td><td>2        </td><td>9.2      </td><td>6        </td><td>Aprovado </td></tr>\n",
       "\t<tr><th scope=row>1566</th><td>1565     </td><td>137      </td><td>59122080 </td><td>2014     </td><td>1        </td><td>ATIVO    </td><td>2014     </td><td>2        </td><td>6.6      </td><td>6        </td><td>Aprovado </td></tr>\n",
       "\t<tr><th scope=row>1567</th><td>1566     </td><td>140      </td><td>59080040 </td><td>2014     </td><td>1        </td><td>TRANCADO </td><td>2014     </td><td>2        </td><td>6.2      </td><td>6        </td><td>Aprovado </td></tr>\n",
       "\t<tr><th scope=row>1568</th><td>1567     </td><td>141      </td><td>59052220 </td><td>2014     </td><td>1        </td><td>FORMANDO </td><td>2014     </td><td>1        </td><td>8.4      </td><td>6        </td><td>Aprovado </td></tr>\n",
       "\t<tr><th scope=row>1575</th><td>1574     </td><td>144      </td><td>59070340 </td><td>2014     </td><td>1        </td><td>FORMANDO </td><td>2014     </td><td>2        </td><td>8.7      </td><td>6        </td><td>Aprovado </td></tr>\n",
       "\t<tr><th scope=row>1576</th><td>1575     </td><td>145      </td><td>59148783 </td><td>2014     </td><td>1        </td><td>ATIVO    </td><td>2015     </td><td>1        </td><td>8.1      </td><td>6        </td><td>Aprovado </td></tr>\n",
       "\t<tr><th scope=row>1577</th><td>1576     </td><td>146      </td><td>59150666 </td><td>2014     </td><td>1        </td><td>ATIVO    </td><td>2014     </td><td>2        </td><td>7.5      </td><td>6        </td><td>Aprovado </td></tr>\n",
       "\t<tr><th scope=row>1578</th><td>1577     </td><td>147      </td><td>59500000 </td><td>2014     </td><td>1        </td><td>ATIVO    </td><td>2014     </td><td>2        </td><td>6.2      </td><td>6        </td><td>Aprovado </td></tr>\n",
       "\t<tr><th scope=row>1579</th><td>1578     </td><td>149      </td><td>59108000 </td><td>2014     </td><td>1        </td><td>CANCELADO</td><td>2014     </td><td>2        </td><td>6.3      </td><td>6        </td><td>Aprovado </td></tr>\n",
       "\t<tr><th scope=row>1582</th><td>1581     </td><td>152      </td><td>59150220 </td><td>2014     </td><td>1        </td><td>ATIVO    </td><td>2014     </td><td>2        </td><td>7.2      </td><td>6        </td><td>Aprovado </td></tr>\n",
       "\t<tr><th scope=row>1583</th><td>1582     </td><td>153      </td><td>59064320 </td><td>2014     </td><td>1        </td><td>ATIVO    </td><td>2014     </td><td>2        </td><td>7.0      </td><td>6        </td><td>Aprovado </td></tr>\n",
       "\t<tr><th scope=row>1584</th><td>1583     </td><td>154      </td><td>59086360 </td><td>2014     </td><td>1        </td><td>ATIVO    </td><td>2014     </td><td>2        </td><td>7.2      </td><td>6        </td><td>Aprovado </td></tr>\n",
       "\t<tr><th scope=row>1585</th><td>1584     </td><td>155      </td><td>59343000 </td><td>2014     </td><td>1        </td><td>ATIVO    </td><td>2014     </td><td>2        </td><td>6.2      </td><td>6        </td><td>Aprovado </td></tr>\n",
       "\t<tr><th scope=row>1586</th><td>1585     </td><td>156      </td><td>59374000 </td><td>2014     </td><td>1        </td><td>ATIVO    </td><td>2014     </td><td>2        </td><td>5.0      </td><td>6        </td><td>Aprovado </td></tr>\n",
       "\t<tr><th scope=row>1587</th><td>1586     </td><td>157      </td><td>59056140 </td><td>2014     </td><td>1        </td><td>ATIVO    </td><td>2014     </td><td>2        </td><td>5.2      </td><td>6        </td><td>Aprovado </td></tr>\n",
       "\t<tr><th scope=row>1588</th><td>1587     </td><td>158      </td><td>59153150 </td><td>2014     </td><td>1        </td><td>ATIVO    </td><td>2014     </td><td>2        </td><td>5.2      </td><td>6        </td><td>Aprovado </td></tr>\n",
       "\t<tr><th scope=row>1590</th><td>1589     </td><td>160      </td><td>59122390 </td><td>2014     </td><td>1        </td><td>ATIVO    </td><td>2015     </td><td>1        </td><td>7.5      </td><td>6        </td><td>Aprovado </td></tr>\n",
       "\t<tr><th scope=row>1592</th><td>1591     </td><td>162      </td><td>59030470 </td><td>2014     </td><td>1        </td><td>ATIVO    </td><td>2014     </td><td>2        </td><td>8.2      </td><td>6        </td><td>Aprovado </td></tr>\n",
       "\t<tr><th scope=row>1593</th><td>1592     </td><td>163      </td><td>59072610 </td><td>2014     </td><td>1        </td><td>TRANCADO </td><td>2014     </td><td>2        </td><td>5.4      </td><td>6        </td><td>Aprovado </td></tr>\n",
       "\t<tr><th scope=row>1594</th><td>1593     </td><td>164      </td><td>59050110 </td><td>2014     </td><td>1        </td><td>CANCELADO</td><td>2014     </td><td>2        </td><td>5.9      </td><td>6        </td><td>Aprovado </td></tr>\n",
       "\t<tr><th scope=row>1595</th><td>1594     </td><td>165      </td><td>59106114 </td><td>2014     </td><td>1        </td><td>ATIVO    </td><td>2014     </td><td>2        </td><td>6.6      </td><td>6        </td><td>Aprovado </td></tr>\n",
       "\t<tr><th scope=row>1596</th><td>1595     </td><td>166      </td><td>59114253 </td><td>2014     </td><td>1        </td><td>ATIVO    </td><td>2014     </td><td>2        </td><td>6.5      </td><td>6        </td><td>Aprovado </td></tr>\n",
       "\t<tr><th scope=row>1600</th><td>1599     </td><td>169      </td><td>59347000 </td><td>2014     </td><td>1        </td><td>CANCELADO</td><td>2014     </td><td>2        </td><td>9.7      </td><td>6        </td><td>Aprovado </td></tr>\n",
       "</tbody>\n",
       "</table>\n"
      ],
      "text/latex": [
       "\\begin{tabular}{r|lllllllllll}\n",
       "  & X & a\\_ID & CEP & ano\\_ingresso & periodo\\_ingresso & status & ano\\_disciplina & periodo\\_disciplina & nota & disciplina\\_ID & status.disciplina\\\\\n",
       "\\hline\n",
       "\t2 &  1        &  0        & 59015430  & 2014      & 1         & CANCELADO & 2015      & 1         & 8.0       & 0         & Aprovado \\\\\n",
       "\t4 &  3        &  2        & 59072580  & 2014      & 1         & ATIVO     & 2014      & 2         & 6.1       & 0         & Aprovado \\\\\n",
       "\t6 &  5        &  3        & 59088150  & 2014      & 1         & ATIVO     & 2014      & 2         & 7.2       & 0         & Aprovado \\\\\n",
       "\t9 &  8        &  5        & 59112430  & 2014      & 1         & ATIVO     & 2014      & 2         & 8.9       & 0         & Aprovado \\\\\n",
       "\t12 & 11        &  6        & 59152780  & 2014      & 1         & CANCELADO & 2015      & 2         & 6.0       & 0         & Aprovado \\\\\n",
       "\t13 & 12        &  7        & 59020330  & 2014      & 1         & ATIVO     & 2014      & 2         & 5.6       & 0         & Aprovado \\\\\n",
       "\t15 & 14        &  8        & 59151610  & 2014      & 1         & ATIVO     & 2015      & 1         & 6.9       & 0         & Aprovado \\\\\n",
       "\t19 & 18        & 10        & 59075260  & 2014      & 1         & CANCELADO & 2014      & 2         & 5.1       & 0         & Aprovado \\\\\n",
       "\t23 & 22        & 12        & 59547000  & 2014      & 1         & ATIVO     & 2015      & 1         & 5.9       & 0         & Aprovado \\\\\n",
       "\t25 & 24        & 13        & 59082180  & 2014      & 1         & CANCELADO & 2015      & 1         & 7.3       & 0         & Aprovado \\\\\n",
       "\t28 & 27        & 14        & 59150500  & 2014      & 1         & ATIVO     & 2015      & 2         & 7.7       & 0         & Aprovado \\\\\n",
       "\t29 & 28        & 15        & 59151800  & 2014      & 1         & ATIVO     & 2014      & 2         & 8.5       & 0         & Aprovado \\\\\n",
       "\t30 & 29        & 16        & 59810000  & 2014      & 1         & ATIVO     & 2014      & 2         & 9.8       & 0         & Aprovado \\\\\n",
       "\t33 & 32        & 17        & 59115190  & 2014      & 1         & TRANCADO  & 2016      & 1         & 5.0       & 0         & Aprovado \\\\\n",
       "\t34 & 33        & 17        & 59115190  & 2014      & 1         & TRANCADO  & 2016      & 2         & 8.1       & 0         & Aprovado \\\\\n",
       "\t37 & 36        & 20        & 59090620  & 2014      & 1         & ATIVO     & 2014      & 2         & 6.4       & 0         & Aprovado \\\\\n",
       "\t38 & 37        & 21        & 59324000  & 2014      & 1         & ATIVO     & 2014      & 2         & 7.5       & 0         & Aprovado \\\\\n",
       "\t40 & 39        & 23        & 59070750  & 2014      & 2         & ATIVO     & 2015      & 1         & 8.9       & 0         & Aprovado \\\\\n",
       "\t41 & 40        & 24        & 59280000  & 2014      & 1         & CANCELADO & 2015      & 1         & 7.6       & 0         & Aprovado \\\\\n",
       "\t42 & 41        & 25        & 59115685  & 2014      & 1         & ATIVO     & 2016      & 1         & 7.3       & 0         & Aprovado \\\\\n",
       "\t45 & 44        & 26        & 59290000  & 2014      & 1         & ATIVO     & 2015      & 2         & 6.6       & 0         & Aprovado \\\\\n",
       "\t46 & 45        & 27        & 59040240  & 2014      & 1         & ATIVO     & 2014      & 1         & 5.9       & 0         & Aprovado \\\\\n",
       "\t50 & 49        & 30        & 59094300  & 2014      & 1         & ATIVO     & 2014      & 2         & 6.8       & 0         & Aprovado \\\\\n",
       "\t51 & 50        & 31        & 59020400  & 2014      & 1         & ATIVO     & 2014      & 2         & 8.4       & 0         & Aprovado \\\\\n",
       "\t53 & 52        & 33        & 59122495  & 2014      & 1         & ATIVO     & 2014      & 2         & 7.5       & 0         & Aprovado \\\\\n",
       "\t55 & 54        & 34        & 51011480  & 2014      & 1         & ATIVO     & 2015      & 1         & 5.3       & 0         & Aprovado \\\\\n",
       "\t57 & 56        & 35        & 59068310  & 2014      & 1         & CANCELADO & 2015      & 1         & 5.5       & 0         & Aprovado \\\\\n",
       "\t63 & 62        & 38        & 59124090  & 2014      & 1         & ATIVO     & 2014      & 2         & 7.9       & 0         & Aprovado \\\\\n",
       "\t64 & 63        & 39        & 59090310  & 2014      & 1         & ATIVO     & 2014      & 2         & 6.0       & 0         & Aprovado \\\\\n",
       "\t66 & 65        & 41        & 59151250  & 2014      & 1         & ATIVO     & 2014      & 2         & 7.7       & 0         & Aprovado \\\\\n",
       "\t⋮ & ⋮ & ⋮ & ⋮ & ⋮ & ⋮ & ⋮ & ⋮ & ⋮ & ⋮ & ⋮ & ⋮\\\\\n",
       "\t1556 & 1555      & 128       & 59290000  & 2014      & 1         & ATIVO     & 2014      & 2         & 5.0       & 6         & Aprovado \\\\\n",
       "\t1557 & 1556      & 129       & 59123700  & 2014      & 1         & ATIVO     & 2014      & 2         & 6.0       & 6         & Aprovado \\\\\n",
       "\t1558 & 1557      & 130       & 59110400  & 2014      & 1         & ATIVO     & 2014      & 2         & 5.0       & 6         & Aprovado \\\\\n",
       "\t1559 & 1558      & 131       & 59310000  & 2014      & 1         & ATIVO     & 2014      & 2         & 8.1       & 6         & Aprovado \\\\\n",
       "\t1562 & 1561      & 210       & 59380000  & 2014      & 1         & ATIVO     & 2014      & 2         & 5.2       & 6         & Aprovado \\\\\n",
       "\t1563 & 1562      & 211       & 59066020  & 2014      & 1         & FORMADO   & 2014      & 2         & 8.7       & 6         & Aprovado \\\\\n",
       "\t1564 & 1563      & 133       &  5163000  & 2014      & 1         & ATIVO     & 2014      & 2         & 7.0       & 6         & Aprovado \\\\\n",
       "\t1565 & 1564      & 136       & 59650000  & 2014      & 1         & ATIVO     & 2014      & 2         & 9.2       & 6         & Aprovado \\\\\n",
       "\t1566 & 1565      & 137       & 59122080  & 2014      & 1         & ATIVO     & 2014      & 2         & 6.6       & 6         & Aprovado \\\\\n",
       "\t1567 & 1566      & 140       & 59080040  & 2014      & 1         & TRANCADO  & 2014      & 2         & 6.2       & 6         & Aprovado \\\\\n",
       "\t1568 & 1567      & 141       & 59052220  & 2014      & 1         & FORMANDO  & 2014      & 1         & 8.4       & 6         & Aprovado \\\\\n",
       "\t1575 & 1574      & 144       & 59070340  & 2014      & 1         & FORMANDO  & 2014      & 2         & 8.7       & 6         & Aprovado \\\\\n",
       "\t1576 & 1575      & 145       & 59148783  & 2014      & 1         & ATIVO     & 2015      & 1         & 8.1       & 6         & Aprovado \\\\\n",
       "\t1577 & 1576      & 146       & 59150666  & 2014      & 1         & ATIVO     & 2014      & 2         & 7.5       & 6         & Aprovado \\\\\n",
       "\t1578 & 1577      & 147       & 59500000  & 2014      & 1         & ATIVO     & 2014      & 2         & 6.2       & 6         & Aprovado \\\\\n",
       "\t1579 & 1578      & 149       & 59108000  & 2014      & 1         & CANCELADO & 2014      & 2         & 6.3       & 6         & Aprovado \\\\\n",
       "\t1582 & 1581      & 152       & 59150220  & 2014      & 1         & ATIVO     & 2014      & 2         & 7.2       & 6         & Aprovado \\\\\n",
       "\t1583 & 1582      & 153       & 59064320  & 2014      & 1         & ATIVO     & 2014      & 2         & 7.0       & 6         & Aprovado \\\\\n",
       "\t1584 & 1583      & 154       & 59086360  & 2014      & 1         & ATIVO     & 2014      & 2         & 7.2       & 6         & Aprovado \\\\\n",
       "\t1585 & 1584      & 155       & 59343000  & 2014      & 1         & ATIVO     & 2014      & 2         & 6.2       & 6         & Aprovado \\\\\n",
       "\t1586 & 1585      & 156       & 59374000  & 2014      & 1         & ATIVO     & 2014      & 2         & 5.0       & 6         & Aprovado \\\\\n",
       "\t1587 & 1586      & 157       & 59056140  & 2014      & 1         & ATIVO     & 2014      & 2         & 5.2       & 6         & Aprovado \\\\\n",
       "\t1588 & 1587      & 158       & 59153150  & 2014      & 1         & ATIVO     & 2014      & 2         & 5.2       & 6         & Aprovado \\\\\n",
       "\t1590 & 1589      & 160       & 59122390  & 2014      & 1         & ATIVO     & 2015      & 1         & 7.5       & 6         & Aprovado \\\\\n",
       "\t1592 & 1591      & 162       & 59030470  & 2014      & 1         & ATIVO     & 2014      & 2         & 8.2       & 6         & Aprovado \\\\\n",
       "\t1593 & 1592      & 163       & 59072610  & 2014      & 1         & TRANCADO  & 2014      & 2         & 5.4       & 6         & Aprovado \\\\\n",
       "\t1594 & 1593      & 164       & 59050110  & 2014      & 1         & CANCELADO & 2014      & 2         & 5.9       & 6         & Aprovado \\\\\n",
       "\t1595 & 1594      & 165       & 59106114  & 2014      & 1         & ATIVO     & 2014      & 2         & 6.6       & 6         & Aprovado \\\\\n",
       "\t1596 & 1595      & 166       & 59114253  & 2014      & 1         & ATIVO     & 2014      & 2         & 6.5       & 6         & Aprovado \\\\\n",
       "\t1600 & 1599      & 169       & 59347000  & 2014      & 1         & CANCELADO & 2014      & 2         & 9.7       & 6         & Aprovado \\\\\n",
       "\\end{tabular}\n"
      ],
      "text/markdown": [
       "\n",
       "| <!--/--> | X | a_ID | CEP | ano_ingresso | periodo_ingresso | status | ano_disciplina | periodo_disciplina | nota | disciplina_ID | status.disciplina | \n",
       "|---|---|---|---|---|---|---|---|---|---|---|---|---|---|---|---|---|---|---|---|---|---|---|---|---|---|---|---|---|---|---|---|---|---|---|---|---|---|---|---|---|---|---|---|---|---|---|---|---|---|---|---|---|---|---|---|---|---|---|---|---|\n",
       "| 2 |  1        |  0        | 59015430  | 2014      | 1         | CANCELADO | 2015      | 1         | 8.0       | 0         | Aprovado  | \n",
       "| 4 |  3        |  2        | 59072580  | 2014      | 1         | ATIVO     | 2014      | 2         | 6.1       | 0         | Aprovado  | \n",
       "| 6 |  5        |  3        | 59088150  | 2014      | 1         | ATIVO     | 2014      | 2         | 7.2       | 0         | Aprovado  | \n",
       "| 9 |  8        |  5        | 59112430  | 2014      | 1         | ATIVO     | 2014      | 2         | 8.9       | 0         | Aprovado  | \n",
       "| 12 | 11        |  6        | 59152780  | 2014      | 1         | CANCELADO | 2015      | 2         | 6.0       | 0         | Aprovado  | \n",
       "| 13 | 12        |  7        | 59020330  | 2014      | 1         | ATIVO     | 2014      | 2         | 5.6       | 0         | Aprovado  | \n",
       "| 15 | 14        |  8        | 59151610  | 2014      | 1         | ATIVO     | 2015      | 1         | 6.9       | 0         | Aprovado  | \n",
       "| 19 | 18        | 10        | 59075260  | 2014      | 1         | CANCELADO | 2014      | 2         | 5.1       | 0         | Aprovado  | \n",
       "| 23 | 22        | 12        | 59547000  | 2014      | 1         | ATIVO     | 2015      | 1         | 5.9       | 0         | Aprovado  | \n",
       "| 25 | 24        | 13        | 59082180  | 2014      | 1         | CANCELADO | 2015      | 1         | 7.3       | 0         | Aprovado  | \n",
       "| 28 | 27        | 14        | 59150500  | 2014      | 1         | ATIVO     | 2015      | 2         | 7.7       | 0         | Aprovado  | \n",
       "| 29 | 28        | 15        | 59151800  | 2014      | 1         | ATIVO     | 2014      | 2         | 8.5       | 0         | Aprovado  | \n",
       "| 30 | 29        | 16        | 59810000  | 2014      | 1         | ATIVO     | 2014      | 2         | 9.8       | 0         | Aprovado  | \n",
       "| 33 | 32        | 17        | 59115190  | 2014      | 1         | TRANCADO  | 2016      | 1         | 5.0       | 0         | Aprovado  | \n",
       "| 34 | 33        | 17        | 59115190  | 2014      | 1         | TRANCADO  | 2016      | 2         | 8.1       | 0         | Aprovado  | \n",
       "| 37 | 36        | 20        | 59090620  | 2014      | 1         | ATIVO     | 2014      | 2         | 6.4       | 0         | Aprovado  | \n",
       "| 38 | 37        | 21        | 59324000  | 2014      | 1         | ATIVO     | 2014      | 2         | 7.5       | 0         | Aprovado  | \n",
       "| 40 | 39        | 23        | 59070750  | 2014      | 2         | ATIVO     | 2015      | 1         | 8.9       | 0         | Aprovado  | \n",
       "| 41 | 40        | 24        | 59280000  | 2014      | 1         | CANCELADO | 2015      | 1         | 7.6       | 0         | Aprovado  | \n",
       "| 42 | 41        | 25        | 59115685  | 2014      | 1         | ATIVO     | 2016      | 1         | 7.3       | 0         | Aprovado  | \n",
       "| 45 | 44        | 26        | 59290000  | 2014      | 1         | ATIVO     | 2015      | 2         | 6.6       | 0         | Aprovado  | \n",
       "| 46 | 45        | 27        | 59040240  | 2014      | 1         | ATIVO     | 2014      | 1         | 5.9       | 0         | Aprovado  | \n",
       "| 50 | 49        | 30        | 59094300  | 2014      | 1         | ATIVO     | 2014      | 2         | 6.8       | 0         | Aprovado  | \n",
       "| 51 | 50        | 31        | 59020400  | 2014      | 1         | ATIVO     | 2014      | 2         | 8.4       | 0         | Aprovado  | \n",
       "| 53 | 52        | 33        | 59122495  | 2014      | 1         | ATIVO     | 2014      | 2         | 7.5       | 0         | Aprovado  | \n",
       "| 55 | 54        | 34        | 51011480  | 2014      | 1         | ATIVO     | 2015      | 1         | 5.3       | 0         | Aprovado  | \n",
       "| 57 | 56        | 35        | 59068310  | 2014      | 1         | CANCELADO | 2015      | 1         | 5.5       | 0         | Aprovado  | \n",
       "| 63 | 62        | 38        | 59124090  | 2014      | 1         | ATIVO     | 2014      | 2         | 7.9       | 0         | Aprovado  | \n",
       "| 64 | 63        | 39        | 59090310  | 2014      | 1         | ATIVO     | 2014      | 2         | 6.0       | 0         | Aprovado  | \n",
       "| 66 | 65        | 41        | 59151250  | 2014      | 1         | ATIVO     | 2014      | 2         | 7.7       | 0         | Aprovado  | \n",
       "| ⋮ | ⋮ | ⋮ | ⋮ | ⋮ | ⋮ | ⋮ | ⋮ | ⋮ | ⋮ | ⋮ | ⋮ | \n",
       "| 1556 | 1555      | 128       | 59290000  | 2014      | 1         | ATIVO     | 2014      | 2         | 5.0       | 6         | Aprovado  | \n",
       "| 1557 | 1556      | 129       | 59123700  | 2014      | 1         | ATIVO     | 2014      | 2         | 6.0       | 6         | Aprovado  | \n",
       "| 1558 | 1557      | 130       | 59110400  | 2014      | 1         | ATIVO     | 2014      | 2         | 5.0       | 6         | Aprovado  | \n",
       "| 1559 | 1558      | 131       | 59310000  | 2014      | 1         | ATIVO     | 2014      | 2         | 8.1       | 6         | Aprovado  | \n",
       "| 1562 | 1561      | 210       | 59380000  | 2014      | 1         | ATIVO     | 2014      | 2         | 5.2       | 6         | Aprovado  | \n",
       "| 1563 | 1562      | 211       | 59066020  | 2014      | 1         | FORMADO   | 2014      | 2         | 8.7       | 6         | Aprovado  | \n",
       "| 1564 | 1563      | 133       |  5163000  | 2014      | 1         | ATIVO     | 2014      | 2         | 7.0       | 6         | Aprovado  | \n",
       "| 1565 | 1564      | 136       | 59650000  | 2014      | 1         | ATIVO     | 2014      | 2         | 9.2       | 6         | Aprovado  | \n",
       "| 1566 | 1565      | 137       | 59122080  | 2014      | 1         | ATIVO     | 2014      | 2         | 6.6       | 6         | Aprovado  | \n",
       "| 1567 | 1566      | 140       | 59080040  | 2014      | 1         | TRANCADO  | 2014      | 2         | 6.2       | 6         | Aprovado  | \n",
       "| 1568 | 1567      | 141       | 59052220  | 2014      | 1         | FORMANDO  | 2014      | 1         | 8.4       | 6         | Aprovado  | \n",
       "| 1575 | 1574      | 144       | 59070340  | 2014      | 1         | FORMANDO  | 2014      | 2         | 8.7       | 6         | Aprovado  | \n",
       "| 1576 | 1575      | 145       | 59148783  | 2014      | 1         | ATIVO     | 2015      | 1         | 8.1       | 6         | Aprovado  | \n",
       "| 1577 | 1576      | 146       | 59150666  | 2014      | 1         | ATIVO     | 2014      | 2         | 7.5       | 6         | Aprovado  | \n",
       "| 1578 | 1577      | 147       | 59500000  | 2014      | 1         | ATIVO     | 2014      | 2         | 6.2       | 6         | Aprovado  | \n",
       "| 1579 | 1578      | 149       | 59108000  | 2014      | 1         | CANCELADO | 2014      | 2         | 6.3       | 6         | Aprovado  | \n",
       "| 1582 | 1581      | 152       | 59150220  | 2014      | 1         | ATIVO     | 2014      | 2         | 7.2       | 6         | Aprovado  | \n",
       "| 1583 | 1582      | 153       | 59064320  | 2014      | 1         | ATIVO     | 2014      | 2         | 7.0       | 6         | Aprovado  | \n",
       "| 1584 | 1583      | 154       | 59086360  | 2014      | 1         | ATIVO     | 2014      | 2         | 7.2       | 6         | Aprovado  | \n",
       "| 1585 | 1584      | 155       | 59343000  | 2014      | 1         | ATIVO     | 2014      | 2         | 6.2       | 6         | Aprovado  | \n",
       "| 1586 | 1585      | 156       | 59374000  | 2014      | 1         | ATIVO     | 2014      | 2         | 5.0       | 6         | Aprovado  | \n",
       "| 1587 | 1586      | 157       | 59056140  | 2014      | 1         | ATIVO     | 2014      | 2         | 5.2       | 6         | Aprovado  | \n",
       "| 1588 | 1587      | 158       | 59153150  | 2014      | 1         | ATIVO     | 2014      | 2         | 5.2       | 6         | Aprovado  | \n",
       "| 1590 | 1589      | 160       | 59122390  | 2014      | 1         | ATIVO     | 2015      | 1         | 7.5       | 6         | Aprovado  | \n",
       "| 1592 | 1591      | 162       | 59030470  | 2014      | 1         | ATIVO     | 2014      | 2         | 8.2       | 6         | Aprovado  | \n",
       "| 1593 | 1592      | 163       | 59072610  | 2014      | 1         | TRANCADO  | 2014      | 2         | 5.4       | 6         | Aprovado  | \n",
       "| 1594 | 1593      | 164       | 59050110  | 2014      | 1         | CANCELADO | 2014      | 2         | 5.9       | 6         | Aprovado  | \n",
       "| 1595 | 1594      | 165       | 59106114  | 2014      | 1         | ATIVO     | 2014      | 2         | 6.6       | 6         | Aprovado  | \n",
       "| 1596 | 1595      | 166       | 59114253  | 2014      | 1         | ATIVO     | 2014      | 2         | 6.5       | 6         | Aprovado  | \n",
       "| 1600 | 1599      | 169       | 59347000  | 2014      | 1         | CANCELADO | 2014      | 2         | 9.7       | 6         | Aprovado  | \n",
       "\n",
       "\n"
      ],
      "text/plain": [
       "     X    a_ID CEP      ano_ingresso periodo_ingresso status    ano_disciplina\n",
       "2     1    0   59015430 2014         1                CANCELADO 2015          \n",
       "4     3    2   59072580 2014         1                ATIVO     2014          \n",
       "6     5    3   59088150 2014         1                ATIVO     2014          \n",
       "9     8    5   59112430 2014         1                ATIVO     2014          \n",
       "12   11    6   59152780 2014         1                CANCELADO 2015          \n",
       "13   12    7   59020330 2014         1                ATIVO     2014          \n",
       "15   14    8   59151610 2014         1                ATIVO     2015          \n",
       "19   18   10   59075260 2014         1                CANCELADO 2014          \n",
       "23   22   12   59547000 2014         1                ATIVO     2015          \n",
       "25   24   13   59082180 2014         1                CANCELADO 2015          \n",
       "28   27   14   59150500 2014         1                ATIVO     2015          \n",
       "29   28   15   59151800 2014         1                ATIVO     2014          \n",
       "30   29   16   59810000 2014         1                ATIVO     2014          \n",
       "33   32   17   59115190 2014         1                TRANCADO  2016          \n",
       "34   33   17   59115190 2014         1                TRANCADO  2016          \n",
       "37   36   20   59090620 2014         1                ATIVO     2014          \n",
       "38   37   21   59324000 2014         1                ATIVO     2014          \n",
       "40   39   23   59070750 2014         2                ATIVO     2015          \n",
       "41   40   24   59280000 2014         1                CANCELADO 2015          \n",
       "42   41   25   59115685 2014         1                ATIVO     2016          \n",
       "45   44   26   59290000 2014         1                ATIVO     2015          \n",
       "46   45   27   59040240 2014         1                ATIVO     2014          \n",
       "50   49   30   59094300 2014         1                ATIVO     2014          \n",
       "51   50   31   59020400 2014         1                ATIVO     2014          \n",
       "53   52   33   59122495 2014         1                ATIVO     2014          \n",
       "55   54   34   51011480 2014         1                ATIVO     2015          \n",
       "57   56   35   59068310 2014         1                CANCELADO 2015          \n",
       "63   62   38   59124090 2014         1                ATIVO     2014          \n",
       "64   63   39   59090310 2014         1                ATIVO     2014          \n",
       "66   65   41   59151250 2014         1                ATIVO     2014          \n",
       "⋮    ⋮    ⋮    ⋮        ⋮            ⋮                ⋮         ⋮             \n",
       "1556 1555 128  59290000 2014         1                ATIVO     2014          \n",
       "1557 1556 129  59123700 2014         1                ATIVO     2014          \n",
       "1558 1557 130  59110400 2014         1                ATIVO     2014          \n",
       "1559 1558 131  59310000 2014         1                ATIVO     2014          \n",
       "1562 1561 210  59380000 2014         1                ATIVO     2014          \n",
       "1563 1562 211  59066020 2014         1                FORMADO   2014          \n",
       "1564 1563 133   5163000 2014         1                ATIVO     2014          \n",
       "1565 1564 136  59650000 2014         1                ATIVO     2014          \n",
       "1566 1565 137  59122080 2014         1                ATIVO     2014          \n",
       "1567 1566 140  59080040 2014         1                TRANCADO  2014          \n",
       "1568 1567 141  59052220 2014         1                FORMANDO  2014          \n",
       "1575 1574 144  59070340 2014         1                FORMANDO  2014          \n",
       "1576 1575 145  59148783 2014         1                ATIVO     2015          \n",
       "1577 1576 146  59150666 2014         1                ATIVO     2014          \n",
       "1578 1577 147  59500000 2014         1                ATIVO     2014          \n",
       "1579 1578 149  59108000 2014         1                CANCELADO 2014          \n",
       "1582 1581 152  59150220 2014         1                ATIVO     2014          \n",
       "1583 1582 153  59064320 2014         1                ATIVO     2014          \n",
       "1584 1583 154  59086360 2014         1                ATIVO     2014          \n",
       "1585 1584 155  59343000 2014         1                ATIVO     2014          \n",
       "1586 1585 156  59374000 2014         1                ATIVO     2014          \n",
       "1587 1586 157  59056140 2014         1                ATIVO     2014          \n",
       "1588 1587 158  59153150 2014         1                ATIVO     2014          \n",
       "1590 1589 160  59122390 2014         1                ATIVO     2015          \n",
       "1592 1591 162  59030470 2014         1                ATIVO     2014          \n",
       "1593 1592 163  59072610 2014         1                TRANCADO  2014          \n",
       "1594 1593 164  59050110 2014         1                CANCELADO 2014          \n",
       "1595 1594 165  59106114 2014         1                ATIVO     2014          \n",
       "1596 1595 166  59114253 2014         1                ATIVO     2014          \n",
       "1600 1599 169  59347000 2014         1                CANCELADO 2014          \n",
       "     periodo_disciplina nota disciplina_ID status.disciplina\n",
       "2    1                  8.0  0             Aprovado         \n",
       "4    2                  6.1  0             Aprovado         \n",
       "6    2                  7.2  0             Aprovado         \n",
       "9    2                  8.9  0             Aprovado         \n",
       "12   2                  6.0  0             Aprovado         \n",
       "13   2                  5.6  0             Aprovado         \n",
       "15   1                  6.9  0             Aprovado         \n",
       "19   2                  5.1  0             Aprovado         \n",
       "23   1                  5.9  0             Aprovado         \n",
       "25   1                  7.3  0             Aprovado         \n",
       "28   2                  7.7  0             Aprovado         \n",
       "29   2                  8.5  0             Aprovado         \n",
       "30   2                  9.8  0             Aprovado         \n",
       "33   1                  5.0  0             Aprovado         \n",
       "34   2                  8.1  0             Aprovado         \n",
       "37   2                  6.4  0             Aprovado         \n",
       "38   2                  7.5  0             Aprovado         \n",
       "40   1                  8.9  0             Aprovado         \n",
       "41   1                  7.6  0             Aprovado         \n",
       "42   1                  7.3  0             Aprovado         \n",
       "45   2                  6.6  0             Aprovado         \n",
       "46   1                  5.9  0             Aprovado         \n",
       "50   2                  6.8  0             Aprovado         \n",
       "51   2                  8.4  0             Aprovado         \n",
       "53   2                  7.5  0             Aprovado         \n",
       "55   1                  5.3  0             Aprovado         \n",
       "57   1                  5.5  0             Aprovado         \n",
       "63   2                  7.9  0             Aprovado         \n",
       "64   2                  6.0  0             Aprovado         \n",
       "66   2                  7.7  0             Aprovado         \n",
       "⋮    ⋮                  ⋮    ⋮             ⋮                \n",
       "1556 2                  5.0  6             Aprovado         \n",
       "1557 2                  6.0  6             Aprovado         \n",
       "1558 2                  5.0  6             Aprovado         \n",
       "1559 2                  8.1  6             Aprovado         \n",
       "1562 2                  5.2  6             Aprovado         \n",
       "1563 2                  8.7  6             Aprovado         \n",
       "1564 2                  7.0  6             Aprovado         \n",
       "1565 2                  9.2  6             Aprovado         \n",
       "1566 2                  6.6  6             Aprovado         \n",
       "1567 2                  6.2  6             Aprovado         \n",
       "1568 1                  8.4  6             Aprovado         \n",
       "1575 2                  8.7  6             Aprovado         \n",
       "1576 1                  8.1  6             Aprovado         \n",
       "1577 2                  7.5  6             Aprovado         \n",
       "1578 2                  6.2  6             Aprovado         \n",
       "1579 2                  6.3  6             Aprovado         \n",
       "1582 2                  7.2  6             Aprovado         \n",
       "1583 2                  7.0  6             Aprovado         \n",
       "1584 2                  7.2  6             Aprovado         \n",
       "1585 2                  6.2  6             Aprovado         \n",
       "1586 2                  5.0  6             Aprovado         \n",
       "1587 2                  5.2  6             Aprovado         \n",
       "1588 2                  5.2  6             Aprovado         \n",
       "1590 1                  7.5  6             Aprovado         \n",
       "1592 2                  8.2  6             Aprovado         \n",
       "1593 2                  5.4  6             Aprovado         \n",
       "1594 2                  5.9  6             Aprovado         \n",
       "1595 2                  6.6  6             Aprovado         \n",
       "1596 2                  6.5  6             Aprovado         \n",
       "1600 2                  9.7  6             Aprovado         "
      ]
     },
     "metadata": {},
     "output_type": "display_data"
    }
   ],
   "source": [
    "#X <- subset(dado, ano_ingresso==2014 & status==\"ATIVO\")\n",
    "#y <- subset(dado, ano_ingresso==2014 & status==\"CANCELADO\")\n",
    "media <- mean(x$nota)\n",
    "media\n",
    "acima <- subset(x, nota > media)\n",
    "acima"
   ]
  },
  {
   "cell_type": "code",
   "execution_count": 83,
   "metadata": {},
   "outputs": [
    {
     "name": "stdout",
     "output_type": "stream",
     "text": [
      "[1] \"Cálculo da probilidade de alunos de 2014 terem Status CANCELADO - proporção\"\n"
     ]
    }
   ],
   "source": [
    "print(\"Cálculo da probilidade de alunos de 2014 terem Status CANCELADO - proporção\")\n"
   ]
  },
  {
   "cell_type": "markdown",
   "metadata": {},
   "source": [
    "Exemplo com coeficiente de correlação\n",
    "- cor(x,y)\n",
    "- cov(x,y)"
   ]
  },
  {
   "cell_type": "code",
   "execution_count": 82,
   "metadata": {},
   "outputs": [
    {
     "name": "stdout",
     "output_type": "stream",
     "text": [
      "[1] \"---- variavel x ------\"\n"
     ]
    },
    {
     "data": {
      "text/html": [
       "3"
      ],
      "text/latex": [
       "3"
      ],
      "text/markdown": [
       "3"
      ],
      "text/plain": [
       "[1] 3"
      ]
     },
     "metadata": {},
     "output_type": "display_data"
    },
    {
     "data": {
      "text/html": [
       "1.58113883008419"
      ],
      "text/latex": [
       "1.58113883008419"
      ],
      "text/markdown": [
       "1.58113883008419"
      ],
      "text/plain": [
       "[1] 1.581139"
      ]
     },
     "metadata": {},
     "output_type": "display_data"
    },
    {
     "data": {
      "text/html": [
       "2.5"
      ],
      "text/latex": [
       "2.5"
      ],
      "text/markdown": [
       "2.5"
      ],
      "text/plain": [
       "[1] 2.5"
      ]
     },
     "metadata": {},
     "output_type": "display_data"
    },
    {
     "name": "stdout",
     "output_type": "stream",
     "text": [
      "[1] \"---- variavel y ------\"\n"
     ]
    },
    {
     "data": {
      "text/html": [
       "6"
      ],
      "text/latex": [
       "6"
      ],
      "text/markdown": [
       "6"
      ],
      "text/plain": [
       "[1] 6"
      ]
     },
     "metadata": {},
     "output_type": "display_data"
    },
    {
     "data": {
      "text/html": [
       "3.16227766016838"
      ],
      "text/latex": [
       "3.16227766016838"
      ],
      "text/markdown": [
       "3.16227766016838"
      ],
      "text/plain": [
       "[1] 3.162278"
      ]
     },
     "metadata": {},
     "output_type": "display_data"
    },
    {
     "data": {
      "text/html": [
       "10"
      ],
      "text/latex": [
       "10"
      ],
      "text/markdown": [
       "10"
      ],
      "text/plain": [
       "[1] 10"
      ]
     },
     "metadata": {},
     "output_type": "display_data"
    },
    {
     "name": "stdout",
     "output_type": "stream",
     "text": [
      "[1] \"---- variavel z ------\"\n"
     ]
    },
    {
     "data": {
      "text/html": [
       "12"
      ],
      "text/latex": [
       "12"
      ],
      "text/markdown": [
       "12"
      ],
      "text/plain": [
       "[1] 12"
      ]
     },
     "metadata": {},
     "output_type": "display_data"
    },
    {
     "data": {
      "text/html": [
       "6.32455532033676"
      ],
      "text/latex": [
       "6.32455532033676"
      ],
      "text/markdown": [
       "6.32455532033676"
      ],
      "text/plain": [
       "[1] 6.324555"
      ]
     },
     "metadata": {},
     "output_type": "display_data"
    },
    {
     "data": {
      "text/html": [
       "40"
      ],
      "text/latex": [
       "40"
      ],
      "text/markdown": [
       "40"
      ],
      "text/plain": [
       "[1] 40"
      ]
     },
     "metadata": {},
     "output_type": "display_data"
    },
    {
     "name": "stdout",
     "output_type": "stream",
     "text": [
      "[1] \"---- variavel w ------\"\n"
     ]
    },
    {
     "data": {
      "text/html": [
       "30"
      ],
      "text/latex": [
       "30"
      ],
      "text/markdown": [
       "30"
      ],
      "text/plain": [
       "[1] 30"
      ]
     },
     "metadata": {},
     "output_type": "display_data"
    },
    {
     "data": {
      "text/html": [
       "15.8113883008419"
      ],
      "text/latex": [
       "15.8113883008419"
      ],
      "text/markdown": [
       "15.8113883008419"
      ],
      "text/plain": [
       "[1] 15.81139"
      ]
     },
     "metadata": {},
     "output_type": "display_data"
    },
    {
     "data": {
      "text/html": [
       "250"
      ],
      "text/latex": [
       "250"
      ],
      "text/markdown": [
       "250"
      ],
      "text/plain": [
       "[1] 250"
      ]
     },
     "metadata": {},
     "output_type": "display_data"
    }
   ],
   "source": [
    "x <- c(1,2,3,4,5)\n",
    "y <- c(2,4,6,8,10)\n",
    "z <- c(4,8,12,16,20)\n",
    "\n",
    "w <- 10*x \n",
    "print(\"---- variavel x ------\")\n",
    "mean(x)\n",
    "sd(x)\n",
    "var(x)\n",
    "\n",
    "print(\"---- variavel y ------\")\n",
    "mean(y)\n",
    "sd(y)\n",
    "var(y)\n",
    "\n",
    "print(\"---- variavel z ------\")\n",
    "mean(z)\n",
    "sd(z)\n",
    "var(z)\n",
    "\n",
    "print(\"---- variavel w ------\")\n",
    "mean(w)\n",
    "sd(w)\n",
    "var(w)"
   ]
  },
  {
   "cell_type": "code",
   "execution_count": 84,
   "metadata": {},
   "outputs": [
    {
     "data": {
      "text/html": [
       "<ol class=list-inline>\n",
       "\t<li>1</li>\n",
       "\t<li>2</li>\n",
       "\t<li>3</li>\n",
       "\t<li>4</li>\n",
       "\t<li>5</li>\n",
       "</ol>\n"
      ],
      "text/latex": [
       "\\begin{enumerate*}\n",
       "\\item 1\n",
       "\\item 2\n",
       "\\item 3\n",
       "\\item 4\n",
       "\\item 5\n",
       "\\end{enumerate*}\n"
      ],
      "text/markdown": [
       "1. 1\n",
       "2. 2\n",
       "3. 3\n",
       "4. 4\n",
       "5. 5\n",
       "\n",
       "\n"
      ],
      "text/plain": [
       "[1] 1 2 3 4 5"
      ]
     },
     "metadata": {},
     "output_type": "display_data"
    },
    {
     "data": {
      "text/html": [
       "<ol class=list-inline>\n",
       "\t<li>2</li>\n",
       "\t<li>4</li>\n",
       "\t<li>6</li>\n",
       "\t<li>8</li>\n",
       "\t<li>10</li>\n",
       "</ol>\n"
      ],
      "text/latex": [
       "\\begin{enumerate*}\n",
       "\\item 2\n",
       "\\item 4\n",
       "\\item 6\n",
       "\\item 8\n",
       "\\item 10\n",
       "\\end{enumerate*}\n"
      ],
      "text/markdown": [
       "1. 2\n",
       "2. 4\n",
       "3. 6\n",
       "4. 8\n",
       "5. 10\n",
       "\n",
       "\n"
      ],
      "text/plain": [
       "[1]  2  4  6  8 10"
      ]
     },
     "metadata": {},
     "output_type": "display_data"
    },
    {
     "data": {
      "text/html": [
       "<ol class=list-inline>\n",
       "\t<li>4</li>\n",
       "\t<li>8</li>\n",
       "\t<li>12</li>\n",
       "\t<li>16</li>\n",
       "\t<li>20</li>\n",
       "</ol>\n"
      ],
      "text/latex": [
       "\\begin{enumerate*}\n",
       "\\item 4\n",
       "\\item 8\n",
       "\\item 12\n",
       "\\item 16\n",
       "\\item 20\n",
       "\\end{enumerate*}\n"
      ],
      "text/markdown": [
       "1. 4\n",
       "2. 8\n",
       "3. 12\n",
       "4. 16\n",
       "5. 20\n",
       "\n",
       "\n"
      ],
      "text/plain": [
       "[1]  4  8 12 16 20"
      ]
     },
     "metadata": {},
     "output_type": "display_data"
    },
    {
     "data": {
      "text/html": [
       "<ol class=list-inline>\n",
       "\t<li>-2</li>\n",
       "\t<li>-4</li>\n",
       "\t<li>-6</li>\n",
       "\t<li>-8</li>\n",
       "\t<li>-10</li>\n",
       "</ol>\n"
      ],
      "text/latex": [
       "\\begin{enumerate*}\n",
       "\\item -2\n",
       "\\item -4\n",
       "\\item -6\n",
       "\\item -8\n",
       "\\item -10\n",
       "\\end{enumerate*}\n"
      ],
      "text/markdown": [
       "1. -2\n",
       "2. -4\n",
       "3. -6\n",
       "4. -8\n",
       "5. -10\n",
       "\n",
       "\n"
      ],
      "text/plain": [
       "[1]  -2  -4  -6  -8 -10"
      ]
     },
     "metadata": {},
     "output_type": "display_data"
    },
    {
     "data": {
      "text/html": [
       "5"
      ],
      "text/latex": [
       "5"
      ],
      "text/markdown": [
       "5"
      ],
      "text/plain": [
       "[1] 5"
      ]
     },
     "metadata": {},
     "output_type": "display_data"
    },
    {
     "data": {
      "text/html": [
       "1"
      ],
      "text/latex": [
       "1"
      ],
      "text/markdown": [
       "1"
      ],
      "text/plain": [
       "[1] 1"
      ]
     },
     "metadata": {},
     "output_type": "display_data"
    },
    {
     "data": {
      "text/html": [
       "10"
      ],
      "text/latex": [
       "10"
      ],
      "text/markdown": [
       "10"
      ],
      "text/plain": [
       "[1] 10"
      ]
     },
     "metadata": {},
     "output_type": "display_data"
    },
    {
     "data": {
      "text/html": [
       "1"
      ],
      "text/latex": [
       "1"
      ],
      "text/markdown": [
       "1"
      ],
      "text/plain": [
       "[1] 1"
      ]
     },
     "metadata": {},
     "output_type": "display_data"
    },
    {
     "data": {
      "text/html": [
       "-5"
      ],
      "text/latex": [
       "-5"
      ],
      "text/markdown": [
       "-5"
      ],
      "text/plain": [
       "[1] -5"
      ]
     },
     "metadata": {},
     "output_type": "display_data"
    },
    {
     "data": {
      "text/html": [
       "-1"
      ],
      "text/latex": [
       "-1"
      ],
      "text/markdown": [
       "-1"
      ],
      "text/plain": [
       "[1] -1"
      ]
     },
     "metadata": {},
     "output_type": "display_data"
    }
   ],
   "source": [
    "x\n",
    "y\n",
    "z\n",
    "t <- -2*x\n",
    "t\n",
    "\n",
    "cov(x,y)\n",
    "cor(x,y)\n",
    "\n",
    "cov(x,z)\n",
    "cor(x,z)\n",
    "\n",
    "cov(x,t)\n",
    "cor(x,t)"
   ]
  },
  {
   "cell_type": "code",
   "execution_count": 85,
   "metadata": {},
   "outputs": [
    {
     "data": {
      "text/html": [
       "0.5"
      ],
      "text/latex": [
       "0.5"
      ],
      "text/markdown": [
       "0.5"
      ],
      "text/plain": [
       "[1] 0.5"
      ]
     },
     "metadata": {},
     "output_type": "display_data"
    },
    {
     "data": {
      "text/html": [
       "0.208514414057075"
      ],
      "text/latex": [
       "0.208514414057075"
      ],
      "text/markdown": [
       "0.208514414057075"
      ],
      "text/plain": [
       "[1] 0.2085144"
      ]
     },
     "metadata": {},
     "output_type": "display_data"
    }
   ],
   "source": [
    "r<-c(1,2,4,4,1)\n",
    "cov(x,r)\n",
    "cor(x,r)"
   ]
  },
  {
   "cell_type": "code",
   "execution_count": 87,
   "metadata": {},
   "outputs": [
    {
     "name": "stdout",
     "output_type": "stream",
     "text": [
      "[1] \"Exemplo de uso de do coeficiente de correlação sobre dados de tabela-frames\"\n"
     ]
    },
    {
     "data": {
      "text/html": [],
      "text/latex": [],
      "text/markdown": [],
      "text/plain": [
       "numeric(0)"
      ]
     },
     "metadata": {},
     "output_type": "display_data"
    }
   ],
   "source": [
    "print(\"Exemplo de uso de do coeficiente de correlação sobre dados de tabela-frames\")\n",
    "(nrow(y)/(nrow(x)+nrow(y))) *100"
   ]
  },
  {
   "cell_type": "markdown",
   "metadata": {},
   "source": [
    "# Instalação de Pacotes em R\n",
    "– install.packages(“package_name”)\n",
    "ou\n",
    "– install.packages(vector_of_packages_names)\n",
    "– Exemplos: \n",
    "    - install.packages(“plyr\")\n",
    "    - install.packages(c(“plyr”,“moments”))\n",
    "    \n",
    "- Para carregar uma biblioteca:\n",
    "– library(“nome”)  OU require(“nome”)"
   ]
  },
  {
   "cell_type": "markdown",
   "metadata": {},
   "source": [
    "# Funções de estatística básica em R\n",
    "\n",
    "Algumas funções úteis que operam sobre vetores:\n",
    "- length(vetorX) ; obtém a dimensão do vetor\n",
    "- mean(vetorX) ; obtém o valor médio dos valores dos elementos de um vetor\n",
    "- max(vetorX); obtém o valor máximo entre os elementos de um vetor\n",
    "- min(vetorX); obtém o valor mínimo entre os elementos de um vetor\n",
    "- sd(vetorX); obtém o desvio padrão dos valores dos elementos de um vetor\n",
    "- var(vetorX); obtém a variância dos valores dos elementos de um vetor\n",
    "- cor(x,y); coeficiente de correlação\n",
    "- cov(x,y); covariância\n",
    "- median(vetorX); obtém a mediana dos valores dos elementos de um vetor\n",
    "- quantile(vetorX,percentual); Produz as quantidades de amostra correspondentes às probabilidades dadas\n",
    "- summary(vetorX); imprime na tela um sumário sobre o vetorX"
   ]
  },
  {
   "cell_type": "code",
   "execution_count": null,
   "metadata": {
    "collapsed": true,
    "scrolled": true
   },
   "outputs": [],
   "source": [
    "quantile(acima$nota)\n",
    "quantile(dado$nota)"
   ]
  },
  {
   "cell_type": "code",
   "execution_count": null,
   "metadata": {
    "collapsed": true,
    "scrolled": true
   },
   "outputs": [],
   "source": [
    "# install.packages(“packagename”)\n",
    "print(\"Programa exemplificando o uso de funções com vetores\")\n",
    "vetorX <- c(1,2,3,2,1)\n",
    "length(vetorX)\n",
    "mean(vetorX)\n",
    "max(vetorX)\n",
    "min(vetorX)\n",
    "sd(vetorX)\n",
    "var(vetorX)\n",
    "median(vetorX)\n",
    "quantile(vetorX,0.25)\n",
    "quantile(vetorX,0.50)\n",
    "quantile(vetorX,0.75)\n",
    "quantile(vetorX,0.90)\n",
    "quantile(vetorX,1)\n",
    "summary(vetorX)"
   ]
  },
  {
   "cell_type": "code",
   "execution_count": null,
   "metadata": {
    "collapsed": true,
    "scrolled": true
   },
   "outputs": [],
   "source": [
    "# Exercício\n",
    "print(\"Exercício: Escreva um Programa similar ao anterior para vetorY e vetorZ\")\n",
    "vetorY <- c(5,20,40,50,55,70,80,80,90,100)\n",
    "vetorZ <- c(10,20,30,40,50,60,70,80,90)\n",
    "# escrever o programa\n"
   ]
  },
  {
   "cell_type": "markdown",
   "metadata": {},
   "source": [
    "# Gráficos estatísticos básicos em R\n",
    "- Gráficos de linha\n",
    "- plot(vetorX), plot(vetorX, vetorY), plot(vetorY~vetorX) - Gráficos de pontos \n",
    "- hist(vetorX) - Histogramas\n",
    "- boxplot(vetorX, vetorLabels) - Gráficos de box\n",
    "- barplot(vetorX)"
   ]
  },
  {
   "cell_type": "code",
   "execution_count": null,
   "metadata": {
    "collapsed": true,
    "scrolled": true
   },
   "outputs": [],
   "source": [
    "riqueza <- c(15,18,22,24,25,30,31,34,37,39,41,45)\n",
    "area <- c(2,4.5,6,10,30,34,50,56,60,77.5,80,85)\n",
    "area\n",
    "area.cate <- rep(c(\"pequeno\", \"grande\"), each=6)\n",
    "area.cate\n"
   ]
  },
  {
   "cell_type": "code",
   "execution_count": null,
   "metadata": {
    "collapsed": true,
    "scrolled": false
   },
   "outputs": [],
   "source": [
    "plot(riqueza~area)\n",
    "plot(area,riqueza) # o mesmo que o anterior\n",
    "boxplot(riqueza~area.cate)\n",
    "barplot(riqueza)"
   ]
  },
  {
   "cell_type": "code",
   "execution_count": null,
   "metadata": {
    "collapsed": true
   },
   "outputs": [],
   "source": [
    "#hist(riqueza)\n",
    "hist(dado[dado$ano_ingresso == 2014,]$nota)\n"
   ]
  },
  {
   "cell_type": "code",
   "execution_count": null,
   "metadata": {
    "collapsed": true
   },
   "outputs": [],
   "source": [
    "alunos_ativos <- subset(dado, ano_ingresso==2014 & status==\"ATIVO\" & status.disciplina == \"Aprovado\")\n",
    "hist(alunos_ativos$nota)"
   ]
  },
  {
   "cell_type": "markdown",
   "metadata": {},
   "source": [
    "DICA: Como Salvar Gráficos em formatos importantes\n",
    "- Formatos: pdf(),png(),svg(),jpeg(),…, LaTeX\n"
   ]
  },
  {
   "cell_type": "code",
   "execution_count": null,
   "metadata": {
    "collapsed": true,
    "scrolled": true
   },
   "outputs": [],
   "source": [
    "print(\"Exemplo de como salvar um gráfico no formato .pdf\")\n",
    "n <- rnorm(1000)\n",
    "pdf(\"myplot.pdf\")\n",
    "plot(n)\n",
    "dev.off()"
   ]
  },
  {
   "cell_type": "markdown",
   "metadata": {},
   "source": [
    "#  Distribuições estatísticas discretas e contínuas (modelos) em R\n",
    "\n",
    "Distribuição Uniforme\n",
    "- dunif(x, min=0, max=1, opções); fornece a probabilidade dado a quantidade/quartil\n",
    "- punif(q, min=0, max=1, opções); fornece a densidade\n",
    "- qunif(p, min=0, max=1, opções); fornece a distribuição\n",
    "- runif(n, min=0, max=1); gera n amostras seguindo uma Distribuição Uniforme, com defaults mínimo igual 0 e máximo\n",
    "    - x: vetor contendo os quantis.\n",
    "    - min: limite inferior da distribuição.\n",
    "    - max: limite superior da distribuição.\n",
    "    - q: vetor contendo os quantis.\n",
    "    - p: vetor contendo as probabilidades.\n",
    "    - n: número de observações."
   ]
  },
  {
   "cell_type": "code",
   "execution_count": null,
   "metadata": {
    "collapsed": true,
    "scrolled": true
   },
   "outputs": [],
   "source": [
    "?punif"
   ]
  },
  {
   "cell_type": "code",
   "execution_count": null,
   "metadata": {
    "collapsed": true,
    "scrolled": true
   },
   "outputs": [],
   "source": [
    "a <- runif(100000, min = 0, max = 10)\n",
    "mean(a)\n",
    "var(a)\n",
    "sd(a)\n",
    "min(a)\n",
    "max(a)\n",
    "quantile(a,0.5)\n",
    "summary(a)\n",
    "#plot(a)\n",
    "hist(a)\n",
    "plot(dunif(a))\n",
    "# a"
   ]
  },
  {
   "cell_type": "code",
   "execution_count": null,
   "metadata": {
    "collapsed": true,
    "scrolled": true
   },
   "outputs": [],
   "source": [
    "b<- dunif(a, min = 0, max = 1)\n",
    "plot(b)\n",
    "c <- punif(a, min = 0, max = 1, lower.tail = TRUE, log.p = FALSE)\n",
    "hist(c)\n",
    "\n",
    "d <- qunif(c, min = 0, max = 1, lower.tail = TRUE, log.p = FALSE)\n",
    "hist(d)"
   ]
  },
  {
   "cell_type": "code",
   "execution_count": null,
   "metadata": {
    "collapsed": true,
    "scrolled": true
   },
   "outputs": [],
   "source": [
    "u <- runif(20)\n",
    "u\n",
    "## The following relations always hold :\n",
    "punif(u) == u\n",
    "dunif(u) == 1"
   ]
  },
  {
   "cell_type": "markdown",
   "metadata": {},
   "source": [
    "Como obter uma distribuição discreta via uma distribuição uniforme\n",
    "- Gerar uma distribuição de Bernoulli a apartir de uma distribuição uniforme\n",
    "    - Seja a VA X com distribuição uniforme U entre 0 e 1: X~U(0,1).\n",
    "    - Então: X=1; U < p e X=0; U > = p"
   ]
  },
  {
   "cell_type": "code",
   "execution_count": null,
   "metadata": {
    "collapsed": true
   },
   "outputs": [],
   "source": [
    "print(\"Programa para gerar uma distribuição de Bernoulli, com p= 0.5, a partir de uma distribição uniforme\")\n",
    "p = 0.5\n",
    "U = runif(1, min = 0, max = 1)\n",
    "X = (U < p)\n",
    "print(\"Sumário de X\")\n",
    "summary(X)\n",
    "print(\"Sumário de U\")\n",
    "summary(U)"
   ]
  },
  {
   "cell_type": "markdown",
   "metadata": {},
   "source": [
    "Programa que simula n lançamento de uma moeda honesta (=0.5)"
   ]
  },
  {
   "cell_type": "code",
   "execution_count": null,
   "metadata": {
    "collapsed": true
   },
   "outputs": [],
   "source": [
    "n = 1000;\n",
    "U = runif(n, min = 0, max = 1)\n",
    "toss = U < 0.5\n",
    "a = numeric(n + 1)\n",
    "avg = numeric(n)\n",
    "for(i in 2 : n + 1)\n",
    "{\n",
    "a[i] = a[i-1] + toss[i-1]\n",
    "avg[i-1] = a[i]/(i-1)\n",
    "}\n",
    "plot(1 : n, avg[1 : n], type = \"l\", lwd = 5, col = \"blue\", ylab = \"ProportionofHeads\",\n",
    "xlab = \"CoinT ossNumber\", cex.main = 1.25, cex.lab = 1.5, cex.axis = 1.75)"
   ]
  },
  {
   "cell_type": "code",
   "execution_count": null,
   "metadata": {
    "collapsed": true
   },
   "outputs": [],
   "source": [
    "n = 100;\n",
    "U = runif(n, min = 0, max = 1)\n",
    "toss = U < 0.5\n",
    "a = numeric(n + 1)\n",
    "avg = numeric(n)\n",
    "for(i in 2 : n + 1)\n",
    "{\n",
    "a[i] = a[i-1] + toss[i-1]\n",
    "avg[i-1] = a[i]/(i-1)\n",
    "}\n",
    "plot(1 : n, avg[1 : n], type = \"l\", lwd = 5, col = \"blue\", ylab = \"ProportionofHeads\",\n",
    "xlab = \"CoinT ossNumber\", cex.main = 1.25, cex.lab = 1.5, cex.axis = 1.75)"
   ]
  },
  {
   "cell_type": "code",
   "execution_count": null,
   "metadata": {
    "collapsed": true
   },
   "outputs": [],
   "source": [
    "# Código similar ao anterior\n",
    "\n",
    "n = 1000;\n",
    "U = runif(n, min = 0, max = 1)\n",
    "vez = numeric(n)\n",
    "media_acumulada = numeric(n)\n",
    "\n",
    "for(i in 1 : n)\n",
    "{\n",
    " if(U[i] <0.5)  vez[i] <- 1  \n",
    " if (i == 1) {media_acumulada <- vez[i]}\n",
    "    \n",
    " else\n",
    "    {media_acumulada[i] <- ( (i-1) * media_acumulada[i-1] + vez[i] ) / i}\n",
    " }\n",
    "    \n",
    "plot(1 : n, media_acumulada[1 : n], type = \"l\", lwd = 5, col = \"blue\", ylab = \"ProportionofHeads\",\n",
    "xlab = \"CoinT ossNumber\", cex.main = 1.25, cex.lab = 1.5, cex.axis = 1.75)"
   ]
  },
  {
   "cell_type": "code",
   "execution_count": null,
   "metadata": {
    "collapsed": true
   },
   "outputs": [],
   "source": [
    "# Código similar ao anterior\n",
    "\n",
    "n = 1000;\n",
    "U = runif(n, min = 0, max = 1)\n",
    "X = round(U)\n",
    "\n",
    "media_acumulada = numeric(n);\n",
    "\n",
    "for(i in 1 : n)  media_acumulada[i] <- sum(X[1:i])/i\n",
    "    \n",
    "plot(1 : n, media_acumulada[1 : n], type = \"l\", lwd = 5, col = \"blue\", ylab = \"ProportionofHeads\",\n",
    "xlab = \"CoinT ossNumber\", cex.main = 1.25, cex.lab = 1.5, cex.axis = 1.75)\n"
   ]
  },
  {
   "cell_type": "code",
   "execution_count": null,
   "metadata": {
    "collapsed": true
   },
   "outputs": [],
   "source": [
    "# Cálculo da variância para os n pontos\n",
    "\n",
    "n = 1000;\n",
    "U = runif(n, min = 0, max = 1)\n",
    "X = round(U)\n",
    "\n",
    "media_acumulada = numeric(n);\n",
    "segundoMomento_acumulado = numeric(n);\n",
    "variancia_acumulada = numeric(n);\n",
    "\n",
    "for(i in 1 : n) {\n",
    " media_acumulada[i] <- sum(X[1:i])/i\n",
    " segundoMomento_acumulado[i] <- sum(X[1:i]*X[1:i])/i   \n",
    "}\n",
    "variancia_acumulada = segundoMomento_acumulado - media_acumulada*media_acumulada\n",
    "    \n",
    "plot(1 : n, variancia_acumulada[1 : n], type = \"l\", lwd = 5, col = \"blue\", ylab = \"ProportionofHeads\",\n",
    "xlab = \"CoinT ossNumber\", cex.main = 1.25, cex.lab = 1.5, cex.axis = 1.75)\n",
    "\n",
    "#variancia_estimada <- variancia_acumulada[n] /seq(1, n, by=1)\n",
    "#plot(1 : n, variancia_estimada[1 : n], type = \"l\", lwd = 5, col = \"blue\", ylab = \"ProportionofHeads\",\n",
    "#xlab = \"CoinT ossNumber\", cex.main = 1.25, cex.lab = 1.5, cex.axis = 1.75)\n",
    "\n",
    "#hist(media_acumulada) # a estimativa é uma VA com distribuiçào Normal\n",
    "    \n",
    "#mean(media_acumulada)   \n",
    "#var(media_acumulada)   "
   ]
  },
  {
   "cell_type": "markdown",
   "metadata": {},
   "source": [
    "Exercício 01:\n",
    "    - Escreva um programa que simule 10000 lançamentos de um dado honesto.\n",
    "    - Calcule média, variância, valor máximo, valor mínimo. Compare com os valores teóricos.\n",
    "    - Plot o histograma."
   ]
  },
  {
   "cell_type": "code",
   "execution_count": null,
   "metadata": {
    "collapsed": true
   },
   "outputs": [],
   "source": [
    "print(\"Programa de simulação de lançamento de dado\")\n"
   ]
  },
  {
   "cell_type": "markdown",
   "metadata": {},
   "source": [
    "Como obter uma distribuição discreta via uma distribuição uniforme\n",
    "- Gerar uma distribuição de Binomial.\n",
    "- Lema: se X1; X2; ...; Xn são VA independentes seguindo distribuição de Bernoulli(p), então a VA X = X1 + X2 + ... + Xn segue uma distribuição Binomial(n; p).\n",
    "\n",
    "Exercício 02:\n",
    "- Gere 1000 amostras seguindo uma distribuição Binomial(50,0.2).\n",
    "- Calcule sua média, variância e desvio padrão. Compare com os valores teóricos.\n",
    "- Gere o histograma."
   ]
  },
  {
   "cell_type": "code",
   "execution_count": null,
   "metadata": {
    "collapsed": true
   },
   "outputs": [],
   "source": [
    "print(\"Programa que gerar 1000 amostras seguindo uma distribuição Binomial(50,0.2)\")\n"
   ]
  },
  {
   "cell_type": "markdown",
   "metadata": {},
   "source": [
    "Como obter uma distribuição contínua via uma distribuição uniforme?\n",
    "- Utilizar o método da transformação inversa\n",
    "- No caso, para transformar uma distribuição uniforme X~Unif(0,1) em uma distribuição exponencial decrescente, utiliza-se -ln(U). "
   ]
  },
  {
   "cell_type": "code",
   "execution_count": null,
   "metadata": {
    "collapsed": true,
    "scrolled": false
   },
   "outputs": [],
   "source": [
    "U <- runif(1000, min = 0, max = 1)\n",
    "X <- -log(U)\n",
    "print(\"Sumário de U\")\n",
    "summary(U)\n",
    "print(\"Sumário de X\")\n",
    "summary(X)\n",
    "#plot(U)\n",
    "hist(U)\n",
    "#plot(X)\n",
    "hist(X)"
   ]
  },
  {
   "cell_type": "markdown",
   "metadata": {},
   "source": [
    "Exercício 3:\n",
    "- Gere 1000 amostras seguindo uma distribuição exponencial de média 2. Dica: Pode-se utilizar variância (produto) ou média (soma). \n",
    "- Calcule sua média, variância e desvio padrão. Compare com os valores teóricos.\n",
    "- Gere o seu histograma."
   ]
  },
  {
   "cell_type": "code",
   "execution_count": null,
   "metadata": {
    "collapsed": true
   },
   "outputs": [],
   "source": [
    "print(\"Escreva o programa aqui\")"
   ]
  },
  {
   "cell_type": "markdown",
   "metadata": {},
   "source": [
    "Como obter um distribuição contínua via uma distribuição uniforme?\n",
    "- Distribuição Gama\n",
    "    - Teorema: Sejam n V.A. independentes (X1;X2; \u0001 \u0001 \u0001 ;Xn) seguindo dsitribuições exponenciais com média \"lambda\". Então, a V.A. Y (Y = X1 + X2 + \u0001 \u0001 \u0001 + Xn) segue uma distribuição Gama, com parâmetros \"n\" e \"lambda\". Y~Gamma(n,lambda).\n",
    "\n",
    "- Exercício:\n",
    "    - Gere 1000 amostras seguindo uma distribuição Gamma(20,1).\n",
    "    - Calcule sua média, variância e desvio padrão. Compare com os valores teóricos.\n",
    "    - Gere o seu histograma.\n",
    "    "
   ]
  },
  {
   "cell_type": "code",
   "execution_count": null,
   "metadata": {
    "collapsed": true
   },
   "outputs": [],
   "source": [
    "print(\"Escrever o Programa aqui....\")\n",
    "print(\"Programa para Gerar Distribuição Gama via uma distribuição Uniforme\")"
   ]
  },
  {
   "cell_type": "markdown",
   "metadata": {},
   "source": [
    "Desafio: Como obter uma distribuição de Poisson via distribuição uniforme?\n",
    "- ?????"
   ]
  },
  {
   "cell_type": "code",
   "execution_count": null,
   "metadata": {
    "collapsed": true
   },
   "outputs": [],
   "source": [
    "print(\"Programa para Gerar Distribuição de Poisson via uma distribuição Uniforme\")"
   ]
  },
  {
   "cell_type": "markdown",
   "metadata": {},
   "source": [
    "Como obter um distribuição contínua via uma distribuição uniforme?\n",
    "- Distribuição Gaussiana (Via algoritmo de Box-Muller)\n"
   ]
  },
  {
   "cell_type": "code",
   "execution_count": null,
   "metadata": {
    "collapsed": true
   },
   "outputs": [],
   "source": [
    "print(\"Programa que gera 500 amostras seguindo Distribuição Gaussiana via uma distribuição Uniforme - Algoritmo de Box=Muller\")\n",
    "n = 50000\n",
    "U1 = runif(n, min = 0, max = 1)\n",
    "U2 = runif(n, min = 0, max = 1)\n",
    "Z1 = sqrt(-2 * log(U1)) *  cos(2 *  pi *  U2)\n",
    "Z2 = sqrt(-2 * log(U1)) * sin(2 *  pi *  U2)\n",
    "hist(Z1, col = \"wheat\", label = T)\n",
    "summary(Z1)\n",
    "summary(Z2)\n",
    "var(Z1)\n",
    "var(Z2)"
   ]
  },
  {
   "cell_type": "markdown",
   "metadata": {},
   "source": [
    "# Distribuições Discretas Importantes\n",
    "\n",
    "R já possui as distribuições mais importantes;\n",
    "- Binomial:\n",
    "    - dbinom(x, n, p, opções)\n",
    "    - pbinom(q, n, p, opções)\n",
    "    - qbinom(prob, n, p, opções)\n",
    "    - rbinom(num_amostras, n, p)\n",
    "        - x: vetor contendo o número total de sucessos em n ensaios de Bernoulli.\n",
    "        - p: probabilidade de sucesso.\n",
    "        - q: vetor contendo os quantis em n ensaios de Bernoulli.\n",
    "        - prob: vetor contendo as probabilidades em n ensaios de Bernoulli.\n",
    "        - num_amostras: número de observações.\n",
    "        - n: número de ensaios de Bernoulli.\n",
    "- Geométrica\n",
    "    - dgeom(x, prob, opções)\n",
    "    - pgeom(q, prob, opções)\n",
    "    - qgeom(p, prob, opções)\n",
    "    - rgeom(n, prob)\n",
    "        - x: vetor contendo o número de falhas ocorridas em uma sequência de Bernoulli antes do sucesso.\n",
    "        - prob: probabilidade de sucesso em cada tentativa.\n",
    "        - q: vetor contendo os quantis\n",
    "        - p: vetor contendo as probabilidades\n",
    "        - n: número de observações.\n",
    "- Hipergeométrica\n",
    "    - dhyper(x, m, n, k, opções)\n",
    "    - phyper(q, m, n, k, opções)\n",
    "    - qhyper(p, m, n, k, opções)\n",
    "    - rhyper(nn, m, n, k)\n",
    "        - x: vetor contendo o número de elementos com a característica A extraídos sem reposição de uma urna que contém elementos com aracterísticas A e B.\n",
    "        - cm: número de elementos com a característica A.\n",
    "        - n: número de elementos com a característica B.\n",
    "        - k: número de elementos extraídos da urna.\n",
    "        - q: vetor contendo os quantis.\n",
    "        - p: vetor contendo as probabilidades.\n",
    "        - nn: número de observações.\n",
    "- Poisson\n",
    "    - dpois(x, lambda, opções)\n",
    "    - ppois(q, lambda, opções)\n",
    "    - qpois(prob, lambda, opções)\n",
    "    - rpois(obs, lambda)\n",
    "        - x: vetor contendo o número de ocorrências.\n",
    "        - lambda: número médio de eventos ocorrendo no intervalo considerado.\n",
    "        - q: vetor contendo os quantis.\n",
    "        - prob: vetor contendo as probabilidades.\n",
    "        - obs: número de observações."
   ]
  },
  {
   "cell_type": "markdown",
   "metadata": {},
   "source": [
    "Exercício: Distribuição Binomial\n",
    "- Escreva uma programa que plote as fpds das seguintes distribuições Binomiais: \n",
    "    - binomial(10,0.3), binomial(10,0.6)\n",
    "    - binomial(20,0.3), binomial(20,0.6)"
   ]
  },
  {
   "cell_type": "code",
   "execution_count": null,
   "metadata": {
    "collapsed": true
   },
   "outputs": [],
   "source": [
    "print(\"Escreva o Programa com distribuição Binomial\")\n"
   ]
  },
  {
   "cell_type": "markdown",
   "metadata": {},
   "source": [
    "Exercício: Distribuição Binomial\n",
    "- Escreva um programa que gere 10.000 amostras segundo uma distribuição binomial(m,p).\n",
    "- Obter o seu histograma, média e variância e compare com os valores teóricos."
   ]
  },
  {
   "cell_type": "code",
   "execution_count": null,
   "metadata": {
    "collapsed": true
   },
   "outputs": [],
   "source": [
    "print(\"Escreva o Programa com distribuição Binomial\")"
   ]
  },
  {
   "cell_type": "markdown",
   "metadata": {},
   "source": [
    "Exercício: Distribuição Geométrica\n",
    "- Em construção\n",
    "- ..."
   ]
  },
  {
   "cell_type": "code",
   "execution_count": null,
   "metadata": {
    "collapsed": true
   },
   "outputs": [],
   "source": [
    "print(\"Programa com distribuição Geométrica\")\n",
    "print(\"Em construção ...\")"
   ]
  },
  {
   "cell_type": "markdown",
   "metadata": {},
   "source": [
    "Exercício: Distribuição Hipergeométrica\n",
    "- Em construção\n",
    "- ..."
   ]
  },
  {
   "cell_type": "code",
   "execution_count": null,
   "metadata": {
    "collapsed": true
   },
   "outputs": [],
   "source": [
    "print(\"Programa com distribuição Hipergeométrica\")\n",
    "print(\"Em construção ...\")"
   ]
  },
  {
   "cell_type": "markdown",
   "metadata": {},
   "source": [
    "Exercício: Distribuição Poisson\n",
    "- Escreva um programa que plote as fpds da distribuição de Poisson com lambda= 1, 5 e 10. "
   ]
  },
  {
   "cell_type": "code",
   "execution_count": null,
   "metadata": {
    "collapsed": true
   },
   "outputs": [],
   "source": [
    "print(\"Escreva o Programa aqui\")"
   ]
  },
  {
   "cell_type": "markdown",
   "metadata": {},
   "source": [
    "Exercício: Dsitribuição de Poisson\n",
    "- Escreva um programa que gere 10.000 amostras segundo uma distribuição de poisson(lambda).\n",
    "- Obter o seu histograma, média e variância e compare com os valores teóricos.\n"
   ]
  },
  {
   "cell_type": "code",
   "execution_count": null,
   "metadata": {
    "collapsed": true
   },
   "outputs": [],
   "source": [
    "print(\"Escreva o Programa aqui\")\n"
   ]
  },
  {
   "cell_type": "markdown",
   "metadata": {},
   "source": [
    "# Distribuições Contínuas Importantes\n",
    "\n",
    "R já possui as distribuições mais importantes.\n",
    "- Uniforme:\n",
    "    - dunif(x, min=0, max=1, opções); fornece a probabilidade dado a quantidade/quartil\n",
    "    - punif(q, min=0, max=1, opções); fornece a densidade\n",
    "    - qunif(p, min=0, max=1, opções); fornece a distribuição\n",
    "    - runif(n, min=0, max=1); gera n amostras seguindo uma Distribuição Uniforme, com defaults mínimo igual 0 e máximo\n",
    "        - x: vetor contendo os quantis.\n",
    "        - min: limite inferior da distribuição.\n",
    "        - max: limite superior da distribuição.\n",
    "        - q: vetor contendo os quantis.\n",
    "        - p: vetor contendo as probabilidades.\n",
    "        - n: número de observações.\n",
    "- Exponencial\n",
    "    - dexp(x, rate=1, opções)\n",
    "    - pexp(q, rate=1, opções)\n",
    "    - qexp(p, rate=1, opções)\n",
    "    - rexp(n, rate = 1)\n",
    "        - x: vetor contendo os quantis.\n",
    "        - rate: parâmetro da distribuição.\n",
    "        - q: vetor contendo os quantis.\n",
    "        - p: vetor contendo as probabilidades.\n",
    "        - n: número de observações.\n",
    "            \n",
    "- Gaussiana (Normal)\n",
    "    - dnorm(x, mean=0, sd=1, opções)\n",
    "    - pnorm(q, mean=0, sd=1, opções)\n",
    "    - qnorm(p, mean=0, sd=1, opções)\n",
    "    - rnorm(n, mean=0, sd=1)\n",
    "        - x: vetor contendo os quantis.\n",
    "        - mean: média da distribuição.\n",
    "        - sd: desvio padrão da distribuição.\n",
    "        - q: vetor contendo os quantis.\n",
    "        - p: vetor contendo as probabilidades.\n",
    "        - n: número de observações.    \n",
    "- Gama:\n",
    "    - dgamma(x, shape, rate = 1, opções)\n",
    "    - pgamma(q, shape, rate = 1, opções)\n",
    "    - qgamma(p, shape, rate = 1, opções)\n",
    "    - rgamma(n, shape, rate = 1)\n",
    "        - x: vetor contendo os quantis.\n",
    "        - shape: parâmetro da distribuição.\n",
    "        - rate: parâmetro da distribuição.\n",
    "        - q: vetor contendo os quantis.\n",
    "        - p: vetor contendo as probabilidades.\n",
    "        - n: número de observações.\n",
    "        \n",
    "- Qui-quadrado\n",
    "    - dchisq(x, df, ncp=0, opções)\n",
    "    - pchisq(q, df, ncp=0, opções)\n",
    "    - qchisq(p, df, ncp=0, opções)\n",
    "    - rchisq(n, df, ncp=0)\n",
    "        - x: vetor contendo os quantis.\n",
    "        - df: graus de liberdade.\n",
    "        - ncp: parâmetro de não centralidade.\n",
    "        - q: vetor contendo os quantis.\n",
    "        - p: vetor contendo as probabilidades.\n",
    "        - n: número de observações.\n",
    "- Student\n",
    "    - dt(x, df, ncp=0, opções)\n",
    "    - pt(q, df, ncp=0, opções)\n",
    "    - qt(p, df, opções)\n",
    "    - rt(n, df)\n",
    "        - x: vetor contendo os quantis.\n",
    "        - df: graus de liberdade.\n",
    "        - ncp: parâmetro de não centralidade.\n",
    "        - q: vetor contendo os quantis.\n",
    "        - p: vetor contendo as probabilidades.\n",
    "        - n: número de observações.\n",
    "        \n",
    "- F-Snedecor\n",
    "    - df(x, df1, df2, opções)\n",
    "    - pf(q, df1, df2, ncp=0, opções)\n",
    "    - qf(p, df1, df2, opções)\n",
    "    - rf(n, df1, df2)\n",
    "        - x: vetor contendo os quantis.\n",
    "        - df1: graus de liberdade do numerador.\n",
    "        - df2: graus de liberdade do denominador.\n",
    "        - q: vetor contendo os quantis.\n",
    "        - ncp: parâmetro de não centralidade.\n",
    "        - p: vetor contendo as probabilidades.\n",
    "        - n: número de observações.\n",
    "\n"
   ]
  },
  {
   "cell_type": "markdown",
   "metadata": {},
   "source": [
    "# Exercícios com Distribuição Exponencial"
   ]
  },
  {
   "cell_type": "markdown",
   "metadata": {},
   "source": [
    "Exponencial\n",
    "\n",
    "    dexp(x, rate=1, opções)\n",
    "    pexp(q, rate=1, opções)\n",
    "    qexp(p, rate=1, opções)\n",
    "    rexp(n, rate = 1)\n",
    "        x: vetor contendo os quantis.\n",
    "        rate: parâmetro da distribuição.\n",
    "        q: vetor contendo os quantis.\n",
    "        p: vetor contendo as probabilidades.\n",
    "        n: número de observações.\n",
    "\n"
   ]
  },
  {
   "cell_type": "code",
   "execution_count": null,
   "metadata": {
    "collapsed": true
   },
   "outputs": [],
   "source": [
    "a1 <- rexp(10000,rate=.5)\n",
    "mean(a1)\n",
    "var(a1)\n",
    "sd(a1)\n",
    "hist(a1)\n"
   ]
  },
  {
   "cell_type": "code",
   "execution_count": null,
   "metadata": {
    "collapsed": true
   },
   "outputs": [],
   "source": [
    "a2 <- rexp(10000,rate=.9)\n",
    "mean(a2)\n",
    "var(a2)\n",
    "sd(a2)\n",
    "hist(a2)"
   ]
  },
  {
   "cell_type": "markdown",
   "metadata": {},
   "source": [
    "Exercício - Plote o gráfico teórico da distribuição exponencial de rate = .9. Sobreponha esse gráfico ao histograma do programa anterior.\n"
   ]
  },
  {
   "cell_type": "code",
   "execution_count": null,
   "metadata": {
    "collapsed": true
   },
   "outputs": [],
   "source": [
    "print(\"Escreva o programa aqui.\")"
   ]
  },
  {
   "cell_type": "markdown",
   "metadata": {},
   "source": [
    "Exercício - Reprodução o gráfico da Figura 4.5 do livro texto."
   ]
  },
  {
   "cell_type": "code",
   "execution_count": null,
   "metadata": {
    "collapsed": true
   },
   "outputs": [],
   "source": [
    "print(\"Escreva o programa aqui.\")"
   ]
  },
  {
   "cell_type": "markdown",
   "metadata": {},
   "source": [
    "# Exercícios com Distribuição Gaussiana - Normal"
   ]
  },
  {
   "cell_type": "markdown",
   "metadata": {},
   "source": [
    "Exercício: Soma de distribuições uniformes\n",
    "- Seja a V.A. Y, dada por Y = X1, X2, ..., Xn. Onde Xi é uma variável aleatória uniforme entre 0 e 1.\n",
    "- Gere 10.000 amostras de Y; calcule E[Y], Var[Y] e mediana e apresente seu histograma, para:\n",
    "    - n=1; n=2, n=3, n=4, ..., n = 12.\n",
    "- O que ocorre com f(Y) a madida que n aumenta?\n",
    "- Como se pode gerar uma V.A. Z~N(0,1)?"
   ]
  },
  {
   "cell_type": "code",
   "execution_count": null,
   "metadata": {
    "collapsed": true
   },
   "outputs": [],
   "source": [
    "print(\"Escreva o programa aqui\")\n",
    "\n",
    "x1<- runif(1000000)\n",
    "x2<- runif(1000000)\n",
    "x3<- runif(1000000)\n",
    "x4<- runif(1000000)\n",
    "x5<- runif(1000000)\n",
    "x6<- runif(1000000)\n",
    "x7<- runif(1000000)\n",
    "x8<- runif(1000000)\n",
    "\n",
    "Y <- x1 + x2 + x3 + x4 + x5 + x6 +x7 +x8\n",
    "\n",
    "mean(Y)\n",
    "var(Y)\n",
    "hist(Y)"
   ]
  },
  {
   "cell_type": "code",
   "execution_count": null,
   "metadata": {
    "collapsed": true
   },
   "outputs": [],
   "source": [
    "print(\"Escreva o programa aqui\")\n",
    "\n",
    "Y <- numeric(1000000)\n",
    "\n",
    "for(i in 1:12)\n",
    "{\n",
    " Y <- Y + runif(1000000)    \n",
    "}\n",
    " print(\"Valores de Y2\")\n",
    "mean(Y)\n",
    "var(Y)\n",
    "summary(Y)\n",
    "hist(Y)"
   ]
  },
  {
   "cell_type": "markdown",
   "metadata": {},
   "source": [
    "Exercício: Distribuição de Gaussiana\n",
    "- Plot o gráfico de f(x), para X~N(0,1)"
   ]
  },
  {
   "cell_type": "code",
   "execution_count": null,
   "metadata": {
    "collapsed": true
   },
   "outputs": [],
   "source": [
    "print(\"Programa que plota uma função densidade de probabilidade gaussiana, com média 0 e variância 1\")\n",
    "x <- seq(-6, 6, by=0.1)\n",
    "y <- dnorm(x)\n",
    "plot(x, y, type=\"l\")"
   ]
  },
  {
   "cell_type": "markdown",
   "metadata": {},
   "source": [
    "Exercício 04: Distribuição de Gaussiana\n",
    "- Generalize o programa anterior para X~N(mi,sigma)\n",
    "    - teste com vários valores de mi e sigma. Sendo sigma > 0."
   ]
  },
  {
   "cell_type": "code",
   "execution_count": null,
   "metadata": {
    "collapsed": true
   },
   "outputs": [],
   "source": [
    "print(\"Programa que plota uma função densidade de probabilidade gaussiana, com média mi e variância sigma\")"
   ]
  },
  {
   "cell_type": "markdown",
   "metadata": {},
   "source": [
    "Exercício: Distribuição de Gaussiana\n",
    "- Pode-se plotar uma f(x) gaussiana via a sua fórmula."
   ]
  },
  {
   "cell_type": "code",
   "execution_count": null,
   "metadata": {
    "collapsed": true
   },
   "outputs": [],
   "source": [
    "print(\"Programa que plota uma função densidade de probabilidade gaussiana, com média mi e variância sigma\")\n",
    "sigma <- 1\n",
    "mi <- 0\n",
    "X <- seq(-6, 6, by=0.1)\n",
    "fx = (1/(sigma*sqrt(2*pi)) ) * exp(- (X-mi)*(X-mi)/(2*sigma*sigma))\n",
    "plot(X, fx, type=\"l\")"
   ]
  },
  {
   "cell_type": "code",
   "execution_count": null,
   "metadata": {
    "collapsed": true
   },
   "outputs": [],
   "source": [
    "print(\"Programa que plota o histograma e a curva da função densidade gaussiana\") \n",
    "x=rnorm(100)\n",
    "hist(x,probability=TRUE,col=\"lightblue\",main=\"Normal(0,1)\",ylab=\"Densidade\", ylim=c(0,0.5),xlim=c(-3,3))\n",
    "curve(dnorm(x),add=T)"
   ]
  },
  {
   "cell_type": "markdown",
   "metadata": {},
   "source": [
    "Exercício: Distribuição de Gaussiana\n",
    "- Teorema: A soma de V.A. gaussianas independentes também é uma distribuição gaussiana.\n",
    "- Complete o programa a baixo, para:\n",
    "    - soma de n variáveis (n=3,4,5).\n",
    "    - calcule média e variância da distribuição resultante. Compare com os valores teóricos."
   ]
  },
  {
   "cell_type": "code",
   "execution_count": null,
   "metadata": {
    "collapsed": true
   },
   "outputs": [],
   "source": [
    "print(\"Generalize o programa para some de n VA, com médias e variâncias genéricas\")\n",
    "n = 50000\n",
    "X1 = rnorm(n,0,1)\n",
    "X2 = rnorm(n,0,4)\n",
    "Z = X1 + X2\n",
    "hist(Z, col = \"wheat\", label = F)"
   ]
  },
  {
   "cell_type": "markdown",
   "metadata": {},
   "source": [
    "Exercício: Distribuição de Gaussiana\n",
    "- Dado uma VA X~N(0,1), obter média, variância e histograma para a Y=a.X+b, quando:\n",
    "    - (a=2, b=3), (a=2, b=-3), (a=-2, b=3),(a=-2, b=3).\n",
    "- Compare com os valores teóricos."
   ]
  },
  {
   "cell_type": "code",
   "execution_count": null,
   "metadata": {
    "collapsed": true
   },
   "outputs": [],
   "source": [
    "print(\"Programa: distribuição gaussiana genérica\")\n",
    "n = 50000\n",
    "a = 2\n",
    "b = 3\n",
    "X = rnorm(n,0,1)\n",
    "Y = a * X + b\n",
    "summary(X)\n",
    "summary(Y)\n",
    "str(var(Y))\n",
    "hist(Y, col = \"wheat\", label = F)"
   ]
  },
  {
   "cell_type": "code",
   "execution_count": null,
   "metadata": {
    "collapsed": true
   },
   "outputs": [],
   "source": [
    "Exercício: Distribuição de Gaussiana\n",
    "- Função distribuição gaussiana F(x).\n",
    "- Utilizar pnorm(vetorX) ou pnorm(valorX)\n"
   ]
  },
  {
   "cell_type": "code",
   "execution_count": null,
   "metadata": {
    "collapsed": true
   },
   "outputs": [],
   "source": [
    "print(\"programa que plota uma distribuição gaussiana - Fx - Curva S\")\n",
    "x <- seq(-6, 6, by=0.1)\n",
    "y <- pnorm(x) # média 0 e variância 1\n",
    "F0 = pnorm(0)  # F(0)\n",
    "F1n = pnorm(-1) # F(-1)\n",
    "F2n = pnorm(-2) # F(-2)\n",
    "F2 = pnorm(2) # F(2)\n",
    "F0\n",
    "F1n\n",
    "print(\"Corresponde à área entre +- 2*sigma\")\n",
    "F2-F2n \n",
    "\n",
    "plot(x, y, type=\"l\")"
   ]
  },
  {
   "cell_type": "markdown",
   "metadata": {},
   "source": [
    "Exercício: Distribuição de Gaussiana\n",
    "- qnorm(.) é a inversa de pnorm(.).\n",
    "    - q vem de quartil; para gerar o 1o quartil de uma normal de média 5 e desvio-padrão 3, basta fazer qnorm(0.25, mean = 5, sd = 3) (o valor é 2.976531). \n",
    "    - quando não se define os outros 2 e 3, assume-se média 0 e variância 1.\n",
    "    - Analogamente, qnorm() também pode receber um vetor de probabilidades, assim, a sequência abaixo é a inversa da curva-S:"
   ]
  },
  {
   "cell_type": "code",
   "execution_count": null,
   "metadata": {
    "collapsed": true
   },
   "outputs": [],
   "source": [
    "print(\"Programa exemplificando o uso da função qnorm(.) \")  \n",
    "x <- seq(0.001, 0.999, length=1000)\n",
    "y <- qnorm(x)\n",
    "quartis = qnorm(c(0,0.25,0.5, 0.75, 1.0))\n",
    "str(quartis)\n",
    "plot(x, y, type=\"l\")"
   ]
  },
  {
   "cell_type": "markdown",
   "metadata": {},
   "source": [
    "# Exercícios com Distribuição  Gama\n",
    "           \n",
    "- Gama:\n",
    "    - dgamma(x, shape, rate = 1, opções)\n",
    "    - pgamma(q, shape, rate = 1, opções)\n",
    "    - qgamma(p, shape, rate = 1, opções)\n",
    "    - rgamma(n, shape, rate = 1)\n",
    "        - x: vetor contendo os quantis.\n",
    "        - shape: parâmetro da distribuição.\n",
    "        - rate: parâmetro da distribuição.\n",
    "        - q: vetor contendo os quantis.\n",
    "        - p: vetor contendo as probabilidades.\n",
    "        - n: número de observações."
   ]
  },
  {
   "cell_type": "code",
   "execution_count": 2,
   "metadata": {},
   "outputs": [
    {
     "name": "stdout",
     "output_type": "stream",
     "text": [
      "[1] \"Função Gama - Generalização da função fatorial\"\n"
     ]
    },
    {
     "data": {
      "text/html": [
       "3.32335097044784"
      ],
      "text/latex": [
       "3.32335097044784"
      ],
      "text/markdown": [
       "3.32335097044784"
      ],
      "text/plain": [
       "[1] 3.323351"
      ]
     },
     "metadata": {},
     "output_type": "display_data"
    }
   ],
   "source": [
    "print(\"Função Gama - Generalização da função fatorial\")\n",
    "fGama = gamma(3.5)\n",
    "fGama"
   ]
  },
  {
   "cell_type": "markdown",
   "metadata": {},
   "source": [
    "Exercício: Plote num mesmo gráfico as seguintes fdp da distribuição Gama:\n",
    "- gama(0.5,1)\n",
    "- gama(2,1)\n",
    "- gama(3,1)\n",
    "- gama(4,1)\n",
    "- gama(5,1)"
   ]
  },
  {
   "cell_type": "code",
   "execution_count": null,
   "metadata": {
    "collapsed": true
   },
   "outputs": [],
   "source": [
    "print(\"Escreva o programa aqui\")\n"
   ]
  },
  {
   "cell_type": "markdown",
   "metadata": {},
   "source": [
    "Exercício: Plote a pdf da distribiçã gama(50,1) e analise o resultado."
   ]
  },
  {
   "cell_type": "code",
   "execution_count": null,
   "metadata": {
    "collapsed": true
   },
   "outputs": [],
   "source": [
    "print(\"Escreva o programa aqui\")"
   ]
  },
  {
   "cell_type": "markdown",
   "metadata": {},
   "source": [
    "Exercício:\n",
    "- Dada uma distribuição Gama X~Gama(alfa, lambda), se alfa=1, então essa distribuição se torna uma exponencial.\n",
    "- Escreva uma programa que trace 03 distribuições gama com alafa =1 e lambda = [.1,0.2, 0.5, 1] e compare com as respectivas exeponenciais. "
   ]
  },
  {
   "cell_type": "code",
   "execution_count": null,
   "metadata": {
    "collapsed": true
   },
   "outputs": [],
   "source": [
    "print(\"Escreva o programa aqui\")"
   ]
  },
  {
   "cell_type": "markdown",
   "metadata": {},
   "source": [
    "Exercício: \n",
    "- Segundo a teoria, a soma de n VAs independentes seguindo distribuição Gama, também é um distribuição gama.\n",
    "- Para verificar isto, escreva um programa que obtenha uma VA x que é a soma de 3 VAs independentes (10.000 amostras, cada) que seguem a distribuição gama. Plote o gráfico da fdp de X."
   ]
  },
  {
   "cell_type": "code",
   "execution_count": null,
   "metadata": {
    "collapsed": true
   },
   "outputs": [],
   "source": [
    "print(\"Escreva o programa aqui\")"
   ]
  },
  {
   "cell_type": "markdown",
   "metadata": {},
   "source": [
    "# Exercícios com Distribuição  Qui-quadrado"
   ]
  },
  {
   "cell_type": "markdown",
   "metadata": {
    "collapsed": true
   },
   "source": [
    "Exercícios: \n",
    "- Uma VA X seguindo uma distribuição Qui-quadrado de grau n é a soma do quadrado de n VAs independentes que seguem distribuições normais padrões.\n",
    "- Escreva um programa que obtenha uma VA seguindo uma distribuição Qui-quadrado de grau n a partir de n VAs normais padrões independentes.\n",
    "    - Utilize 10.000 amostras para cara VA.\n",
    "    - plote histograma dessa VA e compare com a correspondente Qui-quadrada.\n",
    "    - obtenha os valores d emédia e variância e compere os valores teóricos.\n",
    "\n"
   ]
  },
  {
   "cell_type": "code",
   "execution_count": null,
   "metadata": {
    "collapsed": true
   },
   "outputs": [],
   "source": [
    "print(\"Escreva o programa aqui\")"
   ]
  },
  {
   "cell_type": "markdown",
   "metadata": {},
   "source": [
    "Exercício:\n",
    "- Uma distribuição Qui-quadrado com n graus de liberdade corresponde a uma distribuição Gama com parâmetros alfa = n/2 e lambda = 1/2.\n",
    "- Escreva um programa que trace num mesmo gráfico as fdps de qui-quadrada de grau n e de uma gama(n/,1/2).\n"
   ]
  },
  {
   "cell_type": "code",
   "execution_count": null,
   "metadata": {
    "collapsed": true
   },
   "outputs": [],
   "source": [
    "print(\"Escreva o programa aqui\")"
   ]
  },
  {
   "cell_type": "markdown",
   "metadata": {},
   "source": [
    "# Exercícios com Distribuição Student"
   ]
  },
  {
   "cell_type": "markdown",
   "metadata": {
    "collapsed": true
   },
   "source": [
    "Exercício:\n",
    "- Escreva um programa que gere k amostras segundo uma distribuição Student de grau n a partir apenas de distribuições normais padrões."
   ]
  },
  {
   "cell_type": "code",
   "execution_count": null,
   "metadata": {
    "collapsed": true
   },
   "outputs": [],
   "source": [
    "print(\"Escreva o programa aqui\")"
   ]
  },
  {
   "cell_type": "code",
   "execution_count": null,
   "metadata": {
    "collapsed": true
   },
   "outputs": [],
   "source": [
    "Exercício:\n",
    "- Escreva um programa que plote num mesmo gráfico as fdps de Student com grau de liberdade 1, 5 e 10. \n",
    "- Compare o resultado com a pdf da distribuição normal padrão."
   ]
  }
 ],
 "metadata": {
  "kernelspec": {
   "display_name": "R",
   "language": "R",
   "name": "ir"
  },
  "language_info": {
   "codemirror_mode": "r",
   "file_extension": ".r",
   "mimetype": "text/x-r-source",
   "name": "R",
   "pygments_lexer": "r",
   "version": "3.2.3"
  }
 },
 "nbformat": 4,
 "nbformat_minor": 2
}
